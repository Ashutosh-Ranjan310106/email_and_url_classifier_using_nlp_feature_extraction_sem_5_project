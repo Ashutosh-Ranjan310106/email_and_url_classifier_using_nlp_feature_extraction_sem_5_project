{
 "cells": [
  {
   "cell_type": "code",
   "execution_count": 2,
   "id": "62665b5b",
   "metadata": {},
   "outputs": [],
   "source": [
    "from datasets import load_dataset\n",
    "import pandas as pd"
   ]
  },
  {
   "cell_type": "code",
   "execution_count": 3,
   "id": "911d2342",
   "metadata": {},
   "outputs": [
    {
     "name": "stdout",
     "output_type": "stream",
     "text": [
      "   label                                                url\n",
      "0      0             xenophongroup.com/montjoie/compgns.htm\n",
      "1      1    www.azzali.eu/&usg=AOvVaw2phVSb_ENMrkATGNx5LQ0l\n",
      "2      1                     guildmusic.edu.au/js/index.htm\n",
      "3      1  memo.unexpectedrunner.com/ezxgytw4et\\nholotili...\n",
      "4      0  en.wikipedia.org/wiki/Category:American_televi...\n"
     ]
    }
   ],
   "source": [
    "#dataset1\n",
    "\n",
    "# Load the dataset from Hugging Face Hub\n",
    "train_dataset = load_dataset(\"kmack/Phishing_urls\", split=\"train\")\n",
    "test_dataset = load_dataset(\"kmack/Phishing_urls\", split=\"test\")\n",
    "valid_dataset = load_dataset(\"kmack/Phishing_urls\", split=\"valid\")\n",
    "\n",
    "# Convert to pandas DataFrame\n",
    "train_df = train_dataset.to_pandas()\n",
    "test_df = test_dataset.to_pandas()\n",
    "valid_df = valid_dataset.to_pandas()\n",
    "\n",
    "\n",
    "all_df = [train_df, test_df,valid_df]\n",
    "for i, df in enumerate(all_df):\n",
    "    df['url'] = df['text']\n",
    "    df.drop('text',axis=1,inplace=True)\n",
    "print(train_df.head())"
   ]
  },
  {
   "cell_type": "code",
   "execution_count": 4,
   "id": "c2083a7a",
   "metadata": {},
   "outputs": [
    {
     "name": "stdout",
     "output_type": "stream",
     "text": [
      "Vocabulary size: 99\n",
      "Sample: ['<PAD>', '<UNK>', '<START>', '<END>', ' ', '!', '\"', '#', '$', '%', '&', \"'\", '(', ')', '*', '+', ',', '-', '.', '/', '0', '1', '2', '3', '4', '5', '6', '7', '8', '9', ':', ';', '<', '=', '>', '?', '@', 'A', 'B', 'C', 'D', 'E', 'F', 'G', 'H', 'I', 'J', 'K', 'L', 'M']\n"
     ]
    }
   ],
   "source": [
    "# Special tokens\n",
    "special_tokens = ['<PAD>', '<UNK>', '<START>', '<END>']\n",
    "\n",
    "# ASCII printable characters\n",
    "ascii_chars = [chr(i) for i in range(32, 127)]  # ' ' (space) to '~'\n",
    "\n",
    "# Full vocabulary\n",
    "vocab = special_tokens + ascii_chars\n",
    "\n",
    "# Create mappings\n",
    "char2idx = {ch: idx for idx, ch in enumerate(vocab)}\n",
    "idx2char = {idx: ch for ch, idx in char2idx.items()}\n",
    "vocab_size = len(vocab)\n",
    "print(\"Vocabulary size:\", vocab_size)\n",
    "print(\"Sample:\", vocab[:50])\n"
   ]
  },
  {
   "cell_type": "code",
   "execution_count": 5,
   "id": "52a22921",
   "metadata": {},
   "outputs": [],
   "source": [
    "train_df = train_df.drop_duplicates(subset =['url'])"
   ]
  },
  {
   "cell_type": "code",
   "execution_count": 5,
   "id": "00707761",
   "metadata": {},
   "outputs": [
    {
     "name": "stderr",
     "output_type": "stream",
     "text": [
      "100%|██████████| 535838/535838 [01:11<00:00, 7465.04it/s]\n",
      "C:\\Users\\rrpra\\AppData\\Local\\Temp\\ipykernel_23060\\3970848146.py:20: SettingWithCopyWarning: \n",
      "A value is trying to be set on a copy of a slice from a DataFrame.\n",
      "Try using .loc[row_indexer,col_indexer] = value instead\n",
      "\n",
      "See the caveats in the documentation: https://pandas.pydata.org/pandas-docs/stable/user_guide/indexing.html#returning-a-view-versus-a-copy\n",
      "  train_df['encode'] = train_df['url'].progress_apply(encode_url)\n",
      "100%|██████████| 70882/70882 [00:10<00:00, 7007.81it/s]\n",
      "100%|██████████| 70882/70882 [00:09<00:00, 7586.71it/s]\n"
     ]
    }
   ],
   "source": [
    "from tqdm import tqdm\n",
    "import numpy as np\n",
    "import torch\n",
    "import torch.nn.functional as F\n",
    "tqdm.pandas()\n",
    "\n",
    "max_url_length = 50\n",
    "\n",
    "\n",
    "def encode_url(url):\n",
    "    indices = torch.tensor([0]*max_url_length)\n",
    "    for i,c in enumerate(url[:max_url_length]):\n",
    "        indices[i] = char2idx.get(c, char2idx['<UNK>'])\n",
    "    #print(indices)  \n",
    "\n",
    "\n",
    "    return indices\n",
    "\n",
    "# Apply encoding to your URL column\n",
    "train_df['encode'] = train_df['url'].progress_apply(encode_url)\n",
    "test_df['encode'] = test_df['url'].progress_apply(encode_url)\n",
    "valid_df['encode'] = valid_df['url'].progress_apply(encode_url)\n",
    "\n"
   ]
  },
  {
   "cell_type": "code",
   "execution_count": 6,
   "id": "ce1263c1",
   "metadata": {},
   "outputs": [],
   "source": [
    "import torch\n",
    "from torch.utils.data import TensorDataset, DataLoader\n",
    "\n",
    "device = torch.device(\"cuda\" if torch.cuda.is_available() else \"cpu\")\n",
    "\n",
    "# Convert encoded URLs to proper tensors\n",
    "url_tensor = torch.tensor(np.stack(train_df['encode'].values), dtype=torch.long)\n",
    "labels_tensor = torch.tensor(train_df['label'].values, dtype=torch.long)\n",
    "\n",
    "valid_url_tensor = torch.tensor(np.stack(valid_df['encode'].values), dtype=torch.long)\n",
    "valid_labels_tensor = torch.tensor(valid_df['label'].values, dtype=torch.long)\n",
    "\n",
    "test_url_tensor = torch.tensor(np.stack(test_df['encode'].values), dtype=torch.long)\n",
    "test_labels_tensor = torch.tensor(test_df['label'].values, dtype=torch.long)\n",
    "\n",
    "\n",
    "train_dataset = TensorDataset(url_tensor, labels_tensor)\n",
    "train_loader = DataLoader(train_dataset, batch_size=4056, shuffle=True)\n",
    "\n",
    "val_dataset = TensorDataset(valid_url_tensor, valid_labels_tensor)\n",
    "val_loader = DataLoader(val_dataset, batch_size=4056, shuffle=False)\n",
    "\n",
    "test_dataset = TensorDataset(test_url_tensor, test_labels_tensor)\n",
    "test_loader = DataLoader(test_dataset, batch_size=4056, shuffle=False)\n"
   ]
  },
  {
   "cell_type": "code",
   "execution_count": 19,
   "id": "87e5f7aa",
   "metadata": {},
   "outputs": [],
   "source": [
    "import torch\n",
    "import torch.nn as nn\n",
    "import torch.nn.functional as F\n",
    "device = torch.device(\"cuda\" if torch.cuda.is_available() else \"cpu\")\n",
    "\n",
    "class URLBinaryCNN(nn.Module):\n",
    "    def __init__(self, vocab_size, embed_dim=128, maxlen=200):\n",
    "        super(URLBinaryCNN, self).__init__()\n",
    "\n",
    "        # 🔹 Embedding layer\n",
    "        self.embedding = nn.Embedding(num_embeddings=vocab_size, embedding_dim=embed_dim)\n",
    "\n",
    "        # 🔹 1st Conv block\n",
    "        self.conv1 = nn.Conv1d(in_channels=embed_dim, out_channels=256, kernel_size=5, padding=2)\n",
    "        self.bn1 = nn.BatchNorm1d(256)\n",
    "        self.pool1 = nn.MaxPool1d(kernel_size=2)\n",
    "\n",
    "        # 🔹 2nd Conv block\n",
    "        self.conv2 = nn.Conv1d(in_channels=256, out_channels=128, kernel_size=3, padding=1)\n",
    "        self.bn2 = nn.BatchNorm1d(128)\n",
    "        self.pool2 = nn.MaxPool1d(kernel_size=2)\n",
    "\n",
    "        # 🔹 3rd Conv block\n",
    "        self.conv3 = nn.Conv1d(in_channels=128, out_channels=64, kernel_size=3, padding=1)\n",
    "        self.bn3 = nn.BatchNorm1d(64)\n",
    "\n",
    "        # 🔹 Global Max Pooling\n",
    "        self.global_pool = nn.AdaptiveMaxPool1d(1)\n",
    "\n",
    "        # 🔹 Fully connected layers\n",
    "        self.fc1 = nn.Linear(64, 128)\n",
    "        self.dropout1 = nn.Dropout(0.5)\n",
    "        self.fc2 = nn.Linear(128, 64)\n",
    "        self.dropout2 = nn.Dropout(0.3)\n",
    "        self.fc3 = nn.Linear(64, 1)\n",
    "\n",
    "    def forward(self, x):\n",
    "        # x shape: (batch_size, seq_len)\n",
    "        x = self.embedding(x)  # (batch_size, seq_len, embed_dim)\n",
    "        x = x.permute(0, 2, 1)  # (batch_size, embed_dim, seq_len) for Conv1D\n",
    "\n",
    "        # Conv block 1\n",
    "        x = F.relu(self.bn1(self.conv1(x)))\n",
    "        x = self.pool1(x)\n",
    "\n",
    "        # Conv block 2\n",
    "        x = F.relu(self.bn2(self.conv2(x)))\n",
    "        x = self.pool2(x)\n",
    "\n",
    "        # Conv block 3\n",
    "        x = F.relu(self.bn3(self.conv3(x)))\n",
    "\n",
    "        # Global max pooling\n",
    "        x = self.global_pool(x)\n",
    "        x = x.squeeze(-1)  # (batch_size, out_channels)\n",
    "\n",
    "        # Fully connected layers\n",
    "        x = F.relu(self.fc1(x))\n",
    "        x = self.dropout1(x)\n",
    "        x = F.relu(self.fc2(x))\n",
    "        x = self.dropout2(x)\n",
    "        x = self.fc3(x)  # sigmoid for binary output\n",
    "\n",
    "        return x\n",
    "\n"
   ]
  },
  {
   "cell_type": "code",
   "execution_count": 44,
   "id": "bae4455e",
   "metadata": {},
   "outputs": [
    {
     "data": {
      "text/plain": [
       "device(type='cuda')"
      ]
     },
     "execution_count": 44,
     "metadata": {},
     "output_type": "execute_result"
    }
   ],
   "source": [
    "device = torch.device(\"cuda\" if torch.cuda.is_available() else \"cpu\")\n",
    "device"
   ]
  },
  {
   "cell_type": "code",
   "execution_count": 20,
   "id": "1fc52bb0",
   "metadata": {},
   "outputs": [
    {
     "name": "stdout",
     "output_type": "stream",
     "text": [
      "Epoch 1/10 | Batch 133/133 | Batch Loss: 0.2681, Batch Acc: 0.8812\n",
      "Epoch 1/10 | Train Loss: 0.3347, Train Acc: 0.8567 | Val Loss: 0.3012, Val Acc: 0.8707\n",
      "Epoch 2/10 | Batch 133/133 | Batch Loss: 0.2402, Batch Acc: 0.9081\n",
      "Epoch 2/10 | Train Loss: 0.2510, Train Acc: 0.8976 | Val Loss: 0.2978, Val Acc: 0.8706\n",
      "Epoch 3/10 | Batch 133/133 | Batch Loss: 0.2660, Batch Acc: 0.8789\n",
      "Epoch 3/10 | Train Loss: 0.2305, Train Acc: 0.9056 | Val Loss: 0.2827, Val Acc: 0.8761\n",
      "Epoch 4/10 | Batch 133/133 | Batch Loss: 0.2080, Batch Acc: 0.9058\n",
      "Epoch 4/10 | Train Loss: 0.2171, Train Acc: 0.9108 | Val Loss: 0.2799, Val Acc: 0.8800\n",
      "Epoch 5/10 | Batch 133/133 | Batch Loss: 0.2241, Batch Acc: 0.9148\n",
      "Epoch 5/10 | Train Loss: 0.2047, Train Acc: 0.9151 | Val Loss: 0.3082, Val Acc: 0.8724\n",
      "Epoch 6/10 | Batch 133/133 | Batch Loss: 0.1880, Batch Acc: 0.9103\n",
      "Epoch 6/10 | Train Loss: 0.1965, Train Acc: 0.9183 | Val Loss: 0.2841, Val Acc: 0.8810\n",
      "Epoch 7/10 | Batch 133/133 | Batch Loss: 0.1956, Batch Acc: 0.9305\n",
      "Epoch 7/10 | Train Loss: 0.1890, Train Acc: 0.9207 | Val Loss: 0.2763, Val Acc: 0.8797\n",
      "Epoch 8/10 | Batch 133/133 | Batch Loss: 0.1602, Batch Acc: 0.9305\n",
      "Epoch 8/10 | Train Loss: 0.1812, Train Acc: 0.9234 | Val Loss: 0.2965, Val Acc: 0.8764\n",
      "Epoch 9/10 | Batch 133/133 | Batch Loss: 0.2163, Batch Acc: 0.9238\n",
      "Epoch 9/10 | Train Loss: 0.1764, Train Acc: 0.9251 | Val Loss: 0.2945, Val Acc: 0.8798\n",
      "Epoch 10/10 | Batch 133/133 | Batch Loss: 0.1659, Batch Acc: 0.9327\n",
      "Epoch 10/10 | Train Loss: 0.1705, Train Acc: 0.9273 | Val Loss: 0.3381, Val Acc: 0.8666\n"
     ]
    }
   ],
   "source": [
    "from tqdm import tqdm\n",
    "import sys\n",
    "import torch\n",
    "import torch.nn.functional as F\n",
    "\n",
    "device = torch.device(\"cuda\" if torch.cuda.is_available() else \"cpu\")\n",
    "model = URLBinaryCNN(vocab_size=len(vocab)).to(device)\n",
    "criterion = nn.BCEWithLogitsLoss()\n",
    "optimizer = torch.optim.Adam(model.parameters(), lr=0.001)\n",
    "\n",
    "num_epochs = 10\n",
    "\n",
    "# === Lists to store metrics ===\n",
    "cnn_train_losses = []\n",
    "cnn_val_losses = []\n",
    "cnn_train_accuracies = []\n",
    "cnn_val_accuracies = []\n",
    "\n",
    "for epoch in range(num_epochs):\n",
    "    model.train()\n",
    "    train_loss = 0\n",
    "    correct_train = 0\n",
    "    total_train = 0\n",
    "    \n",
    "    for batch_idx, (batch_x, batch_y) in enumerate(train_loader):\n",
    "        batch_x, batch_y = batch_x.to(device), batch_y.to(device).float().unsqueeze(1)\n",
    "        optimizer.zero_grad()\n",
    "        outputs = model(batch_x)\n",
    "        loss = criterion(outputs, batch_y)\n",
    "        loss.backward()\n",
    "        optimizer.step()\n",
    "        \n",
    "        # --- Batch metrics ---\n",
    "        batch_loss = loss.item()\n",
    "        preds = (torch.sigmoid(outputs) >= 0.5).float()\n",
    "        batch_acc = (preds == batch_y).float().mean().item()\n",
    "        \n",
    "        # Update running totals\n",
    "        train_loss += batch_loss * batch_x.size(0)\n",
    "        correct_train += (preds == batch_y).sum().item()\n",
    "        total_train += batch_x.size(0)\n",
    "        \n",
    "        # Print batch metrics on the same line\n",
    "        sys.stdout.write(f\"\\rEpoch {epoch+1}/{num_epochs} | \"\n",
    "                         f\"Batch {batch_idx+1}/{len(train_loader)} | \"\n",
    "                         f\"Batch Loss: {batch_loss:.4f}, Batch Acc: {batch_acc:.4f}\")\n",
    "        sys.stdout.flush()\n",
    "    \n",
    "    train_acc = correct_train / total_train\n",
    "    avg_train_loss = train_loss / total_train\n",
    "    print()  # Move to next line after finishing epoch\n",
    "\n",
    "    # --- Validation ---\n",
    "    model.eval()\n",
    "    val_loss = 0\n",
    "    correct_val = 0\n",
    "    total_val = 0\n",
    "    with torch.no_grad():\n",
    "        for batch_x, batch_y in val_loader:\n",
    "            batch_x, batch_y = batch_x.to(device), batch_y.to(device).float().unsqueeze(1)\n",
    "            outputs = model(batch_x)\n",
    "            loss = criterion(outputs, batch_y)\n",
    "            \n",
    "            val_loss += loss.item() * batch_x.size(0)\n",
    "            preds = (torch.sigmoid(outputs) >= 0.5).float()\n",
    "            correct_val += (preds == batch_y).sum().item()\n",
    "            total_val += batch_x.size(0)\n",
    "    \n",
    "    val_acc = correct_val / total_val\n",
    "    avg_val_loss = val_loss / total_val\n",
    "\n",
    "    # === Store metrics ===\n",
    "    cnn_train_losses.append(avg_train_loss)\n",
    "    cnn_val_losses.append(avg_val_loss)\n",
    "    cnn_train_accuracies.append(train_acc)\n",
    "    cnn_val_accuracies.append(val_acc)\n",
    "    \n",
    "    # Print epoch summary\n",
    "    print(f\"Epoch {epoch+1}/{num_epochs} | \"\n",
    "          f\"Train Loss: {avg_train_loss:.4f}, Train Acc: {train_acc:.4f} | \"\n",
    "          f\"Val Loss: {avg_val_loss:.4f}, Val Acc: {val_acc:.4f}\")\n"
   ]
  },
  {
   "cell_type": "code",
   "execution_count": 46,
   "id": "66b199b0",
   "metadata": {},
   "outputs": [],
   "source": [
    "from sklearn.metrics import confusion_matrix, classification_report\n",
    "import matplotlib.pyplot as plt\n",
    "import seaborn as sns\n",
    "import torch\n"
   ]
  },
  {
   "cell_type": "code",
   "execution_count": 47,
   "id": "70f92664",
   "metadata": {},
   "outputs": [],
   "source": [
    "model.eval()\n",
    "all_preds = []\n",
    "all_labels = []\n",
    "\n",
    "with torch.no_grad():\n",
    "    for i in range(0, len(test_url_tensor), 64):  # batch size 64\n",
    "        batch_x = test_url_tensor[i:i+64].to(device)\n",
    "        batch_y = test_labels_tensor[i:i+64].to(device)\n",
    "        \n",
    "        outputs = model(batch_x)\n",
    "        preds = (outputs >= 0.5).long().squeeze(1)\n",
    "        \n",
    "        all_preds.extend(preds.cpu().numpy())\n",
    "        all_labels.extend(batch_y.cpu().numpy())\n"
   ]
  },
  {
   "cell_type": "code",
   "execution_count": 48,
   "id": "b6193c13",
   "metadata": {},
   "outputs": [
    {
     "name": "stdout",
     "output_type": "stream",
     "text": [
      "Confusion Matrix:\n",
      " [[30459  4780]\n",
      " [ 4111 31532]]\n"
     ]
    },
    {
     "data": {
      "image/png": "[encoded data removed]",
      "text/plain": [
       "<Figure size 500x400 with 2 Axes>"
      ]
     },
     "metadata": {},
     "output_type": "display_data"
    },
    {
     "name": "stdout",
     "output_type": "stream",
     "text": [
      "              precision    recall  f1-score   support\n",
      "\n",
      "        Safe       0.88      0.86      0.87     35239\n",
      "    Phishing       0.87      0.88      0.88     35643\n",
      "\n",
      "    accuracy                           0.87     70882\n",
      "   macro avg       0.87      0.87      0.87     70882\n",
      "weighted avg       0.87      0.87      0.87     70882\n",
      "\n"
     ]
    }
   ],
   "source": [
    "cm = confusion_matrix(all_labels, all_preds)\n",
    "print(\"Confusion Matrix:\\n\", cm)\n",
    "\n",
    "# Optional: pretty plot\n",
    "plt.figure(figsize=(5,4))\n",
    "sns.heatmap(cm, annot=True, fmt='d', cmap='Blues')\n",
    "plt.xlabel('Predicted')\n",
    "plt.ylabel('Actual')\n",
    "plt.title('Confusion Matrix')\n",
    "plt.show()\n",
    "print(classification_report(all_labels, all_preds, target_names=['Safe', 'Phishing']))\n"
   ]
  },
  {
   "cell_type": "markdown",
   "id": "344eb1f4",
   "metadata": {},
   "source": [
    "### 🧮 Accuracy for char based models (CNN)\n",
    "\n",
    "> **Accuracy:** `0.50`\n",
    "\n",
    "| Class | Precision | Recall | F1-Score | Support |\n",
    "|:------|:-----------|:--------|:----------|:----------|\n",
    "| **0** | 0.00 | 0.00 | 0.00 | 35239 |\n",
    "| **1** | 0.50 | 1.00 | 0.67 | 35643 |\n",
    "| **Accuracy** |  |  | **0.50** | 70882 |\n",
    "| **Macro Avg** | 0.25 | 0.50 | 0.33 | 70882 |\n",
    "| **Weighted Avg** | 0.25 | 0.50 | 0.34 | 70882 |"
   ]
  },
  {
   "cell_type": "code",
   "execution_count": 7,
   "id": "40267137",
   "metadata": {},
   "outputs": [],
   "source": [
    "import torch\n",
    "import torch.nn as nn\n",
    "import torch.nn.functional as F\n",
    "\n",
    "class CNN_BiLSTM(nn.Module):\n",
    "    def __init__(self, vocab_size, embed_dim=128):\n",
    "        super(CNN_BiLSTM, self).__init__()\n",
    "        \n",
    "        # Embedding layer\n",
    "        self.embedding = nn.Embedding(num_embeddings=vocab_size, embedding_dim=embed_dim)\n",
    "        \n",
    "        # Conv blocks\n",
    "        self.conv1 = nn.Conv1d(embed_dim, 256, kernel_size=8, padding=4)\n",
    "        self.pool1 = nn.MaxPool1d(2)\n",
    "\n",
    "        self.conv2 = nn.Conv1d(256, 128, kernel_size=5, padding=2)\n",
    "        self.pool2 = nn.MaxPool1d(2)\n",
    "        \n",
    "        # BiLSTM\n",
    "        self.lstm = nn.LSTM(input_size=128, hidden_size=64, num_layers=1,\n",
    "                            batch_first=True, bidirectional=True)\n",
    "        \n",
    "        # Fully connected layers\n",
    "        self.fc1 = nn.Linear(64*2, 128)  # 64*2 because bidirectional\n",
    "        self.dropout1 = nn.Dropout(0.5)\n",
    "        self.fc2 = nn.Linear(128, 1)  # binary output\n",
    "        \n",
    "    def forward(self, x):\n",
    "        # x: (batch_size, seq_len)\n",
    "        x = self.embedding(x)  # (batch_size, seq_len, embed_dim)\n",
    "        x = x.permute(0, 2, 1)  # (batch_size, embed_dim, seq_len) for Conv1d\n",
    "        \n",
    "        # Conv block 1\n",
    "        x = F.relu(self.conv1(x))\n",
    "        x = self.pool1(x)\n",
    "        \n",
    "        # Conv block 2\n",
    "        x = F.relu(self.conv2(x))\n",
    "        x = self.pool2(x)\n",
    "        \n",
    "        # Prepare for LSTM: (batch_size, seq_len, features)\n",
    "        x = x.permute(0, 2, 1)\n",
    "        \n",
    "        # BiLSTM\n",
    "        lstm_out, _ = self.lstm(x)  # lstm_out: (batch_size, seq_len, 2*hidden_size)\n",
    "        \n",
    "        # Take the last timestep\n",
    "        x = lstm_out[:, -1, :]  # (batch_size, 128)\n",
    "        \n",
    "        # Fully connected layers\n",
    "        x = F.relu(self.fc1(x))\n",
    "        x = self.dropout1(x)\n",
    "        x = self.fc2(x)\n",
    "        \n",
    "        return x\n"
   ]
  },
  {
   "cell_type": "code",
   "execution_count": 18,
   "id": "48da7e4d",
   "metadata": {},
   "outputs": [
    {
     "name": "stdout",
     "output_type": "stream",
     "text": [
      "Epoch 1/10 | Batch 133/133 | Batch Loss: 0.3565, Batch Acc: 0.8565\n",
      "Epoch 1/10 | Train Loss: 0.4195, Train Acc: 0.8039 | Val Loss: 0.3549, Val Acc: 0.8504\n",
      "Epoch 2/10 | Batch 133/133 | Batch Loss: 0.2645, Batch Acc: 0.8834\n",
      "Epoch 2/10 | Train Loss: 0.2795, Train Acc: 0.8858 | Val Loss: 0.3028, Val Acc: 0.8719\n",
      "Epoch 3/10 | Batch 133/133 | Batch Loss: 0.2406, Batch Acc: 0.9013\n",
      "Epoch 3/10 | Train Loss: 0.2469, Train Acc: 0.8993 | Val Loss: 0.3071, Val Acc: 0.8651\n",
      "Epoch 4/10 | Batch 133/133 | Batch Loss: 0.2278, Batch Acc: 0.9103\n",
      "Epoch 4/10 | Train Loss: 0.2292, Train Acc: 0.9057 | Val Loss: 0.2762, Val Acc: 0.8796\n",
      "Epoch 5/10 | Batch 133/133 | Batch Loss: 0.2590, Batch Acc: 0.8879\n",
      "Epoch 5/10 | Train Loss: 0.2154, Train Acc: 0.9108 | Val Loss: 0.2676, Val Acc: 0.8817\n",
      "Epoch 6/10 | Batch 133/133 | Batch Loss: 0.2388, Batch Acc: 0.8722\n",
      "Epoch 6/10 | Train Loss: 0.2038, Train Acc: 0.9152 | Val Loss: 0.2641, Val Acc: 0.8833\n",
      "Epoch 7/10 | Batch 133/133 | Batch Loss: 0.2261, Batch Acc: 0.8991\n",
      "Epoch 7/10 | Train Loss: 0.1959, Train Acc: 0.9183 | Val Loss: 0.2728, Val Acc: 0.8822\n",
      "Epoch 8/10 | Batch 133/133 | Batch Loss: 0.1921, Batch Acc: 0.9081\n",
      "Epoch 8/10 | Train Loss: 0.1881, Train Acc: 0.9208 | Val Loss: 0.2777, Val Acc: 0.8780\n",
      "Epoch 9/10 | Batch 133/133 | Batch Loss: 0.1790, Batch Acc: 0.9283\n",
      "Epoch 9/10 | Train Loss: 0.1816, Train Acc: 0.9235 | Val Loss: 0.2976, Val Acc: 0.8797\n",
      "Epoch 10/10 | Batch 133/133 | Batch Loss: 0.2191, Batch Acc: 0.9081\n",
      "Epoch 10/10 | Train Loss: 0.1704, Train Acc: 0.9277 | Val Loss: 0.3529, Val Acc: 0.8588\n"
     ]
    }
   ],
   "source": [
    "from tqdm import tqdm\n",
    "import sys\n",
    "import torch\n",
    "import torch.nn.functional as F\n",
    "import torch.nn as nn\n",
    "import matplotlib.pyplot as plt\n",
    "\n",
    "device = torch.device(\"cuda\" if torch.cuda.is_available() else \"cpu\")\n",
    "\n",
    "model = CNN_BiLSTM(vocab_size=len(vocab)).to(device)\n",
    "criterion = nn.BCEWithLogitsLoss()\n",
    "optimizer = torch.optim.Adam(model.parameters(), lr=0.001)\n",
    "\n",
    "num_epochs = 10\n",
    "\n",
    "# For tracking metrics\n",
    "bi_lstm_train_losses, bi_lstm_val_losses = [], []\n",
    "bi_lstm_train_accuracies, bi_lstm_val_accuracies = [], []\n",
    "\n",
    "for epoch in range(num_epochs):\n",
    "    model.train()\n",
    "    train_loss = 0\n",
    "    correct_train = 0\n",
    "    total_train = 0\n",
    "    \n",
    "    for batch_idx, (batch_x, batch_y) in enumerate(train_loader):\n",
    "        batch_x = batch_x.to(device)\n",
    "        batch_y = batch_y.to(device).float().unsqueeze(1)\n",
    "        batch_y = torch.clamp(batch_y, 0, 1)\n",
    "\n",
    "        optimizer.zero_grad()\n",
    "        outputs = model(batch_x)\n",
    "\n",
    "        loss = criterion(outputs, batch_y)\n",
    "        loss.backward()\n",
    "        optimizer.step()\n",
    "        \n",
    "        # Batch metrics\n",
    "        batch_loss = loss.item()\n",
    "        preds = (torch.sigmoid(outputs) >= 0.5).float()\n",
    "        batch_acc = (preds == batch_y).float().mean().item()\n",
    "        \n",
    "        # Update totals\n",
    "        train_loss += batch_loss * batch_x.size(0)\n",
    "        correct_train += (preds == batch_y).sum().item()\n",
    "        total_train += batch_x.size(0)\n",
    "        \n",
    "        sys.stdout.write(f\"\\rEpoch {epoch+1}/{num_epochs} | \"\n",
    "                         f\"Batch {batch_idx+1}/{len(train_loader)} | \"\n",
    "                         f\"Batch Loss: {batch_loss:.4f}, Batch Acc: {batch_acc:.4f}\")\n",
    "        sys.stdout.flush()\n",
    "    \n",
    "    train_acc = correct_train / total_train\n",
    "    train_loss = train_loss / total_train\n",
    "    print()  # newline\n",
    "    \n",
    "    # --- Validation ---\n",
    "    model.eval()\n",
    "    val_loss = 0\n",
    "    correct_val = 0\n",
    "    total_val = 0\n",
    "    with torch.no_grad():\n",
    "        for batch_x, batch_y in val_loader:\n",
    "            batch_x = batch_x.to(device)\n",
    "            batch_y = batch_y.to(device).float().unsqueeze(1)\n",
    "            batch_y = torch.clamp(batch_y, 0, 1)\n",
    "\n",
    "            outputs = model(batch_x)\n",
    "            loss = criterion(outputs, batch_y)\n",
    "            \n",
    "            val_loss += loss.item() * batch_x.size(0)\n",
    "            preds = (torch.sigmoid(outputs) >= 0.5).float()\n",
    "            correct_val += (preds == batch_y).sum().item()\n",
    "            total_val += batch_x.size(0)\n",
    "    \n",
    "    val_acc = correct_val / total_val\n",
    "    val_loss = val_loss / total_val\n",
    "\n",
    "    # Save metrics for plotting\n",
    "    bi_lstm_train_losses.append(train_loss)\n",
    "    bi_lstm_val_losses.append(val_loss)\n",
    "    bi_lstm_train_accuracies.append(train_acc)\n",
    "    bi_lstm_val_accuracies.append(val_acc)\n",
    "    \n",
    "    print(f\"Epoch {epoch+1}/{num_epochs} | \"\n",
    "          f\"Train Loss: {train_loss:.4f}, Train Acc: {train_acc:.4f} | \"\n",
    "          f\"Val Loss: {val_loss:.4f}, Val Acc: {val_acc:.4f}\")\n",
    "\n"
   ]
  },
  {
   "cell_type": "code",
   "execution_count": 21,
   "id": "29578d87",
   "metadata": {},
   "outputs": [
    {
     "data": {
      "application/vnd.plotly.v1+json": {
       "config": {
        "plotlyServerURL": "https://plot.ly"
       },
       "data": [
        {
         "line": {
          "color": "royalblue",
          "width": 2
         },
         "marker": {
          "color": "royalblue"
         },
         "mode": "lines+markers",
         "name": "BiLSTM Train Loss",
         "type": "scatter",
         "x": [
          1,
          2,
          3,
          4,
          5,
          6,
          7,
          8,
          9,
          10
         ],
         "y": [
          0.41947716523554923,
          0.27952100035718613,
          0.24691998436978316,
          0.22915243328612542,
          0.2154345956204125,
          0.2038251629132141,
          0.19591920889058323,
          0.18807651089750702,
          0.18160792979563684,
          0.17037205085797902
         ]
        },
        {
         "line": {
          "color": "lightblue",
          "dash": "dash",
          "width": 2
         },
         "marker": {
          "color": "lightblue"
         },
         "mode": "lines+markers",
         "name": "BiLSTM Validation Loss",
         "type": "scatter",
         "x": [
          1,
          2,
          3,
          4,
          5,
          6,
          7,
          8,
          9,
          10
         ],
         "y": [
          0.3548688536212876,
          0.3027752104833727,
          0.3071479871446535,
          0.27616958606593284,
          0.26762053557912285,
          0.2641320927313766,
          0.2727631982439565,
          0.2777492385299281,
          0.2975770361499308,
          0.3528753727845187
         ]
        },
        {
         "line": {
          "color": "darkorange",
          "width": 2
         },
         "marker": {
          "color": "darkorange"
         },
         "mode": "lines+markers",
         "name": "CNN Train Loss",
         "type": "scatter",
         "x": [
          1,
          2,
          3,
          4,
          5,
          6,
          7,
          8,
          9,
          10
         ],
         "y": [
          0.3346884810261873,
          0.2510254814145122,
          0.23046941519205377,
          0.21709040759819526,
          0.20472766130095776,
          0.19645321361946344,
          0.18900928617201618,
          0.1811609764277415,
          0.17643710504103213,
          0.1705492314311757
         ]
        },
        {
         "line": {
          "color": "tomato",
          "dash": "dash",
          "width": 2
         },
         "marker": {
          "color": "tomato"
         },
         "mode": "lines+markers",
         "name": "CNN Validation Loss",
         "type": "scatter",
         "x": [
          1,
          2,
          3,
          4,
          5,
          6,
          7,
          8,
          9,
          10
         ],
         "y": [
          0.30115846300285903,
          0.2978326359533072,
          0.2827355373000248,
          0.27985108728511876,
          0.3081610501350706,
          0.2840539827648113,
          0.27629953415788516,
          0.29653450115257596,
          0.29447333966800066,
          0.3380863492115031
         ]
        }
       ],
       "layout": {
        "legend": {
         "title": {
          "text": "Legend"
         }
        },
        "template": {
         "data": {
          "bar": [
           {
            "error_x": {
             "color": "#2a3f5f"
            },
            "error_y": {
             "color": "#2a3f5f"
            },
            "marker": {
             "line": {
              "color": "white",
              "width": 0.5
             },
             "pattern": {
              "fillmode": "overlay",
              "size": 10,
              "solidity": 0.2
             }
            },
            "type": "bar"
           }
          ],
          "barpolar": [
           {
            "marker": {
             "line": {
              "color": "white",
              "width": 0.5
             },
             "pattern": {
              "fillmode": "overlay",
              "size": 10,
              "solidity": 0.2
             }
            },
            "type": "barpolar"
           }
          ],
          "carpet": [
           {
            "aaxis": {
             "endlinecolor": "#2a3f5f",
             "gridcolor": "#C8D4E3",
             "linecolor": "#C8D4E3",
             "minorgridcolor": "#C8D4E3",
             "startlinecolor": "#2a3f5f"
            },
            "baxis": {
             "endlinecolor": "#2a3f5f",
             "gridcolor": "#C8D4E3",
             "linecolor": "#C8D4E3",
             "minorgridcolor": "#C8D4E3",
             "startlinecolor": "#2a3f5f"
            },
            "type": "carpet"
           }
          ],
          "choropleth": [
           {
            "colorbar": {
             "outlinewidth": 0,
             "ticks": ""
            },
            "type": "choropleth"
           }
          ],
          "contour": [
           {
            "colorbar": {
             "outlinewidth": 0,
             "ticks": ""
            },
            "colorscale": [
             [
              0,
              "#0d0887"
             ],
             [
              0.1111111111111111,
              "#46039f"
             ],
             [
              0.2222222222222222,
              "#7201a8"
             ],
             [
              0.3333333333333333,
              "#9c179e"
             ],
             [
              0.4444444444444444,
              "#bd3786"
             ],
             [
              0.5555555555555556,
              "#d8576b"
             ],
             [
              0.6666666666666666,
              "#ed7953"
             ],
             [
              0.7777777777777778,
              "#fb9f3a"
             ],
             [
              0.8888888888888888,
              "#fdca26"
             ],
             [
              1,
              "#f0f921"
             ]
            ],
            "type": "contour"
           }
          ],
          "contourcarpet": [
           {
            "colorbar": {
             "outlinewidth": 0,
             "ticks": ""
            },
            "type": "contourcarpet"
           }
          ],
          "heatmap": [
           {
            "colorbar": {
             "outlinewidth": 0,
             "ticks": ""
            },
            "colorscale": [
             [
              0,
              "#0d0887"
             ],
             [
              0.1111111111111111,
              "#46039f"
             ],
             [
              0.2222222222222222,
              "#7201a8"
             ],
             [
              0.3333333333333333,
              "#9c179e"
             ],
             [
              0.4444444444444444,
              "#bd3786"
             ],
             [
              0.5555555555555556,
              "#d8576b"
             ],
             [
              0.6666666666666666,
              "#ed7953"
             ],
             [
              0.7777777777777778,
              "#fb9f3a"
             ],
             [
              0.8888888888888888,
              "#fdca26"
             ],
             [
              1,
              "#f0f921"
             ]
            ],
            "type": "heatmap"
           }
          ],
          "histogram": [
           {
            "marker": {
             "pattern": {
              "fillmode": "overlay",
              "size": 10,
              "solidity": 0.2
             }
            },
            "type": "histogram"
           }
          ],
          "histogram2d": [
           {
            "colorbar": {
             "outlinewidth": 0,
             "ticks": ""
            },
            "colorscale": [
             [
              0,
              "#0d0887"
             ],
             [
              0.1111111111111111,
              "#46039f"
             ],
             [
              0.2222222222222222,
              "#7201a8"
             ],
             [
              0.3333333333333333,
              "#9c179e"
             ],
             [
              0.4444444444444444,
              "#bd3786"
             ],
             [
              0.5555555555555556,
              "#d8576b"
             ],
             [
              0.6666666666666666,
              "#ed7953"
             ],
             [
              0.7777777777777778,
              "#fb9f3a"
             ],
             [
              0.8888888888888888,
              "#fdca26"
             ],
             [
              1,
              "#f0f921"
             ]
            ],
            "type": "histogram2d"
           }
          ],
          "histogram2dcontour": [
           {
            "colorbar": {
             "outlinewidth": 0,
             "ticks": ""
            },
            "colorscale": [
             [
              0,
              "#0d0887"
             ],
             [
              0.1111111111111111,
              "#46039f"
             ],
             [
              0.2222222222222222,
              "#7201a8"
             ],
             [
              0.3333333333333333,
              "#9c179e"
             ],
             [
              0.4444444444444444,
              "#bd3786"
             ],
             [
              0.5555555555555556,
              "#d8576b"
             ],
             [
              0.6666666666666666,
              "#ed7953"
             ],
             [
              0.7777777777777778,
              "#fb9f3a"
             ],
             [
              0.8888888888888888,
              "#fdca26"
             ],
             [
              1,
              "#f0f921"
             ]
            ],
            "type": "histogram2dcontour"
           }
          ],
          "mesh3d": [
           {
            "colorbar": {
             "outlinewidth": 0,
             "ticks": ""
            },
            "type": "mesh3d"
           }
          ],
          "parcoords": [
           {
            "line": {
             "colorbar": {
              "outlinewidth": 0,
              "ticks": ""
             }
            },
            "type": "parcoords"
           }
          ],
          "pie": [
           {
            "automargin": true,
            "type": "pie"
           }
          ],
          "scatter": [
           {
            "fillpattern": {
             "fillmode": "overlay",
             "size": 10,
             "solidity": 0.2
            },
            "type": "scatter"
           }
          ],
          "scatter3d": [
           {
            "line": {
             "colorbar": {
              "outlinewidth": 0,
              "ticks": ""
             }
            },
            "marker": {
             "colorbar": {
              "outlinewidth": 0,
              "ticks": ""
             }
            },
            "type": "scatter3d"
           }
          ],
          "scattercarpet": [
           {
            "marker": {
             "colorbar": {
              "outlinewidth": 0,
              "ticks": ""
             }
            },
            "type": "scattercarpet"
           }
          ],
          "scattergeo": [
           {
            "marker": {
             "colorbar": {
              "outlinewidth": 0,
              "ticks": ""
             }
            },
            "type": "scattergeo"
           }
          ],
          "scattergl": [
           {
            "marker": {
             "colorbar": {
              "outlinewidth": 0,
              "ticks": ""
             }
            },
            "type": "scattergl"
           }
          ],
          "scattermap": [
           {
            "marker": {
             "colorbar": {
              "outlinewidth": 0,
              "ticks": ""
             }
            },
            "type": "scattermap"
           }
          ],
          "scattermapbox": [
           {
            "marker": {
             "colorbar": {
              "outlinewidth": 0,
              "ticks": ""
             }
            },
            "type": "scattermapbox"
           }
          ],
          "scatterpolar": [
           {
            "marker": {
             "colorbar": {
              "outlinewidth": 0,
              "ticks": ""
             }
            },
            "type": "scatterpolar"
           }
          ],
          "scatterpolargl": [
           {
            "marker": {
             "colorbar": {
              "outlinewidth": 0,
              "ticks": ""
             }
            },
            "type": "scatterpolargl"
           }
          ],
          "scatterternary": [
           {
            "marker": {
             "colorbar": {
              "outlinewidth": 0,
              "ticks": ""
             }
            },
            "type": "scatterternary"
           }
          ],
          "surface": [
           {
            "colorbar": {
             "outlinewidth": 0,
             "ticks": ""
            },
            "colorscale": [
             [
              0,
              "#0d0887"
             ],
             [
              0.1111111111111111,
              "#46039f"
             ],
             [
              0.2222222222222222,
              "#7201a8"
             ],
             [
              0.3333333333333333,
              "#9c179e"
             ],
             [
              0.4444444444444444,
              "#bd3786"
             ],
             [
              0.5555555555555556,
              "#d8576b"
             ],
             [
              0.6666666666666666,
              "#ed7953"
             ],
             [
              0.7777777777777778,
              "#fb9f3a"
             ],
             [
              0.8888888888888888,
              "#fdca26"
             ],
             [
              1,
              "#f0f921"
             ]
            ],
            "type": "surface"
           }
          ],
          "table": [
           {
            "cells": {
             "fill": {
              "color": "#EBF0F8"
             },
             "line": {
              "color": "white"
             }
            },
            "header": {
             "fill": {
              "color": "#C8D4E3"
             },
             "line": {
              "color": "white"
             }
            },
            "type": "table"
           }
          ]
         },
         "layout": {
          "annotationdefaults": {
           "arrowcolor": "#2a3f5f",
           "arrowhead": 0,
           "arrowwidth": 1
          },
          "autotypenumbers": "strict",
          "coloraxis": {
           "colorbar": {
            "outlinewidth": 0,
            "ticks": ""
           }
          },
          "colorscale": {
           "diverging": [
            [
             0,
             "#8e0152"
            ],
            [
             0.1,
             "#c51b7d"
            ],
            [
             0.2,
             "#de77ae"
            ],
            [
             0.3,
             "#f1b6da"
            ],
            [
             0.4,
             "#fde0ef"
            ],
            [
             0.5,
             "#f7f7f7"
            ],
            [
             0.6,
             "#e6f5d0"
            ],
            [
             0.7,
             "#b8e186"
            ],
            [
             0.8,
             "#7fbc41"
            ],
            [
             0.9,
             "#4d9221"
            ],
            [
             1,
             "#276419"
            ]
           ],
           "sequential": [
            [
             0,
             "#0d0887"
            ],
            [
             0.1111111111111111,
             "#46039f"
            ],
            [
             0.2222222222222222,
             "#7201a8"
            ],
            [
             0.3333333333333333,
             "#9c179e"
            ],
            [
             0.4444444444444444,
             "#bd3786"
            ],
            [
             0.5555555555555556,
             "#d8576b"
            ],
            [
             0.6666666666666666,
             "#ed7953"
            ],
            [
             0.7777777777777778,
             "#fb9f3a"
            ],
            [
             0.8888888888888888,
             "#fdca26"
            ],
            [
             1,
             "#f0f921"
            ]
           ],
           "sequentialminus": [
            [
             0,
             "#0d0887"
            ],
            [
             0.1111111111111111,
             "#46039f"
            ],
            [
             0.2222222222222222,
             "#7201a8"
            ],
            [
             0.3333333333333333,
             "#9c179e"
            ],
            [
             0.4444444444444444,
             "#bd3786"
            ],
            [
             0.5555555555555556,
             "#d8576b"
            ],
            [
             0.6666666666666666,
             "#ed7953"
            ],
            [
             0.7777777777777778,
             "#fb9f3a"
            ],
            [
             0.8888888888888888,
             "#fdca26"
            ],
            [
             1,
             "#f0f921"
            ]
           ]
          },
          "colorway": [
           "#636efa",
           "#EF553B",
           "#00cc96",
           "#ab63fa",
           "#FFA15A",
           "#19d3f3",
           "#FF6692",
           "#B6E880",
           "#FF97FF",
           "#FECB52"
          ],
          "font": {
           "color": "#2a3f5f"
          },
          "geo": {
           "bgcolor": "white",
           "lakecolor": "white",
           "landcolor": "white",
           "showlakes": true,
           "showland": true,
           "subunitcolor": "#C8D4E3"
          },
          "hoverlabel": {
           "align": "left"
          },
          "hovermode": "closest",
          "mapbox": {
           "style": "light"
          },
          "paper_bgcolor": "white",
          "plot_bgcolor": "white",
          "polar": {
           "angularaxis": {
            "gridcolor": "#EBF0F8",
            "linecolor": "#EBF0F8",
            "ticks": ""
           },
           "bgcolor": "white",
           "radialaxis": {
            "gridcolor": "#EBF0F8",
            "linecolor": "#EBF0F8",
            "ticks": ""
           }
          },
          "scene": {
           "xaxis": {
            "backgroundcolor": "white",
            "gridcolor": "#DFE8F3",
            "gridwidth": 2,
            "linecolor": "#EBF0F8",
            "showbackground": true,
            "ticks": "",
            "zerolinecolor": "#EBF0F8"
           },
           "yaxis": {
            "backgroundcolor": "white",
            "gridcolor": "#DFE8F3",
            "gridwidth": 2,
            "linecolor": "#EBF0F8",
            "showbackground": true,
            "ticks": "",
            "zerolinecolor": "#EBF0F8"
           },
           "zaxis": {
            "backgroundcolor": "white",
            "gridcolor": "#DFE8F3",
            "gridwidth": 2,
            "linecolor": "#EBF0F8",
            "showbackground": true,
            "ticks": "",
            "zerolinecolor": "#EBF0F8"
           }
          },
          "shapedefaults": {
           "line": {
            "color": "#2a3f5f"
           }
          },
          "ternary": {
           "aaxis": {
            "gridcolor": "#DFE8F3",
            "linecolor": "#A2B1C6",
            "ticks": ""
           },
           "baxis": {
            "gridcolor": "#DFE8F3",
            "linecolor": "#A2B1C6",
            "ticks": ""
           },
           "bgcolor": "white",
           "caxis": {
            "gridcolor": "#DFE8F3",
            "linecolor": "#A2B1C6",
            "ticks": ""
           }
          },
          "title": {
           "x": 0.05
          },
          "xaxis": {
           "automargin": true,
           "gridcolor": "#EBF0F8",
           "linecolor": "#EBF0F8",
           "ticks": "",
           "title": {
            "standoff": 15
           },
           "zerolinecolor": "#EBF0F8",
           "zerolinewidth": 2
          },
          "yaxis": {
           "automargin": true,
           "gridcolor": "#EBF0F8",
           "linecolor": "#EBF0F8",
           "ticks": "",
           "title": {
            "standoff": 15
           },
           "zerolinecolor": "#EBF0F8",
           "zerolinewidth": 2
          }
         }
        },
        "title": {
         "font": {
          "family": "Arial",
          "size": 20
         },
         "text": "📉 Training vs Validation Loss (BiLSTM vs CNN)"
        },
        "xaxis": {
         "showgrid": true,
         "title": {
          "text": "Epoch"
         }
        },
        "yaxis": {
         "showgrid": true,
         "title": {
          "text": "Loss"
         }
        }
       }
      }
     },
     "metadata": {},
     "output_type": "display_data"
    },
    {
     "data": {
      "application/vnd.plotly.v1+json": {
       "config": {
        "plotlyServerURL": "https://plot.ly"
       },
       "data": [
        {
         "line": {
          "color": "royalblue",
          "width": 2
         },
         "marker": {
          "color": "royalblue"
         },
         "mode": "lines+markers",
         "name": "BiLSTM Train Accuracy",
         "type": "scatter",
         "x": [
          1,
          2,
          3,
          4,
          5,
          6,
          7,
          8,
          9,
          10
         ],
         "y": [
          0.8038791575065598,
          0.8858013056184891,
          0.8992680623621319,
          0.9057476326800264,
          0.9108088638730363,
          0.9151870528032726,
          0.9183148638207816,
          0.9207838936394955,
          0.9234843366838484,
          0.9276721695736398
         ]
        },
        {
         "line": {
          "color": "lightblue",
          "dash": "dash",
          "width": 2
         },
         "marker": {
          "color": "lightblue"
         },
         "mode": "lines+markers",
         "name": "BiLSTM Validation Accuracy",
         "type": "scatter",
         "x": [
          1,
          2,
          3,
          4,
          5,
          6,
          7,
          8,
          9,
          10
         ],
         "y": [
          0.8503992551000253,
          0.8718997770943258,
          0.8651138511893005,
          0.8796309359216726,
          0.8817048051691544,
          0.8832566801162496,
          0.8822126915154764,
          0.8779661973420615,
          0.8797437995541887,
          0.8588075957224683
         ]
        },
        {
         "line": {
          "color": "darkorange",
          "width": 2
         },
         "marker": {
          "color": "darkorange"
         },
         "mode": "lines+markers",
         "name": "CNN Train Accuracy",
         "type": "scatter",
         "x": [
          1,
          2,
          3,
          4,
          5,
          6,
          7,
          8,
          9,
          10
         ],
         "y": [
          0.8566637677805605,
          0.8975921827119391,
          0.9056375247742788,
          0.9108424561154678,
          0.9150601487763093,
          0.9182551442786813,
          0.9207055117404888,
          0.9233816937208634,
          0.9250874331421064,
          0.9273175847924187
         ]
        },
        {
         "line": {
          "color": "tomato",
          "dash": "dash",
          "width": 2
         },
         "marker": {
          "color": "tomato"
         },
         "mode": "lines+markers",
         "name": "CNN Validation Accuracy",
         "type": "scatter",
         "x": [
          1,
          2,
          3,
          4,
          5,
          6,
          7,
          8,
          9,
          10
         ],
         "y": [
          0.8706864930447786,
          0.8705736294122627,
          0.8761462712677408,
          0.8800400665895431,
          0.8723794475325188,
          0.8810417313281228,
          0.8797155836460596,
          0.8763861064868372,
          0.8797861234163822,
          0.8665528625038796
         ]
        }
       ],
       "layout": {
        "legend": {
         "title": {
          "text": "Legend"
         }
        },
        "template": {
         "data": {
          "bar": [
           {
            "error_x": {
             "color": "#2a3f5f"
            },
            "error_y": {
             "color": "#2a3f5f"
            },
            "marker": {
             "line": {
              "color": "white",
              "width": 0.5
             },
             "pattern": {
              "fillmode": "overlay",
              "size": 10,
              "solidity": 0.2
             }
            },
            "type": "bar"
           }
          ],
          "barpolar": [
           {
            "marker": {
             "line": {
              "color": "white",
              "width": 0.5
             },
             "pattern": {
              "fillmode": "overlay",
              "size": 10,
              "solidity": 0.2
             }
            },
            "type": "barpolar"
           }
          ],
          "carpet": [
           {
            "aaxis": {
             "endlinecolor": "#2a3f5f",
             "gridcolor": "#C8D4E3",
             "linecolor": "#C8D4E3",
             "minorgridcolor": "#C8D4E3",
             "startlinecolor": "#2a3f5f"
            },
            "baxis": {
             "endlinecolor": "#2a3f5f",
             "gridcolor": "#C8D4E3",
             "linecolor": "#C8D4E3",
             "minorgridcolor": "#C8D4E3",
             "startlinecolor": "#2a3f5f"
            },
            "type": "carpet"
           }
          ],
          "choropleth": [
           {
            "colorbar": {
             "outlinewidth": 0,
             "ticks": ""
            },
            "type": "choropleth"
           }
          ],
          "contour": [
           {
            "colorbar": {
             "outlinewidth": 0,
             "ticks": ""
            },
            "colorscale": [
             [
              0,
              "#0d0887"
             ],
             [
              0.1111111111111111,
              "#46039f"
             ],
             [
              0.2222222222222222,
              "#7201a8"
             ],
             [
              0.3333333333333333,
              "#9c179e"
             ],
             [
              0.4444444444444444,
              "#bd3786"
             ],
             [
              0.5555555555555556,
              "#d8576b"
             ],
             [
              0.6666666666666666,
              "#ed7953"
             ],
             [
              0.7777777777777778,
              "#fb9f3a"
             ],
             [
              0.8888888888888888,
              "#fdca26"
             ],
             [
              1,
              "#f0f921"
             ]
            ],
            "type": "contour"
           }
          ],
          "contourcarpet": [
           {
            "colorbar": {
             "outlinewidth": 0,
             "ticks": ""
            },
            "type": "contourcarpet"
           }
          ],
          "heatmap": [
           {
            "colorbar": {
             "outlinewidth": 0,
             "ticks": ""
            },
            "colorscale": [
             [
              0,
              "#0d0887"
             ],
             [
              0.1111111111111111,
              "#46039f"
             ],
             [
              0.2222222222222222,
              "#7201a8"
             ],
             [
              0.3333333333333333,
              "#9c179e"
             ],
             [
              0.4444444444444444,
              "#bd3786"
             ],
             [
              0.5555555555555556,
              "#d8576b"
             ],
             [
              0.6666666666666666,
              "#ed7953"
             ],
             [
              0.7777777777777778,
              "#fb9f3a"
             ],
             [
              0.8888888888888888,
              "#fdca26"
             ],
             [
              1,
              "#f0f921"
             ]
            ],
            "type": "heatmap"
           }
          ],
          "histogram": [
           {
            "marker": {
             "pattern": {
              "fillmode": "overlay",
              "size": 10,
              "solidity": 0.2
             }
            },
            "type": "histogram"
           }
          ],
          "histogram2d": [
           {
            "colorbar": {
             "outlinewidth": 0,
             "ticks": ""
            },
            "colorscale": [
             [
              0,
              "#0d0887"
             ],
             [
              0.1111111111111111,
              "#46039f"
             ],
             [
              0.2222222222222222,
              "#7201a8"
             ],
             [
              0.3333333333333333,
              "#9c179e"
             ],
             [
              0.4444444444444444,
              "#bd3786"
             ],
             [
              0.5555555555555556,
              "#d8576b"
             ],
             [
              0.6666666666666666,
              "#ed7953"
             ],
             [
              0.7777777777777778,
              "#fb9f3a"
             ],
             [
              0.8888888888888888,
              "#fdca26"
             ],
             [
              1,
              "#f0f921"
             ]
            ],
            "type": "histogram2d"
           }
          ],
          "histogram2dcontour": [
           {
            "colorbar": {
             "outlinewidth": 0,
             "ticks": ""
            },
            "colorscale": [
             [
              0,
              "#0d0887"
             ],
             [
              0.1111111111111111,
              "#46039f"
             ],
             [
              0.2222222222222222,
              "#7201a8"
             ],
             [
              0.3333333333333333,
              "#9c179e"
             ],
             [
              0.4444444444444444,
              "#bd3786"
             ],
             [
              0.5555555555555556,
              "#d8576b"
             ],
             [
              0.6666666666666666,
              "#ed7953"
             ],
             [
              0.7777777777777778,
              "#fb9f3a"
             ],
             [
              0.8888888888888888,
              "#fdca26"
             ],
             [
              1,
              "#f0f921"
             ]
            ],
            "type": "histogram2dcontour"
           }
          ],
          "mesh3d": [
           {
            "colorbar": {
             "outlinewidth": 0,
             "ticks": ""
            },
            "type": "mesh3d"
           }
          ],
          "parcoords": [
           {
            "line": {
             "colorbar": {
              "outlinewidth": 0,
              "ticks": ""
             }
            },
            "type": "parcoords"
           }
          ],
          "pie": [
           {
            "automargin": true,
            "type": "pie"
           }
          ],
          "scatter": [
           {
            "fillpattern": {
             "fillmode": "overlay",
             "size": 10,
             "solidity": 0.2
            },
            "type": "scatter"
           }
          ],
          "scatter3d": [
           {
            "line": {
             "colorbar": {
              "outlinewidth": 0,
              "ticks": ""
             }
            },
            "marker": {
             "colorbar": {
              "outlinewidth": 0,
              "ticks": ""
             }
            },
            "type": "scatter3d"
           }
          ],
          "scattercarpet": [
           {
            "marker": {
             "colorbar": {
              "outlinewidth": 0,
              "ticks": ""
             }
            },
            "type": "scattercarpet"
           }
          ],
          "scattergeo": [
           {
            "marker": {
             "colorbar": {
              "outlinewidth": 0,
              "ticks": ""
             }
            },
            "type": "scattergeo"
           }
          ],
          "scattergl": [
           {
            "marker": {
             "colorbar": {
              "outlinewidth": 0,
              "ticks": ""
             }
            },
            "type": "scattergl"
           }
          ],
          "scattermap": [
           {
            "marker": {
             "colorbar": {
              "outlinewidth": 0,
              "ticks": ""
             }
            },
            "type": "scattermap"
           }
          ],
          "scattermapbox": [
           {
            "marker": {
             "colorbar": {
              "outlinewidth": 0,
              "ticks": ""
             }
            },
            "type": "scattermapbox"
           }
          ],
          "scatterpolar": [
           {
            "marker": {
             "colorbar": {
              "outlinewidth": 0,
              "ticks": ""
             }
            },
            "type": "scatterpolar"
           }
          ],
          "scatterpolargl": [
           {
            "marker": {
             "colorbar": {
              "outlinewidth": 0,
              "ticks": ""
             }
            },
            "type": "scatterpolargl"
           }
          ],
          "scatterternary": [
           {
            "marker": {
             "colorbar": {
              "outlinewidth": 0,
              "ticks": ""
             }
            },
            "type": "scatterternary"
           }
          ],
          "surface": [
           {
            "colorbar": {
             "outlinewidth": 0,
             "ticks": ""
            },
            "colorscale": [
             [
              0,
              "#0d0887"
             ],
             [
              0.1111111111111111,
              "#46039f"
             ],
             [
              0.2222222222222222,
              "#7201a8"
             ],
             [
              0.3333333333333333,
              "#9c179e"
             ],
             [
              0.4444444444444444,
              "#bd3786"
             ],
             [
              0.5555555555555556,
              "#d8576b"
             ],
             [
              0.6666666666666666,
              "#ed7953"
             ],
             [
              0.7777777777777778,
              "#fb9f3a"
             ],
             [
              0.8888888888888888,
              "#fdca26"
             ],
             [
              1,
              "#f0f921"
             ]
            ],
            "type": "surface"
           }
          ],
          "table": [
           {
            "cells": {
             "fill": {
              "color": "#EBF0F8"
             },
             "line": {
              "color": "white"
             }
            },
            "header": {
             "fill": {
              "color": "#C8D4E3"
             },
             "line": {
              "color": "white"
             }
            },
            "type": "table"
           }
          ]
         },
         "layout": {
          "annotationdefaults": {
           "arrowcolor": "#2a3f5f",
           "arrowhead": 0,
           "arrowwidth": 1
          },
          "autotypenumbers": "strict",
          "coloraxis": {
           "colorbar": {
            "outlinewidth": 0,
            "ticks": ""
           }
          },
          "colorscale": {
           "diverging": [
            [
             0,
             "#8e0152"
            ],
            [
             0.1,
             "#c51b7d"
            ],
            [
             0.2,
             "#de77ae"
            ],
            [
             0.3,
             "#f1b6da"
            ],
            [
             0.4,
             "#fde0ef"
            ],
            [
             0.5,
             "#f7f7f7"
            ],
            [
             0.6,
             "#e6f5d0"
            ],
            [
             0.7,
             "#b8e186"
            ],
            [
             0.8,
             "#7fbc41"
            ],
            [
             0.9,
             "#4d9221"
            ],
            [
             1,
             "#276419"
            ]
           ],
           "sequential": [
            [
             0,
             "#0d0887"
            ],
            [
             0.1111111111111111,
             "#46039f"
            ],
            [
             0.2222222222222222,
             "#7201a8"
            ],
            [
             0.3333333333333333,
             "#9c179e"
            ],
            [
             0.4444444444444444,
             "#bd3786"
            ],
            [
             0.5555555555555556,
             "#d8576b"
            ],
            [
             0.6666666666666666,
             "#ed7953"
            ],
            [
             0.7777777777777778,
             "#fb9f3a"
            ],
            [
             0.8888888888888888,
             "#fdca26"
            ],
            [
             1,
             "#f0f921"
            ]
           ],
           "sequentialminus": [
            [
             0,
             "#0d0887"
            ],
            [
             0.1111111111111111,
             "#46039f"
            ],
            [
             0.2222222222222222,
             "#7201a8"
            ],
            [
             0.3333333333333333,
             "#9c179e"
            ],
            [
             0.4444444444444444,
             "#bd3786"
            ],
            [
             0.5555555555555556,
             "#d8576b"
            ],
            [
             0.6666666666666666,
             "#ed7953"
            ],
            [
             0.7777777777777778,
             "#fb9f3a"
            ],
            [
             0.8888888888888888,
             "#fdca26"
            ],
            [
             1,
             "#f0f921"
            ]
           ]
          },
          "colorway": [
           "#636efa",
           "#EF553B",
           "#00cc96",
           "#ab63fa",
           "#FFA15A",
           "#19d3f3",
           "#FF6692",
           "#B6E880",
           "#FF97FF",
           "#FECB52"
          ],
          "font": {
           "color": "#2a3f5f"
          },
          "geo": {
           "bgcolor": "white",
           "lakecolor": "white",
           "landcolor": "white",
           "showlakes": true,
           "showland": true,
           "subunitcolor": "#C8D4E3"
          },
          "hoverlabel": {
           "align": "left"
          },
          "hovermode": "closest",
          "mapbox": {
           "style": "light"
          },
          "paper_bgcolor": "white",
          "plot_bgcolor": "white",
          "polar": {
           "angularaxis": {
            "gridcolor": "#EBF0F8",
            "linecolor": "#EBF0F8",
            "ticks": ""
           },
           "bgcolor": "white",
           "radialaxis": {
            "gridcolor": "#EBF0F8",
            "linecolor": "#EBF0F8",
            "ticks": ""
           }
          },
          "scene": {
           "xaxis": {
            "backgroundcolor": "white",
            "gridcolor": "#DFE8F3",
            "gridwidth": 2,
            "linecolor": "#EBF0F8",
            "showbackground": true,
            "ticks": "",
            "zerolinecolor": "#EBF0F8"
           },
           "yaxis": {
            "backgroundcolor": "white",
            "gridcolor": "#DFE8F3",
            "gridwidth": 2,
            "linecolor": "#EBF0F8",
            "showbackground": true,
            "ticks": "",
            "zerolinecolor": "#EBF0F8"
           },
           "zaxis": {
            "backgroundcolor": "white",
            "gridcolor": "#DFE8F3",
            "gridwidth": 2,
            "linecolor": "#EBF0F8",
            "showbackground": true,
            "ticks": "",
            "zerolinecolor": "#EBF0F8"
           }
          },
          "shapedefaults": {
           "line": {
            "color": "#2a3f5f"
           }
          },
          "ternary": {
           "aaxis": {
            "gridcolor": "#DFE8F3",
            "linecolor": "#A2B1C6",
            "ticks": ""
           },
           "baxis": {
            "gridcolor": "#DFE8F3",
            "linecolor": "#A2B1C6",
            "ticks": ""
           },
           "bgcolor": "white",
           "caxis": {
            "gridcolor": "#DFE8F3",
            "linecolor": "#A2B1C6",
            "ticks": ""
           }
          },
          "title": {
           "x": 0.05
          },
          "xaxis": {
           "automargin": true,
           "gridcolor": "#EBF0F8",
           "linecolor": "#EBF0F8",
           "ticks": "",
           "title": {
            "standoff": 15
           },
           "zerolinecolor": "#EBF0F8",
           "zerolinewidth": 2
          },
          "yaxis": {
           "automargin": true,
           "gridcolor": "#EBF0F8",
           "linecolor": "#EBF0F8",
           "ticks": "",
           "title": {
            "standoff": 15
           },
           "zerolinecolor": "#EBF0F8",
           "zerolinewidth": 2
          }
         }
        },
        "title": {
         "font": {
          "family": "Arial",
          "size": 20
         },
         "text": "✅ Training vs Validation Accuracy (BiLSTM vs CNN)"
        },
        "xaxis": {
         "showgrid": true,
         "title": {
          "text": "Epoch"
         }
        },
        "yaxis": {
         "showgrid": true,
         "title": {
          "text": "Accuracy"
         }
        }
       }
      }
     },
     "metadata": {},
     "output_type": "display_data"
    }
   ],
   "source": [
    "import plotly.graph_objects as go\n",
    "\n",
    "# === 📈 Plot Loss ===\n",
    "num_epochs = len(bi_lstm_train_losses)  # auto-adjust\n",
    "epochs = list(range(1, num_epochs + 1))\n",
    "\n",
    "fig = go.Figure()\n",
    "\n",
    "# --- BiLSTM losses (blue tones) ---\n",
    "fig.add_trace(go.Scatter(\n",
    "    x=epochs, y=bi_lstm_train_losses,\n",
    "    mode='lines+markers',\n",
    "    name='BiLSTM Train Loss',\n",
    "    line=dict(color='royalblue', width=2),\n",
    "    marker=dict(color='royalblue')\n",
    "))\n",
    "fig.add_trace(go.Scatter(\n",
    "    x=epochs, y=bi_lstm_val_losses,\n",
    "    mode='lines+markers',\n",
    "    name='BiLSTM Validation Loss',\n",
    "    line=dict(color='lightblue', width=2, dash='dash'),\n",
    "    marker=dict(color='lightblue')\n",
    "))\n",
    "\n",
    "# --- CNN losses (orange/red tones) ---\n",
    "fig.add_trace(go.Scatter(\n",
    "    x=epochs, y=cnn_train_losses,\n",
    "    mode='lines+markers',\n",
    "    name='CNN Train Loss',\n",
    "    line=dict(color='darkorange', width=2),\n",
    "    marker=dict(color='darkorange')\n",
    "))\n",
    "fig.add_trace(go.Scatter(\n",
    "    x=epochs, y=cnn_val_losses,\n",
    "    mode='lines+markers',\n",
    "    name='CNN Validation Loss',\n",
    "    line=dict(color='tomato', width=2, dash='dash'),\n",
    "    marker=dict(color='tomato')\n",
    "))\n",
    "\n",
    "# Layout\n",
    "fig.update_layout(\n",
    "    title='📉 Training vs Validation Loss (BiLSTM vs CNN)',\n",
    "    xaxis_title='Epoch',\n",
    "    yaxis_title='Loss',\n",
    "    legend_title='Legend',\n",
    "    template='plotly_white',\n",
    "    title_font=dict(size=20, family='Arial'),\n",
    "    xaxis=dict(showgrid=True),\n",
    "    yaxis=dict(showgrid=True)\n",
    ")\n",
    "\n",
    "fig.show()\n",
    "\n",
    "# === 📊 Plot Accuracy ===\n",
    "fig2 = go.Figure()\n",
    "\n",
    "# --- BiLSTM accuracies (blue tones) ---\n",
    "fig2.add_trace(go.Scatter(\n",
    "    x=epochs, y=bi_lstm_train_accuracies,\n",
    "    mode='lines+markers',\n",
    "    name='BiLSTM Train Accuracy',\n",
    "    line=dict(color='royalblue', width=2),\n",
    "    marker=dict(color='royalblue')\n",
    "))\n",
    "fig2.add_trace(go.Scatter(\n",
    "    x=epochs, y=bi_lstm_val_accuracies,\n",
    "    mode='lines+markers',\n",
    "    name='BiLSTM Validation Accuracy',\n",
    "    line=dict(color='lightblue', width=2, dash='dash'),\n",
    "    marker=dict(color='lightblue')\n",
    "))\n",
    "\n",
    "# --- CNN accuracies (orange/red tones) ---\n",
    "fig2.add_trace(go.Scatter(\n",
    "    x=epochs, y=cnn_train_accuracies,\n",
    "    mode='lines+markers',\n",
    "    name='CNN Train Accuracy',\n",
    "    line=dict(color='darkorange', width=2),\n",
    "    marker=dict(color='darkorange')\n",
    "))\n",
    "fig2.add_trace(go.Scatter(\n",
    "    x=epochs, y=cnn_val_accuracies,\n",
    "    mode='lines+markers',\n",
    "    name='CNN Validation Accuracy',\n",
    "    line=dict(color='tomato', width=2, dash='dash'),\n",
    "    marker=dict(color='tomato')\n",
    "))\n",
    "\n",
    "# Layout\n",
    "fig2.update_layout(\n",
    "    title='✅ Training vs Validation Accuracy (BiLSTM vs CNN)',\n",
    "    xaxis_title='Epoch',\n",
    "    yaxis_title='Accuracy',\n",
    "    legend_title='Legend',\n",
    "    template='plotly_white',\n",
    "    title_font=dict(size=20, family='Arial'),\n",
    "    xaxis=dict(showgrid=True),\n",
    "    yaxis=dict(showgrid=True)\n",
    ")\n",
    "\n",
    "fig2.show()\n"
   ]
  },
  {
   "cell_type": "code",
   "execution_count": 22,
   "id": "6d742c59",
   "metadata": {},
   "outputs": [
    {
     "name": "stderr",
     "output_type": "stream",
     "text": [
      "c:\\Users\\rrpra\\AppData\\Local\\Programs\\Python\\Python313\\Lib\\site-packages\\google\\protobuf\\runtime_version.py:98: UserWarning:\n",
      "\n",
      "Protobuf gencode version 5.28.3 is exactly one major version older than the runtime version 6.31.1 at tensorflow/core/framework/attr_value.proto. Please update the gencode to avoid compatibility violations in the next runtime release.\n",
      "\n",
      "c:\\Users\\rrpra\\AppData\\Local\\Programs\\Python\\Python313\\Lib\\site-packages\\google\\protobuf\\runtime_version.py:98: UserWarning:\n",
      "\n",
      "Protobuf gencode version 5.28.3 is exactly one major version older than the runtime version 6.31.1 at tensorflow/core/framework/tensor.proto. Please update the gencode to avoid compatibility violations in the next runtime release.\n",
      "\n",
      "c:\\Users\\rrpra\\AppData\\Local\\Programs\\Python\\Python313\\Lib\\site-packages\\google\\protobuf\\runtime_version.py:98: UserWarning:\n",
      "\n",
      "Protobuf gencode version 5.28.3 is exactly one major version older than the runtime version 6.31.1 at tensorflow/core/framework/resource_handle.proto. Please update the gencode to avoid compatibility violations in the next runtime release.\n",
      "\n",
      "c:\\Users\\rrpra\\AppData\\Local\\Programs\\Python\\Python313\\Lib\\site-packages\\google\\protobuf\\runtime_version.py:98: UserWarning:\n",
      "\n",
      "Protobuf gencode version 5.28.3 is exactly one major version older than the runtime version 6.31.1 at tensorflow/core/framework/tensor_shape.proto. Please update the gencode to avoid compatibility violations in the next runtime release.\n",
      "\n",
      "c:\\Users\\rrpra\\AppData\\Local\\Programs\\Python\\Python313\\Lib\\site-packages\\google\\protobuf\\runtime_version.py:98: UserWarning:\n",
      "\n",
      "Protobuf gencode version 5.28.3 is exactly one major version older than the runtime version 6.31.1 at tensorflow/core/framework/types.proto. Please update the gencode to avoid compatibility violations in the next runtime release.\n",
      "\n",
      "c:\\Users\\rrpra\\AppData\\Local\\Programs\\Python\\Python313\\Lib\\site-packages\\google\\protobuf\\runtime_version.py:98: UserWarning:\n",
      "\n",
      "Protobuf gencode version 5.28.3 is exactly one major version older than the runtime version 6.31.1 at tensorflow/core/framework/full_type.proto. Please update the gencode to avoid compatibility violations in the next runtime release.\n",
      "\n",
      "c:\\Users\\rrpra\\AppData\\Local\\Programs\\Python\\Python313\\Lib\\site-packages\\google\\protobuf\\runtime_version.py:98: UserWarning:\n",
      "\n",
      "Protobuf gencode version 5.28.3 is exactly one major version older than the runtime version 6.31.1 at tensorflow/core/framework/function.proto. Please update the gencode to avoid compatibility violations in the next runtime release.\n",
      "\n",
      "c:\\Users\\rrpra\\AppData\\Local\\Programs\\Python\\Python313\\Lib\\site-packages\\google\\protobuf\\runtime_version.py:98: UserWarning:\n",
      "\n",
      "Protobuf gencode version 5.28.3 is exactly one major version older than the runtime version 6.31.1 at tensorflow/core/framework/node_def.proto. Please update the gencode to avoid compatibility violations in the next runtime release.\n",
      "\n",
      "c:\\Users\\rrpra\\AppData\\Local\\Programs\\Python\\Python313\\Lib\\site-packages\\google\\protobuf\\runtime_version.py:98: UserWarning:\n",
      "\n",
      "Protobuf gencode version 5.28.3 is exactly one major version older than the runtime version 6.31.1 at tensorflow/core/framework/op_def.proto. Please update the gencode to avoid compatibility violations in the next runtime release.\n",
      "\n",
      "c:\\Users\\rrpra\\AppData\\Local\\Programs\\Python\\Python313\\Lib\\site-packages\\google\\protobuf\\runtime_version.py:98: UserWarning:\n",
      "\n",
      "Protobuf gencode version 5.28.3 is exactly one major version older than the runtime version 6.31.1 at tensorflow/core/framework/graph.proto. Please update the gencode to avoid compatibility violations in the next runtime release.\n",
      "\n",
      "c:\\Users\\rrpra\\AppData\\Local\\Programs\\Python\\Python313\\Lib\\site-packages\\google\\protobuf\\runtime_version.py:98: UserWarning:\n",
      "\n",
      "Protobuf gencode version 5.28.3 is exactly one major version older than the runtime version 6.31.1 at tensorflow/core/framework/graph_debug_info.proto. Please update the gencode to avoid compatibility violations in the next runtime release.\n",
      "\n",
      "c:\\Users\\rrpra\\AppData\\Local\\Programs\\Python\\Python313\\Lib\\site-packages\\google\\protobuf\\runtime_version.py:98: UserWarning:\n",
      "\n",
      "Protobuf gencode version 5.28.3 is exactly one major version older than the runtime version 6.31.1 at tensorflow/core/framework/versions.proto. Please update the gencode to avoid compatibility violations in the next runtime release.\n",
      "\n",
      "c:\\Users\\rrpra\\AppData\\Local\\Programs\\Python\\Python313\\Lib\\site-packages\\google\\protobuf\\runtime_version.py:98: UserWarning:\n",
      "\n",
      "Protobuf gencode version 5.28.3 is exactly one major version older than the runtime version 6.31.1 at tensorflow/core/protobuf/config.proto. Please update the gencode to avoid compatibility violations in the next runtime release.\n",
      "\n",
      "c:\\Users\\rrpra\\AppData\\Local\\Programs\\Python\\Python313\\Lib\\site-packages\\google\\protobuf\\runtime_version.py:98: UserWarning:\n",
      "\n",
      "Protobuf gencode version 5.28.3 is exactly one major version older than the runtime version 6.31.1 at xla/tsl/protobuf/coordination_config.proto. Please update the gencode to avoid compatibility violations in the next runtime release.\n",
      "\n",
      "c:\\Users\\rrpra\\AppData\\Local\\Programs\\Python\\Python313\\Lib\\site-packages\\google\\protobuf\\runtime_version.py:98: UserWarning:\n",
      "\n",
      "Protobuf gencode version 5.28.3 is exactly one major version older than the runtime version 6.31.1 at tensorflow/core/framework/cost_graph.proto. Please update the gencode to avoid compatibility violations in the next runtime release.\n",
      "\n",
      "c:\\Users\\rrpra\\AppData\\Local\\Programs\\Python\\Python313\\Lib\\site-packages\\google\\protobuf\\runtime_version.py:98: UserWarning:\n",
      "\n",
      "Protobuf gencode version 5.28.3 is exactly one major version older than the runtime version 6.31.1 at tensorflow/core/framework/step_stats.proto. Please update the gencode to avoid compatibility violations in the next runtime release.\n",
      "\n",
      "c:\\Users\\rrpra\\AppData\\Local\\Programs\\Python\\Python313\\Lib\\site-packages\\google\\protobuf\\runtime_version.py:98: UserWarning:\n",
      "\n",
      "Protobuf gencode version 5.28.3 is exactly one major version older than the runtime version 6.31.1 at tensorflow/core/framework/allocation_description.proto. Please update the gencode to avoid compatibility violations in the next runtime release.\n",
      "\n",
      "c:\\Users\\rrpra\\AppData\\Local\\Programs\\Python\\Python313\\Lib\\site-packages\\google\\protobuf\\runtime_version.py:98: UserWarning:\n",
      "\n",
      "Protobuf gencode version 5.28.3 is exactly one major version older than the runtime version 6.31.1 at tensorflow/core/framework/tensor_description.proto. Please update the gencode to avoid compatibility violations in the next runtime release.\n",
      "\n",
      "c:\\Users\\rrpra\\AppData\\Local\\Programs\\Python\\Python313\\Lib\\site-packages\\google\\protobuf\\runtime_version.py:98: UserWarning:\n",
      "\n",
      "Protobuf gencode version 5.28.3 is exactly one major version older than the runtime version 6.31.1 at tensorflow/core/protobuf/cluster.proto. Please update the gencode to avoid compatibility violations in the next runtime release.\n",
      "\n",
      "c:\\Users\\rrpra\\AppData\\Local\\Programs\\Python\\Python313\\Lib\\site-packages\\google\\protobuf\\runtime_version.py:98: UserWarning:\n",
      "\n",
      "Protobuf gencode version 5.28.3 is exactly one major version older than the runtime version 6.31.1 at tensorflow/core/protobuf/debug.proto. Please update the gencode to avoid compatibility violations in the next runtime release.\n",
      "\n"
     ]
    }
   ],
   "source": [
    "from transformers import BertTokenizer, BertModel\n",
    "import torch\n",
    "from tqdm import tqdm\n"
   ]
  },
  {
   "cell_type": "code",
   "execution_count": 23,
   "id": "f3b0c95e",
   "metadata": {},
   "outputs": [
    {
     "data": {
      "application/vnd.jupyter.widget-view+json": {
       "model_id": "30d6d0a6b5e54215b8ce04d94ff75349",
       "version_major": 2,
       "version_minor": 0
      },
      "text/plain": [
       "tokenizer_config.json:   0%|          | 0.00/48.0 [00:00<?, ?B/s]"
      ]
     },
     "metadata": {},
     "output_type": "display_data"
    },
    {
     "name": "stderr",
     "output_type": "stream",
     "text": [
      "c:\\Users\\rrpra\\AppData\\Local\\Programs\\Python\\Python313\\Lib\\site-packages\\huggingface_hub\\file_download.py:143: UserWarning:\n",
      "\n",
      "`huggingface_hub` cache-system uses symlinks by default to efficiently store duplicated files but your machine does not support them in C:\\Users\\rrpra\\.cache\\huggingface\\hub\\models--bert-base-uncased. Caching files will still work but in a degraded version that might require more space on your disk. This warning can be disabled by setting the `HF_HUB_DISABLE_SYMLINKS_WARNING` environment variable. For more details, see https://huggingface.co/docs/huggingface_hub/how-to-cache#limitations.\n",
      "To support symlinks on Windows, you either need to activate Developer Mode or to run Python as an administrator. In order to activate developer mode, see this article: https://docs.microsoft.com/en-us/windows/apps/get-started/enable-your-device-for-development\n",
      "\n"
     ]
    },
    {
     "data": {
      "application/vnd.jupyter.widget-view+json": {
       "model_id": "ed71fca08c5b416d9bc5d8e4974e5219",
       "version_major": 2,
       "version_minor": 0
      },
      "text/plain": [
       "vocab.txt:   0%|          | 0.00/232k [00:00<?, ?B/s]"
      ]
     },
     "metadata": {},
     "output_type": "display_data"
    },
    {
     "data": {
      "application/vnd.jupyter.widget-view+json": {
       "model_id": "47a1e9b7771045eab8e21ecea22b0c94",
       "version_major": 2,
       "version_minor": 0
      },
      "text/plain": [
       "tokenizer.json:   0%|          | 0.00/466k [00:00<?, ?B/s]"
      ]
     },
     "metadata": {},
     "output_type": "display_data"
    },
    {
     "data": {
      "application/vnd.jupyter.widget-view+json": {
       "model_id": "17063c6e6a51429baaba7fe3b208715b",
       "version_major": 2,
       "version_minor": 0
      },
      "text/plain": [
       "config.json:   0%|          | 0.00/570 [00:00<?, ?B/s]"
      ]
     },
     "metadata": {},
     "output_type": "display_data"
    },
    {
     "name": "stderr",
     "output_type": "stream",
     "text": [
      "Xet Storage is enabled for this repo, but the 'hf_xet' package is not installed. Falling back to regular HTTP download. For better performance, install the package with: `pip install huggingface_hub[hf_xet]` or `pip install hf_xet`\n"
     ]
    },
    {
     "data": {
      "application/vnd.jupyter.widget-view+json": {
       "model_id": "520af4e124264f119d014727a65976c5",
       "version_major": 2,
       "version_minor": 0
      },
      "text/plain": [
       "model.safetensors:   0%|          | 0.00/440M [00:00<?, ?B/s]"
      ]
     },
     "metadata": {},
     "output_type": "display_data"
    },
    {
     "data": {
      "text/plain": [
       "BertModel(\n",
       "  (embeddings): BertEmbeddings(\n",
       "    (word_embeddings): Embedding(30522, 768, padding_idx=0)\n",
       "    (position_embeddings): Embedding(512, 768)\n",
       "    (token_type_embeddings): Embedding(2, 768)\n",
       "    (LayerNorm): LayerNorm((768,), eps=1e-12, elementwise_affine=True)\n",
       "    (dropout): Dropout(p=0.1, inplace=False)\n",
       "  )\n",
       "  (encoder): BertEncoder(\n",
       "    (layer): ModuleList(\n",
       "      (0-11): 12 x BertLayer(\n",
       "        (attention): BertAttention(\n",
       "          (self): BertSdpaSelfAttention(\n",
       "            (query): Linear(in_features=768, out_features=768, bias=True)\n",
       "            (key): Linear(in_features=768, out_features=768, bias=True)\n",
       "            (value): Linear(in_features=768, out_features=768, bias=True)\n",
       "            (dropout): Dropout(p=0.1, inplace=False)\n",
       "          )\n",
       "          (output): BertSelfOutput(\n",
       "            (dense): Linear(in_features=768, out_features=768, bias=True)\n",
       "            (LayerNorm): LayerNorm((768,), eps=1e-12, elementwise_affine=True)\n",
       "            (dropout): Dropout(p=0.1, inplace=False)\n",
       "          )\n",
       "        )\n",
       "        (intermediate): BertIntermediate(\n",
       "          (dense): Linear(in_features=768, out_features=3072, bias=True)\n",
       "          (intermediate_act_fn): GELUActivation()\n",
       "        )\n",
       "        (output): BertOutput(\n",
       "          (dense): Linear(in_features=3072, out_features=768, bias=True)\n",
       "          (LayerNorm): LayerNorm((768,), eps=1e-12, elementwise_affine=True)\n",
       "          (dropout): Dropout(p=0.1, inplace=False)\n",
       "        )\n",
       "      )\n",
       "    )\n",
       "  )\n",
       "  (pooler): BertPooler(\n",
       "    (dense): Linear(in_features=768, out_features=768, bias=True)\n",
       "    (activation): Tanh()\n",
       "  )\n",
       ")"
      ]
     },
     "execution_count": 23,
     "metadata": {},
     "output_type": "execute_result"
    }
   ],
   "source": [
    "# Load BERT base model\n",
    "tokenizer = BertTokenizer.from_pretrained('bert-base-uncased')\n",
    "bert = BertModel.from_pretrained('bert-base-uncased')\n",
    "\n",
    "# Set model to evaluation mode (no gradients needed)\n",
    "bert.eval()\n"
   ]
  },
  {
   "cell_type": "code",
   "execution_count": null,
   "id": "426d0497",
   "metadata": {},
   "outputs": [],
   "source": [
    "import torch\n",
    "from torch.utils.data import TensorDataset, DataLoader\n",
    "\n",
    "device = torch.device(\"cuda\" if torch.cuda.is_available() else \"cpu\")\n",
    "\n",
    "# Convert encoded URLs to proper tensors\n",
    "url_tensor = torch.tensor(np.stack(train_df['encode'].values), dtype=torch.long)\n",
    "labels_tensor = torch.tensor(train_df['label'].values, dtype=torch.long)\n",
    "\n",
    "valid_url_tensor = torch.tensor(np.stack(valid_df['encode'].values), dtype=torch.long)\n",
    "valid_labels_tensor = torch.tensor(valid_df['label'].values, dtype=torch.long)\n",
    "\n",
    "test_url_tensor = torch.tensor(np.stack(test_df['encode'].values), dtype=torch.long)\n",
    "test_labels_tensor = torch.tensor(test_df['label'].values, dtype=torch.long)\n",
    "\n",
    "\n",
    "train_dataset = TensorDataset(url_tensor, labels_tensor)\n",
    "train_loader = DataLoader(train_dataset, batch_size=4056, shuffle=True)\n",
    "\n",
    "val_dataset = TensorDataset(valid_url_tensor, valid_labels_tensor)\n",
    "val_loader = DataLoader(val_dataset, batch_size=4056, shuffle=False)\n",
    "\n",
    "test_dataset = TensorDataset(test_url_tensor, test_labels_tensor)\n",
    "test_loader = DataLoader(test_dataset, batch_size=4056, shuffle=False)\n"
   ]
  },
  {
   "cell_type": "code",
   "execution_count": 8,
   "id": "4a1c0984",
   "metadata": {},
   "outputs": [],
   "source": [
    "import torch\n",
    "from torch.utils.data import Dataset, DataLoader\n",
    "from transformers import BertTokenizer\n",
    "\n",
    "# Initialize BERT tokenizer\n",
    "tokenizer = BertTokenizer.from_pretrained('bert-base-uncased')\n",
    "MAX_LEN = 50  # max token length\n",
    "\n",
    "class URLDataset(Dataset):\n",
    "    def __init__(self, df, tokenizer, max_len=MAX_LEN):\n",
    "        self.urls = df['url'].values\n",
    "        self.labels = df['label'].values\n",
    "        self.tokenizer = tokenizer\n",
    "        self.max_len = max_len\n",
    "\n",
    "    def __len__(self):\n",
    "        return len(self.urls)\n",
    "\n",
    "    def __getitem__(self, idx):\n",
    "        url = str(self.urls[idx])\n",
    "        label = int(self.labels[idx])\n",
    "\n",
    "        enc = self.tokenizer(\n",
    "            url,\n",
    "            truncation=True,\n",
    "            padding='max_length',\n",
    "            max_length=self.max_len,\n",
    "            return_tensors='pt'\n",
    "        )\n",
    "\n",
    "        return {\n",
    "            'input_ids': enc['input_ids'].squeeze(0),\n",
    "            'attention_mask': enc['attention_mask'].squeeze(0),\n",
    "            'label': torch.tensor(label, dtype=torch.float)\n",
    "        }\n"
   ]
  },
  {
   "cell_type": "code",
   "execution_count": null,
   "id": "6ef9a52d",
   "metadata": {},
   "outputs": [],
   "source": [
    "BATCH_SIZE = 512\n",
    "\n",
    "train_data = URLDataset(train_df, tokenizer)\n",
    "valid_data = URLDataset(valid_df, tokenizer)\n",
    "test_data = URLDataset(test_df, tokenizer)\n",
    "\n",
    "train_loader = DataLoader(train_data, batch_size=BATCH_SIZE, shuffle=True)\n",
    "valid_loader = DataLoader(valid_data, batch_size=BATCH_SIZE, shuffle=False)\n",
    "test_loader = DataLoader(test_data, batch_size=BATCH_SIZE, shuffle=False)\n"
   ]
  },
  {
   "cell_type": "code",
   "execution_count": 16,
   "id": "1fbcc96e",
   "metadata": {},
   "outputs": [],
   "source": [
    "import torch\n",
    "import torch.nn as nn\n",
    "import torch.nn.functional as F\n",
    "from transformers import BertTokenizer, BertModel\n",
    "\n",
    "class CNN_BiLSTM_bert_fast(nn.Module):\n",
    "    def __init__(self, freeze_bert=True):\n",
    "        super(CNN_BiLSTM_bert_fast, self).__init__()\n",
    "\n",
    "        # === Load pretrained BERT ===\n",
    "        self.bert = BertModel.from_pretrained('bert-base-uncased')\n",
    "        if freeze_bert:\n",
    "            for param in self.bert.parameters():\n",
    "                param.requires_grad = False\n",
    "\n",
    "        # === Single CNN layer with fewer channels ===\n",
    "        self.conv1 = nn.Conv1d(in_channels=768, out_channels=64, kernel_size=5, padding=2)\n",
    "        self.pool1 = nn.MaxPool1d(kernel_size=4, stride=4)  # bigger pooling → reduces seq length faster\n",
    "\n",
    "        # === BiLSTM with smaller hidden size ===\n",
    "        self.lstm = nn.LSTM(input_size=64, hidden_size=32, num_layers=1,\n",
    "                            batch_first=True, bidirectional=True)\n",
    "\n",
    "        # === Fully Connected with smaller dense layer ===\n",
    "        self.fc1 = nn.Linear(32 * 2, 32)  # bidirectional → 32*2\n",
    "        self.dropout = nn.Dropout(0.3)\n",
    "        self.fc2 = nn.Linear(32, 1)  # binary output\n",
    "\n",
    "    def forward(self, input_ids, attention_mask):\n",
    "        # === Step 1: BERT embeddings ===\n",
    "        with torch.no_grad():  # freeze BERT for speed\n",
    "            outputs = self.bert(input_ids=input_ids, attention_mask=attention_mask)\n",
    "            x = outputs.last_hidden_state  # (batch, seq_len, 768)\n",
    "\n",
    "        # === Step 2: CNN layer ===\n",
    "        x = x.permute(0, 2, 1)  # (batch, 768, seq_len)\n",
    "        x = F.relu(self.conv1(x))\n",
    "        x = self.pool1(x)  # reduces sequence length by factor of 4\n",
    "\n",
    "        # === Step 3: BiLSTM ===\n",
    "        x = x.permute(0, 2, 1)  # (batch, seq_len', features)\n",
    "        lstm_out, _ = self.lstm(x)\n",
    "        x = lstm_out[:, -1, :]  # last timestep\n",
    "\n",
    "        # === Step 4: Classification ===\n",
    "        x = F.relu(self.fc1(x))\n",
    "        x = self.dropout(x)\n",
    "        x = self.fc2(x)\n",
    "\n",
    "        return x\n"
   ]
  },
  {
   "cell_type": "code",
   "execution_count": 18,
   "id": "96d5b290",
   "metadata": {},
   "outputs": [
    {
     "name": "stdout",
     "output_type": "stream",
     "text": [
      "Epoch 1/5 | Batch 45/262 | Batch Loss: 0.3945, Batch Acc: 0.8423"
     ]
    },
    {
     "ename": "KeyboardInterrupt",
     "evalue": "",
     "output_type": "error",
     "traceback": [
      "\u001b[31m---------------------------------------------------------------------------\u001b[39m",
      "\u001b[31mKeyboardInterrupt\u001b[39m                         Traceback (most recent call last)",
      "\u001b[36mCell\u001b[39m\u001b[36m \u001b[39m\u001b[32mIn[18]\u001b[39m\u001b[32m, line 40\u001b[39m\n\u001b[32m     37\u001b[39m optimizer.step()\n\u001b[32m     39\u001b[39m \u001b[38;5;66;03m# Batch metrics\u001b[39;00m\n\u001b[32m---> \u001b[39m\u001b[32m40\u001b[39m batch_loss = \u001b[43mloss\u001b[49m\u001b[43m.\u001b[49m\u001b[43mitem\u001b[49m\u001b[43m(\u001b[49m\u001b[43m)\u001b[49m\n\u001b[32m     41\u001b[39m preds = (torch.sigmoid(outputs) >= \u001b[32m0.5\u001b[39m).float()\n\u001b[32m     42\u001b[39m batch_acc = (preds == batch_y).float().mean().item()\n",
      "\u001b[31mKeyboardInterrupt\u001b[39m: "
     ]
    }
   ],
   "source": [
    "from tqdm import tqdm\n",
    "import sys\n",
    "import torch\n",
    "import torch.nn.functional as F\n",
    "import torch.nn as nn\n",
    "import matplotlib.pyplot as plt\n",
    "\n",
    "device = torch.device(\"cuda\" if torch.cuda.is_available() else \"cpu\")\n",
    "\n",
    "model = CNN_BiLSTM_bert_fast(freeze_bert=True).to(device)\n",
    "criterion = nn.BCEWithLogitsLoss()\n",
    "optimizer = torch.optim.Adam(model.parameters(), lr=0.001)\n",
    "\n",
    "num_epochs = 5\n",
    "\n",
    "# For tracking metrics\n",
    "bert_lstm_train_losses, bert_lstm_val_losses = [], []\n",
    "bert_lstm_train_accuracies, bert_lstm_val_accuracies = [], []\n",
    "\n",
    "for epoch in range(num_epochs):\n",
    "    model.train()\n",
    "    train_loss = 0\n",
    "    correct_train = 0\n",
    "    total_train = 0\n",
    "    \n",
    "    for batch_idx, batch in enumerate(train_loader):\n",
    "        batch_x = batch['input_ids'].to(device)\n",
    "        attention_mask = batch['attention_mask'].to(device)\n",
    "        batch_y = batch['label'].to(device).float().unsqueeze(1)\n",
    "        batch_y = torch.clamp(batch_y, 0, 1)\n",
    "\n",
    "        optimizer.zero_grad()\n",
    "        outputs = model(batch_x, attention_mask)\n",
    "\n",
    "        loss = criterion(outputs, batch_y)\n",
    "        loss.backward()\n",
    "        optimizer.step()\n",
    "        \n",
    "        # Batch metrics\n",
    "        batch_loss = loss.item()\n",
    "        preds = (torch.sigmoid(outputs) >= 0.5).float()\n",
    "        batch_acc = (preds == batch_y).float().mean().item()\n",
    "        \n",
    "        # Update totals\n",
    "        train_loss += batch_loss * batch_x.size(0)\n",
    "        correct_train += (preds == batch_y).sum().item()\n",
    "        total_train += batch_x.size(0)\n",
    "        \n",
    "        sys.stdout.write(f\"\\rEpoch {epoch+1}/{num_epochs} | \"\n",
    "                         f\"Batch {batch_idx+1}/{len(train_loader)} | \"\n",
    "                         f\"Batch Loss: {batch_loss:.4f}, Batch Acc: {batch_acc:.4f}\")\n",
    "        sys.stdout.flush()\n",
    "    \n",
    "    train_acc = correct_train / total_train\n",
    "    train_loss = train_loss / total_train\n",
    "    print()  # newline\n",
    "    \n",
    "    # --- Validation ---\n",
    "    model.eval()\n",
    "    val_loss = 0\n",
    "    correct_val = 0\n",
    "    total_val = 0\n",
    "    with torch.no_grad():\n",
    "        for batch_idx, batch in enumerate(val_loader):\n",
    "            batch_x = batch['input_ids'].to(device)\n",
    "            attention_mask = batch['attention_mask'].to(device)\n",
    "            batch_y = batch['label'].to(device).float().unsqueeze(1)\n",
    "            batch_y = torch.clamp(batch_y, 0, 1)\n",
    "\n",
    "            outputs = model(batch_x, attention_mask)\n",
    "            loss = criterion(outputs, batch_y)\n",
    "            \n",
    "            val_loss += loss.item() * batch_x.size(0)\n",
    "            preds = (torch.sigmoid(outputs) >= 0.5).float()\n",
    "            correct_val += (preds == batch_y).sum().item()\n",
    "            total_val += batch_x.size(0)\n",
    "    \n",
    "    val_acc = correct_val / total_val\n",
    "    val_loss = val_loss / total_val\n",
    "\n",
    "    # Save metrics for plotting\n",
    "    bert_lstm_train_losses.append(train_loss)\n",
    "    bert_lstm_val_losses.append(val_loss)\n",
    "    bert_lstm_train_accuracies.append(train_acc)\n",
    "    bert_lstm_val_accuracies.append(val_acc)\n",
    "    \n",
    "    print(f\"Epoch {epoch+1}/{num_epochs} | \"\n",
    "          f\"Train Loss: {train_loss:.4f}, Train Acc: {train_acc:.4f} | \"\n",
    "          f\"Val Loss: {val_loss:.4f}, Val Acc: {val_acc:.4f}\")\n",
    "\n"
   ]
  }
 ],
 "metadata": {
  "kernelspec": {
   "display_name": "Python 3",
   "language": "python",
   "name": "python3"
  },
  "language_info": {
   "codemirror_mode": {
    "name": "ipython",
    "version": 3
   },
   "file_extension": ".py",
   "mimetype": "text/x-python",
   "name": "python",
   "nbconvert_exporter": "python",
   "pygments_lexer": "ipython3",
   "version": "3.13.3"
  }
 },
 "nbformat": 4,
 "nbformat_minor": 5
}
