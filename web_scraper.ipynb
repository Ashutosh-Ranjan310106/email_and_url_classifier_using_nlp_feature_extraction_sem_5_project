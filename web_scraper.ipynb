{
 "cells": [
  {
   "cell_type": "code",
   "execution_count": 24,
   "id": "c84f9294",
   "metadata": {},
   "outputs": [
    {
     "name": "stdout",
     "output_type": "stream",
     "text": [
      "['3384A513DEA3046A943CC75095912B0C', '942206CC5EE6CFEFF38C303A94F7AADD']\n",
      "['3384A513DEA3046A943CC75095912B0C', '942206CC5EE6CFEFF38C303A94F7AADD', '650DD1BCD2CAF0A4BCA50A3A92F34F53']\n",
      "['3384A513DEA3046A943CC75095912B0C', '942206CC5EE6CFEFF38C303A94F7AADD', '650DD1BCD2CAF0A4BCA50A3A92F34F53', '6E246C4042A03B3C1BCF84FA2DAE71BA']\n",
      "['3384A513DEA3046A943CC75095912B0C', '942206CC5EE6CFEFF38C303A94F7AADD', '650DD1BCD2CAF0A4BCA50A3A92F34F53', '6E246C4042A03B3C1BCF84FA2DAE71BA', '12EFE62D5FAE0241129C5E32D8C86F62']\n",
      "['3384A513DEA3046A943CC75095912B0C', '942206CC5EE6CFEFF38C303A94F7AADD', '650DD1BCD2CAF0A4BCA50A3A92F34F53', '6E246C4042A03B3C1BCF84FA2DAE71BA', '12EFE62D5FAE0241129C5E32D8C86F62', '1CC15A606C4AC50C9AC6AEB6BBE94BA9']\n",
      "['3384A513DEA3046A943CC75095912B0C', '942206CC5EE6CFEFF38C303A94F7AADD', '650DD1BCD2CAF0A4BCA50A3A92F34F53', '6E246C4042A03B3C1BCF84FA2DAE71BA', '12EFE62D5FAE0241129C5E32D8C86F62', '1CC15A606C4AC50C9AC6AEB6BBE94BA9', '76A0138CAFD4415EA60EFC6402DC2902']\n",
      "['3384A513DEA3046A943CC75095912B0C', '942206CC5EE6CFEFF38C303A94F7AADD', '650DD1BCD2CAF0A4BCA50A3A92F34F53', '6E246C4042A03B3C1BCF84FA2DAE71BA', '12EFE62D5FAE0241129C5E32D8C86F62', '1CC15A606C4AC50C9AC6AEB6BBE94BA9', '76A0138CAFD4415EA60EFC6402DC2902', '4E6D4371DBAE1331D6C585A32B347727']\n",
      "['3384A513DEA3046A943CC75095912B0C', '942206CC5EE6CFEFF38C303A94F7AADD', '650DD1BCD2CAF0A4BCA50A3A92F34F53', '6E246C4042A03B3C1BCF84FA2DAE71BA', '12EFE62D5FAE0241129C5E32D8C86F62', '1CC15A606C4AC50C9AC6AEB6BBE94BA9', '76A0138CAFD4415EA60EFC6402DC2902', '4E6D4371DBAE1331D6C585A32B347727', '48928D370492CF906E2D986B1A2EE04A']\n",
      "['3384A513DEA3046A943CC75095912B0C', '942206CC5EE6CFEFF38C303A94F7AADD', '650DD1BCD2CAF0A4BCA50A3A92F34F53', '6E246C4042A03B3C1BCF84FA2DAE71BA', '12EFE62D5FAE0241129C5E32D8C86F62', '1CC15A606C4AC50C9AC6AEB6BBE94BA9', '76A0138CAFD4415EA60EFC6402DC2902', '4E6D4371DBAE1331D6C585A32B347727', '48928D370492CF906E2D986B1A2EE04A', '6AE55FFF9227131C95BDCC1B38CA4284']\n",
      "['3384A513DEA3046A943CC75095912B0C', '942206CC5EE6CFEFF38C303A94F7AADD', '650DD1BCD2CAF0A4BCA50A3A92F34F53', '6E246C4042A03B3C1BCF84FA2DAE71BA', '12EFE62D5FAE0241129C5E32D8C86F62', '1CC15A606C4AC50C9AC6AEB6BBE94BA9', '76A0138CAFD4415EA60EFC6402DC2902', '4E6D4371DBAE1331D6C585A32B347727', '48928D370492CF906E2D986B1A2EE04A', '6AE55FFF9227131C95BDCC1B38CA4284']\n",
      "page number:- 1 title:- PhishTank > Phish Search\n",
      "page number:- 1 title:- PhishTank > Phish Search\n",
      "page number:- 1 title:- PhishTank > Phish Search\n",
      "page number:- 1 title:- PhishTank > Phish Search\n",
      "page number:- 1 title:- PhishTank > Phish Search\n",
      "page number:- 1 title:- PhishTank > Phish Search\n",
      "page number:- 1 title:- PhishTank > Phish Search\n",
      "page number:- 1 title:- PhishTank > Phish Search\n",
      "page number:- 1 title:- PhishTank > Phish Search\n",
      "page number:- 1 title:- PhishTank > Phish Search\n",
      "page number:- 2 title:- PhishTank > Phish Search\n",
      "page number:- 2 title:- PhishTank > Phish Search\n",
      "page number:- 2 title:- PhishTank > Phish Search\n",
      "page number:- 2 title:- PhishTank > Phish Search\n",
      "page number:- 2 title:- PhishTank > Phish Search\n",
      "page number:- 2 title:- PhishTank > Phish Search\n",
      "page number:- 2 title:- PhishTank > Phish Search\n",
      "page number:- 2 title:- PhishTank > Phish Search\n",
      "page number:- 2 title:- PhishTank > Phish Search\n",
      "page number:- 2 title:- PhishTank > Phish Search\n",
      "page number:- 3 title:- PhishTank > Phish Search\n",
      "page number:- 3 title:- PhishTank > Phish Search\n",
      "page number:- 3 title:- PhishTank > Phish Search\n",
      "page number:- 3 title:- PhishTank > Phish Search\n",
      "page number:- 3 title:- PhishTank > Phish Search\n",
      "page number:- 3 title:- PhishTank > Phish Search\n",
      "page number:- 3 title:- PhishTank > Phish Search\n",
      "page number:- 3 title:- PhishTank > Phish Search\n",
      "page number:- 3 title:- PhishTank > Phish Search\n",
      "page number:- 3 title:- PhishTank > Phish Search\n",
      "page number:- 4 title:- PhishTank > Phish Search\n",
      "page number:- 4 title:- PhishTank > Phish Search\n",
      "page number:- 4 title:- PhishTank > Phish Search\n",
      "page number:- 4 title:- PhishTank > Phish Search\n",
      "page number:- 4 title:- PhishTank > Phish Search\n",
      "page number:- 4 title:- PhishTank > Phish Search\n",
      "page number:- 4 title:- PhishTank > Phish Search\n",
      "page number:- 4 title:- PhishTank > Phish Search\n",
      "page number:- 4 title:- PhishTank > Phish Search\n"
     ]
    },
    {
     "ename": "KeyboardInterrupt",
     "evalue": "",
     "output_type": "error",
     "traceback": [
      "\u001b[31m---------------------------------------------------------------------------\u001b[39m",
      "\u001b[31mKeyboardInterrupt\u001b[39m                         Traceback (most recent call last)",
      "\u001b[36mCell\u001b[39m\u001b[36m \u001b[39m\u001b[32mIn[24]\u001b[39m\u001b[32m, line 29\u001b[39m\n\u001b[32m     27\u001b[39m \u001b[38;5;28;01mfor\u001b[39;00m i, handle \u001b[38;5;129;01min\u001b[39;00m \u001b[38;5;28menumerate\u001b[39m(driver.window_handles):\n\u001b[32m     28\u001b[39m     driver.switch_to.window(handle)\n\u001b[32m---> \u001b[39m\u001b[32m29\u001b[39m     \u001b[43mdriver\u001b[49m\u001b[43m.\u001b[49m\u001b[43mget\u001b[49m\u001b[43m(\u001b[49m\u001b[33;43mf\u001b[39;49m\u001b[33;43m\"\u001b[39;49m\u001b[33;43mhttps://phishtank.org/phish_search.php?page=\u001b[39;49m\u001b[38;5;132;43;01m{\u001b[39;49;00m\u001b[43mpage\u001b[49m\u001b[43m+\u001b[49m\u001b[32;43m1\u001b[39;49m\u001b[43m*\u001b[49m\u001b[43mi\u001b[49m\u001b[43m+\u001b[49m\u001b[32;43m1\u001b[39;49m\u001b[38;5;132;43;01m}\u001b[39;49;00m\u001b[33;43m&valid=y&Search=Search\u001b[39;49m\u001b[33;43m\"\u001b[39;49m\u001b[43m)\u001b[49m\n\u001b[32m     30\u001b[39m     \u001b[38;5;66;03m#driver.implicitly_wait(0.1)\u001b[39;00m\n\u001b[32m     31\u001b[39m     title = driver.title\n",
      "\u001b[36mFile \u001b[39m\u001b[32mc:\\Users\\rrpra\\AppData\\Local\\Programs\\Python\\Python313\\Lib\\site-packages\\selenium\\webdriver\\remote\\webdriver.py:483\u001b[39m, in \u001b[36mWebDriver.get\u001b[39m\u001b[34m(self, url)\u001b[39m\n\u001b[32m    465\u001b[39m \u001b[38;5;28;01mdef\u001b[39;00m\u001b[38;5;250m \u001b[39m\u001b[34mget\u001b[39m(\u001b[38;5;28mself\u001b[39m, url: \u001b[38;5;28mstr\u001b[39m) -> \u001b[38;5;28;01mNone\u001b[39;00m:\n\u001b[32m    466\u001b[39m \u001b[38;5;250m    \u001b[39m\u001b[33;03m\"\"\"Navigate the browser to the specified URL in the current window or\u001b[39;00m\n\u001b[32m    467\u001b[39m \u001b[33;03m    tab.\u001b[39;00m\n\u001b[32m    468\u001b[39m \n\u001b[32m   (...)\u001b[39m\u001b[32m    481\u001b[39m \u001b[33;03m    >>> driver.get(\"https://example.com\")\u001b[39;00m\n\u001b[32m    482\u001b[39m \u001b[33;03m    \"\"\"\u001b[39;00m\n\u001b[32m--> \u001b[39m\u001b[32m483\u001b[39m     \u001b[38;5;28;43mself\u001b[39;49m\u001b[43m.\u001b[49m\u001b[43mexecute\u001b[49m\u001b[43m(\u001b[49m\u001b[43mCommand\u001b[49m\u001b[43m.\u001b[49m\u001b[43mGET\u001b[49m\u001b[43m,\u001b[49m\u001b[43m \u001b[49m\u001b[43m{\u001b[49m\u001b[33;43m\"\u001b[39;49m\u001b[33;43murl\u001b[39;49m\u001b[33;43m\"\u001b[39;49m\u001b[43m:\u001b[49m\u001b[43m \u001b[49m\u001b[43murl\u001b[49m\u001b[43m}\u001b[49m\u001b[43m)\u001b[49m\n",
      "\u001b[36mFile \u001b[39m\u001b[32mc:\\Users\\rrpra\\AppData\\Local\\Programs\\Python\\Python313\\Lib\\site-packages\\selenium\\webdriver\\remote\\webdriver.py:455\u001b[39m, in \u001b[36mWebDriver.execute\u001b[39m\u001b[34m(self, driver_command, params)\u001b[39m\n\u001b[32m    452\u001b[39m     \u001b[38;5;28;01melif\u001b[39;00m \u001b[33m\"\u001b[39m\u001b[33msessionId\u001b[39m\u001b[33m\"\u001b[39m \u001b[38;5;129;01mnot\u001b[39;00m \u001b[38;5;129;01min\u001b[39;00m params:\n\u001b[32m    453\u001b[39m         params[\u001b[33m\"\u001b[39m\u001b[33msessionId\u001b[39m\u001b[33m\"\u001b[39m] = \u001b[38;5;28mself\u001b[39m.session_id\n\u001b[32m--> \u001b[39m\u001b[32m455\u001b[39m response = \u001b[43mcast\u001b[49m\u001b[43m(\u001b[49m\u001b[43mRemoteConnection\u001b[49m\u001b[43m,\u001b[49m\u001b[43m \u001b[49m\u001b[38;5;28;43mself\u001b[39;49m\u001b[43m.\u001b[49m\u001b[43mcommand_executor\u001b[49m\u001b[43m)\u001b[49m\u001b[43m.\u001b[49m\u001b[43mexecute\u001b[49m\u001b[43m(\u001b[49m\u001b[43mdriver_command\u001b[49m\u001b[43m,\u001b[49m\u001b[43m \u001b[49m\u001b[43mparams\u001b[49m\u001b[43m)\u001b[49m\n\u001b[32m    457\u001b[39m \u001b[38;5;28;01mif\u001b[39;00m response:\n\u001b[32m    458\u001b[39m     \u001b[38;5;28mself\u001b[39m.error_handler.check_response(response)\n",
      "\u001b[36mFile \u001b[39m\u001b[32mc:\\Users\\rrpra\\AppData\\Local\\Programs\\Python\\Python313\\Lib\\site-packages\\selenium\\webdriver\\remote\\remote_connection.py:406\u001b[39m, in \u001b[36mRemoteConnection.execute\u001b[39m\u001b[34m(self, command, params)\u001b[39m\n\u001b[32m    404\u001b[39m trimmed = \u001b[38;5;28mself\u001b[39m._trim_large_entries(params)\n\u001b[32m    405\u001b[39m LOGGER.debug(\u001b[33m\"\u001b[39m\u001b[38;5;132;01m%s\u001b[39;00m\u001b[33m \u001b[39m\u001b[38;5;132;01m%s\u001b[39;00m\u001b[33m \u001b[39m\u001b[38;5;132;01m%s\u001b[39;00m\u001b[33m\"\u001b[39m, command_info[\u001b[32m0\u001b[39m], url, \u001b[38;5;28mstr\u001b[39m(trimmed))\n\u001b[32m--> \u001b[39m\u001b[32m406\u001b[39m \u001b[38;5;28;01mreturn\u001b[39;00m \u001b[38;5;28;43mself\u001b[39;49m\u001b[43m.\u001b[49m\u001b[43m_request\u001b[49m\u001b[43m(\u001b[49m\u001b[43mcommand_info\u001b[49m\u001b[43m[\u001b[49m\u001b[32;43m0\u001b[39;49m\u001b[43m]\u001b[49m\u001b[43m,\u001b[49m\u001b[43m \u001b[49m\u001b[43murl\u001b[49m\u001b[43m,\u001b[49m\u001b[43m \u001b[49m\u001b[43mbody\u001b[49m\u001b[43m=\u001b[49m\u001b[43mdata\u001b[49m\u001b[43m)\u001b[49m\n",
      "\u001b[36mFile \u001b[39m\u001b[32mc:\\Users\\rrpra\\AppData\\Local\\Programs\\Python\\Python313\\Lib\\site-packages\\selenium\\webdriver\\remote\\remote_connection.py:430\u001b[39m, in \u001b[36mRemoteConnection._request\u001b[39m\u001b[34m(self, method, url, body)\u001b[39m\n\u001b[32m    427\u001b[39m     body = \u001b[38;5;28;01mNone\u001b[39;00m\n\u001b[32m    429\u001b[39m \u001b[38;5;28;01mif\u001b[39;00m \u001b[38;5;28mself\u001b[39m._client_config.keep_alive:\n\u001b[32m--> \u001b[39m\u001b[32m430\u001b[39m     response = \u001b[38;5;28;43mself\u001b[39;49m\u001b[43m.\u001b[49m\u001b[43m_conn\u001b[49m\u001b[43m.\u001b[49m\u001b[43mrequest\u001b[49m\u001b[43m(\u001b[49m\u001b[43mmethod\u001b[49m\u001b[43m,\u001b[49m\u001b[43m \u001b[49m\u001b[43murl\u001b[49m\u001b[43m,\u001b[49m\u001b[43m \u001b[49m\u001b[43mbody\u001b[49m\u001b[43m=\u001b[49m\u001b[43mbody\u001b[49m\u001b[43m,\u001b[49m\u001b[43m \u001b[49m\u001b[43mheaders\u001b[49m\u001b[43m=\u001b[49m\u001b[43mheaders\u001b[49m\u001b[43m,\u001b[49m\u001b[43m \u001b[49m\u001b[43mtimeout\u001b[49m\u001b[43m=\u001b[49m\u001b[38;5;28;43mself\u001b[39;49m\u001b[43m.\u001b[49m\u001b[43m_client_config\u001b[49m\u001b[43m.\u001b[49m\u001b[43mtimeout\u001b[49m\u001b[43m)\u001b[49m\n\u001b[32m    431\u001b[39m     statuscode = response.status\n\u001b[32m    432\u001b[39m \u001b[38;5;28;01melse\u001b[39;00m:\n",
      "\u001b[36mFile \u001b[39m\u001b[32mc:\\Users\\rrpra\\AppData\\Local\\Programs\\Python\\Python313\\Lib\\site-packages\\urllib3\\_request_methods.py:143\u001b[39m, in \u001b[36mRequestMethods.request\u001b[39m\u001b[34m(self, method, url, body, fields, headers, json, **urlopen_kw)\u001b[39m\n\u001b[32m    135\u001b[39m     \u001b[38;5;28;01mreturn\u001b[39;00m \u001b[38;5;28mself\u001b[39m.request_encode_url(\n\u001b[32m    136\u001b[39m         method,\n\u001b[32m    137\u001b[39m         url,\n\u001b[32m   (...)\u001b[39m\u001b[32m    140\u001b[39m         **urlopen_kw,\n\u001b[32m    141\u001b[39m     )\n\u001b[32m    142\u001b[39m \u001b[38;5;28;01melse\u001b[39;00m:\n\u001b[32m--> \u001b[39m\u001b[32m143\u001b[39m     \u001b[38;5;28;01mreturn\u001b[39;00m \u001b[38;5;28;43mself\u001b[39;49m\u001b[43m.\u001b[49m\u001b[43mrequest_encode_body\u001b[49m\u001b[43m(\u001b[49m\n\u001b[32m    144\u001b[39m \u001b[43m        \u001b[49m\u001b[43mmethod\u001b[49m\u001b[43m,\u001b[49m\u001b[43m \u001b[49m\u001b[43murl\u001b[49m\u001b[43m,\u001b[49m\u001b[43m \u001b[49m\u001b[43mfields\u001b[49m\u001b[43m=\u001b[49m\u001b[43mfields\u001b[49m\u001b[43m,\u001b[49m\u001b[43m \u001b[49m\u001b[43mheaders\u001b[49m\u001b[43m=\u001b[49m\u001b[43mheaders\u001b[49m\u001b[43m,\u001b[49m\u001b[43m \u001b[49m\u001b[43m*\u001b[49m\u001b[43m*\u001b[49m\u001b[43murlopen_kw\u001b[49m\n\u001b[32m    145\u001b[39m \u001b[43m    \u001b[49m\u001b[43m)\u001b[49m\n",
      "\u001b[36mFile \u001b[39m\u001b[32mc:\\Users\\rrpra\\AppData\\Local\\Programs\\Python\\Python313\\Lib\\site-packages\\urllib3\\_request_methods.py:278\u001b[39m, in \u001b[36mRequestMethods.request_encode_body\u001b[39m\u001b[34m(self, method, url, fields, headers, encode_multipart, multipart_boundary, **urlopen_kw)\u001b[39m\n\u001b[32m    274\u001b[39m     extra_kw[\u001b[33m\"\u001b[39m\u001b[33mheaders\u001b[39m\u001b[33m\"\u001b[39m].setdefault(\u001b[33m\"\u001b[39m\u001b[33mContent-Type\u001b[39m\u001b[33m\"\u001b[39m, content_type)\n\u001b[32m    276\u001b[39m extra_kw.update(urlopen_kw)\n\u001b[32m--> \u001b[39m\u001b[32m278\u001b[39m \u001b[38;5;28;01mreturn\u001b[39;00m \u001b[38;5;28;43mself\u001b[39;49m\u001b[43m.\u001b[49m\u001b[43murlopen\u001b[49m\u001b[43m(\u001b[49m\u001b[43mmethod\u001b[49m\u001b[43m,\u001b[49m\u001b[43m \u001b[49m\u001b[43murl\u001b[49m\u001b[43m,\u001b[49m\u001b[43m \u001b[49m\u001b[43m*\u001b[49m\u001b[43m*\u001b[49m\u001b[43mextra_kw\u001b[49m\u001b[43m)\u001b[49m\n",
      "\u001b[36mFile \u001b[39m\u001b[32mc:\\Users\\rrpra\\AppData\\Local\\Programs\\Python\\Python313\\Lib\\site-packages\\urllib3\\poolmanager.py:459\u001b[39m, in \u001b[36mPoolManager.urlopen\u001b[39m\u001b[34m(self, method, url, redirect, **kw)\u001b[39m\n\u001b[32m    457\u001b[39m     response = conn.urlopen(method, url, **kw)\n\u001b[32m    458\u001b[39m \u001b[38;5;28;01melse\u001b[39;00m:\n\u001b[32m--> \u001b[39m\u001b[32m459\u001b[39m     response = \u001b[43mconn\u001b[49m\u001b[43m.\u001b[49m\u001b[43murlopen\u001b[49m\u001b[43m(\u001b[49m\u001b[43mmethod\u001b[49m\u001b[43m,\u001b[49m\u001b[43m \u001b[49m\u001b[43mu\u001b[49m\u001b[43m.\u001b[49m\u001b[43mrequest_uri\u001b[49m\u001b[43m,\u001b[49m\u001b[43m \u001b[49m\u001b[43m*\u001b[49m\u001b[43m*\u001b[49m\u001b[43mkw\u001b[49m\u001b[43m)\u001b[49m\n\u001b[32m    461\u001b[39m redirect_location = redirect \u001b[38;5;129;01mand\u001b[39;00m response.get_redirect_location()\n\u001b[32m    462\u001b[39m \u001b[38;5;28;01mif\u001b[39;00m \u001b[38;5;129;01mnot\u001b[39;00m redirect_location:\n",
      "\u001b[36mFile \u001b[39m\u001b[32mc:\\Users\\rrpra\\AppData\\Local\\Programs\\Python\\Python313\\Lib\\site-packages\\urllib3\\connectionpool.py:787\u001b[39m, in \u001b[36mHTTPConnectionPool.urlopen\u001b[39m\u001b[34m(self, method, url, body, headers, retries, redirect, assert_same_host, timeout, pool_timeout, release_conn, chunked, body_pos, preload_content, decode_content, **response_kw)\u001b[39m\n\u001b[32m    784\u001b[39m response_conn = conn \u001b[38;5;28;01mif\u001b[39;00m \u001b[38;5;129;01mnot\u001b[39;00m release_conn \u001b[38;5;28;01melse\u001b[39;00m \u001b[38;5;28;01mNone\u001b[39;00m\n\u001b[32m    786\u001b[39m \u001b[38;5;66;03m# Make the request on the HTTPConnection object\u001b[39;00m\n\u001b[32m--> \u001b[39m\u001b[32m787\u001b[39m response = \u001b[38;5;28;43mself\u001b[39;49m\u001b[43m.\u001b[49m\u001b[43m_make_request\u001b[49m\u001b[43m(\u001b[49m\n\u001b[32m    788\u001b[39m \u001b[43m    \u001b[49m\u001b[43mconn\u001b[49m\u001b[43m,\u001b[49m\n\u001b[32m    789\u001b[39m \u001b[43m    \u001b[49m\u001b[43mmethod\u001b[49m\u001b[43m,\u001b[49m\n\u001b[32m    790\u001b[39m \u001b[43m    \u001b[49m\u001b[43murl\u001b[49m\u001b[43m,\u001b[49m\n\u001b[32m    791\u001b[39m \u001b[43m    \u001b[49m\u001b[43mtimeout\u001b[49m\u001b[43m=\u001b[49m\u001b[43mtimeout_obj\u001b[49m\u001b[43m,\u001b[49m\n\u001b[32m    792\u001b[39m \u001b[43m    \u001b[49m\u001b[43mbody\u001b[49m\u001b[43m=\u001b[49m\u001b[43mbody\u001b[49m\u001b[43m,\u001b[49m\n\u001b[32m    793\u001b[39m \u001b[43m    \u001b[49m\u001b[43mheaders\u001b[49m\u001b[43m=\u001b[49m\u001b[43mheaders\u001b[49m\u001b[43m,\u001b[49m\n\u001b[32m    794\u001b[39m \u001b[43m    \u001b[49m\u001b[43mchunked\u001b[49m\u001b[43m=\u001b[49m\u001b[43mchunked\u001b[49m\u001b[43m,\u001b[49m\n\u001b[32m    795\u001b[39m \u001b[43m    \u001b[49m\u001b[43mretries\u001b[49m\u001b[43m=\u001b[49m\u001b[43mretries\u001b[49m\u001b[43m,\u001b[49m\n\u001b[32m    796\u001b[39m \u001b[43m    \u001b[49m\u001b[43mresponse_conn\u001b[49m\u001b[43m=\u001b[49m\u001b[43mresponse_conn\u001b[49m\u001b[43m,\u001b[49m\n\u001b[32m    797\u001b[39m \u001b[43m    \u001b[49m\u001b[43mpreload_content\u001b[49m\u001b[43m=\u001b[49m\u001b[43mpreload_content\u001b[49m\u001b[43m,\u001b[49m\n\u001b[32m    798\u001b[39m \u001b[43m    \u001b[49m\u001b[43mdecode_content\u001b[49m\u001b[43m=\u001b[49m\u001b[43mdecode_content\u001b[49m\u001b[43m,\u001b[49m\n\u001b[32m    799\u001b[39m \u001b[43m    \u001b[49m\u001b[43m*\u001b[49m\u001b[43m*\u001b[49m\u001b[43mresponse_kw\u001b[49m\u001b[43m,\u001b[49m\n\u001b[32m    800\u001b[39m \u001b[43m\u001b[49m\u001b[43m)\u001b[49m\n\u001b[32m    802\u001b[39m \u001b[38;5;66;03m# Everything went great!\u001b[39;00m\n\u001b[32m    803\u001b[39m clean_exit = \u001b[38;5;28;01mTrue\u001b[39;00m\n",
      "\u001b[36mFile \u001b[39m\u001b[32mc:\\Users\\rrpra\\AppData\\Local\\Programs\\Python\\Python313\\Lib\\site-packages\\urllib3\\connectionpool.py:534\u001b[39m, in \u001b[36mHTTPConnectionPool._make_request\u001b[39m\u001b[34m(self, conn, method, url, body, headers, retries, timeout, chunked, response_conn, preload_content, decode_content, enforce_content_length)\u001b[39m\n\u001b[32m    532\u001b[39m \u001b[38;5;66;03m# Receive the response from the server\u001b[39;00m\n\u001b[32m    533\u001b[39m \u001b[38;5;28;01mtry\u001b[39;00m:\n\u001b[32m--> \u001b[39m\u001b[32m534\u001b[39m     response = \u001b[43mconn\u001b[49m\u001b[43m.\u001b[49m\u001b[43mgetresponse\u001b[49m\u001b[43m(\u001b[49m\u001b[43m)\u001b[49m\n\u001b[32m    535\u001b[39m \u001b[38;5;28;01mexcept\u001b[39;00m (BaseSSLError, \u001b[38;5;167;01mOSError\u001b[39;00m) \u001b[38;5;28;01mas\u001b[39;00m e:\n\u001b[32m    536\u001b[39m     \u001b[38;5;28mself\u001b[39m._raise_timeout(err=e, url=url, timeout_value=read_timeout)\n",
      "\u001b[36mFile \u001b[39m\u001b[32mc:\\Users\\rrpra\\AppData\\Local\\Programs\\Python\\Python313\\Lib\\site-packages\\urllib3\\connection.py:565\u001b[39m, in \u001b[36mHTTPConnection.getresponse\u001b[39m\u001b[34m(self)\u001b[39m\n\u001b[32m    562\u001b[39m _shutdown = \u001b[38;5;28mgetattr\u001b[39m(\u001b[38;5;28mself\u001b[39m.sock, \u001b[33m\"\u001b[39m\u001b[33mshutdown\u001b[39m\u001b[33m\"\u001b[39m, \u001b[38;5;28;01mNone\u001b[39;00m)\n\u001b[32m    564\u001b[39m \u001b[38;5;66;03m# Get the response from http.client.HTTPConnection\u001b[39;00m\n\u001b[32m--> \u001b[39m\u001b[32m565\u001b[39m httplib_response = \u001b[38;5;28;43msuper\u001b[39;49m\u001b[43m(\u001b[49m\u001b[43m)\u001b[49m\u001b[43m.\u001b[49m\u001b[43mgetresponse\u001b[49m\u001b[43m(\u001b[49m\u001b[43m)\u001b[49m\n\u001b[32m    567\u001b[39m \u001b[38;5;28;01mtry\u001b[39;00m:\n\u001b[32m    568\u001b[39m     assert_header_parsing(httplib_response.msg)\n",
      "\u001b[36mFile \u001b[39m\u001b[32mc:\\Users\\rrpra\\AppData\\Local\\Programs\\Python\\Python313\\Lib\\http\\client.py:1430\u001b[39m, in \u001b[36mHTTPConnection.getresponse\u001b[39m\u001b[34m(self)\u001b[39m\n\u001b[32m   1428\u001b[39m \u001b[38;5;28;01mtry\u001b[39;00m:\n\u001b[32m   1429\u001b[39m     \u001b[38;5;28;01mtry\u001b[39;00m:\n\u001b[32m-> \u001b[39m\u001b[32m1430\u001b[39m         \u001b[43mresponse\u001b[49m\u001b[43m.\u001b[49m\u001b[43mbegin\u001b[49m\u001b[43m(\u001b[49m\u001b[43m)\u001b[49m\n\u001b[32m   1431\u001b[39m     \u001b[38;5;28;01mexcept\u001b[39;00m \u001b[38;5;167;01mConnectionError\u001b[39;00m:\n\u001b[32m   1432\u001b[39m         \u001b[38;5;28mself\u001b[39m.close()\n",
      "\u001b[36mFile \u001b[39m\u001b[32mc:\\Users\\rrpra\\AppData\\Local\\Programs\\Python\\Python313\\Lib\\http\\client.py:331\u001b[39m, in \u001b[36mHTTPResponse.begin\u001b[39m\u001b[34m(self)\u001b[39m\n\u001b[32m    329\u001b[39m \u001b[38;5;66;03m# read until we get a non-100 response\u001b[39;00m\n\u001b[32m    330\u001b[39m \u001b[38;5;28;01mwhile\u001b[39;00m \u001b[38;5;28;01mTrue\u001b[39;00m:\n\u001b[32m--> \u001b[39m\u001b[32m331\u001b[39m     version, status, reason = \u001b[38;5;28;43mself\u001b[39;49m\u001b[43m.\u001b[49m\u001b[43m_read_status\u001b[49m\u001b[43m(\u001b[49m\u001b[43m)\u001b[49m\n\u001b[32m    332\u001b[39m     \u001b[38;5;28;01mif\u001b[39;00m status != CONTINUE:\n\u001b[32m    333\u001b[39m         \u001b[38;5;28;01mbreak\u001b[39;00m\n",
      "\u001b[36mFile \u001b[39m\u001b[32mc:\\Users\\rrpra\\AppData\\Local\\Programs\\Python\\Python313\\Lib\\http\\client.py:292\u001b[39m, in \u001b[36mHTTPResponse._read_status\u001b[39m\u001b[34m(self)\u001b[39m\n\u001b[32m    291\u001b[39m \u001b[38;5;28;01mdef\u001b[39;00m\u001b[38;5;250m \u001b[39m\u001b[34m_read_status\u001b[39m(\u001b[38;5;28mself\u001b[39m):\n\u001b[32m--> \u001b[39m\u001b[32m292\u001b[39m     line = \u001b[38;5;28mstr\u001b[39m(\u001b[38;5;28;43mself\u001b[39;49m\u001b[43m.\u001b[49m\u001b[43mfp\u001b[49m\u001b[43m.\u001b[49m\u001b[43mreadline\u001b[49m\u001b[43m(\u001b[49m\u001b[43m_MAXLINE\u001b[49m\u001b[43m \u001b[49m\u001b[43m+\u001b[49m\u001b[43m \u001b[49m\u001b[32;43m1\u001b[39;49m\u001b[43m)\u001b[49m, \u001b[33m\"\u001b[39m\u001b[33miso-8859-1\u001b[39m\u001b[33m\"\u001b[39m)\n\u001b[32m    293\u001b[39m     \u001b[38;5;28;01mif\u001b[39;00m \u001b[38;5;28mlen\u001b[39m(line) > _MAXLINE:\n\u001b[32m    294\u001b[39m         \u001b[38;5;28;01mraise\u001b[39;00m LineTooLong(\u001b[33m\"\u001b[39m\u001b[33mstatus line\u001b[39m\u001b[33m\"\u001b[39m)\n",
      "\u001b[36mFile \u001b[39m\u001b[32mc:\\Users\\rrpra\\AppData\\Local\\Programs\\Python\\Python313\\Lib\\socket.py:719\u001b[39m, in \u001b[36mSocketIO.readinto\u001b[39m\u001b[34m(self, b)\u001b[39m\n\u001b[32m    717\u001b[39m     \u001b[38;5;28;01mraise\u001b[39;00m \u001b[38;5;167;01mOSError\u001b[39;00m(\u001b[33m\"\u001b[39m\u001b[33mcannot read from timed out object\u001b[39m\u001b[33m\"\u001b[39m)\n\u001b[32m    718\u001b[39m \u001b[38;5;28;01mtry\u001b[39;00m:\n\u001b[32m--> \u001b[39m\u001b[32m719\u001b[39m     \u001b[38;5;28;01mreturn\u001b[39;00m \u001b[38;5;28;43mself\u001b[39;49m\u001b[43m.\u001b[49m\u001b[43m_sock\u001b[49m\u001b[43m.\u001b[49m\u001b[43mrecv_into\u001b[49m\u001b[43m(\u001b[49m\u001b[43mb\u001b[49m\u001b[43m)\u001b[49m\n\u001b[32m    720\u001b[39m \u001b[38;5;28;01mexcept\u001b[39;00m timeout:\n\u001b[32m    721\u001b[39m     \u001b[38;5;28mself\u001b[39m._timeout_occurred = \u001b[38;5;28;01mTrue\u001b[39;00m\n",
      "\u001b[31mKeyboardInterrupt\u001b[39m: "
     ]
    }
   ],
   "source": [
    "from selenium import webdriver\n",
    "from selenium.webdriver.common.by import By\n",
    "from selenium.webdriver.chrome.options import Options\n",
    "from selenium.webdriver.chrome.service import Service\n",
    "import pandas as pd\n",
    "import time\n",
    "# Configure Chrome options\n",
    "chrome_options = Options()\n",
    "chrome_options.debugger_address = \"127.0.0.1:9222\"  # connect to the running Chrome\n",
    "\n",
    "\n",
    "# Attach to the existing window\n",
    "\n",
    "\n",
    "\n",
    "driver = webdriver.Chrome(options=chrome_options)\n",
    "page_to_scrape = 100000\n",
    "# Open 10 empty tabs first\n",
    "for i in range(9):  # already have 1 tab open by default\n",
    "    driver.switch_to.new_window(\"https://phishtank.org/phish_search.php\")\n",
    "    time.sleep(0.5)\n",
    "    print(driver.window_handles)\n",
    "print(driver.window_handles)\n",
    "df = pd.DataFrame({'url':[],'label':[]})\n",
    "input_ = input()\n",
    "for page in range(0,page_to_scrape,len(driver.window_handles)):\n",
    "    for i, handle in enumerate(driver.window_handles):\n",
    "        driver.switch_to.window(handle)\n",
    "        driver.get(f\"https://phishtank.org/phish_search.php?page={page+1}&valid=y&Search=Search\")\n",
    "        #driver.implicitly_wait(0.1)\n",
    "        title = driver.title\n",
    "        print('page number:-',page+1, 'title:-',title)\n",
    "\n",
    "        dataset = driver.find_element(by=By.CLASS_NAME, value=\"data\")\n",
    "        #print(dataset.text)\n",
    "        rows = dataset.find_elements(By.TAG_NAME, \"tr\")\n",
    "\n",
    "        for i, row in enumerate(rows):\n",
    "            # Get all cells in this row\n",
    "            cells = row.find_elements(By.TAG_NAME, \"td\")\n",
    "            data = [cell.text for cell in cells][1:4:2]\n",
    "\n",
    "            if len(data) == 2 and data[0].count('\\n') == 1:\n",
    "                new_row = pd.Series({'url':data[0].split('\\n')[0],'label':data[1]})\n",
    "                df.loc[len(df)] = new_row\n",
    "    \n",
    "\n",
    "'''\n",
    "text_box = driver.find_element(by=By.NAME, value=\"my-text\")\n",
    "submit_button = driver.find_element(by=By.CSS_SELECTOR, value=\"button\")\n",
    "driver.implicitly_wait(10)\n",
    "text_box.send_keys(\"Selenium\")\n",
    "submit_button.click()\n",
    "message = driver.find_element(by=By.ID, value=\"message\")\n",
    "text = message.text\n",
    "print(text)\n",
    "'''\n",
    "driver.implicitly_wait(10)\n",
    "driver.quit()\n",
    "\n",
    "df.to_csv('valid_phishtank_scraped_dataset.csv')\n"
   ]
  },
  {
   "cell_type": "code",
   "execution_count": 3,
   "id": "79df359b",
   "metadata": {},
   "outputs": [
    {
     "name": "stderr",
     "output_type": "stream",
     "text": [
      " 33%|███▎      | 4560/13629 [09:12<2:38:33,  1.05s/it]"
     ]
    },
    {
     "name": "stdout",
     "output_type": "stream",
     "text": [
      "Error scraping page 4558: HTTPSConnectionPool(host='phishtank.org', port=443): Read timed out. (read timeout=10)\n",
      "Error scraping page 4559: HTTPSConnectionPool(host='phishtank.org', port=443): Read timed out. (read timeout=10)\n",
      "Error scraping page 4560: HTTPSConnectionPool(host='phishtank.org', port=443): Read timed out. (read timeout=10)\n"
     ]
    },
    {
     "name": "stderr",
     "output_type": "stream",
     "text": [
      " 33%|███▎      | 4561/13629 [09:12<2:11:19,  1.15it/s]"
     ]
    },
    {
     "name": "stdout",
     "output_type": "stream",
     "text": [
      "Error scraping page 4562: HTTPSConnectionPool(host='phishtank.org', port=443): Read timed out. (read timeout=10)Error scraping page 4561: HTTPSConnectionPool(host='phishtank.org', port=443): Read timed out. (read timeout=10)\n",
      "\n"
     ]
    },
    {
     "name": "stderr",
     "output_type": "stream",
     "text": [
      " 33%|███▎      | 4564/13629 [09:13<1:21:30,  1.85it/s]"
     ]
    },
    {
     "name": "stdout",
     "output_type": "stream",
     "text": [
      "Error scraping page 4563: HTTPSConnectionPool(host='phishtank.org', port=443): Read timed out. (read timeout=10)\n",
      "Error scraping page 4565: HTTPSConnectionPool(host='phishtank.org', port=443): Read timed out. (read timeout=10)\n",
      "Error scraping page 4564: HTTPSConnectionPool(host='phishtank.org', port=443): Read timed out. (read timeout=10)\n"
     ]
    },
    {
     "name": "stderr",
     "output_type": "stream",
     "text": [
      " 34%|███▎      | 4567/13629 [09:13<48:24,  3.12it/s]  "
     ]
    },
    {
     "name": "stdout",
     "output_type": "stream",
     "text": [
      "Error scraping page 4566: HTTPSConnectionPool(host='phishtank.org', port=443): Read timed out. (read timeout=10)\n",
      "Error scraping page 4567: HTTPSConnectionPool(host='phishtank.org', port=443): Read timed out. (read timeout=10)\n",
      "Error scraping page 4569: HTTPSConnectionPool(host='phishtank.org', port=443): Read timed out. (read timeout=10)\n",
      "Error scraping page 4568: HTTPSConnectionPool(host='phishtank.org', port=443): Read timed out. (read timeout=10)\n"
     ]
    },
    {
     "name": "stderr",
     "output_type": "stream",
     "text": [
      " 34%|███▎      | 4572/13629 [09:14<24:20,  6.20it/s]"
     ]
    },
    {
     "name": "stdout",
     "output_type": "stream",
     "text": [
      "Error scraping page 4570: HTTPSConnectionPool(host='phishtank.org', port=443): Read timed out. (read timeout=10)\n",
      "Error scraping page 4571: HTTPSConnectionPool(host='phishtank.org', port=443): Read timed out. (read timeout=10)\n",
      "Error scraping page 4572: HTTPSConnectionPool(host='phishtank.org', port=443): Read timed out. (read timeout=10)\n"
     ]
    },
    {
     "name": "stderr",
     "output_type": "stream",
     "text": [
      " 34%|███▎      | 4574/13629 [09:14<24:02,  6.28it/s]"
     ]
    },
    {
     "name": "stdout",
     "output_type": "stream",
     "text": [
      "Error scraping page 4573: HTTPSConnectionPool(host='phishtank.org', port=443): Read timed out. (read timeout=10)\n",
      "Error scraping page 4574: HTTPSConnectionPool(host='phishtank.org', port=443): Read timed out. (read timeout=10)\n"
     ]
    },
    {
     "name": "stderr",
     "output_type": "stream",
     "text": [
      " 34%|███▎      | 4577/13629 [09:14<20:07,  7.50it/s]"
     ]
    },
    {
     "name": "stdout",
     "output_type": "stream",
     "text": [
      "Error scraping page 4576: HTTPSConnectionPool(host='phishtank.org', port=443): Read timed out. (read timeout=10)\n",
      "Error scraping page 4575: HTTPSConnectionPool(host='phishtank.org', port=443): Read timed out. (read timeout=10)\n",
      "Error scraping page 4577: HTTPSConnectionPool(host='phishtank.org', port=443): Read timed out. (read timeout=10)\n"
     ]
    },
    {
     "name": "stderr",
     "output_type": "stream",
     "text": [
      "100%|█████████▉| 13628/13629 [32:39<00:00,  6.96it/s] \n"
     ]
    },
    {
     "name": "stdout",
     "output_type": "stream",
     "text": [
      "✅ Scraping complete!\n"
     ]
    }
   ],
   "source": [
    "import requests\n",
    "from bs4 import BeautifulSoup\n",
    "import pandas as pd\n",
    "from concurrent.futures import ThreadPoolExecutor, as_completed\n",
    "from tqdm import tqdm\n",
    "\n",
    "# Total pages to scrape\n",
    "page_to_scrape = 13628 #100000\n",
    "start_page_no = 0\n",
    "# Base URL\n",
    "base_url = \"https://phishtank.org/phish_search.php?page={page}&valid=y&Search=Search\"\n",
    "\n",
    "# Headers to mimic a browser\n",
    "headers = {\n",
    "    \"User-Agent\": \"Mozilla/5.0 (Windows NT 10.0; Win64; x64) AppleWebKit/537.36 \"\n",
    "                  \"(KHTML, like Gecko) Chrome/140.0.0.0 Safari/537.36\"\n",
    "}\n",
    "\n",
    "# Use a single session for connection pooling\n",
    "session = requests.Session()\n",
    "session.headers.update(headers)\n",
    "\n",
    "def scrape_page(page):\n",
    "    \"\"\"Scrape one page using session\"\"\"\n",
    "    try:\n",
    "        url = base_url.format(page=page)\n",
    "        response = session.get(url, timeout=10)\n",
    "        if response.status_code != 200:\n",
    "            return []\n",
    "        \n",
    "        soup = BeautifulSoup(response.text, 'html.parser')\n",
    "        table = soup.find('table', class_='data')\n",
    "        if not table:\n",
    "            return []\n",
    "        \n",
    "        results = []\n",
    "        for row in table.find_all('tr'):\n",
    "            cells = row.find_all('td')\n",
    "            if len(cells) >= 2:\n",
    "                phishid = cells[0].text\n",
    "                url_text,added_on = cells[1].text.split('added on')\n",
    "                label = cells[3].text\n",
    "                results.append({'phishid':phishid, 'url': url_text, 'added_on':added_on, 'label': label})\n",
    "        return results\n",
    "    except Exception as e:\n",
    "        print(f\"Error scraping page {page}: {e}\")\n",
    "        return []\n",
    "\n",
    "# Scrape in parallel with session pooling\n",
    "all_results = []\n",
    "max_workers = 20  # adjust based on CPU/network\n",
    "x=0\n",
    "with ThreadPoolExecutor(max_workers=max_workers) as executor:\n",
    "    futures = {executor.submit(scrape_page, page): page for page in range(start_page_no+1, page_to_scrape+1)}\n",
    "    for future in tqdm(as_completed(futures), total=page_to_scrape-start_page_no+1):\n",
    "        data = future.result()\n",
    "        if data:\n",
    "            all_results.extend(data)\n",
    "            x+=1\n",
    "            if x % 250 == 0:\n",
    "                df = pd.DataFrame(all_results)\n",
    "                df.to_csv('firstall_features_scraped_valid_phishtank_scraped_dataset0.csv', index=False)\n",
    "\n",
    "# Convert to DataFrame and save\n",
    "df = pd.DataFrame(all_results)\n",
    "df.to_csv('firstall_features_scraped_valid_phishtank_scraped_dataset0.csv', index=False)\n",
    "print(\"✅ Scraping complete!\")\n"
   ]
  },
  {
   "cell_type": "code",
   "execution_count": 1,
   "id": "a6329ad6",
   "metadata": {},
   "outputs": [
    {
     "data": {
      "text/plain": [
       "label\n",
       "VALID PHISH    405000\n",
       "Name: count, dtype: int64"
      ]
     },
     "execution_count": 1,
     "metadata": {},
     "output_type": "execute_result"
    }
   ],
   "source": [
    "#processeed = 13628   \n",
    "valid_phish = 20580\n",
    "import pandas as pd\n",
    "df = pd.read_csv('all_features_scraped_valid_phishtank_scraped_dataset.csv')\n",
    "df.label.value_counts()"
   ]
  },
  {
   "cell_type": "code",
   "execution_count": 2,
   "id": "996f4339",
   "metadata": {},
   "outputs": [
    {
     "data": {
      "text/plain": [
       "57"
      ]
     },
     "execution_count": 2,
     "metadata": {},
     "output_type": "execute_result"
    }
   ],
   "source": [
    "df.describe()\n",
    "sum(df.duplicated())\n",
    "#df.to_csv('valid_phishtank_scraped_dataset.csv')"
   ]
  },
  {
   "cell_type": "code",
   "execution_count": 11,
   "id": "74b44b43",
   "metadata": {},
   "outputs": [
    {
     "name": "stdout",
     "output_type": "stream",
     "text": [
      "<class 'pandas.core.frame.DataFrame'>\n",
      "RangeIndex: 272160 entries, 0 to 272159\n",
      "Data columns (total 4 columns):\n",
      " #   Column    Non-Null Count   Dtype \n",
      "---  ------    --------------   ----- \n",
      " 0   phishid   272160 non-null  int64 \n",
      " 1   url       272160 non-null  object\n",
      " 2   added_on  272160 non-null  object\n",
      " 3   label     272160 non-null  object\n",
      "dtypes: int64(1), object(3)\n",
      "memory usage: 8.3+ MB\n",
      "None\n",
      "<class 'pandas.core.frame.DataFrame'>\n",
      "RangeIndex: 405000 entries, 0 to 404999\n",
      "Data columns (total 4 columns):\n",
      " #   Column    Non-Null Count   Dtype \n",
      "---  ------    --------------   ----- \n",
      " 0   phishid   405000 non-null  int64 \n",
      " 1   url       405000 non-null  object\n",
      " 2   added_on  405000 non-null  object\n",
      " 3   label     405000 non-null  object\n",
      "dtypes: int64(1), object(3)\n",
      "memory usage: 12.4+ MB\n",
      "None\n",
      "9\n",
      "57\n",
      "<class 'pandas.core.frame.DataFrame'>\n",
      "RangeIndex: 677160 entries, 0 to 677159\n",
      "Data columns (total 4 columns):\n",
      " #   Column    Non-Null Count   Dtype \n",
      "---  ------    --------------   ----- \n",
      " 0   phishid   677160 non-null  int64 \n",
      " 1   url       677160 non-null  object\n",
      " 2   added_on  677160 non-null  object\n",
      " 3   label     677160 non-null  object\n",
      "dtypes: int64(1), object(3)\n",
      "memory usage: 20.7+ MB\n",
      "None\n",
      "2553\n"
     ]
    }
   ],
   "source": [
    "#merger\n",
    "\n",
    "\n",
    "d1 = pd.read_csv('firstall_features_scraped_valid_phishtank_scraped_dataset0.csv')\n",
    "d2 = pd.read_csv(\"all_features_scraped_valid_phishtank_scraped_dataset.csv\")\n",
    "\n",
    "print(d1.info())\n",
    "print(d2.info())\n",
    "print(sum(d1.duplicated()))\n",
    "print(sum(d2.duplicated()))\n",
    "merger_df = pd.concat((d1,d2), ignore_index=True)\n",
    "print(merger_df.info())\n",
    "print(sum(merger_df.duplicated()))\n",
    "\n",
    "merger_df.drop_duplicates()\n",
    "\n",
    "merger_df.to_csv(\"four_row_phishtank_scraped_dataset_670K.csv\", index=False)"
   ]
  },
  {
   "cell_type": "code",
   "execution_count": 16,
   "id": "c531491d",
   "metadata": {},
   "outputs": [
    {
     "name": "stdout",
     "output_type": "stream",
     "text": [
      "phishid                                               9226710\n",
      "url         https://docs.google.com/presentation/d/e/2PACX...\n",
      "added_on                                Oct 1st 2025 12:06 AM\n",
      "label                                             VALID PHISH\n",
      "Name: 0, dtype: object\n",
      "61732\n"
     ]
    }
   ],
   "source": [
    "x=0\n",
    "print(merger_df.iloc[0])\n",
    "for i in merger_df.url:\n",
    "    if 'http' in i and 'https' not in i:\n",
    "        x+=1\n",
    "print(x)"
   ]
  }
 ],
 "metadata": {
  "kernelspec": {
   "display_name": "Python 3",
   "language": "python",
   "name": "python3"
  },
  "language_info": {
   "codemirror_mode": {
    "name": "ipython",
    "version": 3
   },
   "file_extension": ".py",
   "mimetype": "text/x-python",
   "name": "python",
   "nbconvert_exporter": "python",
   "pygments_lexer": "ipython3",
   "version": "3.13.3"
  }
 },
 "nbformat": 4,
 "nbformat_minor": 5
}
