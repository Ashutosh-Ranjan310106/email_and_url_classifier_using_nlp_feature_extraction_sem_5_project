{
 "cells": [
  {
   "cell_type": "markdown",
   "id": "cd065c7b",
   "metadata": {},
   "source": [
    "UsingIP                    2  \n",
    "LongURL                    3  \n",
    "ShortURL                   2  \n",
    "Symbol@                    2  \n",
    "Redirecting//              2  \n",
    "PrefixSuffix-              2  \n",
    "SubDomains                 3  \n",
    "HTTPS                      3  \n",
    "DomainRegLen               2  \n",
    "Favicon                    2  \n",
    "NonStdPort                 2  \n",
    "HTTPSDomainURL             2  \n",
    "RequestURL                 2  \n",
    "AnchorURL                  3  \n",
    "LinksInScriptTags          3  \n",
    "ServerFormHandler          3  \n",
    "InfoEmail                  2  \n",
    "AbnormalURL                2  \n",
    "WebsiteForwarding          2  \n",
    "StatusBarCust              2  \n",
    "DisableRightClick          2  \n",
    "UsingPopupWindow           2  \n",
    "IframeRedirection          2  \n",
    "AgeofDomain                2  \n",
    "DNSRecording               2  \n",
    "WebsiteTraffic             3  \n",
    "PageRank                   2  \n",
    "GoogleIndex                2  \n",
    "LinksPointingToPage        3  \n",
    "StatsReport                2  \n",
    "class                      2  "
   ]
  }
 ],
 "metadata": {
  "language_info": {
   "name": "python"
  }
 },
 "nbformat": 4,
 "nbformat_minor": 5
}
