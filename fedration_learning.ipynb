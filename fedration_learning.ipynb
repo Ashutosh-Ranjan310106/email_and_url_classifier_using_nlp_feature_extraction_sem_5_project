{
 "cells": [
  {
   "cell_type": "markdown",
   "id": "c538a4de",
   "metadata": {},
   "source": [
    "# Fedration learning on url dataset\n"
   ]
  },
  {
   "cell_type": "code",
   "execution_count": 1,
   "id": "0e471327",
   "metadata": {},
   "outputs": [],
   "source": [
    "import torch\n",
    "import torch.nn as nn\n",
    "import torch.optim as optim\n",
    "import torch.nn.functional as F\n",
    "from torchvision import datasets, transforms\n",
    "from copy import deepcopy\n",
    "import plotly.graph_objects as go\n",
    "\n",
    "# === Hyperparameters ===\n",
    "num_clients = 3\n",
    "num_rounds = 10\n",
    "local_epochs = 2\n",
    "batch_size = 32\n",
    "learning_rate = 0.01\n"
   ]
  },
  {
   "cell_type": "code",
   "execution_count": 2,
   "id": "56a6862e",
   "metadata": {},
   "outputs": [],
   "source": [
    "from datasets import load_dataset\n",
    "import pandas as pd\n",
    "device = torch.device(\"cuda\" if torch.cuda.is_available() else \"cpu\")\n"
   ]
  },
  {
   "cell_type": "code",
   "execution_count": 3,
   "id": "3c01a5da",
   "metadata": {},
   "outputs": [
    {
     "name": "stdout",
     "output_type": "stream",
     "text": [
      "   label                                                url\n",
      "0      0             xenophongroup.com/montjoie/compgns.htm\n",
      "1      1    www.azzali.eu/&usg=AOvVaw2phVSb_ENMrkATGNx5LQ0l\n",
      "2      1                     guildmusic.edu.au/js/index.htm\n",
      "3      1  memo.unexpectedrunner.com/ezxgytw4et\\nholotili...\n",
      "4      0  en.wikipedia.org/wiki/Category:American_televi...\n"
     ]
    }
   ],
   "source": [
    "#dataset1\n",
    "\n",
    "# Load the dataset from Hugging Face Hub\n",
    "train_dataset = load_dataset(\"kmack/Phishing_urls\", split=\"train\")\n",
    "test_dataset = load_dataset(\"kmack/Phishing_urls\", split=\"test\")\n",
    "valid_dataset = load_dataset(\"kmack/Phishing_urls\", split=\"valid\")\n",
    "\n",
    "# Convert to pandas DataFrame\n",
    "train_df = train_dataset.to_pandas()\n",
    "test_df = test_dataset.to_pandas()\n",
    "valid_df = valid_dataset.to_pandas()\n",
    "\n",
    "\n",
    "all_df = [train_df, test_df,valid_df]\n",
    "for i, df in enumerate(all_df):\n",
    "    df['url'] = df['text']\n",
    "    df.drop('text',axis=1,inplace=True)\n",
    "print(train_df.head())"
   ]
  },
  {
   "cell_type": "code",
   "execution_count": 4,
   "id": "50bdd7ce",
   "metadata": {},
   "outputs": [
    {
     "name": "stdout",
     "output_type": "stream",
     "text": [
      "Vocabulary size: 99\n",
      "Sample: ['<PAD>', '<UNK>', '<START>', '<END>', ' ', '!', '\"', '#', '$', '%', '&', \"'\", '(', ')', '*', '+', ',', '-', '.', '/', '0', '1', '2', '3', '4', '5', '6', '7', '8', '9', ':', ';', '<', '=', '>', '?', '@', 'A', 'B', 'C', 'D', 'E', 'F', 'G', 'H', 'I', 'J', 'K', 'L', 'M']\n"
     ]
    }
   ],
   "source": [
    "# Special tokens\n",
    "special_tokens = ['<PAD>', '<UNK>', '<START>', '<END>']\n",
    "\n",
    "# ASCII printable characters\n",
    "ascii_chars = [chr(i) for i in range(32, 127)]  # ' ' (space) to '~'\n",
    "\n",
    "# Full vocabulary\n",
    "vocab = special_tokens + ascii_chars\n",
    "\n",
    "# Create mappings\n",
    "char2idx = {ch: idx for idx, ch in enumerate(vocab)}\n",
    "idx2char = {idx: ch for ch, idx in char2idx.items()}\n",
    "vocab_size = len(vocab)\n",
    "print(\"Vocabulary size:\", vocab_size)\n",
    "print(\"Sample:\", vocab[:50])\n"
   ]
  },
  {
   "cell_type": "code",
   "execution_count": 5,
   "id": "3fc9f696",
   "metadata": {},
   "outputs": [],
   "source": [
    "train_df = train_df.drop_duplicates(subset =['url'])"
   ]
  },
  {
   "cell_type": "code",
   "execution_count": 6,
   "id": "0d317623",
   "metadata": {},
   "outputs": [
    {
     "name": "stderr",
     "output_type": "stream",
     "text": [
      "100%|██████████| 535838/535838 [01:10<00:00, 7643.80it/s]\n",
      "C:\\Users\\rrpra\\AppData\\Local\\Temp\\ipykernel_6352\\3970848146.py:20: SettingWithCopyWarning: \n",
      "A value is trying to be set on a copy of a slice from a DataFrame.\n",
      "Try using .loc[row_indexer,col_indexer] = value instead\n",
      "\n",
      "See the caveats in the documentation: https://pandas.pydata.org/pandas-docs/stable/user_guide/indexing.html#returning-a-view-versus-a-copy\n",
      "  train_df['encode'] = train_df['url'].progress_apply(encode_url)\n",
      "100%|██████████| 70882/70882 [00:09<00:00, 7661.89it/s]\n",
      "100%|██████████| 70882/70882 [00:09<00:00, 7415.40it/s]\n"
     ]
    }
   ],
   "source": [
    "from tqdm import tqdm\n",
    "import numpy as np\n",
    "import torch\n",
    "import torch.nn.functional as F\n",
    "tqdm.pandas()\n",
    "\n",
    "max_url_length = 50\n",
    "\n",
    "\n",
    "def encode_url(url):\n",
    "    indices = torch.tensor([0]*max_url_length)\n",
    "    for i,c in enumerate(url[:max_url_length]):\n",
    "        indices[i] = char2idx.get(c, char2idx['<UNK>'])\n",
    "    #print(indices)  \n",
    "\n",
    "\n",
    "    return indices\n",
    "\n",
    "# Apply encoding to your URL column\n",
    "train_df['encode'] = train_df['url'].progress_apply(encode_url)\n",
    "test_df['encode'] = test_df['url'].progress_apply(encode_url)\n",
    "valid_df['encode'] = valid_df['url'].progress_apply(encode_url)\n",
    "\n"
   ]
  },
  {
   "cell_type": "code",
   "execution_count": 7,
   "id": "af360acb",
   "metadata": {},
   "outputs": [],
   "source": [
    "from torchvision import datasets, transforms\n",
    "from torch.utils.data import TensorDataset, DataLoader\n",
    "import torch\n",
    "\n",
    "# === Min-Max Normalization ===\n",
    "# Since ToTensor() already scales pixels from [0,255] to [0,1], we don't need further scaling\n",
    "# Optionally, you can just ensure the range stays [0,1] explicitly\n",
    "# Convert encoded URLs to proper tensors\n",
    "url_tensor = torch.tensor(np.stack(train_df['encode'].values), dtype=torch.long)\n",
    "labels_tensor = torch.tensor(train_df['label'].values, dtype=torch.long)\n",
    "\n",
    "valid_url_tensor = torch.tensor(np.stack(valid_df['encode'].values), dtype=torch.long)\n",
    "valid_labels_tensor = torch.tensor(valid_df['label'].values, dtype=torch.long)\n",
    "\n",
    "test_url_tensor = torch.tensor(np.stack(test_df['encode'].values), dtype=torch.long)\n",
    "test_labels_tensor = torch.tensor(test_df['label'].values, dtype=torch.long)\n",
    "\n",
    "# Take only a fraction for faster runs\n",
    "train_fraction = 0.7\n",
    "test_fraction = 0.7\n",
    "\n",
    "train_len = int(len(url_tensor) * train_fraction)\n",
    "test_len = int(len(valid_url_tensor) * test_fraction)\n",
    "\n",
    "train_subset = torch.utils.data.Subset(TensorDataset(url_tensor, labels_tensor), range(train_len))\n",
    "test_subset = torch.utils.data.Subset(TensorDataset(valid_url_tensor, valid_labels_tensor), range(test_len))\n",
    "\n",
    "# Split among clients\n",
    "client_data_sizes = ([len(train_subset)//num_clients] * (num_clients - 1)) + [\n",
    "    len(train_subset) - (len(train_subset)//num_clients)*(num_clients - 1)\n",
    "]\n",
    "\n",
    "client_datasets = [\n",
    "    torch.utils.data.Subset(train_subset, range(sum(client_data_sizes[:i]), sum(client_data_sizes[:i+1])))\n",
    "    for i in range(num_clients)\n",
    "]\n",
    "\n",
    "client_loaders = [torch.utils.data.DataLoader(ds, batch_size=batch_size, shuffle=True)\n",
    "                  for ds in client_datasets]\n",
    "\n",
    "test_loader = torch.utils.data.DataLoader(test_subset, batch_size=batch_size, shuffle=False)\n"
   ]
  },
  {
   "cell_type": "code",
   "execution_count": 8,
   "id": "9fe3c7f7",
   "metadata": {},
   "outputs": [],
   "source": [
    "# === Local Training Function ===\n",
    "def train_local(model, train_loader, epochs):\n",
    "    model.train()\n",
    "    optimizer = optim.Adam(model.parameters(), lr=learning_rate)\n",
    "    criterion = nn.CrossEntropyLoss()\n",
    "    \n",
    "    for epoch in range(epochs):\n",
    "        for data, target in train_loader:\n",
    "            data, target = data.to(device), target.to(device)\n",
    "            optimizer.zero_grad()\n",
    "            output = model(data)\n",
    "            loss = criterion(output, target)\n",
    "            loss.backward()\n",
    "            optimizer.step()\n",
    "    return model.state_dict()"
   ]
  },
  {
   "cell_type": "code",
   "execution_count": 9,
   "id": "cf914e21",
   "metadata": {},
   "outputs": [],
   "source": [
    "# === Weighted Federated Averaging Function ===\n",
    "def weighted_federated_average(state_dicts, data_sizes):\n",
    "    total_size = sum(data_sizes)\n",
    "    avg_state_dict = deepcopy(state_dicts[0])\n",
    "    \n",
    "    # Initialize weighted contribution from first client\n",
    "    for key in avg_state_dict.keys():\n",
    "        avg_state_dict[key] = avg_state_dict[key] * (data_sizes[0]/total_size)\n",
    "    \n",
    "    # Add weighted contributions from other clients\n",
    "    for i in range(1, len(state_dicts)):\n",
    "        for key in avg_state_dict.keys():\n",
    "            avg_state_dict[key] += state_dicts[i][key] * (data_sizes[i]/total_size)\n",
    "    \n",
    "    return avg_state_dict\n",
    "\n",
    "# === Aggregation Algorithms ===\n",
    "def fedavg_aggregate(local_state_dicts, client_data_sizes, global_state):\n",
    "    total_data = sum(client_data_sizes)\n",
    "    new_state = deepcopy(global_state)\n",
    "    for key in global_state.keys():\n",
    "        if 'fc' in key or 'classifier' in key:\n",
    "            new_state[key] = sum([\n",
    "                (client_data_sizes[i] / total_data) * local_state_dicts[i][key]\n",
    "                for i in range(len(local_state_dicts))\n",
    "            ])\n",
    "    return new_state\n",
    "\n",
    "def fedavg_momentum_aggregate(local_state_dicts, client_data_sizes, global_state, v_prev, momentum=0.9):\n",
    "    total_data = sum(client_data_sizes)\n",
    "    new_state = deepcopy(global_state)\n",
    "    delta_w = {}\n",
    "    for key in global_state.keys():\n",
    "        if 'fc' in key or 'classifier' in key:\n",
    "            delta_w[key] = sum([\n",
    "                (client_data_sizes[i] / total_data) *\n",
    "                (local_state_dicts[i][key] - global_state[key])\n",
    "                for i in range(len(local_state_dicts))\n",
    "            ])\n",
    "            delta_w[key] += momentum * v_prev[key]\n",
    "        else:\n",
    "            delta_w[key] = torch.zeros_like(global_state[key])\n",
    "    for key in global_state.keys():\n",
    "        new_state[key] += delta_w[key]\n",
    "    return new_state, delta_w\n",
    "\n",
    "# === Evaluation Function ===\n",
    "def test_model(model, test_loader):\n",
    "    model.eval()\n",
    "    correct = 0\n",
    "    total = 0\n",
    "    with torch.no_grad():\n",
    "        for data, target in test_loader:\n",
    "            data, target = data.to(device), target.to(device)\n",
    "            output = model(data)\n",
    "            pred = output.argmax(dim=1)\n",
    "            correct += (pred == target).sum().item()\n",
    "            total += target.size(0)\n",
    "    return correct / total"
   ]
  },
  {
   "cell_type": "code",
   "execution_count": 10,
   "id": "b8186139",
   "metadata": {},
   "outputs": [],
   "source": [
    "class URLBinaryCNN(nn.Module):\n",
    "    def __init__(self, vocab_size):\n",
    "        super(URLBinaryCNN, self).__init__()\n",
    "\n",
    "        # ----- Embedding -----\n",
    "        self.embedding = nn.Embedding(num_embeddings=vocab_size, embedding_dim=128)\n",
    "\n",
    "        # ----- Conv Block 1 -----\n",
    "        self.conv1 = nn.Conv1d(in_channels=128, out_channels=128, kernel_size=3, padding=1)\n",
    "        self.bn1 = nn.BatchNorm1d(128)\n",
    "        self.pool1 = nn.MaxPool1d(kernel_size=2)\n",
    "\n",
    "        # ----- Conv Block 2 -----\n",
    "        self.conv2 = nn.Conv1d(in_channels=128, out_channels=128, kernel_size=3, padding=1)\n",
    "        self.bn2 = nn.BatchNorm1d(128)\n",
    "        self.pool2 = nn.MaxPool1d(kernel_size=2)\n",
    "\n",
    "        # ----- Conv Block 3 -----\n",
    "        self.conv3 = nn.Conv1d(in_channels=128, out_channels=128, kernel_size=3, padding=1)\n",
    "        self.bn3 = nn.BatchNorm1d(128)\n",
    "        self.pool3 = nn.MaxPool1d(kernel_size=2)\n",
    "\n",
    "        # ----- Conv Block 4 -----\n",
    "        self.conv4 = nn.Conv1d(in_channels=128, out_channels=128, kernel_size=3, padding=1)\n",
    "        self.bn4 = nn.BatchNorm1d(128)\n",
    "        self.pool4 = nn.MaxPool1d(kernel_size=2)\n",
    "\n",
    "        # ----- Conv Block 5 -----\n",
    "        self.conv5 = nn.Conv1d(in_channels=128, out_channels=16, kernel_size=3, padding=1)\n",
    "        self.bn5 = nn.BatchNorm1d(16)\n",
    "\n",
    "        # ----- Global Pooling -----\n",
    "        self.global_pool = nn.AdaptiveMaxPool1d(1)\n",
    "\n",
    "        # ----- Fully Connected -----\n",
    "        self.fc1 = nn.Linear(16, 256)\n",
    "        self.dropout1 = nn.Dropout(0.4582219325663578)\n",
    "        self.fc2 = nn.Linear(256, 256)\n",
    "        self.dropout2 = nn.Dropout(0.13788391792099114)\n",
    "        self.sigmoid = nn.Sigmoid()\n",
    "        self.fc3 = nn.Linear(256, 1)\n",
    "\n",
    "    def forward(self, x):\n",
    "        x = self.embedding(x)          # (batch, seq_len, embed_dim)\n",
    "        x = x.permute(0, 2, 1)         # (batch, embed_dim, seq_len)\n",
    "\n",
    "        x = F.relu(self.bn1(self.conv1(x)))\n",
    "        x = self.pool1(x)\n",
    "\n",
    "        x = F.relu(self.bn2(self.conv2(x)))\n",
    "        x = self.pool2(x)\n",
    "\n",
    "        x = F.relu(self.bn3(self.conv3(x)))\n",
    "        x = self.pool3(x)\n",
    "\n",
    "        x = F.relu(self.bn4(self.conv4(x)))\n",
    "        x = self.pool4(x)\n",
    "\n",
    "        x = F.relu(self.bn5(self.conv5(x)))\n",
    "        x = self.global_pool(x)\n",
    "        x = x.squeeze(-1)\n",
    "\n",
    "        x = F.relu(self.fc1(x))\n",
    "        x = self.dropout1(x)\n",
    "        x = F.relu(self.fc2(x))\n",
    "        x = self.dropout2(x)\n",
    "        x = self.sigmoid(self.fc3(x))\n",
    "\n",
    "        return x"
   ]
  },
  {
   "cell_type": "code",
   "execution_count": 11,
   "id": "6c80ba8e",
   "metadata": {},
   "outputs": [
    {
     "name": "stdout",
     "output_type": "stream",
     "text": [
      "\n",
      "--- Round 1 ---\n"
     ]
    },
    {
     "ename": "AcceleratorError",
     "evalue": "CUDA error: device-side assert triggered\nCUDA kernel errors might be asynchronously reported at some other API call, so the stacktrace below might be incorrect.\nFor debugging consider passing CUDA_LAUNCH_BLOCKING=1\nCompile with `TORCH_USE_CUDA_DSA` to enable device-side assertions.\n",
     "output_type": "error",
     "traceback": [
      "\u001b[31m---------------------------------------------------------------------------\u001b[39m",
      "\u001b[31mAcceleratorError\u001b[39m                          Traceback (most recent call last)",
      "\u001b[36mCell\u001b[39m\u001b[36m \u001b[39m\u001b[32mIn[11]\u001b[39m\u001b[32m, line 66\u001b[39m\n\u001b[32m     64\u001b[39m \u001b[38;5;28;01mfor\u001b[39;00m c \u001b[38;5;129;01min\u001b[39;00m \u001b[38;5;28mrange\u001b[39m(num_clients):\n\u001b[32m     65\u001b[39m     local_model = deepcopy(global_fedavg)\n\u001b[32m---> \u001b[39m\u001b[32m66\u001b[39m     local_state = \u001b[43mtrain_local\u001b[49m\u001b[43m(\u001b[49m\u001b[43mlocal_model\u001b[49m\u001b[43m,\u001b[49m\u001b[43m \u001b[49m\u001b[43mclient_loaders\u001b[49m\u001b[43m[\u001b[49m\u001b[43mc\u001b[49m\u001b[43m]\u001b[49m\u001b[43m,\u001b[49m\u001b[43m \u001b[49m\u001b[43mlocal_epochs\u001b[49m\u001b[43m)\u001b[49m\n\u001b[32m     67\u001b[39m     local_states_avg.append(local_state)\n\u001b[32m     68\u001b[39m     local_accs_fedavg[c].append(test_model(local_model, client_loaders[c]) * \u001b[32m100\u001b[39m)\n",
      "\u001b[36mCell\u001b[39m\u001b[36m \u001b[39m\u001b[32mIn[8]\u001b[39m\u001b[32m, line 13\u001b[39m, in \u001b[36mtrain_local\u001b[39m\u001b[34m(model, train_loader, epochs)\u001b[39m\n\u001b[32m     11\u001b[39m         output = model(data)\n\u001b[32m     12\u001b[39m         loss = criterion(output, target)\n\u001b[32m---> \u001b[39m\u001b[32m13\u001b[39m         \u001b[43mloss\u001b[49m\u001b[43m.\u001b[49m\u001b[43mbackward\u001b[49m\u001b[43m(\u001b[49m\u001b[43m)\u001b[49m\n\u001b[32m     14\u001b[39m         optimizer.step()\n\u001b[32m     15\u001b[39m \u001b[38;5;28;01mreturn\u001b[39;00m model.state_dict()\n",
      "\u001b[36mFile \u001b[39m\u001b[32mc:\\Users\\rrpra\\AppData\\Local\\Programs\\Python\\Python313\\Lib\\site-packages\\torch\\_tensor.py:647\u001b[39m, in \u001b[36mTensor.backward\u001b[39m\u001b[34m(self, gradient, retain_graph, create_graph, inputs)\u001b[39m\n\u001b[32m    637\u001b[39m \u001b[38;5;28;01mif\u001b[39;00m has_torch_function_unary(\u001b[38;5;28mself\u001b[39m):\n\u001b[32m    638\u001b[39m     \u001b[38;5;28;01mreturn\u001b[39;00m handle_torch_function(\n\u001b[32m    639\u001b[39m         Tensor.backward,\n\u001b[32m    640\u001b[39m         (\u001b[38;5;28mself\u001b[39m,),\n\u001b[32m   (...)\u001b[39m\u001b[32m    645\u001b[39m         inputs=inputs,\n\u001b[32m    646\u001b[39m     )\n\u001b[32m--> \u001b[39m\u001b[32m647\u001b[39m \u001b[43mtorch\u001b[49m\u001b[43m.\u001b[49m\u001b[43mautograd\u001b[49m\u001b[43m.\u001b[49m\u001b[43mbackward\u001b[49m\u001b[43m(\u001b[49m\n\u001b[32m    648\u001b[39m \u001b[43m    \u001b[49m\u001b[38;5;28;43mself\u001b[39;49m\u001b[43m,\u001b[49m\u001b[43m \u001b[49m\u001b[43mgradient\u001b[49m\u001b[43m,\u001b[49m\u001b[43m \u001b[49m\u001b[43mretain_graph\u001b[49m\u001b[43m,\u001b[49m\u001b[43m \u001b[49m\u001b[43mcreate_graph\u001b[49m\u001b[43m,\u001b[49m\u001b[43m \u001b[49m\u001b[43minputs\u001b[49m\u001b[43m=\u001b[49m\u001b[43minputs\u001b[49m\n\u001b[32m    649\u001b[39m \u001b[43m\u001b[49m\u001b[43m)\u001b[49m\n",
      "\u001b[36mFile \u001b[39m\u001b[32mc:\\Users\\rrpra\\AppData\\Local\\Programs\\Python\\Python313\\Lib\\site-packages\\torch\\autograd\\__init__.py:354\u001b[39m, in \u001b[36mbackward\u001b[39m\u001b[34m(tensors, grad_tensors, retain_graph, create_graph, grad_variables, inputs)\u001b[39m\n\u001b[32m    349\u001b[39m     retain_graph = create_graph\n\u001b[32m    351\u001b[39m \u001b[38;5;66;03m# The reason we repeat the same comment below is that\u001b[39;00m\n\u001b[32m    352\u001b[39m \u001b[38;5;66;03m# some Python versions print out the first line of a multi-line function\u001b[39;00m\n\u001b[32m    353\u001b[39m \u001b[38;5;66;03m# calls in the traceback and some print out the last line\u001b[39;00m\n\u001b[32m--> \u001b[39m\u001b[32m354\u001b[39m \u001b[43m_engine_run_backward\u001b[49m\u001b[43m(\u001b[49m\n\u001b[32m    355\u001b[39m \u001b[43m    \u001b[49m\u001b[43mtensors\u001b[49m\u001b[43m,\u001b[49m\n\u001b[32m    356\u001b[39m \u001b[43m    \u001b[49m\u001b[43mgrad_tensors_\u001b[49m\u001b[43m,\u001b[49m\n\u001b[32m    357\u001b[39m \u001b[43m    \u001b[49m\u001b[43mretain_graph\u001b[49m\u001b[43m,\u001b[49m\n\u001b[32m    358\u001b[39m \u001b[43m    \u001b[49m\u001b[43mcreate_graph\u001b[49m\u001b[43m,\u001b[49m\n\u001b[32m    359\u001b[39m \u001b[43m    \u001b[49m\u001b[43minputs_tuple\u001b[49m\u001b[43m,\u001b[49m\n\u001b[32m    360\u001b[39m \u001b[43m    \u001b[49m\u001b[43mallow_unreachable\u001b[49m\u001b[43m=\u001b[49m\u001b[38;5;28;43;01mTrue\u001b[39;49;00m\u001b[43m,\u001b[49m\n\u001b[32m    361\u001b[39m \u001b[43m    \u001b[49m\u001b[43maccumulate_grad\u001b[49m\u001b[43m=\u001b[49m\u001b[38;5;28;43;01mTrue\u001b[39;49;00m\u001b[43m,\u001b[49m\n\u001b[32m    362\u001b[39m \u001b[43m\u001b[49m\u001b[43m)\u001b[49m\n",
      "\u001b[36mFile \u001b[39m\u001b[32mc:\\Users\\rrpra\\AppData\\Local\\Programs\\Python\\Python313\\Lib\\site-packages\\torch\\autograd\\graph.py:829\u001b[39m, in \u001b[36m_engine_run_backward\u001b[39m\u001b[34m(t_outputs, *args, **kwargs)\u001b[39m\n\u001b[32m    827\u001b[39m     unregister_hooks = _register_logging_hooks_on_whole_graph(t_outputs)\n\u001b[32m    828\u001b[39m \u001b[38;5;28;01mtry\u001b[39;00m:\n\u001b[32m--> \u001b[39m\u001b[32m829\u001b[39m     \u001b[38;5;28;01mreturn\u001b[39;00m \u001b[43mVariable\u001b[49m\u001b[43m.\u001b[49m\u001b[43m_execution_engine\u001b[49m\u001b[43m.\u001b[49m\u001b[43mrun_backward\u001b[49m\u001b[43m(\u001b[49m\u001b[43m  \u001b[49m\u001b[38;5;66;43;03m# Calls into the C++ engine to run the backward pass\u001b[39;49;00m\n\u001b[32m    830\u001b[39m \u001b[43m        \u001b[49m\u001b[43mt_outputs\u001b[49m\u001b[43m,\u001b[49m\u001b[43m \u001b[49m\u001b[43m*\u001b[49m\u001b[43margs\u001b[49m\u001b[43m,\u001b[49m\u001b[43m \u001b[49m\u001b[43m*\u001b[49m\u001b[43m*\u001b[49m\u001b[43mkwargs\u001b[49m\n\u001b[32m    831\u001b[39m \u001b[43m    \u001b[49m\u001b[43m)\u001b[49m  \u001b[38;5;66;03m# Calls into the C++ engine to run the backward pass\u001b[39;00m\n\u001b[32m    832\u001b[39m \u001b[38;5;28;01mfinally\u001b[39;00m:\n\u001b[32m    833\u001b[39m     \u001b[38;5;28;01mif\u001b[39;00m attach_logging_hooks:\n",
      "\u001b[31mAcceleratorError\u001b[39m: CUDA error: device-side assert triggered\nCUDA kernel errors might be asynchronously reported at some other API call, so the stacktrace below might be incorrect.\nFor debugging consider passing CUDA_LAUNCH_BLOCKING=1\nCompile with `TORCH_USE_CUDA_DSA` to enable device-side assertions.\n"
     ]
    }
   ],
   "source": [
    "# === Initialize Models ===\n",
    "global_fedavg = URLBinaryCNN(vocab_size).to(device)\n",
    "global_fedavgM = deepcopy(global_fedavg)\n",
    "v_prev = {k: torch.zeros_like(v) for k, v in global_fedavgM.state_dict().items()}\n",
    "momentum = 0.9\n",
    "\n",
    "# New models for additional aggregations\n",
    "global_fedAWA = deepcopy(global_fedavg)\n",
    "global_moss = deepcopy(global_fedavg)\n",
    "global_fedADP = deepcopy(global_fedavg)\n",
    "\n",
    "# === Trackers ===\n",
    "epochs_history = []\n",
    "\n",
    "# Global accuracies\n",
    "fedavg_accs, fedavgM_accs = [], []\n",
    "fedAWA_accs, moss_accs, fedADP_accs = [], [], []\n",
    "\n",
    "# Local accuracies per client\n",
    "local_accs_fedavg = [[] for _ in range(num_clients)]\n",
    "local_accs_fedavgM = [[] for _ in range(num_clients)]\n",
    "local_accs_fedAWA = [[] for _ in range(num_clients)]\n",
    "local_accs_moss = [[] for _ in range(num_clients)]\n",
    "local_accs_fedADP = [[] for _ in range(num_clients)]\n",
    "\n",
    "# === Helper aggregation functions ===\n",
    "\n",
    "def fedAWA_aggregate(state_dicts, prev_global):\n",
    "    \"\"\"Adaptive weighting by cosine similarity to global model\"\"\"\n",
    "    new_state = deepcopy(prev_global)\n",
    "    for key in new_state.keys():\n",
    "        # compute similarity weights (simulated here by sum of updates)\n",
    "        updates = torch.stack([sd[key] - prev_global[key] for sd in state_dicts], dim=0)\n",
    "        weights = torch.softmax(torch.sum(updates, dim=list(range(1, updates.ndim))), dim=0)\n",
    "        new_state[key] = prev_global[key] + torch.sum(weights.view(-1, *[1]*(updates.ndim-1)) * updates, dim=0)\n",
    "    return new_state\n",
    "\n",
    "def moss_aggregate(state_dicts):\n",
    "    \"\"\"Full-weight aggregation (simple mean simulated)\"\"\"\n",
    "    avg_state = deepcopy(state_dicts[0])\n",
    "    for key in avg_state.keys():\n",
    "        for i in range(1, len(state_dicts)):\n",
    "            avg_state[key] += state_dicts[i][key]\n",
    "        avg_state[key] /= len(state_dicts)\n",
    "    return avg_state\n",
    "\n",
    "def fedADP_aggregate(state_dicts, data_sizes):\n",
    "    \"\"\"Simulated dynamic aggregation (weighted avg by data sizes)\"\"\"\n",
    "    total_size = sum(data_sizes)\n",
    "    avg_state = deepcopy(state_dicts[0])\n",
    "    for key in avg_state.keys():\n",
    "        avg_state[key] = avg_state[key] * (data_sizes[0]/total_size)\n",
    "    for i in range(1, len(state_dicts)):\n",
    "        for key in avg_state.keys():\n",
    "            avg_state[key] += state_dicts[i][key] * (data_sizes[i]/total_size)\n",
    "    return avg_state\n",
    "\n",
    "# === Federated Training Loop ===\n",
    "for r in range(num_rounds):\n",
    "    print(f\"\\n--- Round {r+1} ---\")\n",
    "\n",
    "    # --- FedAvg ---\n",
    "    local_states_avg = []\n",
    "    for c in range(num_clients):\n",
    "        local_model = deepcopy(global_fedavg)\n",
    "        local_state = train_local(local_model, client_loaders[c], local_epochs)\n",
    "        local_states_avg.append(local_state)\n",
    "        local_accs_fedavg[c].append(test_model(local_model, client_loaders[c]) * 100)\n",
    "\n",
    "    # --- FedAvgM ---\n",
    "    local_states_mom = []\n",
    "    for c in range(num_clients):\n",
    "        local_model = deepcopy(global_fedavgM)\n",
    "        local_state = train_local(local_model, client_loaders[c], local_epochs)\n",
    "        local_states_mom.append(local_state)\n",
    "        local_accs_fedavgM[c].append(test_model(local_model, client_loaders[c]) * 100)\n",
    "\n",
    "    # --- FedAWA ---\n",
    "    local_states_AWA = []\n",
    "    for c in range(num_clients):\n",
    "        local_model = deepcopy(global_fedAWA)\n",
    "        local_state = train_local(local_model, client_loaders[c], local_epochs)\n",
    "        local_states_AWA.append(local_state)\n",
    "        local_accs_fedAWA[c].append(test_model(local_model, client_loaders[c]) * 100)\n",
    "\n",
    "    # --- Moss ---\n",
    "    local_states_moss = []\n",
    "    for c in range(num_clients):\n",
    "        local_model = deepcopy(global_moss)\n",
    "        local_state = train_local(local_model, client_loaders[c], local_epochs)\n",
    "        local_states_moss.append(local_state)\n",
    "        local_accs_moss[c].append(test_model(local_model, client_loaders[c]) * 100)\n",
    "\n",
    "    # --- FedADP ---\n",
    "    local_states_ADP = []\n",
    "    for c in range(num_clients):\n",
    "        local_model = deepcopy(global_fedADP)\n",
    "        local_state = train_local(local_model, client_loaders[c], local_epochs)\n",
    "        local_states_ADP.append(local_state)\n",
    "        local_accs_fedADP[c].append(test_model(local_model, client_loaders[c]) * 100)\n",
    "\n",
    "    # === Aggregate ===\n",
    "    global_fedavg.load_state_dict(fedavg_aggregate(local_states_avg, client_data_sizes, global_fedavg.state_dict()))\n",
    "    global_fedavgM.load_state_dict(fedavg_momentum_aggregate(local_states_mom, client_data_sizes, global_fedavgM.state_dict(), v_prev, momentum)[0])\n",
    "    v_prev = fedavg_momentum_aggregate(local_states_mom, client_data_sizes, global_fedavgM.state_dict(), v_prev, momentum)[1]\n",
    "    global_fedAWA.load_state_dict(fedAWA_aggregate(local_states_AWA, global_fedAWA.state_dict()))\n",
    "    global_moss.load_state_dict(moss_aggregate(local_states_moss))\n",
    "    global_fedADP.load_state_dict(fedADP_aggregate(local_states_ADP, client_data_sizes))\n",
    "\n",
    "    # === Test global models ===\n",
    "    acc_fedavg = test_model(global_fedavg, test_loader) * 100\n",
    "    acc_fedavgM = test_model(global_fedavgM, test_loader) * 100\n",
    "    acc_fedAWA = test_model(global_fedAWA, test_loader) * 100\n",
    "    acc_moss = test_model(global_moss, test_loader) * 100\n",
    "    acc_fedADP = test_model(global_fedADP, test_loader) * 100\n",
    "    print(f\"FedAvg: {acc_fedavg:.2f}% | FedAvgM: {acc_fedavgM:.2f}% | FedAWA: {acc_fedAWA:.2f}% | Moss: {acc_moss:.2f}% | FedADP: {acc_fedADP:.2f}%\")\n",
    "\n",
    "    # === Save histories ===\n",
    "    fedavg_accs.append(acc_fedavg)\n",
    "    fedavgM_accs.append(acc_fedavgM)\n",
    "    fedAWA_accs.append(acc_fedAWA)\n",
    "    moss_accs.append(acc_moss)\n",
    "    fedADP_accs.append(acc_fedADP)\n",
    "    epochs_history.append((r+1) * local_epochs)\n",
    "\n",
    "\n"
   ]
  },
  {
   "cell_type": "code",
   "execution_count": null,
   "id": "048708c1",
   "metadata": {},
   "outputs": [
    {
     "data": {
      "application/vnd.plotly.v1+json": {
       "config": {
        "plotlyServerURL": "https://plot.ly"
       },
       "data": [
        {
         "line": {
          "color": "black",
          "width": 3
         },
         "mode": "lines+markers",
         "name": "FedAvg",
         "type": "scatter",
         "x": [
          1,
          2,
          3,
          4,
          5,
          6,
          7,
          8,
          9,
          10,
          11,
          12,
          13,
          14,
          15,
          16,
          17,
          18,
          19,
          20,
          21,
          22,
          23,
          24,
          25,
          26,
          27,
          28,
          29,
          30
         ],
         "y": [
          89.94285714285715,
          92.37142857142857,
          93.74285714285713,
          94.52857142857142,
          95.27142857142857,
          95.6,
          95.78571428571429,
          95.89999999999999,
          95.58571428571429,
          96.08571428571429,
          96.35714285714285,
          96.45714285714286,
          96.54285714285714,
          96.72857142857143,
          96.27142857142857,
          96.78571428571429,
          96.91428571428573,
          96.87142857142858,
          96.85714285714285,
          96.8,
          96.8,
          96.89999999999999,
          97.1,
          97.08571428571429,
          97.12857142857143,
          97.07142857142857,
          97.28571428571429,
          97.15714285714286,
          97.07142857142857,
          97.3
         ]
        },
        {
         "line": {
          "color": "blue",
          "dash": "dot",
          "width": 3
         },
         "mode": "lines+markers",
         "name": "FedAvgM",
         "type": "scatter",
         "x": [
          1,
          2,
          3,
          4,
          5,
          6,
          7,
          8,
          9,
          10,
          11,
          12,
          13,
          14,
          15,
          16,
          17,
          18,
          19,
          20,
          21,
          22,
          23,
          24,
          25,
          26,
          27,
          28,
          29,
          30
         ],
         "y": [
          88.2,
          92.77142857142857,
          93.77142857142857,
          94.67142857142858,
          95.12857142857143,
          95.58571428571429,
          95.38571428571429,
          95.82857142857144,
          96.1,
          95.82857142857144,
          96.45714285714286,
          96.45714285714286,
          96.38571428571429,
          96.72857142857143,
          96.78571428571429,
          96.47142857142858,
          96.68571428571428,
          97.12857142857143,
          96.88571428571429,
          96.91428571428573,
          96.85714285714285,
          96.89999999999999,
          97.02857142857142,
          96.98571428571428,
          97.2,
          97.24285714285715,
          97.21428571428572,
          97.27142857142857,
          97.37142857142858,
          97.37142857142858
         ]
        },
        {
         "line": {
          "color": "red",
          "dash": "dash",
          "width": 3
         },
         "mode": "lines+markers",
         "name": "FedAWA",
         "type": "scatter",
         "x": [
          1,
          2,
          3,
          4,
          5,
          6,
          7,
          8,
          9,
          10,
          11,
          12,
          13,
          14,
          15,
          16,
          17,
          18,
          19,
          20,
          21,
          22,
          23,
          24,
          25,
          26,
          27,
          28,
          29,
          30
         ],
         "y": [
          80.35714285714286,
          90.74285714285715,
          89.31428571428572,
          92.98571428571428,
          92.88571428571429,
          93.89999999999999,
          92.84285714285714,
          91.82857142857142,
          92.84285714285714,
          91.02857142857142,
          92.62857142857143,
          92.18571428571428,
          91.01428571428572,
          91.4,
          92.61428571428571,
          92.85714285714286,
          92.72857142857143,
          92.61428571428571,
          92.85714285714286,
          91.72857142857143,
          91.35714285714286,
          92.57142857142857,
          91.98571428571428,
          92.60000000000001,
          92.55714285714286,
          92.48571428571428,
          92.61428571428571,
          92.08571428571429,
          92.28571428571428,
          91.85714285714286
         ]
        },
        {
         "line": {
          "color": "green",
          "dash": "dot",
          "width": 3
         },
         "mode": "lines+markers",
         "name": "Moss",
         "type": "scatter",
         "x": [
          1,
          2,
          3,
          4,
          5,
          6,
          7,
          8,
          9,
          10,
          11,
          12,
          13,
          14,
          15,
          16,
          17,
          18,
          19,
          20,
          21,
          22,
          23,
          24,
          25,
          26,
          27,
          28,
          29,
          30
         ],
         "y": [
          89.28571428571429,
          92.64285714285714,
          94.11428571428571,
          94.55714285714286,
          95.32857142857142,
          95.57142857142857,
          95.98571428571428,
          96.12857142857143,
          95.94285714285714,
          96.27142857142857,
          96.47142857142858,
          96.54285714285714,
          96.51428571428572,
          96.75714285714285,
          96.62857142857143,
          96.67142857142858,
          96.8,
          96.7,
          96.87142857142858,
          96.94285714285714,
          96.98571428571428,
          96.81428571428572,
          97.14285714285714,
          97.07142857142857,
          96.95714285714286,
          96.95714285714286,
          97.17142857142858,
          97.17142857142858,
          97.08571428571429,
          97.07142857142857
         ]
        },
        {
         "line": {
          "color": "orange",
          "dash": "dash",
          "width": 3
         },
         "mode": "lines+markers",
         "name": "FedADP",
         "type": "scatter",
         "x": [
          1,
          2,
          3,
          4,
          5,
          6,
          7,
          8,
          9,
          10,
          11,
          12,
          13,
          14,
          15,
          16,
          17,
          18,
          19,
          20,
          21,
          22,
          23,
          24,
          25,
          26,
          27,
          28,
          29,
          30
         ],
         "y": [
          89,
          92.10000000000001,
          93.7,
          94.6,
          94.84285714285714,
          95.38571428571429,
          95.95714285714286,
          95.82857142857144,
          95.94285714285714,
          96.02857142857142,
          96.11428571428571,
          96.3,
          96.38571428571429,
          96.24285714285715,
          96.78571428571429,
          96.35714285714285,
          96.92857142857143,
          96.55714285714285,
          96.88571428571429,
          96.71428571428572,
          96.71428571428572,
          96.94285714285714,
          96.82857142857144,
          97.17142857142858,
          97.05714285714285,
          97.05714285714285,
          96.97142857142858,
          97.07142857142857,
          97.2,
          97.31428571428572
         ]
        }
       ],
       "layout": {
        "template": {
         "data": {
          "bar": [
           {
            "error_x": {
             "color": "#2a3f5f"
            },
            "error_y": {
             "color": "#2a3f5f"
            },
            "marker": {
             "line": {
              "color": "white",
              "width": 0.5
             },
             "pattern": {
              "fillmode": "overlay",
              "size": 10,
              "solidity": 0.2
             }
            },
            "type": "bar"
           }
          ],
          "barpolar": [
           {
            "marker": {
             "line": {
              "color": "white",
              "width": 0.5
             },
             "pattern": {
              "fillmode": "overlay",
              "size": 10,
              "solidity": 0.2
             }
            },
            "type": "barpolar"
           }
          ],
          "carpet": [
           {
            "aaxis": {
             "endlinecolor": "#2a3f5f",
             "gridcolor": "#C8D4E3",
             "linecolor": "#C8D4E3",
             "minorgridcolor": "#C8D4E3",
             "startlinecolor": "#2a3f5f"
            },
            "baxis": {
             "endlinecolor": "#2a3f5f",
             "gridcolor": "#C8D4E3",
             "linecolor": "#C8D4E3",
             "minorgridcolor": "#C8D4E3",
             "startlinecolor": "#2a3f5f"
            },
            "type": "carpet"
           }
          ],
          "choropleth": [
           {
            "colorbar": {
             "outlinewidth": 0,
             "ticks": ""
            },
            "type": "choropleth"
           }
          ],
          "contour": [
           {
            "colorbar": {
             "outlinewidth": 0,
             "ticks": ""
            },
            "colorscale": [
             [
              0,
              "#0d0887"
             ],
             [
              0.1111111111111111,
              "#46039f"
             ],
             [
              0.2222222222222222,
              "#7201a8"
             ],
             [
              0.3333333333333333,
              "#9c179e"
             ],
             [
              0.4444444444444444,
              "#bd3786"
             ],
             [
              0.5555555555555556,
              "#d8576b"
             ],
             [
              0.6666666666666666,
              "#ed7953"
             ],
             [
              0.7777777777777778,
              "#fb9f3a"
             ],
             [
              0.8888888888888888,
              "#fdca26"
             ],
             [
              1,
              "#f0f921"
             ]
            ],
            "type": "contour"
           }
          ],
          "contourcarpet": [
           {
            "colorbar": {
             "outlinewidth": 0,
             "ticks": ""
            },
            "type": "contourcarpet"
           }
          ],
          "heatmap": [
           {
            "colorbar": {
             "outlinewidth": 0,
             "ticks": ""
            },
            "colorscale": [
             [
              0,
              "#0d0887"
             ],
             [
              0.1111111111111111,
              "#46039f"
             ],
             [
              0.2222222222222222,
              "#7201a8"
             ],
             [
              0.3333333333333333,
              "#9c179e"
             ],
             [
              0.4444444444444444,
              "#bd3786"
             ],
             [
              0.5555555555555556,
              "#d8576b"
             ],
             [
              0.6666666666666666,
              "#ed7953"
             ],
             [
              0.7777777777777778,
              "#fb9f3a"
             ],
             [
              0.8888888888888888,
              "#fdca26"
             ],
             [
              1,
              "#f0f921"
             ]
            ],
            "type": "heatmap"
           }
          ],
          "histogram": [
           {
            "marker": {
             "pattern": {
              "fillmode": "overlay",
              "size": 10,
              "solidity": 0.2
             }
            },
            "type": "histogram"
           }
          ],
          "histogram2d": [
           {
            "colorbar": {
             "outlinewidth": 0,
             "ticks": ""
            },
            "colorscale": [
             [
              0,
              "#0d0887"
             ],
             [
              0.1111111111111111,
              "#46039f"
             ],
             [
              0.2222222222222222,
              "#7201a8"
             ],
             [
              0.3333333333333333,
              "#9c179e"
             ],
             [
              0.4444444444444444,
              "#bd3786"
             ],
             [
              0.5555555555555556,
              "#d8576b"
             ],
             [
              0.6666666666666666,
              "#ed7953"
             ],
             [
              0.7777777777777778,
              "#fb9f3a"
             ],
             [
              0.8888888888888888,
              "#fdca26"
             ],
             [
              1,
              "#f0f921"
             ]
            ],
            "type": "histogram2d"
           }
          ],
          "histogram2dcontour": [
           {
            "colorbar": {
             "outlinewidth": 0,
             "ticks": ""
            },
            "colorscale": [
             [
              0,
              "#0d0887"
             ],
             [
              0.1111111111111111,
              "#46039f"
             ],
             [
              0.2222222222222222,
              "#7201a8"
             ],
             [
              0.3333333333333333,
              "#9c179e"
             ],
             [
              0.4444444444444444,
              "#bd3786"
             ],
             [
              0.5555555555555556,
              "#d8576b"
             ],
             [
              0.6666666666666666,
              "#ed7953"
             ],
             [
              0.7777777777777778,
              "#fb9f3a"
             ],
             [
              0.8888888888888888,
              "#fdca26"
             ],
             [
              1,
              "#f0f921"
             ]
            ],
            "type": "histogram2dcontour"
           }
          ],
          "mesh3d": [
           {
            "colorbar": {
             "outlinewidth": 0,
             "ticks": ""
            },
            "type": "mesh3d"
           }
          ],
          "parcoords": [
           {
            "line": {
             "colorbar": {
              "outlinewidth": 0,
              "ticks": ""
             }
            },
            "type": "parcoords"
           }
          ],
          "pie": [
           {
            "automargin": true,
            "type": "pie"
           }
          ],
          "scatter": [
           {
            "fillpattern": {
             "fillmode": "overlay",
             "size": 10,
             "solidity": 0.2
            },
            "type": "scatter"
           }
          ],
          "scatter3d": [
           {
            "line": {
             "colorbar": {
              "outlinewidth": 0,
              "ticks": ""
             }
            },
            "marker": {
             "colorbar": {
              "outlinewidth": 0,
              "ticks": ""
             }
            },
            "type": "scatter3d"
           }
          ],
          "scattercarpet": [
           {
            "marker": {
             "colorbar": {
              "outlinewidth": 0,
              "ticks": ""
             }
            },
            "type": "scattercarpet"
           }
          ],
          "scattergeo": [
           {
            "marker": {
             "colorbar": {
              "outlinewidth": 0,
              "ticks": ""
             }
            },
            "type": "scattergeo"
           }
          ],
          "scattergl": [
           {
            "marker": {
             "colorbar": {
              "outlinewidth": 0,
              "ticks": ""
             }
            },
            "type": "scattergl"
           }
          ],
          "scattermap": [
           {
            "marker": {
             "colorbar": {
              "outlinewidth": 0,
              "ticks": ""
             }
            },
            "type": "scattermap"
           }
          ],
          "scattermapbox": [
           {
            "marker": {
             "colorbar": {
              "outlinewidth": 0,
              "ticks": ""
             }
            },
            "type": "scattermapbox"
           }
          ],
          "scatterpolar": [
           {
            "marker": {
             "colorbar": {
              "outlinewidth": 0,
              "ticks": ""
             }
            },
            "type": "scatterpolar"
           }
          ],
          "scatterpolargl": [
           {
            "marker": {
             "colorbar": {
              "outlinewidth": 0,
              "ticks": ""
             }
            },
            "type": "scatterpolargl"
           }
          ],
          "scatterternary": [
           {
            "marker": {
             "colorbar": {
              "outlinewidth": 0,
              "ticks": ""
             }
            },
            "type": "scatterternary"
           }
          ],
          "surface": [
           {
            "colorbar": {
             "outlinewidth": 0,
             "ticks": ""
            },
            "colorscale": [
             [
              0,
              "#0d0887"
             ],
             [
              0.1111111111111111,
              "#46039f"
             ],
             [
              0.2222222222222222,
              "#7201a8"
             ],
             [
              0.3333333333333333,
              "#9c179e"
             ],
             [
              0.4444444444444444,
              "#bd3786"
             ],
             [
              0.5555555555555556,
              "#d8576b"
             ],
             [
              0.6666666666666666,
              "#ed7953"
             ],
             [
              0.7777777777777778,
              "#fb9f3a"
             ],
             [
              0.8888888888888888,
              "#fdca26"
             ],
             [
              1,
              "#f0f921"
             ]
            ],
            "type": "surface"
           }
          ],
          "table": [
           {
            "cells": {
             "fill": {
              "color": "#EBF0F8"
             },
             "line": {
              "color": "white"
             }
            },
            "header": {
             "fill": {
              "color": "#C8D4E3"
             },
             "line": {
              "color": "white"
             }
            },
            "type": "table"
           }
          ]
         },
         "layout": {
          "annotationdefaults": {
           "arrowcolor": "#2a3f5f",
           "arrowhead": 0,
           "arrowwidth": 1
          },
          "autotypenumbers": "strict",
          "coloraxis": {
           "colorbar": {
            "outlinewidth": 0,
            "ticks": ""
           }
          },
          "colorscale": {
           "diverging": [
            [
             0,
             "#8e0152"
            ],
            [
             0.1,
             "#c51b7d"
            ],
            [
             0.2,
             "#de77ae"
            ],
            [
             0.3,
             "#f1b6da"
            ],
            [
             0.4,
             "#fde0ef"
            ],
            [
             0.5,
             "#f7f7f7"
            ],
            [
             0.6,
             "#e6f5d0"
            ],
            [
             0.7,
             "#b8e186"
            ],
            [
             0.8,
             "#7fbc41"
            ],
            [
             0.9,
             "#4d9221"
            ],
            [
             1,
             "#276419"
            ]
           ],
           "sequential": [
            [
             0,
             "#0d0887"
            ],
            [
             0.1111111111111111,
             "#46039f"
            ],
            [
             0.2222222222222222,
             "#7201a8"
            ],
            [
             0.3333333333333333,
             "#9c179e"
            ],
            [
             0.4444444444444444,
             "#bd3786"
            ],
            [
             0.5555555555555556,
             "#d8576b"
            ],
            [
             0.6666666666666666,
             "#ed7953"
            ],
            [
             0.7777777777777778,
             "#fb9f3a"
            ],
            [
             0.8888888888888888,
             "#fdca26"
            ],
            [
             1,
             "#f0f921"
            ]
           ],
           "sequentialminus": [
            [
             0,
             "#0d0887"
            ],
            [
             0.1111111111111111,
             "#46039f"
            ],
            [
             0.2222222222222222,
             "#7201a8"
            ],
            [
             0.3333333333333333,
             "#9c179e"
            ],
            [
             0.4444444444444444,
             "#bd3786"
            ],
            [
             0.5555555555555556,
             "#d8576b"
            ],
            [
             0.6666666666666666,
             "#ed7953"
            ],
            [
             0.7777777777777778,
             "#fb9f3a"
            ],
            [
             0.8888888888888888,
             "#fdca26"
            ],
            [
             1,
             "#f0f921"
            ]
           ]
          },
          "colorway": [
           "#636efa",
           "#EF553B",
           "#00cc96",
           "#ab63fa",
           "#FFA15A",
           "#19d3f3",
           "#FF6692",
           "#B6E880",
           "#FF97FF",
           "#FECB52"
          ],
          "font": {
           "color": "#2a3f5f"
          },
          "geo": {
           "bgcolor": "white",
           "lakecolor": "white",
           "landcolor": "white",
           "showlakes": true,
           "showland": true,
           "subunitcolor": "#C8D4E3"
          },
          "hoverlabel": {
           "align": "left"
          },
          "hovermode": "closest",
          "mapbox": {
           "style": "light"
          },
          "paper_bgcolor": "white",
          "plot_bgcolor": "white",
          "polar": {
           "angularaxis": {
            "gridcolor": "#EBF0F8",
            "linecolor": "#EBF0F8",
            "ticks": ""
           },
           "bgcolor": "white",
           "radialaxis": {
            "gridcolor": "#EBF0F8",
            "linecolor": "#EBF0F8",
            "ticks": ""
           }
          },
          "scene": {
           "xaxis": {
            "backgroundcolor": "white",
            "gridcolor": "#DFE8F3",
            "gridwidth": 2,
            "linecolor": "#EBF0F8",
            "showbackground": true,
            "ticks": "",
            "zerolinecolor": "#EBF0F8"
           },
           "yaxis": {
            "backgroundcolor": "white",
            "gridcolor": "#DFE8F3",
            "gridwidth": 2,
            "linecolor": "#EBF0F8",
            "showbackground": true,
            "ticks": "",
            "zerolinecolor": "#EBF0F8"
           },
           "zaxis": {
            "backgroundcolor": "white",
            "gridcolor": "#DFE8F3",
            "gridwidth": 2,
            "linecolor": "#EBF0F8",
            "showbackground": true,
            "ticks": "",
            "zerolinecolor": "#EBF0F8"
           }
          },
          "shapedefaults": {
           "line": {
            "color": "#2a3f5f"
           }
          },
          "ternary": {
           "aaxis": {
            "gridcolor": "#DFE8F3",
            "linecolor": "#A2B1C6",
            "ticks": ""
           },
           "baxis": {
            "gridcolor": "#DFE8F3",
            "linecolor": "#A2B1C6",
            "ticks": ""
           },
           "bgcolor": "white",
           "caxis": {
            "gridcolor": "#DFE8F3",
            "linecolor": "#A2B1C6",
            "ticks": ""
           }
          },
          "title": {
           "x": 0.05
          },
          "xaxis": {
           "automargin": true,
           "gridcolor": "#EBF0F8",
           "linecolor": "#EBF0F8",
           "ticks": "",
           "title": {
            "standoff": 15
           },
           "zerolinecolor": "#EBF0F8",
           "zerolinewidth": 2
          },
          "yaxis": {
           "automargin": true,
           "gridcolor": "#EBF0F8",
           "linecolor": "#EBF0F8",
           "ticks": "",
           "title": {
            "standoff": 15
           },
           "zerolinecolor": "#EBF0F8",
           "zerolinewidth": 2
          }
         }
        },
        "title": {
         "text": "Global Model Accuracies for Different Aggregation Functions"
        },
        "xaxis": {
         "title": {
          "text": "Cumulative Epochs"
         }
        },
        "yaxis": {
         "title": {
          "text": "Accuracy (%)"
         }
        }
       }
      }
     },
     "metadata": {},
     "output_type": "display_data"
    }
   ],
   "source": [
    "# === Plot all 5 aggregation methods ===\n",
    "import plotly.graph_objects as go\n",
    "\n",
    "fig = go.Figure()\n",
    "\n",
    "fig.add_trace(go.Scatter(x=epochs_history, y=fedavg_accs, mode='lines+markers', name='FedAvg', line=dict(width=3, color='black')))\n",
    "fig.add_trace(go.Scatter(x=epochs_history, y=fedavgM_accs, mode='lines+markers', name='FedAvgM', line=dict(width=3, color='blue', dash='dot')))\n",
    "fig.add_trace(go.Scatter(x=epochs_history, y=fedAWA_accs, mode='lines+markers', name='FedAWA', line=dict(width=3, color='red', dash='dash')))\n",
    "fig.add_trace(go.Scatter(x=epochs_history, y=moss_accs, mode='lines+markers', name='Moss', line=dict(width=3, color='green', dash='dot')))\n",
    "fig.add_trace(go.Scatter(x=epochs_history, y=fedADP_accs, mode='lines+markers', name='FedADP', line=dict(width=3, color='orange', dash='dash')))\n",
    "\n",
    "\n",
    "fig.update_layout(title='Global Model Accuracies for Different Aggregation Functions',\n",
    "                  xaxis_title='Cumulative Epochs',\n",
    "                  yaxis_title='Accuracy (%)',\n",
    "                  template='plotly_white')\n",
    "\n",
    "fig.show()"
   ]
  },
  {
   "cell_type": "code",
   "execution_count": 9,
   "id": "2f251561",
   "metadata": {},
   "outputs": [
    {
     "data": {
      "application/vnd.plotly.v1+json": {
       "config": {
        "plotlyServerURL": "https://plot.ly"
       },
       "data": [
        {
         "line": {
          "color": "black",
          "width": 3
         },
         "mode": "lines+markers",
         "name": "FedAvg Global Acc",
         "type": "scatter",
         "x": [
          1,
          2,
          3,
          4,
          5,
          6,
          7,
          8,
          9,
          10,
          11,
          12,
          13,
          14,
          15,
          16,
          17,
          18,
          19,
          20,
          21,
          22,
          23,
          24,
          25,
          26,
          27,
          28,
          29,
          30
         ],
         "y": [
          89.94285714285715,
          92.37142857142857,
          93.74285714285713,
          94.52857142857142,
          95.27142857142857,
          95.6,
          95.78571428571429,
          95.89999999999999,
          95.58571428571429,
          96.08571428571429,
          96.35714285714285,
          96.45714285714286,
          96.54285714285714,
          96.72857142857143,
          96.27142857142857,
          96.78571428571429,
          96.91428571428573,
          96.87142857142858,
          96.85714285714285,
          96.8,
          96.8,
          96.89999999999999,
          97.1,
          97.08571428571429,
          97.12857142857143,
          97.07142857142857,
          97.28571428571429,
          97.15714285714286,
          97.07142857142857,
          97.3
         ]
        },
        {
         "line": {
          "color": "purple",
          "width": 3
         },
         "mode": "lines+markers",
         "name": "FedAvgM Global Acc",
         "type": "scatter",
         "x": [
          1,
          2,
          3,
          4,
          5,
          6,
          7,
          8,
          9,
          10,
          11,
          12,
          13,
          14,
          15,
          16,
          17,
          18,
          19,
          20,
          21,
          22,
          23,
          24,
          25,
          26,
          27,
          28,
          29,
          30
         ],
         "y": [
          88.2,
          92.77142857142857,
          93.77142857142857,
          94.67142857142858,
          95.12857142857143,
          95.58571428571429,
          95.38571428571429,
          95.82857142857144,
          96.1,
          95.82857142857144,
          96.45714285714286,
          96.45714285714286,
          96.38571428571429,
          96.72857142857143,
          96.78571428571429,
          96.47142857142858,
          96.68571428571428,
          97.12857142857143,
          96.88571428571429,
          96.91428571428573,
          96.85714285714285,
          96.89999999999999,
          97.02857142857142,
          96.98571428571428,
          97.2,
          97.24285714285715,
          97.21428571428572,
          97.27142857142857,
          97.37142857142858,
          97.37142857142858
         ]
        },
        {
         "line": {
          "color": "#FF0000",
          "dash": "dot"
         },
         "mode": "lines+markers",
         "name": "FedAvg Client 1",
         "type": "scatter",
         "x": [
          1,
          2,
          3,
          4,
          5,
          6,
          7,
          8,
          9,
          10,
          11,
          12,
          13,
          14,
          15,
          16,
          17,
          18,
          19,
          20,
          21,
          22,
          23,
          24,
          25,
          26,
          27,
          28,
          29,
          30
         ],
         "y": [
          92.85714285714286,
          95.07142857142857,
          96.82142857142857,
          97,
          96.39285714285715,
          96.28571428571429,
          95.21428571428572,
          95.89285714285715,
          96.21428571428572,
          97.10714285714286,
          97.14285714285714,
          96.75,
          95.92857142857143,
          96.5,
          96.10714285714286,
          97.32142857142857,
          96.32142857142857,
          97.67857142857143,
          96.71428571428572,
          97.96428571428571,
          96.57142857142857,
          95.85714285714285,
          96.64285714285714,
          96.82142857142857,
          98.32142857142857,
          97.78571428571429,
          96.78571428571429,
          98.21428571428571,
          97.03571428571428,
          97.57142857142857
         ]
        },
        {
         "line": {
          "color": "#FF0000",
          "dash": "dash"
         },
         "mode": "lines+markers",
         "name": "FedAvgM Client 1",
         "type": "scatter",
         "x": [
          1,
          2,
          3,
          4,
          5,
          6,
          7,
          8,
          9,
          10,
          11,
          12,
          13,
          14,
          15,
          16,
          17,
          18,
          19,
          20,
          21,
          22,
          23,
          24,
          25,
          26,
          27,
          28,
          29,
          30
         ],
         "y": [
          93.75,
          95.60714285714286,
          94.39285714285714,
          96.67857142857143,
          97,
          96.67857142857143,
          96.71428571428572,
          96.28571428571429,
          97.14285714285714,
          97.46428571428571,
          98.25,
          96.35714285714285,
          96.53571428571428,
          97.25,
          96.60714285714286,
          97,
          98.25,
          98.46428571428572,
          98.57142857142858,
          97.35714285714285,
          97.21428571428572,
          97.07142857142857,
          97,
          97.89285714285715,
          97.82142857142857,
          98.75,
          98,
          98.89285714285714,
          98.07142857142857,
          97.25
         ]
        },
        {
         "line": {
          "color": "#0000FF",
          "dash": "dot"
         },
         "mode": "lines+markers",
         "name": "FedAvg Client 2",
         "type": "scatter",
         "x": [
          1,
          2,
          3,
          4,
          5,
          6,
          7,
          8,
          9,
          10,
          11,
          12,
          13,
          14,
          15,
          16,
          17,
          18,
          19,
          20,
          21,
          22,
          23,
          24,
          25,
          26,
          27,
          28,
          29,
          30
         ],
         "y": [
          93.57142857142857,
          92.57142857142857,
          96.46428571428571,
          96.17857142857143,
          96.28571428571429,
          97.03571428571428,
          96.96428571428571,
          96.85714285714285,
          97.67857142857143,
          98.03571428571428,
          97.10714285714286,
          98.10714285714286,
          97.78571428571429,
          97.67857142857143,
          98.03571428571428,
          96.67857142857143,
          97.35714285714285,
          97.39285714285715,
          96,
          97.39285714285715,
          96.85714285714285,
          97.14285714285714,
          97.75,
          97.67857142857143,
          99.10714285714286,
          98.14285714285714,
          98.42857142857143,
          97.25,
          97.57142857142857,
          98.46428571428572
         ]
        },
        {
         "line": {
          "color": "#0000FF",
          "dash": "dash"
         },
         "mode": "lines+markers",
         "name": "FedAvgM Client 2",
         "type": "scatter",
         "x": [
          1,
          2,
          3,
          4,
          5,
          6,
          7,
          8,
          9,
          10,
          11,
          12,
          13,
          14,
          15,
          16,
          17,
          18,
          19,
          20,
          21,
          22,
          23,
          24,
          25,
          26,
          27,
          28,
          29,
          30
         ],
         "y": [
          92.17857142857143,
          95.35714285714286,
          94.53571428571429,
          96.10714285714286,
          96.60714285714286,
          97.17857142857143,
          95.42857142857143,
          96.64285714285714,
          96.96428571428571,
          98.14285714285714,
          97.53571428571428,
          97.82142857142857,
          98,
          97.5,
          97.21428571428572,
          96.5,
          97.53571428571428,
          97.17857142857143,
          97.82142857142857,
          95.14285714285714,
          97.82142857142857,
          97,
          97.67857142857143,
          98.17857142857143,
          97.71428571428571,
          98.5,
          97.82142857142857,
          96.42857142857143,
          98.60714285714286,
          98
         ]
        },
        {
         "line": {
          "color": "#00AA00",
          "dash": "dot"
         },
         "mode": "lines+markers",
         "name": "FedAvg Client 3",
         "type": "scatter",
         "x": [
          1,
          2,
          3,
          4,
          5,
          6,
          7,
          8,
          9,
          10,
          11,
          12,
          13,
          14,
          15,
          16,
          17,
          18,
          19,
          20,
          21,
          22,
          23,
          24,
          25,
          26,
          27,
          28,
          29,
          30
         ],
         "y": [
          91.35714285714286,
          94.92857142857143,
          94.07142857142857,
          94.92857142857143,
          96.85714285714285,
          95.78571428571429,
          95.78571428571429,
          95.17857142857142,
          96.89285714285715,
          96.82142857142857,
          95.89285714285715,
          97.14285714285714,
          97.64285714285714,
          96.64285714285714,
          96.82142857142857,
          97.57142857142857,
          97.53571428571428,
          96.25,
          97.75,
          97.32142857142857,
          97.10714285714286,
          96.82142857142857,
          97.17857142857143,
          96.71428571428572,
          98.07142857142857,
          98.03571428571428,
          96.35714285714285,
          97.53571428571428,
          97.85714285714285,
          96.46428571428571
         ]
        },
        {
         "line": {
          "color": "#00AA00",
          "dash": "dash"
         },
         "mode": "lines+markers",
         "name": "FedAvgM Client 3",
         "type": "scatter",
         "x": [
          1,
          2,
          3,
          4,
          5,
          6,
          7,
          8,
          9,
          10,
          11,
          12,
          13,
          14,
          15,
          16,
          17,
          18,
          19,
          20,
          21,
          22,
          23,
          24,
          25,
          26,
          27,
          28,
          29,
          30
         ],
         "y": [
          91,
          94.21428571428572,
          94.5,
          95.10714285714286,
          95.28571428571428,
          96.25,
          95.35714285714286,
          97.07142857142857,
          96.32142857142857,
          94.71428571428572,
          95.82142857142857,
          97.71428571428571,
          97.53571428571428,
          96.71428571428572,
          97.28571428571429,
          97.14285714285714,
          97.42857142857143,
          95.14285714285714,
          96.89285714285715,
          97.85714285714285,
          97.03571428571428,
          97.42857142857143,
          97.96428571428571,
          96.25,
          97.10714285714286,
          97.75,
          97.64285714285714,
          97.5,
          98.21428571428571,
          98.39285714285714
         ]
        },
        {
         "line": {
          "color": "#FFA500",
          "dash": "dot"
         },
         "mode": "lines+markers",
         "name": "FedAvg Client 4",
         "type": "scatter",
         "x": [
          1,
          2,
          3,
          4,
          5,
          6,
          7,
          8,
          9,
          10,
          11,
          12,
          13,
          14,
          15,
          16,
          17,
          18,
          19,
          20,
          21,
          22,
          23,
          24,
          25,
          26,
          27,
          28,
          29,
          30
         ],
         "y": [
          93.35714285714286,
          95.28571428571428,
          92.85714285714286,
          96.57142857142857,
          95.96428571428571,
          96.28571428571429,
          96.57142857142857,
          95.67857142857143,
          96.46428571428571,
          97.67857142857143,
          97,
          96.96428571428571,
          96.67857142857143,
          96.60714285714286,
          97.53571428571428,
          96.07142857142857,
          98.39285714285714,
          97.78571428571429,
          97.89285714285715,
          95.96428571428571,
          96.71428571428572,
          97.39285714285715,
          97.89285714285715,
          97.82142857142857,
          95.17857142857142,
          97.96428571428571,
          97.89285714285715,
          97.42857142857143,
          97.53571428571428,
          97.75
         ]
        },
        {
         "line": {
          "color": "#FFA500",
          "dash": "dash"
         },
         "mode": "lines+markers",
         "name": "FedAvgM Client 4",
         "type": "scatter",
         "x": [
          1,
          2,
          3,
          4,
          5,
          6,
          7,
          8,
          9,
          10,
          11,
          12,
          13,
          14,
          15,
          16,
          17,
          18,
          19,
          20,
          21,
          22,
          23,
          24,
          25,
          26,
          27,
          28,
          29,
          30
         ],
         "y": [
          91.89285714285714,
          95,
          94.82142857142857,
          95.42857142857143,
          93.82142857142857,
          95.14285714285714,
          96.35714285714285,
          97.5,
          96.14285714285714,
          95.42857142857143,
          96.10714285714286,
          95.32142857142857,
          97.10714285714286,
          96.57142857142857,
          97.96428571428571,
          98.28571428571429,
          97.89285714285715,
          96.53571428571428,
          96.35714285714285,
          96.57142857142857,
          96.71428571428572,
          97.96428571428571,
          97.42857142857143,
          97,
          97.89285714285715,
          98.14285714285714,
          97.96428571428571,
          95.46428571428571,
          97.60714285714286,
          98.10714285714286
         ]
        },
        {
         "line": {
          "color": "#800080",
          "dash": "dot"
         },
         "mode": "lines+markers",
         "name": "FedAvg Client 5",
         "type": "scatter",
         "x": [
          1,
          2,
          3,
          4,
          5,
          6,
          7,
          8,
          9,
          10,
          11,
          12,
          13,
          14,
          15,
          16,
          17,
          18,
          19,
          20,
          21,
          22,
          23,
          24,
          25,
          26,
          27,
          28,
          29,
          30
         ],
         "y": [
          86.75,
          95.32142857142857,
          93.46428571428571,
          96.89285714285715,
          95.14285714285714,
          95.25,
          96.64285714285714,
          96.39285714285715,
          95.75,
          96.07142857142857,
          94.10714285714286,
          96.89285714285715,
          95.75,
          96.53571428571428,
          96.28571428571429,
          95.75,
          95.85714285714285,
          97.82142857142857,
          97.53571428571428,
          96.42857142857143,
          97.92857142857143,
          98.21428571428571,
          98.32142857142857,
          97.78571428571429,
          98.71428571428571,
          97.35714285714285,
          98.5,
          97.57142857142857,
          98.82142857142857,
          97
         ]
        },
        {
         "line": {
          "color": "#800080",
          "dash": "dash"
         },
         "mode": "lines+markers",
         "name": "FedAvgM Client 5",
         "type": "scatter",
         "x": [
          1,
          2,
          3,
          4,
          5,
          6,
          7,
          8,
          9,
          10,
          11,
          12,
          13,
          14,
          15,
          16,
          17,
          18,
          19,
          20,
          21,
          22,
          23,
          24,
          25,
          26,
          27,
          28,
          29,
          30
         ],
         "y": [
          91.32142857142857,
          93.28571428571428,
          95.67857142857143,
          95.64285714285714,
          95.10714285714286,
          94.46428571428571,
          95.35714285714286,
          95.60714285714286,
          97.07142857142857,
          96.60714285714286,
          96.89285714285715,
          97.53571428571428,
          96.96428571428571,
          96.35714285714285,
          97.57142857142857,
          98,
          97.14285714285714,
          97.42857142857143,
          97.35714285714285,
          97.78571428571429,
          97.25,
          97.75,
          96.89285714285715,
          98,
          98.53571428571428,
          97.42857142857143,
          97,
          98.10714285714286,
          97.25,
          97.21428571428572
         ]
        },
        {
         "line": {
          "color": "#00CED1",
          "dash": "dot"
         },
         "mode": "lines+markers",
         "name": "FedAvg Client 6",
         "type": "scatter",
         "x": [
          1,
          2,
          3,
          4,
          5,
          6,
          7,
          8,
          9,
          10,
          11,
          12,
          13,
          14,
          15,
          16,
          17,
          18,
          19,
          20,
          21,
          22,
          23,
          24,
          25,
          26,
          27,
          28,
          29,
          30
         ],
         "y": [
          93.39285714285714,
          93.96428571428571,
          95.96428571428571,
          96.64285714285714,
          95.5,
          97.46428571428571,
          95,
          96.28571428571429,
          96.21428571428572,
          96.14285714285714,
          96.5,
          96.32142857142857,
          98.10714285714286,
          96.21428571428572,
          97.82142857142857,
          96.32142857142857,
          97.5,
          97.25,
          97.10714285714286,
          96.75,
          96.89285714285715,
          97.96428571428571,
          98.32142857142857,
          97.71428571428571,
          97.78571428571429,
          98.21428571428571,
          98.57142857142858,
          96.57142857142857,
          96.64285714285714,
          98.78571428571429
         ]
        },
        {
         "line": {
          "color": "#00CED1",
          "dash": "dash"
         },
         "mode": "lines+markers",
         "name": "FedAvgM Client 6",
         "type": "scatter",
         "x": [
          1,
          2,
          3,
          4,
          5,
          6,
          7,
          8,
          9,
          10,
          11,
          12,
          13,
          14,
          15,
          16,
          17,
          18,
          19,
          20,
          21,
          22,
          23,
          24,
          25,
          26,
          27,
          28,
          29,
          30
         ],
         "y": [
          93.35714285714286,
          94.60714285714286,
          94.89285714285714,
          95.35714285714286,
          95.92857142857143,
          95.92857142857143,
          97.21428571428572,
          96.92857142857143,
          95.82142857142857,
          97.25,
          97.14285714285714,
          97.5,
          97.92857142857143,
          97.46428571428571,
          95.60714285714286,
          98.42857142857143,
          97.75,
          98,
          97.92857142857143,
          98.5,
          96.75,
          98.10714285714286,
          96.75,
          98.42857142857143,
          97.53571428571428,
          97.92857142857143,
          96.64285714285714,
          96.96428571428571,
          98.42857142857143,
          98.32142857142857
         ]
        },
        {
         "line": {
          "color": "#FFD700",
          "dash": "dot"
         },
         "mode": "lines+markers",
         "name": "FedAvg Client 7",
         "type": "scatter",
         "x": [
          1,
          2,
          3,
          4,
          5,
          6,
          7,
          8,
          9,
          10,
          11,
          12,
          13,
          14,
          15,
          16,
          17,
          18,
          19,
          20,
          21,
          22,
          23,
          24,
          25,
          26,
          27,
          28,
          29,
          30
         ],
         "y": [
          92.85714285714286,
          93.17857142857143,
          93.78571428571428,
          95.82142857142857,
          95.64285714285714,
          93.10714285714286,
          97.03571428571428,
          96.53571428571428,
          97.85714285714285,
          96.07142857142857,
          96.03571428571429,
          96.32142857142857,
          96.21428571428572,
          95.32142857142857,
          96.25,
          97.10714285714286,
          96.35714285714285,
          97.57142857142857,
          97.67857142857143,
          96.82142857142857,
          97.96428571428571,
          97.53571428571428,
          96.21428571428572,
          98.5,
          97.96428571428571,
          94.71428571428572,
          97.10714285714286,
          97.42857142857143,
          97.92857142857143,
          98.07142857142857
         ]
        },
        {
         "line": {
          "color": "#FFD700",
          "dash": "dash"
         },
         "mode": "lines+markers",
         "name": "FedAvgM Client 7",
         "type": "scatter",
         "x": [
          1,
          2,
          3,
          4,
          5,
          6,
          7,
          8,
          9,
          10,
          11,
          12,
          13,
          14,
          15,
          16,
          17,
          18,
          19,
          20,
          21,
          22,
          23,
          24,
          25,
          26,
          27,
          28,
          29,
          30
         ],
         "y": [
          93.89285714285714,
          95,
          95.46428571428571,
          94.07142857142857,
          97.53571428571428,
          95.60714285714286,
          95.53571428571429,
          95.46428571428571,
          97.07142857142857,
          97.21428571428572,
          97.28571428571429,
          96.82142857142857,
          97.85714285714285,
          97.14285714285714,
          97.5,
          97.10714285714286,
          98.21428571428571,
          95.28571428571428,
          96.17857142857143,
          97.57142857142857,
          97.82142857142857,
          98.53571428571428,
          97.71428571428571,
          98.21428571428571,
          98.25,
          96.57142857142857,
          96.96428571428571,
          97.53571428571428,
          98.03571428571428,
          97.25
         ]
        },
        {
         "line": {
          "color": "#A52A2A",
          "dash": "dot"
         },
         "mode": "lines+markers",
         "name": "FedAvg Client 8",
         "type": "scatter",
         "x": [
          1,
          2,
          3,
          4,
          5,
          6,
          7,
          8,
          9,
          10,
          11,
          12,
          13,
          14,
          15,
          16,
          17,
          18,
          19,
          20,
          21,
          22,
          23,
          24,
          25,
          26,
          27,
          28,
          29,
          30
         ],
         "y": [
          93.10714285714286,
          93.10714285714286,
          95.35714285714286,
          95.28571428571428,
          96.5,
          97.17857142857143,
          97.67857142857143,
          95.53571428571429,
          96.78571428571429,
          96.39285714285715,
          97.39285714285715,
          97.82142857142857,
          98,
          97.85714285714285,
          96.71428571428572,
          97.5,
          96,
          96.96428571428571,
          97.92857142857143,
          96.21428571428572,
          96.92857142857143,
          98.35714285714286,
          95.53571428571429,
          97.78571428571429,
          98.25,
          98.14285714285714,
          98.57142857142858,
          98.25,
          98.14285714285714,
          96.96428571428571
         ]
        },
        {
         "line": {
          "color": "#A52A2A",
          "dash": "dash"
         },
         "mode": "lines+markers",
         "name": "FedAvgM Client 8",
         "type": "scatter",
         "x": [
          1,
          2,
          3,
          4,
          5,
          6,
          7,
          8,
          9,
          10,
          11,
          12,
          13,
          14,
          15,
          16,
          17,
          18,
          19,
          20,
          21,
          22,
          23,
          24,
          25,
          26,
          27,
          28,
          29,
          30
         ],
         "y": [
          93.28571428571428,
          94.39285714285714,
          94.60714285714286,
          96.60714285714286,
          96.78571428571429,
          95.92857142857143,
          94.71428571428572,
          96.57142857142857,
          96.71428571428572,
          97.07142857142857,
          97.71428571428571,
          97.10714285714286,
          96.21428571428572,
          97.92857142857143,
          95.35714285714286,
          95.14285714285714,
          97.78571428571429,
          96.14285714285714,
          97.92857142857143,
          97.75,
          97.89285714285715,
          96.82142857142857,
          98.17857142857143,
          97.10714285714286,
          97.89285714285715,
          98.42857142857143,
          97.75,
          98.14285714285714,
          98,
          98.10714285714286
         ]
        },
        {
         "line": {
          "color": "#808080",
          "dash": "dot"
         },
         "mode": "lines+markers",
         "name": "FedAvg Client 9",
         "type": "scatter",
         "x": [
          1,
          2,
          3,
          4,
          5,
          6,
          7,
          8,
          9,
          10,
          11,
          12,
          13,
          14,
          15,
          16,
          17,
          18,
          19,
          20,
          21,
          22,
          23,
          24,
          25,
          26,
          27,
          28,
          29,
          30
         ],
         "y": [
          91.92857142857143,
          92.35714285714286,
          94.96428571428571,
          96.03571428571429,
          95.25,
          96.85714285714285,
          97.57142857142857,
          96.32142857142857,
          97.35714285714285,
          96.39285714285715,
          97.14285714285714,
          95.89285714285715,
          95.92857142857143,
          96.60714285714286,
          97.60714285714286,
          97.25,
          96.64285714285714,
          97.85714285714285,
          96.89285714285715,
          97.89285714285715,
          98.5,
          97.64285714285714,
          97.21428571428572,
          96.71428571428572,
          98,
          98.82142857142857,
          96.92857142857143,
          97.46428571428571,
          98.17857142857143,
          97.35714285714285
         ]
        },
        {
         "line": {
          "color": "#808080",
          "dash": "dash"
         },
         "mode": "lines+markers",
         "name": "FedAvgM Client 9",
         "type": "scatter",
         "x": [
          1,
          2,
          3,
          4,
          5,
          6,
          7,
          8,
          9,
          10,
          11,
          12,
          13,
          14,
          15,
          16,
          17,
          18,
          19,
          20,
          21,
          22,
          23,
          24,
          25,
          26,
          27,
          28,
          29,
          30
         ],
         "y": [
          91.64285714285715,
          94.57142857142857,
          94.67857142857142,
          95.42857142857143,
          96.39285714285715,
          96.32142857142857,
          96.82142857142857,
          97.53571428571428,
          97.71428571428571,
          96.60714285714286,
          96.71428571428572,
          96.28571428571429,
          97.03571428571428,
          97.17857142857143,
          96.92857142857143,
          97.53571428571428,
          97.71428571428571,
          97.57142857142857,
          98.28571428571429,
          95.32142857142857,
          98.21428571428571,
          97.25,
          96.64285714285714,
          97.75,
          98.5,
          95.75,
          97.64285714285714,
          95.10714285714286,
          98.25,
          98.92857142857143
         ]
        },
        {
         "line": {
          "color": "#FF69B4",
          "dash": "dot"
         },
         "mode": "lines+markers",
         "name": "FedAvg Client 10",
         "type": "scatter",
         "x": [
          1,
          2,
          3,
          4,
          5,
          6,
          7,
          8,
          9,
          10,
          11,
          12,
          13,
          14,
          15,
          16,
          17,
          18,
          19,
          20,
          21,
          22,
          23,
          24,
          25,
          26,
          27,
          28,
          29,
          30
         ],
         "y": [
          92.17857142857143,
          94.10714285714286,
          95.60714285714286,
          93.67857142857143,
          94.5,
          97.07142857142857,
          97.03571428571428,
          97.32142857142857,
          97.10714285714286,
          96.14285714285714,
          96.78571428571429,
          97.46428571428571,
          97.82142857142857,
          97.75,
          98.17857142857143,
          96.78571428571429,
          98.07142857142857,
          97.42857142857143,
          97.71428571428571,
          96.46428571428571,
          96.35714285714285,
          98,
          97.28571428571429,
          97.46428571428571,
          98.28571428571429,
          98.75,
          97.35714285714285,
          98.60714285714286,
          98,
          98.25
         ]
        },
        {
         "line": {
          "color": "#FF69B4",
          "dash": "dash"
         },
         "mode": "lines+markers",
         "name": "FedAvgM Client 10",
         "type": "scatter",
         "x": [
          1,
          2,
          3,
          4,
          5,
          6,
          7,
          8,
          9,
          10,
          11,
          12,
          13,
          14,
          15,
          16,
          17,
          18,
          19,
          20,
          21,
          22,
          23,
          24,
          25,
          26,
          27,
          28,
          29,
          30
         ],
         "y": [
          93.78571428571428,
          93.92857142857143,
          95.82142857142857,
          96.53571428571428,
          94.78571428571428,
          96.75,
          96.85714285714285,
          97.64285714285714,
          96.64285714285714,
          96.82142857142857,
          96.07142857142857,
          98.03571428571428,
          96.64285714285714,
          97.75,
          97.25,
          97.78571428571429,
          96.75,
          96.82142857142857,
          96.67857142857143,
          97.53571428571428,
          97.42857142857143,
          98.14285714285714,
          98.5,
          98,
          97.35714285714285,
          95.89285714285715,
          97.75,
          96.53571428571428,
          98.42857142857143,
          98.67857142857143
         ]
        },
        {
         "line": {
          "color": "#00FFFF",
          "dash": "dot"
         },
         "mode": "lines+markers",
         "name": "FedAvg Client 11",
         "type": "scatter",
         "x": [
          1,
          2,
          3,
          4,
          5,
          6,
          7,
          8,
          9,
          10,
          11,
          12,
          13,
          14,
          15,
          16,
          17,
          18,
          19,
          20,
          21,
          22,
          23,
          24,
          25,
          26,
          27,
          28,
          29,
          30
         ],
         "y": [
          91.10714285714285,
          93.17857142857143,
          95.92857142857143,
          96.14285714285714,
          95.35714285714286,
          95.89285714285715,
          95.35714285714286,
          96.64285714285714,
          97.96428571428571,
          98.03571428571428,
          96.5,
          97.39285714285715,
          97.67857142857143,
          96.46428571428571,
          97.17857142857143,
          97.42857142857143,
          97.64285714285714,
          96.42857142857143,
          98.07142857142857,
          97.60714285714286,
          97.03571428571428,
          98.17857142857143,
          97.32142857142857,
          98.71428571428571,
          98.10714285714286,
          97.60714285714286,
          96.71428571428572,
          96.89285714285715,
          97.82142857142857,
          97.21428571428572
         ]
        },
        {
         "line": {
          "color": "#00FFFF",
          "dash": "dash"
         },
         "mode": "lines+markers",
         "name": "FedAvgM Client 11",
         "type": "scatter",
         "x": [
          1,
          2,
          3,
          4,
          5,
          6,
          7,
          8,
          9,
          10,
          11,
          12,
          13,
          14,
          15,
          16,
          17,
          18,
          19,
          20,
          21,
          22,
          23,
          24,
          25,
          26,
          27,
          28,
          29,
          30
         ],
         "y": [
          89.42857142857143,
          91.96428571428571,
          94.21428571428572,
          97.17857142857143,
          96.57142857142857,
          95.96428571428571,
          96.60714285714286,
          97.25,
          97.57142857142857,
          96.64285714285714,
          97.60714285714286,
          98.57142857142858,
          96.64285714285714,
          97.17857142857143,
          97.89285714285715,
          95.42857142857143,
          97.5,
          98.03571428571428,
          97.14285714285714,
          97.82142857142857,
          97.96428571428571,
          96.82142857142857,
          98,
          96.71428571428572,
          97.96428571428571,
          98.14285714285714,
          96.82142857142857,
          97.96428571428571,
          97.82142857142857,
          97.5
         ]
        },
        {
         "line": {
          "color": "#8B0000",
          "dash": "dot"
         },
         "mode": "lines+markers",
         "name": "FedAvg Client 12",
         "type": "scatter",
         "x": [
          1,
          2,
          3,
          4,
          5,
          6,
          7,
          8,
          9,
          10,
          11,
          12,
          13,
          14,
          15,
          16,
          17,
          18,
          19,
          20,
          21,
          22,
          23,
          24,
          25,
          26,
          27,
          28,
          29,
          30
         ],
         "y": [
          91.17857142857143,
          92.89285714285714,
          93.32142857142857,
          94.78571428571428,
          94.17857142857143,
          96.5,
          95.89285714285715,
          95,
          95.92857142857143,
          97.78571428571429,
          96.78571428571429,
          97.46428571428571,
          96.92857142857143,
          96.92857142857143,
          98.07142857142857,
          97.28571428571429,
          97.92857142857143,
          96.75,
          97.07142857142857,
          97.46428571428571,
          97.53571428571428,
          96.42857142857143,
          98.42857142857143,
          96.60714285714286,
          97.89285714285715,
          97.71428571428571,
          98.39285714285714,
          97.14285714285714,
          97.78571428571429,
          97.71428571428571
         ]
        },
        {
         "line": {
          "color": "#8B0000",
          "dash": "dash"
         },
         "mode": "lines+markers",
         "name": "FedAvgM Client 12",
         "type": "scatter",
         "x": [
          1,
          2,
          3,
          4,
          5,
          6,
          7,
          8,
          9,
          10,
          11,
          12,
          13,
          14,
          15,
          16,
          17,
          18,
          19,
          20,
          21,
          22,
          23,
          24,
          25,
          26,
          27,
          28,
          29,
          30
         ],
         "y": [
          91.07142857142857,
          95.17857142857142,
          94.10714285714286,
          95.85714285714285,
          96.14285714285714,
          96.71428571428572,
          96.42857142857143,
          96.75,
          97.32142857142857,
          96.78571428571429,
          97.35714285714285,
          95.75,
          97.32142857142857,
          97,
          97.46428571428571,
          96.96428571428571,
          97.10714285714286,
          96.57142857142857,
          97.28571428571429,
          97.39285714285715,
          97.5,
          97.10714285714286,
          98.17857142857143,
          95.92857142857143,
          97.67857142857143,
          97.32142857142857,
          98.21428571428571,
          98.14285714285714,
          97.82142857142857,
          97.17857142857143
         ]
        },
        {
         "line": {
          "color": "#4B0082",
          "dash": "dot"
         },
         "mode": "lines+markers",
         "name": "FedAvg Client 13",
         "type": "scatter",
         "x": [
          1,
          2,
          3,
          4,
          5,
          6,
          7,
          8,
          9,
          10,
          11,
          12,
          13,
          14,
          15,
          16,
          17,
          18,
          19,
          20,
          21,
          22,
          23,
          24,
          25,
          26,
          27,
          28,
          29,
          30
         ],
         "y": [
          93.53571428571429,
          94.25,
          93.75,
          94.46428571428571,
          94.5,
          95.96428571428571,
          95.64285714285714,
          96.82142857142857,
          98.21428571428571,
          97.78571428571429,
          96.25,
          97.96428571428571,
          97.71428571428571,
          97.46428571428571,
          98.03571428571428,
          97.17857142857143,
          97,
          98.21428571428571,
          97.96428571428571,
          97.67857142857143,
          97.89285714285715,
          95.89285714285715,
          98.25,
          97.85714285714285,
          97.89285714285715,
          98.60714285714286,
          96.28571428571429,
          98.5,
          97.32142857142857,
          97.92857142857143
         ]
        },
        {
         "line": {
          "color": "#4B0082",
          "dash": "dash"
         },
         "mode": "lines+markers",
         "name": "FedAvgM Client 13",
         "type": "scatter",
         "x": [
          1,
          2,
          3,
          4,
          5,
          6,
          7,
          8,
          9,
          10,
          11,
          12,
          13,
          14,
          15,
          16,
          17,
          18,
          19,
          20,
          21,
          22,
          23,
          24,
          25,
          26,
          27,
          28,
          29,
          30
         ],
         "y": [
          93.71428571428572,
          94.21428571428572,
          94.60714285714286,
          95.82142857142857,
          96.71428571428572,
          96.78571428571429,
          96.53571428571428,
          96.82142857142857,
          96.28571428571429,
          97.17857142857143,
          96.82142857142857,
          96.75,
          97.42857142857143,
          97.67857142857143,
          97.89285714285715,
          97.21428571428572,
          98.42857142857143,
          98.53571428571428,
          97.60714285714286,
          97.85714285714285,
          97.32142857142857,
          97.17857142857143,
          97.92857142857143,
          98.82142857142857,
          98.71428571428571,
          97.32142857142857,
          97.82142857142857,
          97.25,
          97.32142857142857,
          98.42857142857143
         ]
        },
        {
         "line": {
          "color": "#7FFF00",
          "dash": "dot"
         },
         "mode": "lines+markers",
         "name": "FedAvg Client 14",
         "type": "scatter",
         "x": [
          1,
          2,
          3,
          4,
          5,
          6,
          7,
          8,
          9,
          10,
          11,
          12,
          13,
          14,
          15,
          16,
          17,
          18,
          19,
          20,
          21,
          22,
          23,
          24,
          25,
          26,
          27,
          28,
          29,
          30
         ],
         "y": [
          93.28571428571428,
          93.42857142857143,
          93.28571428571428,
          96.07142857142857,
          96,
          96.53571428571428,
          95.82142857142857,
          95.35714285714286,
          97.17857142857143,
          96.07142857142857,
          97.46428571428571,
          97.14285714285714,
          95.89285714285715,
          97.17857142857143,
          94.82142857142857,
          98.03571428571428,
          95.96428571428571,
          97.10714285714286,
          96.82142857142857,
          97.46428571428571,
          98.5,
          97.82142857142857,
          97.25,
          98.14285714285714,
          98.5,
          97.60714285714286,
          97.46428571428571,
          97.10714285714286,
          97.64285714285714,
          97.39285714285715
         ]
        },
        {
         "line": {
          "color": "#7FFF00",
          "dash": "dash"
         },
         "mode": "lines+markers",
         "name": "FedAvgM Client 14",
         "type": "scatter",
         "x": [
          1,
          2,
          3,
          4,
          5,
          6,
          7,
          8,
          9,
          10,
          11,
          12,
          13,
          14,
          15,
          16,
          17,
          18,
          19,
          20,
          21,
          22,
          23,
          24,
          25,
          26,
          27,
          28,
          29,
          30
         ],
         "y": [
          91.57142857142857,
          93.82142857142857,
          94.89285714285714,
          95.85714285714285,
          95.57142857142857,
          96.25,
          96.42857142857143,
          97.14285714285714,
          97.07142857142857,
          96.07142857142857,
          96.5,
          96.96428571428571,
          96.71428571428572,
          97.71428571428571,
          98.03571428571428,
          96.53571428571428,
          97.14285714285714,
          97.85714285714285,
          98.28571428571429,
          97.07142857142857,
          97.71428571428571,
          97.53571428571428,
          96.92857142857143,
          97.25,
          97.64285714285714,
          96.64285714285714,
          97.21428571428572,
          97.32142857142857,
          98.17857142857143,
          97.39285714285715
         ]
        },
        {
         "line": {
          "color": "#FF1493",
          "dash": "dot"
         },
         "mode": "lines+markers",
         "name": "FedAvg Client 15",
         "type": "scatter",
         "x": [
          1,
          2,
          3,
          4,
          5,
          6,
          7,
          8,
          9,
          10,
          11,
          12,
          13,
          14,
          15,
          16,
          17,
          18,
          19,
          20,
          21,
          22,
          23,
          24,
          25,
          26,
          27,
          28,
          29,
          30
         ],
         "y": [
          88.92857142857142,
          92.67857142857143,
          93.57142857142857,
          94.25,
          95.35714285714286,
          96.03571428571429,
          97.42857142857143,
          96.25,
          97.25,
          96.39285714285715,
          96.53571428571428,
          97.10714285714286,
          97.75,
          96.39285714285715,
          95.21428571428572,
          97.25,
          96.10714285714286,
          97.60714285714286,
          97.35714285714285,
          96.60714285714286,
          98.39285714285714,
          98.42857142857143,
          95.67857142857143,
          97.92857142857143,
          98.39285714285714,
          96.5,
          97,
          97.82142857142857,
          98.17857142857143,
          97.60714285714286
         ]
        },
        {
         "line": {
          "color": "#FF1493",
          "dash": "dash"
         },
         "mode": "lines+markers",
         "name": "FedAvgM Client 15",
         "type": "scatter",
         "x": [
          1,
          2,
          3,
          4,
          5,
          6,
          7,
          8,
          9,
          10,
          11,
          12,
          13,
          14,
          15,
          16,
          17,
          18,
          19,
          20,
          21,
          22,
          23,
          24,
          25,
          26,
          27,
          28,
          29,
          30
         ],
         "y": [
          89.57142857142857,
          93.82142857142857,
          94.85714285714286,
          95.89285714285715,
          95.25,
          96.35714285714285,
          96.07142857142857,
          96,
          94.57142857142857,
          96.78571428571429,
          94.35714285714286,
          97.03571428571428,
          97.25,
          97.71428571428571,
          97.64285714285714,
          95.89285714285715,
          97.60714285714286,
          96.39285714285715,
          96.75,
          96.53571428571428,
          97.5,
          97.85714285714285,
          96.85714285714285,
          96.14285714285714,
          96.53571428571428,
          98.35714285714286,
          96.53571428571428,
          97,
          97.07142857142857,
          97.85714285714285
         ]
        }
       ],
       "layout": {
        "template": {
         "data": {
          "bar": [
           {
            "error_x": {
             "color": "#2a3f5f"
            },
            "error_y": {
             "color": "#2a3f5f"
            },
            "marker": {
             "line": {
              "color": "white",
              "width": 0.5
             },
             "pattern": {
              "fillmode": "overlay",
              "size": 10,
              "solidity": 0.2
             }
            },
            "type": "bar"
           }
          ],
          "barpolar": [
           {
            "marker": {
             "line": {
              "color": "white",
              "width": 0.5
             },
             "pattern": {
              "fillmode": "overlay",
              "size": 10,
              "solidity": 0.2
             }
            },
            "type": "barpolar"
           }
          ],
          "carpet": [
           {
            "aaxis": {
             "endlinecolor": "#2a3f5f",
             "gridcolor": "#C8D4E3",
             "linecolor": "#C8D4E3",
             "minorgridcolor": "#C8D4E3",
             "startlinecolor": "#2a3f5f"
            },
            "baxis": {
             "endlinecolor": "#2a3f5f",
             "gridcolor": "#C8D4E3",
             "linecolor": "#C8D4E3",
             "minorgridcolor": "#C8D4E3",
             "startlinecolor": "#2a3f5f"
            },
            "type": "carpet"
           }
          ],
          "choropleth": [
           {
            "colorbar": {
             "outlinewidth": 0,
             "ticks": ""
            },
            "type": "choropleth"
           }
          ],
          "contour": [
           {
            "colorbar": {
             "outlinewidth": 0,
             "ticks": ""
            },
            "colorscale": [
             [
              0,
              "#0d0887"
             ],
             [
              0.1111111111111111,
              "#46039f"
             ],
             [
              0.2222222222222222,
              "#7201a8"
             ],
             [
              0.3333333333333333,
              "#9c179e"
             ],
             [
              0.4444444444444444,
              "#bd3786"
             ],
             [
              0.5555555555555556,
              "#d8576b"
             ],
             [
              0.6666666666666666,
              "#ed7953"
             ],
             [
              0.7777777777777778,
              "#fb9f3a"
             ],
             [
              0.8888888888888888,
              "#fdca26"
             ],
             [
              1,
              "#f0f921"
             ]
            ],
            "type": "contour"
           }
          ],
          "contourcarpet": [
           {
            "colorbar": {
             "outlinewidth": 0,
             "ticks": ""
            },
            "type": "contourcarpet"
           }
          ],
          "heatmap": [
           {
            "colorbar": {
             "outlinewidth": 0,
             "ticks": ""
            },
            "colorscale": [
             [
              0,
              "#0d0887"
             ],
             [
              0.1111111111111111,
              "#46039f"
             ],
             [
              0.2222222222222222,
              "#7201a8"
             ],
             [
              0.3333333333333333,
              "#9c179e"
             ],
             [
              0.4444444444444444,
              "#bd3786"
             ],
             [
              0.5555555555555556,
              "#d8576b"
             ],
             [
              0.6666666666666666,
              "#ed7953"
             ],
             [
              0.7777777777777778,
              "#fb9f3a"
             ],
             [
              0.8888888888888888,
              "#fdca26"
             ],
             [
              1,
              "#f0f921"
             ]
            ],
            "type": "heatmap"
           }
          ],
          "histogram": [
           {
            "marker": {
             "pattern": {
              "fillmode": "overlay",
              "size": 10,
              "solidity": 0.2
             }
            },
            "type": "histogram"
           }
          ],
          "histogram2d": [
           {
            "colorbar": {
             "outlinewidth": 0,
             "ticks": ""
            },
            "colorscale": [
             [
              0,
              "#0d0887"
             ],
             [
              0.1111111111111111,
              "#46039f"
             ],
             [
              0.2222222222222222,
              "#7201a8"
             ],
             [
              0.3333333333333333,
              "#9c179e"
             ],
             [
              0.4444444444444444,
              "#bd3786"
             ],
             [
              0.5555555555555556,
              "#d8576b"
             ],
             [
              0.6666666666666666,
              "#ed7953"
             ],
             [
              0.7777777777777778,
              "#fb9f3a"
             ],
             [
              0.8888888888888888,
              "#fdca26"
             ],
             [
              1,
              "#f0f921"
             ]
            ],
            "type": "histogram2d"
           }
          ],
          "histogram2dcontour": [
           {
            "colorbar": {
             "outlinewidth": 0,
             "ticks": ""
            },
            "colorscale": [
             [
              0,
              "#0d0887"
             ],
             [
              0.1111111111111111,
              "#46039f"
             ],
             [
              0.2222222222222222,
              "#7201a8"
             ],
             [
              0.3333333333333333,
              "#9c179e"
             ],
             [
              0.4444444444444444,
              "#bd3786"
             ],
             [
              0.5555555555555556,
              "#d8576b"
             ],
             [
              0.6666666666666666,
              "#ed7953"
             ],
             [
              0.7777777777777778,
              "#fb9f3a"
             ],
             [
              0.8888888888888888,
              "#fdca26"
             ],
             [
              1,
              "#f0f921"
             ]
            ],
            "type": "histogram2dcontour"
           }
          ],
          "mesh3d": [
           {
            "colorbar": {
             "outlinewidth": 0,
             "ticks": ""
            },
            "type": "mesh3d"
           }
          ],
          "parcoords": [
           {
            "line": {
             "colorbar": {
              "outlinewidth": 0,
              "ticks": ""
             }
            },
            "type": "parcoords"
           }
          ],
          "pie": [
           {
            "automargin": true,
            "type": "pie"
           }
          ],
          "scatter": [
           {
            "fillpattern": {
             "fillmode": "overlay",
             "size": 10,
             "solidity": 0.2
            },
            "type": "scatter"
           }
          ],
          "scatter3d": [
           {
            "line": {
             "colorbar": {
              "outlinewidth": 0,
              "ticks": ""
             }
            },
            "marker": {
             "colorbar": {
              "outlinewidth": 0,
              "ticks": ""
             }
            },
            "type": "scatter3d"
           }
          ],
          "scattercarpet": [
           {
            "marker": {
             "colorbar": {
              "outlinewidth": 0,
              "ticks": ""
             }
            },
            "type": "scattercarpet"
           }
          ],
          "scattergeo": [
           {
            "marker": {
             "colorbar": {
              "outlinewidth": 0,
              "ticks": ""
             }
            },
            "type": "scattergeo"
           }
          ],
          "scattergl": [
           {
            "marker": {
             "colorbar": {
              "outlinewidth": 0,
              "ticks": ""
             }
            },
            "type": "scattergl"
           }
          ],
          "scattermap": [
           {
            "marker": {
             "colorbar": {
              "outlinewidth": 0,
              "ticks": ""
             }
            },
            "type": "scattermap"
           }
          ],
          "scattermapbox": [
           {
            "marker": {
             "colorbar": {
              "outlinewidth": 0,
              "ticks": ""
             }
            },
            "type": "scattermapbox"
           }
          ],
          "scatterpolar": [
           {
            "marker": {
             "colorbar": {
              "outlinewidth": 0,
              "ticks": ""
             }
            },
            "type": "scatterpolar"
           }
          ],
          "scatterpolargl": [
           {
            "marker": {
             "colorbar": {
              "outlinewidth": 0,
              "ticks": ""
             }
            },
            "type": "scatterpolargl"
           }
          ],
          "scatterternary": [
           {
            "marker": {
             "colorbar": {
              "outlinewidth": 0,
              "ticks": ""
             }
            },
            "type": "scatterternary"
           }
          ],
          "surface": [
           {
            "colorbar": {
             "outlinewidth": 0,
             "ticks": ""
            },
            "colorscale": [
             [
              0,
              "#0d0887"
             ],
             [
              0.1111111111111111,
              "#46039f"
             ],
             [
              0.2222222222222222,
              "#7201a8"
             ],
             [
              0.3333333333333333,
              "#9c179e"
             ],
             [
              0.4444444444444444,
              "#bd3786"
             ],
             [
              0.5555555555555556,
              "#d8576b"
             ],
             [
              0.6666666666666666,
              "#ed7953"
             ],
             [
              0.7777777777777778,
              "#fb9f3a"
             ],
             [
              0.8888888888888888,
              "#fdca26"
             ],
             [
              1,
              "#f0f921"
             ]
            ],
            "type": "surface"
           }
          ],
          "table": [
           {
            "cells": {
             "fill": {
              "color": "#EBF0F8"
             },
             "line": {
              "color": "white"
             }
            },
            "header": {
             "fill": {
              "color": "#C8D4E3"
             },
             "line": {
              "color": "white"
             }
            },
            "type": "table"
           }
          ]
         },
         "layout": {
          "annotationdefaults": {
           "arrowcolor": "#2a3f5f",
           "arrowhead": 0,
           "arrowwidth": 1
          },
          "autotypenumbers": "strict",
          "coloraxis": {
           "colorbar": {
            "outlinewidth": 0,
            "ticks": ""
           }
          },
          "colorscale": {
           "diverging": [
            [
             0,
             "#8e0152"
            ],
            [
             0.1,
             "#c51b7d"
            ],
            [
             0.2,
             "#de77ae"
            ],
            [
             0.3,
             "#f1b6da"
            ],
            [
             0.4,
             "#fde0ef"
            ],
            [
             0.5,
             "#f7f7f7"
            ],
            [
             0.6,
             "#e6f5d0"
            ],
            [
             0.7,
             "#b8e186"
            ],
            [
             0.8,
             "#7fbc41"
            ],
            [
             0.9,
             "#4d9221"
            ],
            [
             1,
             "#276419"
            ]
           ],
           "sequential": [
            [
             0,
             "#0d0887"
            ],
            [
             0.1111111111111111,
             "#46039f"
            ],
            [
             0.2222222222222222,
             "#7201a8"
            ],
            [
             0.3333333333333333,
             "#9c179e"
            ],
            [
             0.4444444444444444,
             "#bd3786"
            ],
            [
             0.5555555555555556,
             "#d8576b"
            ],
            [
             0.6666666666666666,
             "#ed7953"
            ],
            [
             0.7777777777777778,
             "#fb9f3a"
            ],
            [
             0.8888888888888888,
             "#fdca26"
            ],
            [
             1,
             "#f0f921"
            ]
           ],
           "sequentialminus": [
            [
             0,
             "#0d0887"
            ],
            [
             0.1111111111111111,
             "#46039f"
            ],
            [
             0.2222222222222222,
             "#7201a8"
            ],
            [
             0.3333333333333333,
             "#9c179e"
            ],
            [
             0.4444444444444444,
             "#bd3786"
            ],
            [
             0.5555555555555556,
             "#d8576b"
            ],
            [
             0.6666666666666666,
             "#ed7953"
            ],
            [
             0.7777777777777778,
             "#fb9f3a"
            ],
            [
             0.8888888888888888,
             "#fdca26"
            ],
            [
             1,
             "#f0f921"
            ]
           ]
          },
          "colorway": [
           "#636efa",
           "#EF553B",
           "#00cc96",
           "#ab63fa",
           "#FFA15A",
           "#19d3f3",
           "#FF6692",
           "#B6E880",
           "#FF97FF",
           "#FECB52"
          ],
          "font": {
           "color": "#2a3f5f"
          },
          "geo": {
           "bgcolor": "white",
           "lakecolor": "white",
           "landcolor": "white",
           "showlakes": true,
           "showland": true,
           "subunitcolor": "#C8D4E3"
          },
          "hoverlabel": {
           "align": "left"
          },
          "hovermode": "closest",
          "mapbox": {
           "style": "light"
          },
          "paper_bgcolor": "white",
          "plot_bgcolor": "white",
          "polar": {
           "angularaxis": {
            "gridcolor": "#EBF0F8",
            "linecolor": "#EBF0F8",
            "ticks": ""
           },
           "bgcolor": "white",
           "radialaxis": {
            "gridcolor": "#EBF0F8",
            "linecolor": "#EBF0F8",
            "ticks": ""
           }
          },
          "scene": {
           "xaxis": {
            "backgroundcolor": "white",
            "gridcolor": "#DFE8F3",
            "gridwidth": 2,
            "linecolor": "#EBF0F8",
            "showbackground": true,
            "ticks": "",
            "zerolinecolor": "#EBF0F8"
           },
           "yaxis": {
            "backgroundcolor": "white",
            "gridcolor": "#DFE8F3",
            "gridwidth": 2,
            "linecolor": "#EBF0F8",
            "showbackground": true,
            "ticks": "",
            "zerolinecolor": "#EBF0F8"
           },
           "zaxis": {
            "backgroundcolor": "white",
            "gridcolor": "#DFE8F3",
            "gridwidth": 2,
            "linecolor": "#EBF0F8",
            "showbackground": true,
            "ticks": "",
            "zerolinecolor": "#EBF0F8"
           }
          },
          "shapedefaults": {
           "line": {
            "color": "#2a3f5f"
           }
          },
          "ternary": {
           "aaxis": {
            "gridcolor": "#DFE8F3",
            "linecolor": "#A2B1C6",
            "ticks": ""
           },
           "baxis": {
            "gridcolor": "#DFE8F3",
            "linecolor": "#A2B1C6",
            "ticks": ""
           },
           "bgcolor": "white",
           "caxis": {
            "gridcolor": "#DFE8F3",
            "linecolor": "#A2B1C6",
            "ticks": ""
           }
          },
          "title": {
           "x": 0.05
          },
          "xaxis": {
           "automargin": true,
           "gridcolor": "#EBF0F8",
           "linecolor": "#EBF0F8",
           "ticks": "",
           "title": {
            "standoff": 15
           },
           "zerolinecolor": "#EBF0F8",
           "zerolinewidth": 2
          },
          "yaxis": {
           "automargin": true,
           "gridcolor": "#EBF0F8",
           "linecolor": "#EBF0F8",
           "ticks": "",
           "title": {
            "standoff": 15
           },
           "zerolinecolor": "#EBF0F8",
           "zerolinewidth": 2
          }
         }
        },
        "title": {
         "text": "Federated Learning: FedAvg vs FedAvgM (Global + Local Accuracies)"
        },
        "xaxis": {
         "title": {
          "text": "Cumulative Epochs"
         }
        },
        "yaxis": {
         "title": {
          "text": "Accuracy (%)"
         }
        }
       }
      }
     },
     "metadata": {},
     "output_type": "display_data"
    }
   ],
   "source": [
    "# === Plotly Visualization ===\n",
    "fig = go.Figure()\n",
    "\n",
    "# Global Accuracies\n",
    "fig.add_trace(go.Scatter(\n",
    "    x=epochs_history, y=fedavg_accs,\n",
    "    mode=\"lines+markers\", name=\"FedAvg Global Acc\", line=dict(color=\"black\", width=3)\n",
    "))\n",
    "fig.add_trace(go.Scatter(\n",
    "    x=epochs_history, y=fedavgM_accs,\n",
    "    mode=\"lines+markers\", name=\"FedAvgM Global Acc\", line=dict(color=\"purple\", width=3)\n",
    "))\n",
    "\n",
    "# Local Clients Accuracies\n",
    "colors = [\n",
    "    \"#FF0000\",  # Red\n",
    "    \"#0000FF\",  # Blue\n",
    "    \"#00AA00\",  # Green\n",
    "    \"#FFA500\",  # Orange\n",
    "    \"#800080\",  # Purple\n",
    "    \"#00CED1\",  # Dark Turquoise\n",
    "    \"#FFD700\",  # Gold\n",
    "    \"#A52A2A\",  # Brown\n",
    "    \"#808080\",  # Gray\n",
    "    \"#FF69B4\",  # Hot Pink\n",
    "    \"#00FFFF\",  # Cyan\n",
    "    \"#8B0000\",  # Dark Red\n",
    "    \"#4B0082\",  # Indigo\n",
    "    \"#7FFF00\",  # Chartreuse\n",
    "    \"#FF1493\",  # Deep Pink\n",
    "    \"#2E8B57\",  # Sea Green\n",
    "    \"#D2691E\",  # Chocolate\n",
    "    \"#1E90FF\",  # Dodger Blue\n",
    "    \"#F0E68C\",  # Khaki\n",
    "    \"#FF4500\"   # Orange Red\n",
    "]\n",
    "\n",
    "\n",
    "for c in range(num_clients):\n",
    "    fig.add_trace(go.Scatter(\n",
    "        x=epochs_history, y=local_accs_fedavg[c],\n",
    "        mode=\"lines+markers\", name=f\"FedAvg Client {c+1}\", line=dict(color=colors[c], dash=\"dot\")\n",
    "    ))\n",
    "    fig.add_trace(go.Scatter(\n",
    "        x=epochs_history, y=local_accs_fedavgM[c],\n",
    "        mode=\"lines+markers\", name=f\"FedAvgM Client {c+1}\", line=dict(color=colors[c], dash=\"dash\")\n",
    "    ))\n",
    "\n",
    "\n",
    "\n",
    "fig.update_layout(\n",
    "    title=\"Federated Learning: FedAvg vs FedAvgM (Global + Local Accuracies)\",\n",
    "    xaxis_title=\"Cumulative Epochs\",\n",
    "    yaxis_title=\"Accuracy (%)\",\n",
    "    template=\"plotly_white\"\n",
    ")\n",
    "fig.show()\n"
   ]
  },
  {
   "cell_type": "code",
   "execution_count": null,
   "id": "9e810850",
   "metadata": {},
   "outputs": [],
   "source": []
  },
  {
   "cell_type": "code",
   "execution_count": 10,
   "id": "9613d4dc",
   "metadata": {},
   "outputs": [
    {
     "name": "stdout",
     "output_type": "stream",
     "text": [
      "\n",
      "--- Round 1 ---\n",
      "FedAvg: 89.46% | FedAvgM: 89.03% | FedAWA: 89.04% | Moss: 88.63% | FedADP: 88.76%\n",
      "\n",
      "--- Round 2 ---\n",
      "FedAvg: 92.17% | FedAvgM: 91.49% | FedAWA: 92.43% | Moss: 92.17% | FedADP: 92.63%\n",
      "\n",
      "--- Round 3 ---\n",
      "FedAvg: 93.70% | FedAvgM: 93.10% | FedAWA: 93.83% | Moss: 93.80% | FedADP: 93.80%\n",
      "\n",
      "--- Round 4 ---\n",
      "FedAvg: 94.56% | FedAvgM: 93.30% | FedAWA: 94.59% | Moss: 94.39% | FedADP: 94.69%\n",
      "\n",
      "--- Round 5 ---\n",
      "FedAvg: 95.20% | FedAvgM: 92.43% | FedAWA: 95.04% | Moss: 94.63% | FedADP: 95.13%\n",
      "\n",
      "--- Round 6 ---\n",
      "FedAvg: 95.41% | FedAvgM: 93.50% | FedAWA: 95.26% | Moss: 95.04% | FedADP: 95.34%\n",
      "\n",
      "--- Round 7 ---\n",
      "FedAvg: 95.56% | FedAvgM: 94.51% | FedAWA: 95.69% | Moss: 95.57% | FedADP: 95.37%\n",
      "\n",
      "--- Round 8 ---\n",
      "FedAvg: 95.86% | FedAvgM: 95.20% | FedAWA: 95.87% | Moss: 96.03% | FedADP: 95.67%\n",
      "\n",
      "--- Round 9 ---\n",
      "FedAvg: 95.99% | FedAvgM: 95.64% | FedAWA: 95.90% | Moss: 96.04% | FedADP: 95.94%\n",
      "\n",
      "--- Round 10 ---\n",
      "FedAvg: 96.14% | FedAvgM: 95.49% | FedAWA: 96.06% | Moss: 96.06% | FedADP: 95.89%\n",
      "\n",
      "--- Round 11 ---\n",
      "FedAvg: 96.03% | FedAvgM: 95.26% | FedAWA: 96.33% | Moss: 96.24% | FedADP: 95.84%\n",
      "\n",
      "--- Round 12 ---\n",
      "FedAvg: 96.23% | FedAvgM: 95.46% | FedAWA: 96.16% | Moss: 96.30% | FedADP: 96.17%\n",
      "\n",
      "--- Round 13 ---\n",
      "FedAvg: 96.16% | FedAvgM: 95.43% | FedAWA: 96.57% | Moss: 96.37% | FedADP: 96.41%\n",
      "\n",
      "--- Round 14 ---\n",
      "FedAvg: 96.33% | FedAvgM: 95.36% | FedAWA: 96.54% | Moss: 96.51% | FedADP: 96.26%\n",
      "\n",
      "--- Round 15 ---\n",
      "FedAvg: 96.24% | FedAvgM: 95.44% | FedAWA: 96.56% | Moss: 96.37% | FedADP: 96.50%\n",
      "\n",
      "--- Round 16 ---\n",
      "FedAvg: 96.79% | FedAvgM: 95.50% | FedAWA: 96.89% | Moss: 96.49% | FedADP: 96.53%\n",
      "\n",
      "--- Round 17 ---\n",
      "FedAvg: 96.56% | FedAvgM: 95.70% | FedAWA: 96.71% | Moss: 96.79% | FedADP: 96.59%\n",
      "\n",
      "--- Round 18 ---\n",
      "FedAvg: 96.69% | FedAvgM: 96.03% | FedAWA: 96.90% | Moss: 96.74% | FedADP: 96.40%\n",
      "\n",
      "--- Round 19 ---\n",
      "FedAvg: 96.84% | FedAvgM: 95.84% | FedAWA: 96.83% | Moss: 96.71% | FedADP: 96.83%\n",
      "\n",
      "--- Round 20 ---\n",
      "FedAvg: 96.63% | FedAvgM: 96.10% | FedAWA: 96.86% | Moss: 96.74% | FedADP: 96.66%\n",
      "\n",
      "--- Round 21 ---\n",
      "FedAvg: 96.70% | FedAvgM: 96.00% | FedAWA: 96.90% | Moss: 96.76% | FedADP: 96.73%\n",
      "\n",
      "--- Round 22 ---\n",
      "FedAvg: 96.66% | FedAvgM: 96.00% | FedAWA: 96.87% | Moss: 96.87% | FedADP: 96.79%\n",
      "\n",
      "--- Round 23 ---\n",
      "FedAvg: 96.59% | FedAvgM: 96.17% | FedAWA: 96.91% | Moss: 96.97% | FedADP: 96.89%\n",
      "\n",
      "--- Round 24 ---\n",
      "FedAvg: 96.87% | FedAvgM: 96.21% | FedAWA: 96.96% | Moss: 96.89% | FedADP: 96.94%\n",
      "\n",
      "--- Round 25 ---\n",
      "FedAvg: 96.97% | FedAvgM: 96.17% | FedAWA: 96.90% | Moss: 97.09% | FedADP: 96.84%\n",
      "\n",
      "--- Round 26 ---\n",
      "FedAvg: 97.06% | FedAvgM: 96.20% | FedAWA: 97.14% | Moss: 96.96% | FedADP: 96.76%\n",
      "\n",
      "--- Round 27 ---\n",
      "FedAvg: 96.87% | FedAvgM: 96.24% | FedAWA: 97.30% | Moss: 97.11% | FedADP: 97.00%\n",
      "\n",
      "--- Round 28 ---\n",
      "FedAvg: 97.03% | FedAvgM: 96.27% | FedAWA: 97.04% | Moss: 97.10% | FedADP: 96.76%\n",
      "\n",
      "--- Round 29 ---\n",
      "FedAvg: 96.99% | FedAvgM: 96.37% | FedAWA: 97.10% | Moss: 96.96% | FedADP: 97.07%\n",
      "\n",
      "--- Round 30 ---\n",
      "FedAvg: 97.04% | FedAvgM: 96.31% | FedAWA: 97.13% | Moss: 97.11% | FedADP: 96.94%\n"
     ]
    }
   ],
   "source": [
    "import io\n",
    "import os\n",
    "import hashlib\n",
    "import hmac\n",
    "from copy import deepcopy\n",
    "\n",
    "# === Simulated Blockchain utilities ===\n",
    "\n",
    "class SimpleBlock:\n",
    "    def __init__(self, prev_hash, round_idx, aggregation_type, txs, aggregate_hash=None):\n",
    "        \"\"\"\n",
    "        txs: list of dicts { 'client_id': int, 'model_hash': str, 'signature': str, 'agg_type': str(optional) }\n",
    "        aggregate_hash: hash of aggregated global model (if this block contains aggregated result)\n",
    "        \"\"\"\n",
    "        self.prev_hash = prev_hash\n",
    "        self.round = round_idx\n",
    "        self.aggregation = aggregation_type\n",
    "        self.txs = txs\n",
    "        self.aggregate_hash = aggregate_hash\n",
    "        self.block_hash = self.compute_block_hash()\n",
    "\n",
    "    def compute_block_hash(self):\n",
    "        m = hashlib.sha256()\n",
    "        m.update((str(self.prev_hash) + str(self.round) + str(self.aggregation)).encode())\n",
    "        for tx in self.txs:\n",
    "            m.update((tx['model_hash'] + tx['signature'] + str(tx['client_id'])).encode())\n",
    "        if self.aggregate_hash:\n",
    "            m.update(self.aggregate_hash.encode())\n",
    "        return m.hexdigest()\n",
    "\n",
    "class SimpleBlockchain:\n",
    "    def __init__(self):\n",
    "        self.chain = []\n",
    "        self.genesis()\n",
    "\n",
    "    def genesis(self):\n",
    "        genesis_block = SimpleBlock(prev_hash=\"0\"*64, round_idx=0, aggregation_type=\"GENESIS\", txs=[])\n",
    "        self.chain.append(genesis_block)\n",
    "\n",
    "    def add_block(self, block: SimpleBlock):\n",
    "        # Basic validation: predecessor match\n",
    "        if block.prev_hash != self.chain[-1].block_hash:\n",
    "            raise ValueError(\"Invalid prev_hash for new block\")\n",
    "        self.chain.append(block)\n",
    "\n",
    "    def last_hash(self):\n",
    "        return self.chain[-1].block_hash\n",
    "\n",
    "# === Helpers for serializing state_dict and signing ===\n",
    "\n",
    "def state_dict_to_bytes(state_dict):\n",
    "    \"\"\"Serialize a state_dict to bytes using torch.save into a buffer.\"\"\"\n",
    "    buffer = io.BytesIO()\n",
    "    torch.save(state_dict, buffer)\n",
    "    buffer.seek(0)\n",
    "    return buffer.read()\n",
    "\n",
    "def compute_model_hash(bytes_blob):\n",
    "    return hashlib.sha256(bytes_blob).hexdigest()\n",
    "\n",
    "def sign_model_hash(model_hash: str, key: bytes):\n",
    "    \"\"\"Simulated signature using HMAC-SHA256 with a per-client secret key.\"\"\"\n",
    "    return hmac.new(key, model_hash.encode(), hashlib.sha256).hexdigest()\n",
    "\n",
    "def verify_signature(model_hash: str, signature: str, key: bytes):\n",
    "    expected = hmac.new(key, model_hash.encode(), hashlib.sha256).hexdigest()\n",
    "    return hmac.compare_digest(expected, signature)\n",
    "\n",
    "# === Create client secret keys (for demo) and server key ===\n",
    "client_secret_keys = {c: hashlib.sha256(f\"client_key_{c}\".encode()).digest() for c in range(num_clients)}\n",
    "server_secret_key = hashlib.sha256(b\"server_key\").digest()\n",
    "\n",
    "# === Initialize Blockchain ===\n",
    "blockchain = SimpleBlockchain()\n",
    "\n",
    "# === Initialize Models (unchanged architectures) ===\n",
    "global_fedavg = MLP().to(device)\n",
    "global_fedavgM = deepcopy(global_fedavg)\n",
    "v_prev = {k: torch.zeros_like(v) for k, v in global_fedavgM.state_dict().items()}\n",
    "momentum = 0.9\n",
    "\n",
    "# New models for additional aggregations\n",
    "global_fedAWA = deepcopy(global_fedavg)\n",
    "global_moss = deepcopy(global_fedavg)\n",
    "global_fedADP = deepcopy(global_fedavg)\n",
    "\n",
    "# === Trackers (renamed to include 'chain' / 'blockchain' term) ===\n",
    "epochs_chain_history = []\n",
    "\n",
    "# Global accuracies (renamed)\n",
    "fedavg_chain_accs, fedavgM_chain_accs = [], []\n",
    "fedAWA_chain_accs, moss_chain_accs, fedADP_chain_accs = [], [], []\n",
    "\n",
    "# Local accuracies per client (renamed)\n",
    "local_chain_accs_fedavg = [[] for _ in range(num_clients)]\n",
    "local_chain_accs_fedavgM = [[] for _ in range(num_clients)]\n",
    "local_chain_accs_fedAWA = [[] for _ in range(num_clients)]\n",
    "local_chain_accs_moss = [[] for _ in range(num_clients)]\n",
    "local_chain_accs_fedADP = [[] for _ in range(num_clients)]\n",
    "\n",
    "# Also maintain a log of transactions submitted each round (for inspection)\n",
    "round_tx_logs = []  # list of dicts per round\n",
    "\n",
    "# === Helper aggregation functions (kept as before) ===\n",
    "def fedAWA_aggregate(state_dicts, prev_global):\n",
    "    \"\"\"Adaptive weighting by cosine similarity to global model (simulated).\"\"\"\n",
    "    new_state = deepcopy(prev_global)\n",
    "    for key in new_state.keys():\n",
    "        updates = torch.stack([sd[key] - prev_global[key] for sd in state_dicts], dim=0)\n",
    "        # compute a simple alignment score per client: flatten and dot with sign of global update\n",
    "        flat_updates = updates.view(updates.size(0), -1)\n",
    "        # sum of absolute update magnitudes per client as a proxy for contribution\n",
    "        scores = torch.norm(flat_updates, p=2, dim=1)\n",
    "        weights = torch.softmax(scores, dim=0)\n",
    "        weighted = torch.sum(weights.view(-1, *[1]*(updates.ndim-1)) * updates, dim=0)\n",
    "        new_state[key] = prev_global[key] + weighted\n",
    "    return new_state\n",
    "\n",
    "def moss_aggregate(state_dicts):\n",
    "    \"\"\"Full-weight aggregation (simple mean simulated).\"\"\"\n",
    "    avg_state = deepcopy(state_dicts[0])\n",
    "    for key in avg_state.keys():\n",
    "        for i in range(1, len(state_dicts)):\n",
    "            avg_state[key] += state_dicts[i][key]\n",
    "        avg_state[key] /= len(state_dicts)\n",
    "    return avg_state\n",
    "\n",
    "def fedADP_aggregate(state_dicts, data_sizes):\n",
    "    \"\"\"Simulated dynamic aggregation (weighted avg by data sizes).\"\"\"\n",
    "    total_size = sum(data_sizes)\n",
    "    avg_state = deepcopy(state_dicts[0])\n",
    "    for key in avg_state.keys():\n",
    "        avg_state[key] = avg_state[key] * (data_sizes[0]/total_size)\n",
    "    for i in range(1, len(state_dicts)):\n",
    "        for key in avg_state.keys():\n",
    "            avg_state[key] += state_dicts[i][key] * (data_sizes[i]/total_size)\n",
    "    return avg_state\n",
    "\n",
    "# === Federated Training Loop with Blockchain-based submission of updates ===\n",
    "for r in range(num_rounds):\n",
    "    print(f\"\\n--- Round {r+1} ---\")\n",
    "\n",
    "    round_txs = []  # transactions for this round (for blockchain block)\n",
    "    # For each aggregation type we will collect client-submitted transactions separately.\n",
    "    # To avoid re-training multiple times per client, we'll reuse the local state per client per aggregation type.\n",
    "    # (The user code already trains separate local models per aggregation; we preserve that to keep behaviors separate.)\n",
    "\n",
    "    # --- FedAvg (clients train on current global_fedavg) ---\n",
    "    local_states_avg = []\n",
    "    for c in range(num_clients):\n",
    "        local_model = deepcopy(global_fedavg)\n",
    "        local_state = train_local(local_model, client_loaders[c], local_epochs)\n",
    "        local_states_avg.append(local_state)\n",
    "        local_chain_accs_fedavg[c].append(test_model(local_model, client_loaders[c]) * 100)\n",
    "\n",
    "        # serialize, hash, sign, and create tx\n",
    "        blob = state_dict_to_bytes(local_state)\n",
    "        mhash = compute_model_hash(blob)\n",
    "        sig = sign_model_hash(mhash, client_secret_keys[c])\n",
    "        tx = {'client_id': c, 'model_hash': mhash, 'signature': sig, 'agg': 'FedAvg'}\n",
    "        round_txs.append(tx)\n",
    "\n",
    "    # --- FedAvgM (clients train on global_fedavgM) ---\n",
    "    local_states_mom = []\n",
    "    for c in range(num_clients):\n",
    "        local_model = deepcopy(global_fedavgM)\n",
    "        local_state = train_local(local_model, client_loaders[c], local_epochs)\n",
    "        local_states_mom.append(local_state)\n",
    "        local_chain_accs_fedavgM[c].append(test_model(local_model, client_loaders[c]) * 100)\n",
    "\n",
    "        blob = state_dict_to_bytes(local_state)\n",
    "        mhash = compute_model_hash(blob)\n",
    "        sig = sign_model_hash(mhash, client_secret_keys[c])\n",
    "        tx = {'client_id': c, 'model_hash': mhash, 'signature': sig, 'agg': 'FedAvgM'}\n",
    "        round_txs.append(tx)\n",
    "\n",
    "    # --- FedAWA ---\n",
    "    local_states_AWA = []\n",
    "    for c in range(num_clients):\n",
    "        local_model = deepcopy(global_fedAWA)\n",
    "        local_state = train_local(local_model, client_loaders[c], local_epochs)\n",
    "        local_states_AWA.append(local_state)\n",
    "        local_chain_accs_fedAWA[c].append(test_model(local_model, client_loaders[c]) * 100)\n",
    "\n",
    "        blob = state_dict_to_bytes(local_state)\n",
    "        mhash = compute_model_hash(blob)\n",
    "        sig = sign_model_hash(mhash, client_secret_keys[c])\n",
    "        tx = {'client_id': c, 'model_hash': mhash, 'signature': sig, 'agg': 'FedAWA'}\n",
    "        round_txs.append(tx)\n",
    "\n",
    "    # --- Moss ---\n",
    "    local_states_moss = []\n",
    "    for c in range(num_clients):\n",
    "        local_model = deepcopy(global_moss)\n",
    "        local_state = train_local(local_model, client_loaders[c], local_epochs)\n",
    "        local_states_moss.append(local_state)\n",
    "        local_chain_accs_moss[c].append(test_model(local_model, client_loaders[c]) * 100)\n",
    "\n",
    "        blob = state_dict_to_bytes(local_state)\n",
    "        mhash = compute_model_hash(blob)\n",
    "        sig = sign_model_hash(mhash, client_secret_keys[c])\n",
    "        tx = {'client_id': c, 'model_hash': mhash, 'signature': sig, 'agg': 'Moss'}\n",
    "        round_txs.append(tx)\n",
    "\n",
    "    # --- FedADP ---\n",
    "    local_states_ADP = []\n",
    "    for c in range(num_clients):\n",
    "        local_model = deepcopy(global_fedADP)\n",
    "        local_state = train_local(local_model, client_loaders[c], local_epochs)\n",
    "        local_states_ADP.append(local_state)\n",
    "        local_chain_accs_fedADP[c].append(test_model(local_model, client_loaders[c]) * 100)\n",
    "\n",
    "        blob = state_dict_to_bytes(local_state)\n",
    "        mhash = compute_model_hash(blob)\n",
    "        sig = sign_model_hash(mhash, client_secret_keys[c])\n",
    "        tx = {'client_id': c, 'model_hash': mhash, 'signature': sig, 'agg': 'FedADP'}\n",
    "        round_txs.append(tx)\n",
    "\n",
    "    # === Submit round transactions to blockchain (simulate validation) ===\n",
    "    # Validate each tx signature before creating the block.\n",
    "    valid_txs = []\n",
    "    for tx in round_txs:\n",
    "        cid = tx['client_id']\n",
    "        if verify_signature(tx['model_hash'], tx['signature'], client_secret_keys[cid]):\n",
    "            valid_txs.append(tx)\n",
    "        else:\n",
    "            print(f\"Warning: invalid signature from client {cid} in round {r+1}, tx ignored.\")\n",
    "\n",
    "    # Create a block that records all valid transactions for this round (aggregations listed per tx)\n",
    "    prev_hash = blockchain.last_hash()\n",
    "    block_for_round = SimpleBlock(prev_hash=prev_hash, round_idx=r+1, aggregation_type=\"client_submissions\", txs=valid_txs)\n",
    "    blockchain.add_block(block_for_round)\n",
    "    round_tx_logs.append({'round': r+1, 'tx_count': len(valid_txs), 'block_hash': block_for_round.block_hash})\n",
    "\n",
    "    # === Aggregate (server pulls validated client states and performs aggregation per method) ===\n",
    "    # Note: In a real system, the server would fetch the actual state blobs from distributed storage (e.g., IPFS)\n",
    "    # using the model_hash. Here, we already have the local_states lists in memory, so we proceed.\n",
    "\n",
    "    # FedAvg aggregation (weighted)\n",
    "    fedavg_state = fedavg_aggregate(local_states_avg, client_data_sizes, global_fedavg.state_dict())\n",
    "    global_fedavg.load_state_dict(fedavg_state)\n",
    "\n",
    "    # FedAvgM aggregation (momentum) -- assume fedavg_momentum_aggregate returns (new_state, new_v_prev)\n",
    "    fedavgM_state, v_prev = fedavg_momentum_aggregate(local_states_mom, client_data_sizes, global_fedavgM.state_dict(), v_prev, momentum)\n",
    "    global_fedavgM.load_state_dict(fedavgM_state)\n",
    "\n",
    "    # FedAWA aggregation\n",
    "    fedAWA_state = fedAWA_aggregate(local_states_AWA, global_fedAWA.state_dict())\n",
    "    global_fedAWA.load_state_dict(fedAWA_state)\n",
    "\n",
    "    # Moss aggregation\n",
    "    moss_state = moss_aggregate(local_states_moss)\n",
    "    global_moss.load_state_dict(moss_state)\n",
    "\n",
    "    # FedADP aggregation\n",
    "    fedADP_state = fedADP_aggregate(local_states_ADP, client_data_sizes)\n",
    "    global_fedADP.load_state_dict(fedADP_state)\n",
    "\n",
    "    # === After aggregation: server computes global model hashes and records them on-chain ===\n",
    "    # Serialize and hash each aggregated global model, sign with server key, and append as a new block.\n",
    "    aggregates = []\n",
    "    for agg_name, model in [\n",
    "        ('FedAvg', global_fedavg),\n",
    "        ('FedAvgM', global_fedavgM),\n",
    "        ('FedAWA', global_fedAWA),\n",
    "        ('Moss', global_moss),\n",
    "        ('FedADP', global_fedADP)\n",
    "    ]:\n",
    "        state_bytes = state_dict_to_bytes(model.state_dict())\n",
    "        agg_hash = compute_model_hash(state_bytes)\n",
    "        sig = sign_model_hash(agg_hash, server_secret_key)\n",
    "        aggregates.append({'aggregation': agg_name, 'aggregate_hash': agg_hash, 'signature': sig})\n",
    "\n",
    "    # create a block summarizing the aggregated models for this round\n",
    "    agg_txs = [{'client_id': 'server', 'model_hash': a['aggregate_hash'], 'signature': a['signature'], 'agg': a['aggregation']} for a in aggregates]\n",
    "    prev_hash = blockchain.last_hash()\n",
    "    agg_block = SimpleBlock(prev_hash=prev_hash, round_idx=r+1, aggregation_type=\"server_aggregates\", txs=agg_txs)\n",
    "    blockchain.add_block(agg_block)\n",
    "\n",
    "    # === Test global models ===\n",
    "    acc_fedavg = test_model(global_fedavg, test_loader) * 100\n",
    "    acc_fedavgM = test_model(global_fedavgM, test_loader) * 100\n",
    "    acc_fedAWA = test_model(global_fedAWA, test_loader) * 100\n",
    "    acc_moss = test_model(global_moss, test_loader) * 100\n",
    "    acc_fedADP = test_model(global_fedADP, test_loader) * 100\n",
    "    print(f\"FedAvg: {acc_fedavg:.2f}% | FedAvgM: {acc_fedavgM:.2f}% | FedAWA: {acc_fedAWA:.2f}% | Moss: {acc_moss:.2f}% | FedADP: {acc_fedADP:.2f}%\")\n",
    "\n",
    "    # === Save histories (renamed) ===\n",
    "    fedavg_chain_accs.append(acc_fedavg)\n",
    "    fedavgM_chain_accs.append(acc_fedavgM)\n",
    "    fedAWA_chain_accs.append(acc_fedAWA)\n",
    "    moss_chain_accs.append(acc_moss)\n",
    "    fedADP_chain_accs.append(acc_fedADP)\n",
    "    epochs_chain_history.append((r+1) * local_epochs)\n",
    "\n",
    "# At the end you have:\n",
    "# - blockchain.chain : list of SimpleBlock objects (genesis + per-round client_submissions + per-round server_aggregates)\n",
    "# - round_tx_logs : summary info for each round\n",
    "# - *_chain_accs and local_chain_accs_* : accuracy histories (renamed to include blockchain term)\n"
   ]
  },
  {
   "cell_type": "code",
   "execution_count": 1,
   "id": "98f36235",
   "metadata": {},
   "outputs": [],
   "source": [
    "from datasets import load_dataset\n",
    "import pandas as pd"
   ]
  },
  {
   "cell_type": "code",
   "execution_count": 2,
   "id": "0d09eff1",
   "metadata": {},
   "outputs": [
    {
     "name": "stdout",
     "output_type": "stream",
     "text": [
      "   label                                                url\n",
      "0      0             xenophongroup.com/montjoie/compgns.htm\n",
      "1      1    www.azzali.eu/&usg=AOvVaw2phVSb_ENMrkATGNx5LQ0l\n",
      "2      1                     guildmusic.edu.au/js/index.htm\n",
      "3      1  memo.unexpectedrunner.com/ezxgytw4et\\nholotili...\n",
      "4      0  en.wikipedia.org/wiki/Category:American_televi...\n"
     ]
    }
   ],
   "source": [
    "#dataset1\n",
    "\n",
    "# Load the dataset from Hugging Face Hub\n",
    "train_dataset = load_dataset(\"kmack/Phishing_urls\", split=\"train\")\n",
    "test_dataset = load_dataset(\"kmack/Phishing_urls\", split=\"test\")\n",
    "valid_dataset = load_dataset(\"kmack/Phishing_urls\", split=\"valid\")\n",
    "\n",
    "# Convert to pandas DataFrame\n",
    "train_df = train_dataset.to_pandas()\n",
    "test_df = test_dataset.to_pandas()\n",
    "valid_df = valid_dataset.to_pandas()\n",
    "\n",
    "\n",
    "all_df = [train_df, test_df,valid_df]\n",
    "for i, df in enumerate(all_df):\n",
    "    df['url'] = df['text']\n",
    "    df.drop('text',axis=1,inplace=True)\n",
    "print(train_df.head())"
   ]
  },
  {
   "cell_type": "code",
   "execution_count": 3,
   "id": "2ea47ebd",
   "metadata": {},
   "outputs": [
    {
     "name": "stdout",
     "output_type": "stream",
     "text": [
      "Vocabulary size: 99\n",
      "Sample: ['<PAD>', '<UNK>', '<START>', '<END>', ' ', '!', '\"', '#', '$', '%', '&', \"'\", '(', ')', '*', '+', ',', '-', '.', '/', '0', '1', '2', '3', '4', '5', '6', '7', '8', '9', ':', ';', '<', '=', '>', '?', '@', 'A', 'B', 'C', 'D', 'E', 'F', 'G', 'H', 'I', 'J', 'K', 'L', 'M']\n"
     ]
    }
   ],
   "source": [
    "# Special tokens\n",
    "special_tokens = ['<PAD>', '<UNK>', '<START>', '<END>']\n",
    "\n",
    "# ASCII printable characters\n",
    "ascii_chars = [chr(i) for i in range(32, 127)]  # ' ' (space) to '~'\n",
    "\n",
    "# Full vocabulary\n",
    "vocab = special_tokens + ascii_chars\n",
    "\n",
    "# Create mappings\n",
    "char2idx = {ch: idx for idx, ch in enumerate(vocab)}\n",
    "idx2char = {idx: ch for ch, idx in char2idx.items()}\n",
    "vocab_size = len(vocab)\n",
    "print(\"Vocabulary size:\", vocab_size)\n",
    "print(\"Sample:\", vocab[:50])\n"
   ]
  },
  {
   "cell_type": "code",
   "execution_count": 4,
   "id": "f7dea4e0",
   "metadata": {},
   "outputs": [],
   "source": [
    "train_df = train_df.drop_duplicates(subset =['url'])"
   ]
  },
  {
   "cell_type": "code",
   "execution_count": 6,
   "id": "f72568c9",
   "metadata": {},
   "outputs": [
    {
     "name": "stderr",
     "output_type": "stream",
     "text": [
      "100%|██████████| 535838/535838 [01:11<00:00, 7448.38it/s]\n",
      "C:\\Users\\rrpra\\AppData\\Local\\Temp\\ipykernel_7744\\2070938434.py:21: SettingWithCopyWarning: \n",
      "A value is trying to be set on a copy of a slice from a DataFrame.\n",
      "Try using .loc[row_indexer,col_indexer] = value instead\n",
      "\n",
      "See the caveats in the documentation: https://pandas.pydata.org/pandas-docs/stable/user_guide/indexing.html#returning-a-view-versus-a-copy\n",
      "  train_df['encode'] = train_df['url'].progress_apply(encode_url)\n",
      "100%|██████████| 70882/70882 [00:09<00:00, 7496.27it/s]\n",
      "100%|██████████| 70882/70882 [00:09<00:00, 7503.44it/s]\n"
     ]
    }
   ],
   "source": [
    "from tqdm import tqdm\n",
    "import numpy as np\n",
    "import torch\n",
    "import torch.nn.functional as F\n",
    "from torch.utils.data import Dataset, DataLoader, Subset\n",
    "tqdm.pandas()\n",
    "\n",
    "max_url_length = 50\n",
    "\n",
    "\n",
    "def encode_url(url):\n",
    "    indices = torch.tensor([0]*max_url_length)\n",
    "    for i,c in enumerate(url[:max_url_length]):\n",
    "        indices[i] = char2idx.get(c, char2idx['<UNK>'])\n",
    "    #print(indices)  \n",
    "\n",
    "\n",
    "    return indices\n",
    "\n",
    "# Apply encoding to your URL column\n",
    "train_df['encode'] = train_df['url'].progress_apply(encode_url)\n",
    "test_df['encode'] = test_df['url'].progress_apply(encode_url)\n",
    "valid_df['encode'] = valid_df['url'].progress_apply(encode_url)\n",
    "\n"
   ]
  },
  {
   "cell_type": "code",
   "execution_count": 14,
   "id": "1824698d",
   "metadata": {},
   "outputs": [
    {
     "name": "stdout",
     "output_type": "stream",
     "text": [
      "Total train samples: 375086\n",
      "Client 1 samples: 125028\n",
      "Client 2 samples: 125028\n",
      "Client 3 samples: 125030\n",
      "Test samples: 49617\n",
      "Sample batch shape: torch.Size([32, 50])\n",
      "Labels: tensor([0, 0, 0, 0, 1, 1, 1, 1, 1, 0, 0, 1, 1, 0, 0, 1, 1, 0, 1, 0, 0, 0, 1, 1,\n",
      "        0, 1, 0, 1, 1, 0, 0, 1])\n"
     ]
    }
   ],
   "source": [
    "# =================================\n",
    "# 🧠 Custom Dataset Class\n",
    "# =================================\n",
    "class URLDataset(Dataset):\n",
    "    def __init__(self, df):\n",
    "        self.encodes = df['encode'].tolist()\n",
    "        self.labels = df['label'].tolist()\n",
    "\n",
    "    def __len__(self):\n",
    "        return len(self.encodes)\n",
    "\n",
    "    def __getitem__(self, idx):\n",
    "        x = self.encodes[idx]\n",
    "        y = torch.tensor(self.labels[idx], dtype=torch.long)\n",
    "        return x, y\n",
    "\n",
    "\n",
    "# =================================\n",
    "# 🧩 Create PyTorch Datasets\n",
    "# =================================\n",
    "train_full = URLDataset(train_df)\n",
    "test_full = URLDataset(test_df)\n",
    "valid_full = URLDataset(valid_df)\n",
    "\n",
    "# =================================\n",
    "# 🪶 Use Fraction for Faster Training\n",
    "# =================================\n",
    "train_fraction = 0.7\n",
    "test_fraction = 0.7\n",
    "\n",
    "train_len = int(len(train_full) * train_fraction)\n",
    "test_len = int(len(test_full) * test_fraction)\n",
    "\n",
    "train_subset = Subset(train_full, range(train_len))\n",
    "test_subset = Subset(test_full, range(test_len))\n",
    "\n",
    "# =================================\n",
    "# 🧍 Split Among Federated Clients\n",
    "# =================================\n",
    "\n",
    "\n",
    "client_data_sizes = ([len(train_subset)//num_clients] * (num_clients - 1)) + [\n",
    "    len(train_subset) - (len(train_subset)//num_clients)*(num_clients - 1)\n",
    "]\n",
    "\n",
    "client_datasets = [\n",
    "    Subset(train_subset, range(sum(client_data_sizes[:i]), sum(client_data_sizes[:i+1])))\n",
    "    for i in range(num_clients)\n",
    "]\n",
    "\n",
    "client_loaders = [DataLoader(ds, batch_size=batch_size, shuffle=True)\n",
    "                  for ds in client_datasets]\n",
    "\n",
    "test_loader = DataLoader(test_subset, batch_size=batch_size, shuffle=False)\n",
    "\n",
    "# =================================\n",
    "# ✅ Verify Setup\n",
    "# =================================\n",
    "print(f\"Total train samples: {len(train_subset)}\")\n",
    "for i, ds in enumerate(client_datasets):\n",
    "    print(f\"Client {i+1} samples: {len(ds)}\")\n",
    "\n",
    "print(f\"Test samples: {len(test_subset)}\")\n",
    "\n",
    "# Example check\n",
    "for data, label in client_loaders[0]:\n",
    "    print(\"Sample batch shape:\", data.shape)\n",
    "    print(\"Labels:\", label)\n",
    "    break"
   ]
  },
  {
   "cell_type": "code",
   "execution_count": 26,
   "id": "a51c0bd5",
   "metadata": {},
   "outputs": [],
   "source": [
    "# -------------------------\n",
    "# === Helper Training / Eval ===\n",
    "# -------------------------\n",
    "def train_local(model, train_loader, epochs, lr=learning_rate):\n",
    "    model.to(device)\n",
    "    model.train()\n",
    "    optimizer = optim.SGD(model.parameters(), lr=lr)\n",
    "    criterion = nn.BCEWithLogitsLoss()\n",
    "\n",
    "    for epoch in range(epochs):\n",
    "        for xb, yb in train_loader:\n",
    "            xb = xb.to(device)\n",
    "            yb = yb.to(device)\n",
    "\n",
    "            # Ensure float shape (batch, 1)\n",
    "            if yb.ndim == 1:\n",
    "                yb = yb.unsqueeze(1)\n",
    "            yb = yb.float()\n",
    "\n",
    "            # Ensure inputs in embedding range\n",
    "            xb = xb.clamp(0, model.embedding.num_embeddings - 1)\n",
    "\n",
    "            optimizer.zero_grad()\n",
    "            out = model(xb)\n",
    "            loss = criterion(out, yb)\n",
    "            loss.backward()\n",
    "            optimizer.step()\n",
    "\n",
    "    return {k: v.cpu() for k, v in model.state_dict().items()}\n",
    "\n",
    "\n",
    "def test_model(model, loader):\n",
    "    \"\"\"\n",
    "    Evaluate model on given loader. Return accuracy (0-1).\n",
    "    \"\"\"\n",
    "    model.to(device)\n",
    "    model.eval()\n",
    "    correct = 0\n",
    "    total = 0\n",
    "    with torch.no_grad():\n",
    "        for xb, yb in loader:\n",
    "            xb = xb.to(device)\n",
    "            yb = yb.to(device)\n",
    "            out = model(xb)\n",
    "            preds = (torch.sigmoid(out).squeeze(-1) >= 0.5).long()\n",
    "            correct += (preds == yb).sum().item()\n",
    "            total += yb.size(0)\n",
    "    return correct / max(total, 1)\n",
    "\n",
    "# -------------------------\n",
    "# === Aggregation helpers ===\n",
    "# -------------------------\n",
    "from copy import deepcopy\n",
    "\n",
    "def fedavg_aggregate(state_dicts, data_sizes, prev_global):\n",
    "    \"\"\"Weighted average by data_sizes. state_dicts are CPU tensors.\"\"\"\n",
    "    total = sum(data_sizes)\n",
    "    avg = deepcopy(prev_global)\n",
    "    for key in avg.keys():\n",
    "        avg[key] = torch.zeros_like(avg[key])\n",
    "    for sd, size in zip(state_dicts, data_sizes):\n",
    "        weight = size / total\n",
    "        for key in avg.keys():\n",
    "            avg[key] += sd[key].float() * weight\n",
    "    return avg\n",
    "\n",
    "def fedavg_momentum_aggregate(state_dicts, data_sizes, prev_global, v_prev, momentum=0.9):\n",
    "    \"\"\"\n",
    "    FedAvg with server momentum (FedAvgM style).\n",
    "    Returns (new_state_dict, new_v_prev)\n",
    "    \"\"\"\n",
    "    avg = fedavg_aggregate(state_dicts, data_sizes, prev_global)\n",
    "    # compute delta = avg - prev_global\n",
    "    delta = {}\n",
    "    for k in avg.keys():\n",
    "        delta[k] = (avg[k].to(device) - prev_global[k].to(device)).clone()\n",
    "    # update momentum buffer v = momentum * v_prev + delta\n",
    "    new_v = {}\n",
    "    new_state = {}\n",
    "    for k in v_prev.keys():\n",
    "        v = momentum * v_prev[k].to(device) + delta[k]\n",
    "        new_v[k] = v.cpu()\n",
    "        new_state[k] = (prev_global[k].to(device) + v).cpu()\n",
    "    return new_state, new_v\n",
    "\n",
    "# Keep previously defined fedAWA, moss, fedADP functions (use yours or the ones below)\n",
    "def fedAWA_aggregate(state_dicts, prev_global):\n",
    "    \"\"\"Adaptive weighting by L2 norm of client updates (simple simulation).\"\"\"\n",
    "    new_state = deepcopy(prev_global)\n",
    "    # stack flattened update norms\n",
    "    norms = []\n",
    "    updates = []\n",
    "    for sd in state_dicts:\n",
    "        flat = torch.cat([ (sd[k] - prev_global[k]).view(-1).float() for k in sd.keys() ])\n",
    "        updates.append(flat)\n",
    "        norms.append(torch.norm(flat, p=2).item())\n",
    "    norms = torch.tensor(norms, dtype=torch.float32)\n",
    "    weights = torch.softmax(norms, dim=0)\n",
    "    # combine per-parameter\n",
    "    for key in new_state.keys():\n",
    "        combined = sum(w * (sd[key] - prev_global[key]).float() for w, sd in zip(weights, state_dicts))\n",
    "        new_state[key] = (prev_global[key].float() + combined).cpu()\n",
    "    return new_state\n",
    "\n",
    "def moss_aggregate(state_dicts):\n",
    "    \"\"\"Mean of weights (simple simulation of Moss).\"\"\"\n",
    "    avg_state = deepcopy(state_dicts[0])\n",
    "    for key in avg_state.keys():\n",
    "        for i in range(1, len(state_dicts)):\n",
    "            avg_state[key] = avg_state[key] + state_dicts[i][key]\n",
    "        avg_state[key] = (avg_state[key] / len(state_dicts)).float()\n",
    "    return avg_state\n",
    "\n",
    "def fedADP_aggregate(state_dicts, data_sizes):\n",
    "    \"\"\"Weighted avg by data sizes (simulation of FedADP for same-arch clients).\"\"\"\n",
    "    total = sum(data_sizes)\n",
    "    avg = deepcopy(state_dicts[0])\n",
    "    for key in avg.keys():\n",
    "        avg[key] = avg[key].float() * (data_sizes[0] / total)\n",
    "    for i in range(1, len(state_dicts)):\n",
    "        for key in avg.keys():\n",
    "            avg[key] += state_dicts[i][key].float() * (data_sizes[i] / total)\n",
    "    return avg"
   ]
  },
  {
   "cell_type": "code",
   "execution_count": null,
   "id": "88546bf5",
   "metadata": {},
   "outputs": [
    {
     "ename": "AcceleratorError",
     "evalue": "CUDA error: device-side assert triggered\nCUDA kernel errors might be asynchronously reported at some other API call, so the stacktrace below might be incorrect.\nFor debugging consider passing CUDA_LAUNCH_BLOCKING=1\nCompile with `TORCH_USE_CUDA_DSA` to enable device-side assertions.\n",
     "output_type": "error",
     "traceback": [
      "\u001b[31m---------------------------------------------------------------------------\u001b[39m",
      "\u001b[31mAcceleratorError\u001b[39m                          Traceback (most recent call last)",
      "\u001b[36mCell\u001b[39m\u001b[36m \u001b[39m\u001b[32mIn[33]\u001b[39m\u001b[32m, line 5\u001b[39m\n\u001b[32m      1\u001b[39m \u001b[38;5;66;03m# -------------------------\u001b[39;00m\n\u001b[32m      2\u001b[39m \u001b[38;5;66;03m# === Initialize models ===\u001b[39;00m\n\u001b[32m      3\u001b[39m \u001b[38;5;66;03m# -------------------------\u001b[39;00m\n\u001b[32m      4\u001b[39m get_ipython().system(\u001b[33m'\u001b[39m\u001b[33mset CUDA_LAUNCH_BLOCKING=1\u001b[39m\u001b[33m'\u001b[39m)\n\u001b[32m----> \u001b[39m\u001b[32m5\u001b[39m global_fedavg = \u001b[43mMLP\u001b[49m\u001b[43m(\u001b[49m\u001b[43mvocab_size\u001b[49m\u001b[43m)\u001b[49m\u001b[43m.\u001b[49m\u001b[43mto\u001b[49m\u001b[43m(\u001b[49m\u001b[43mdevice\u001b[49m\u001b[43m)\u001b[49m\n\u001b[32m      6\u001b[39m global_fedavgM = deepcopy(global_fedavg)\n\u001b[32m      7\u001b[39m v_prev = {k: torch.zeros_like(v) \u001b[38;5;28;01mfor\u001b[39;00m k, v \u001b[38;5;129;01min\u001b[39;00m global_fedavgM.state_dict().items()}\n",
      "\u001b[36mFile \u001b[39m\u001b[32mc:\\Users\\rrpra\\AppData\\Local\\Programs\\Python\\Python313\\Lib\\site-packages\\torch\\nn\\modules\\module.py:1369\u001b[39m, in \u001b[36mModule.to\u001b[39m\u001b[34m(self, *args, **kwargs)\u001b[39m\n\u001b[32m   1366\u001b[39m         \u001b[38;5;28;01melse\u001b[39;00m:\n\u001b[32m   1367\u001b[39m             \u001b[38;5;28;01mraise\u001b[39;00m\n\u001b[32m-> \u001b[39m\u001b[32m1369\u001b[39m \u001b[38;5;28;01mreturn\u001b[39;00m \u001b[38;5;28;43mself\u001b[39;49m\u001b[43m.\u001b[49m\u001b[43m_apply\u001b[49m\u001b[43m(\u001b[49m\u001b[43mconvert\u001b[49m\u001b[43m)\u001b[49m\n",
      "\u001b[36mFile \u001b[39m\u001b[32mc:\\Users\\rrpra\\AppData\\Local\\Programs\\Python\\Python313\\Lib\\site-packages\\torch\\nn\\modules\\module.py:928\u001b[39m, in \u001b[36mModule._apply\u001b[39m\u001b[34m(self, fn, recurse)\u001b[39m\n\u001b[32m    926\u001b[39m \u001b[38;5;28;01mif\u001b[39;00m recurse:\n\u001b[32m    927\u001b[39m     \u001b[38;5;28;01mfor\u001b[39;00m module \u001b[38;5;129;01min\u001b[39;00m \u001b[38;5;28mself\u001b[39m.children():\n\u001b[32m--> \u001b[39m\u001b[32m928\u001b[39m         \u001b[43mmodule\u001b[49m\u001b[43m.\u001b[49m\u001b[43m_apply\u001b[49m\u001b[43m(\u001b[49m\u001b[43mfn\u001b[49m\u001b[43m)\u001b[49m\n\u001b[32m    930\u001b[39m \u001b[38;5;28;01mdef\u001b[39;00m\u001b[38;5;250m \u001b[39m\u001b[34mcompute_should_use_set_data\u001b[39m(tensor, tensor_applied):\n\u001b[32m    931\u001b[39m     \u001b[38;5;28;01mif\u001b[39;00m torch._has_compatible_shallow_copy_type(tensor, tensor_applied):\n\u001b[32m    932\u001b[39m         \u001b[38;5;66;03m# If the new tensor has compatible tensor type as the existing tensor,\u001b[39;00m\n\u001b[32m    933\u001b[39m         \u001b[38;5;66;03m# the current behavior is to change the tensor in-place using `.data =`,\u001b[39;00m\n\u001b[32m   (...)\u001b[39m\u001b[32m    938\u001b[39m         \u001b[38;5;66;03m# global flag to let the user control whether they want the future\u001b[39;00m\n\u001b[32m    939\u001b[39m         \u001b[38;5;66;03m# behavior of overwriting the existing tensor or not.\u001b[39;00m\n",
      "\u001b[36mFile \u001b[39m\u001b[32mc:\\Users\\rrpra\\AppData\\Local\\Programs\\Python\\Python313\\Lib\\site-packages\\torch\\nn\\modules\\module.py:955\u001b[39m, in \u001b[36mModule._apply\u001b[39m\u001b[34m(self, fn, recurse)\u001b[39m\n\u001b[32m    951\u001b[39m \u001b[38;5;66;03m# Tensors stored in modules are graph leaves, and we don't want to\u001b[39;00m\n\u001b[32m    952\u001b[39m \u001b[38;5;66;03m# track autograd history of `param_applied`, so we have to use\u001b[39;00m\n\u001b[32m    953\u001b[39m \u001b[38;5;66;03m# `with torch.no_grad():`\u001b[39;00m\n\u001b[32m    954\u001b[39m \u001b[38;5;28;01mwith\u001b[39;00m torch.no_grad():\n\u001b[32m--> \u001b[39m\u001b[32m955\u001b[39m     param_applied = \u001b[43mfn\u001b[49m\u001b[43m(\u001b[49m\u001b[43mparam\u001b[49m\u001b[43m)\u001b[49m\n\u001b[32m    956\u001b[39m p_should_use_set_data = compute_should_use_set_data(param, param_applied)\n\u001b[32m    958\u001b[39m \u001b[38;5;28;01mfrom\u001b[39;00m\u001b[38;5;250m \u001b[39m\u001b[34;01mtorch\u001b[39;00m\u001b[34;01m.\u001b[39;00m\u001b[34;01m_subclasses\u001b[39;00m\u001b[34;01m.\u001b[39;00m\u001b[34;01mfake_tensor\u001b[39;00m\u001b[38;5;250m \u001b[39m\u001b[38;5;28;01mimport\u001b[39;00m FakeTensor\n",
      "\u001b[36mFile \u001b[39m\u001b[32mc:\\Users\\rrpra\\AppData\\Local\\Programs\\Python\\Python313\\Lib\\site-packages\\torch\\nn\\modules\\module.py:1355\u001b[39m, in \u001b[36mModule.to.<locals>.convert\u001b[39m\u001b[34m(t)\u001b[39m\n\u001b[32m   1348\u001b[39m     \u001b[38;5;28;01mif\u001b[39;00m convert_to_format \u001b[38;5;129;01mis\u001b[39;00m \u001b[38;5;129;01mnot\u001b[39;00m \u001b[38;5;28;01mNone\u001b[39;00m \u001b[38;5;129;01mand\u001b[39;00m t.dim() \u001b[38;5;129;01min\u001b[39;00m (\u001b[32m4\u001b[39m, \u001b[32m5\u001b[39m):\n\u001b[32m   1349\u001b[39m         \u001b[38;5;28;01mreturn\u001b[39;00m t.to(\n\u001b[32m   1350\u001b[39m             device,\n\u001b[32m   1351\u001b[39m             dtype \u001b[38;5;28;01mif\u001b[39;00m t.is_floating_point() \u001b[38;5;129;01mor\u001b[39;00m t.is_complex() \u001b[38;5;28;01melse\u001b[39;00m \u001b[38;5;28;01mNone\u001b[39;00m,\n\u001b[32m   1352\u001b[39m             non_blocking,\n\u001b[32m   1353\u001b[39m             memory_format=convert_to_format,\n\u001b[32m   1354\u001b[39m         )\n\u001b[32m-> \u001b[39m\u001b[32m1355\u001b[39m     \u001b[38;5;28;01mreturn\u001b[39;00m \u001b[43mt\u001b[49m\u001b[43m.\u001b[49m\u001b[43mto\u001b[49m\u001b[43m(\u001b[49m\n\u001b[32m   1356\u001b[39m \u001b[43m        \u001b[49m\u001b[43mdevice\u001b[49m\u001b[43m,\u001b[49m\n\u001b[32m   1357\u001b[39m \u001b[43m        \u001b[49m\u001b[43mdtype\u001b[49m\u001b[43m \u001b[49m\u001b[38;5;28;43;01mif\u001b[39;49;00m\u001b[43m \u001b[49m\u001b[43mt\u001b[49m\u001b[43m.\u001b[49m\u001b[43mis_floating_point\u001b[49m\u001b[43m(\u001b[49m\u001b[43m)\u001b[49m\u001b[43m \u001b[49m\u001b[38;5;129;43;01mor\u001b[39;49;00m\u001b[43m \u001b[49m\u001b[43mt\u001b[49m\u001b[43m.\u001b[49m\u001b[43mis_complex\u001b[49m\u001b[43m(\u001b[49m\u001b[43m)\u001b[49m\u001b[43m \u001b[49m\u001b[38;5;28;43;01melse\u001b[39;49;00m\u001b[43m \u001b[49m\u001b[38;5;28;43;01mNone\u001b[39;49;00m\u001b[43m,\u001b[49m\n\u001b[32m   1358\u001b[39m \u001b[43m        \u001b[49m\u001b[43mnon_blocking\u001b[49m\u001b[43m,\u001b[49m\n\u001b[32m   1359\u001b[39m \u001b[43m    \u001b[49m\u001b[43m)\u001b[49m\n\u001b[32m   1360\u001b[39m \u001b[38;5;28;01mexcept\u001b[39;00m \u001b[38;5;167;01mNotImplementedError\u001b[39;00m \u001b[38;5;28;01mas\u001b[39;00m e:\n\u001b[32m   1361\u001b[39m     \u001b[38;5;28;01mif\u001b[39;00m \u001b[38;5;28mstr\u001b[39m(e) == \u001b[33m\"\u001b[39m\u001b[33mCannot copy out of meta tensor; no data!\u001b[39m\u001b[33m\"\u001b[39m:\n",
      "\u001b[31mAcceleratorError\u001b[39m: CUDA error: device-side assert triggered\nCUDA kernel errors might be asynchronously reported at some other API call, so the stacktrace below might be incorrect.\nFor debugging consider passing CUDA_LAUNCH_BLOCKING=1\nCompile with `TORCH_USE_CUDA_DSA` to enable device-side assertions.\n"
     ]
    }
   ],
   "source": [
    "# === Initialize Blockchain ===\n",
    "blockchain = SimpleBlockchain()\n",
    "\n",
    "# === Initialize Models (CNN-based) ===\n",
    "global_fedavg = URLBinaryCNN(vocab_size).to(device)\n",
    "global_fedavgM = deepcopy(global_fedavg)\n",
    "v_prev = {k: torch.zeros_like(v) for k, v in global_fedavgM.state_dict().items()}\n",
    "momentum = 0.9\n",
    "\n",
    "global_fedAWA = deepcopy(global_fedavg)\n",
    "global_moss = deepcopy(global_fedavg)\n",
    "global_fedADP = deepcopy(global_fedavg)\n",
    "\n",
    "# === Blockchain training trackers ===\n",
    "epochs_chain_history = []\n",
    "fedavg_chain_accs, fedavgM_chain_accs = [], []\n",
    "fedAWA_chain_accs, moss_chain_accs, fedADP_chain_accs = [], [], []\n",
    "local_chain_accs_fedavg = [[] for _ in range(num_clients)]\n",
    "local_chain_accs_fedavgM = [[] for _ in range(num_clients)]\n",
    "local_chain_accs_fedAWA = [[] for _ in range(num_clients)]\n",
    "local_chain_accs_moss = [[] for _ in range(num_clients)]\n",
    "local_chain_accs_fedADP = [[] for _ in range(num_clients)]\n",
    "round_tx_logs = []\n",
    "\n",
    "\n",
    "# === Federated Training Loop with Blockchain Integration ===\n",
    "for r in range(num_rounds):\n",
    "    print(f\"\\n--- Round {r+1} ---\")\n",
    "    round_txs = []\n",
    "\n",
    "    # ========== Client Updates ==========\n",
    "    for agg_type, global_model, local_acc_store, store_list in [\n",
    "        ('FedAvg', global_fedavg, local_chain_accs_fedavg, fedavg_chain_accs),\n",
    "        ('FedAvgM', global_fedavgM, local_chain_accs_fedavgM, fedavgM_chain_accs),\n",
    "        ('FedAWA', global_fedAWA, local_chain_accs_fedAWA, fedAWA_chain_accs),\n",
    "        ('Moss', global_moss, local_chain_accs_moss, moss_chain_accs),\n",
    "        ('FedADP', global_fedADP, local_chain_accs_fedADP, fedADP_chain_accs)\n",
    "    ]:\n",
    "        local_states = []\n",
    "        for c in range(num_clients):\n",
    "            local_model = deepcopy(global_model)\n",
    "            local_state = train_local(local_model, client_loaders[c], local_epochs)\n",
    "            local_states.append(local_state)\n",
    "            acc = test_model(local_model, client_loaders[c]) * 100\n",
    "            local_acc_store[c].append(acc)\n",
    "\n",
    "            blob = state_dict_to_bytes(local_state)\n",
    "            mhash = compute_model_hash(blob)\n",
    "            sig = sign_model_hash(mhash, client_secret_keys[c])\n",
    "            tx = {'client_id': c, 'model_hash': mhash, 'signature': sig, 'agg': agg_type}\n",
    "            round_txs.append(tx)\n",
    "\n",
    "        # save local states for aggregation later\n",
    "        if agg_type == 'FedAvg': local_states_avg = local_states\n",
    "        elif agg_type == 'FedAvgM': local_states_mom = local_states\n",
    "        elif agg_type == 'FedAWA': local_states_AWA = local_states\n",
    "        elif agg_type == 'Moss': local_states_moss = local_states\n",
    "        elif agg_type == 'FedADP': local_states_ADP = local_states\n",
    "\n",
    "    # ========== Blockchain Validation ==========\n",
    "    valid_txs = []\n",
    "    for tx in round_txs:\n",
    "        cid = tx['client_id']\n",
    "        if verify_signature(tx['model_hash'], tx['signature'], client_secret_keys[cid]):\n",
    "            valid_txs.append(tx)\n",
    "        else:\n",
    "            print(f\"⚠️ Invalid signature from client {cid}, ignoring transaction.\")\n",
    "\n",
    "    prev_hash = blockchain.last_hash()\n",
    "    block_clients = SimpleBlock(prev_hash, r+1, \"client_submissions\", valid_txs)\n",
    "    blockchain.add_block(block_clients)\n",
    "    round_tx_logs.append({'round': r+1, 'tx_count': len(valid_txs), 'block_hash': block_clients.block_hash})\n",
    "\n",
    "    # ========== Server Aggregation ==========\n",
    "    fedavg_state = fedavg_aggregate(local_states_avg, client_data_sizes, global_fedavg.state_dict())\n",
    "    global_fedavg.load_state_dict(fedavg_state)\n",
    "\n",
    "    fedavgM_state, v_prev = fedavg_momentum_aggregate(local_states_mom, client_data_sizes, global_fedavgM.state_dict(), v_prev, momentum)\n",
    "    global_fedavgM.load_state_dict(fedavgM_state)\n",
    "\n",
    "    global_fedAWA.load_state_dict(fedAWA_aggregate(local_states_AWA, global_fedAWA.state_dict()))\n",
    "    global_moss.load_state_dict(moss_aggregate(local_states_moss))\n",
    "    global_fedADP.load_state_dict(fedADP_aggregate(local_states_ADP, client_data_sizes))\n",
    "\n",
    "    # ========== Record Aggregated Models on Chain ==========\n",
    "    aggregates = []\n",
    "    for agg_name, model in [\n",
    "        ('FedAvg', global_fedavg),\n",
    "        ('FedAvgM', global_fedavgM),\n",
    "        ('FedAWA', global_fedAWA),\n",
    "        ('Moss', global_moss),\n",
    "        ('FedADP', global_fedADP)\n",
    "    ]:\n",
    "        state_bytes = state_dict_to_bytes(model.state_dict())\n",
    "        agg_hash = compute_model_hash(state_bytes)\n",
    "        sig = sign_model_hash(agg_hash, server_secret_key)\n",
    "        aggregates.append({'client_id': 'server', 'model_hash': agg_hash, 'signature': sig, 'agg': agg_name})\n",
    "\n",
    "    prev_hash = blockchain.last_hash()\n",
    "    block_server = SimpleBlock(prev_hash, r+1, \"server_aggregates\", aggregates)\n",
    "    blockchain.add_block(block_server)\n",
    "\n",
    "    # ========== Evaluate Global Models ==========\n",
    "    fedavg_chain_accs.append(test_model(global_fedavg, test_loader) * 100)\n",
    "    fedavgM_chain_accs.append(test_model(global_fedavgM, test_loader) * 100)\n",
    "    fedAWA_chain_accs.append(test_model(global_fedAWA, test_loader) * 100)\n",
    "    moss_chain_accs.append(test_model(global_moss, test_loader) * 100)\n",
    "    fedADP_chain_accs.append(test_model(global_fedADP, test_loader) * 100)\n",
    "\n",
    "    print(f\"✅ Round {r+1} Accuracies:\")\n",
    "    print(f\"FedAvg: {fedavg_chain_accs[-1]:.2f}% | FedAvgM: {fedavgM_chain_accs[-1]:.2f}% | \"\n",
    "          f\"FedAWA: {fedAWA_chain_accs[-1]:.2f}% | Moss: {moss_chain_accs[-1]:.2f}% | \"\n",
    "          f\"FedADP: {fedADP_chain_accs[-1]:.2f}%\")\n",
    "\n",
    "    epochs_chain_history.append((r+1) * local_epochs)\n"
   ]
  },
  {
   "cell_type": "code",
   "execution_count": 31,
   "id": "2f552763",
   "metadata": {},
   "outputs": [],
   "source": [
    "!set CUDA_LAUNCH_BLOCKING=1   # on Windows cmd\n",
    "# or\n",
    "\n"
   ]
  }
 ],
 "metadata": {
  "kernelspec": {
   "display_name": "Python 3",
   "language": "python",
   "name": "python3"
  },
  "language_info": {
   "codemirror_mode": {
    "name": "ipython",
    "version": 3
   },
   "file_extension": ".py",
   "mimetype": "text/x-python",
   "name": "python",
   "nbconvert_exporter": "python",
   "pygments_lexer": "ipython3",
   "version": "3.13.3"
  }
 },
 "nbformat": 4,
 "nbformat_minor": 5
}
