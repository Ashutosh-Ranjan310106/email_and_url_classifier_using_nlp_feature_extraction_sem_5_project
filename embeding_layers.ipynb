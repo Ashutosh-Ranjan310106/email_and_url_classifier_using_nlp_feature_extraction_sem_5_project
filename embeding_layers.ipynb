{
 "cells": [
  {
   "cell_type": "code",
   "execution_count": 10,
   "id": "e0f25759",
   "metadata": {},
   "outputs": [
    {
     "name": "stdout",
     "output_type": "stream",
     "text": [
      "Hidden state shape: torch.Size([1, 38, 1472])\n",
      "Embedding shape: (1472,)\n"
     ]
    }
   ],
   "source": [
    "from transformers import AutoTokenizer,  T5EncoderModel\n",
    "import torch\n",
    "import numpy as np\n",
    "\n",
    "model_name = \"google/byt5-small\"\n",
    "tokenizer = AutoTokenizer.from_pretrained(model_name)\n",
    "model = T5EncoderModel.from_pretrained(model_name)  \n",
    "model.eval()\n",
    "def get_byt5_embedding(url):\n",
    "    # Tokenize the input\n",
    "    inputs = tokenizer(url, return_tensors=\"pt\", truncation=True, padding=True, max_length=120)\n",
    "    \n",
    "    # Get encoder output (not generate)\n",
    "    with torch.no_grad():\n",
    "        outputs = model(**inputs)\n",
    "        # outputs.last_hidden_state: [batch_size, seq_len, hidden_dim]\n",
    "        print(\"Hidden state shape:\", outputs.last_hidden_state.shape)\n",
    "        \n",
    "        # Mean pooling across sequence\n",
    "        emb = outputs.last_hidden_state.mean(dim=1).reshape(-1)\n",
    "    return emb.cpu().numpy()\n",
    "\n",
    "# Example\n",
    "url = \"http://paypal-login-secure-update.com\"\n",
    "vector = get_byt5_embedding(url)\n",
    "print(\"Embedding shape:\", vector.shape)  # e.g. (512,) or (768,) depending on model size\n"
   ]
  }
 ],
 "metadata": {
  "kernelspec": {
   "display_name": "Python 3",
   "language": "python",
   "name": "python3"
  },
  "language_info": {
   "codemirror_mode": {
    "name": "ipython",
    "version": 3
   },
   "file_extension": ".py",
   "mimetype": "text/x-python",
   "name": "python",
   "nbconvert_exporter": "python",
   "pygments_lexer": "ipython3",
   "version": "3.13.3"
  }
 },
 "nbformat": 4,
 "nbformat_minor": 5
}
