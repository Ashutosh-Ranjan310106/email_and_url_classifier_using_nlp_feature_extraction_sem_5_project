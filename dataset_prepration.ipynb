{
 "cells": [
  {
   "cell_type": "code",
   "execution_count": 1,
   "id": "9b8864bd",
   "metadata": {},
   "outputs": [
    {
     "name": "stdout",
     "output_type": "stream",
     "text": [
      "Requirement already satisfied: plotly in c:\\users\\rrpra\\miniconda3\\lib\\site-packages (6.3.0)\n",
      "Requirement already satisfied: narwhals>=1.15.1 in c:\\users\\rrpra\\miniconda3\\lib\\site-packages (from plotly) (2.5.0)\n",
      "Requirement already satisfied: packaging in c:\\users\\rrpra\\miniconda3\\lib\\site-packages (from plotly) (24.2)\n"
     ]
    }
   ],
   "source": [
    "!pip install plotly"
   ]
  },
  {
   "cell_type": "code",
   "execution_count": 4,
   "id": "9b7dcf29",
   "metadata": {},
   "outputs": [
    {
     "name": "stdout",
     "output_type": "stream",
     "text": [
      ".\\datasets\\CEAS_08.csv\n",
      ".\\datasets\\Enron.csv\n",
      ".\\datasets\\Ling.csv\n",
      ".\\datasets\\Nazario.csv\n",
      ".\\datasets\\Nazario_5.csv\n",
      ".\\datasets\\Nigerian_5.csv\n",
      ".\\datasets\\Nigerian_Fraud.csv\n",
      ".\\datasets\\SpamAssasin.csv\n",
      ".\\datasets\\TREC_07.csv\n"
     ]
    },
    {
     "data": {
      "application/vnd.plotly.v1+json": {
       "config": {
        "plotlyServerURL": "https://plot.ly"
       },
       "data": [
        {
         "name": "CEAS_08.csv",
         "text": [
          "55.8%",
          "44.2%",
          "100.0%"
         ],
         "textposition": "auto",
         "type": "bar",
         "x": [
          "1",
          "0",
          "total"
         ],
         "y": {
          "bdata": "UlUAAKBDAADymAAA",
          "dtype": "i4"
         }
        },
        {
         "name": "Enron.csv",
         "text": [
          "53.0%",
          "47.0%",
          "100.0%"
         ],
         "textposition": "auto",
         "type": "bar",
         "x": [
          "0",
          "1",
          "total"
         ],
         "y": {
          "bdata": "rz2YNkd0",
          "dtype": "i2"
         }
        },
        {
         "name": "Ling.csv",
         "text": [
          "84.0%",
          "16.0%",
          "100.0%"
         ],
         "textposition": "auto",
         "type": "bar",
         "x": [
          "0",
          "1",
          "total"
         ],
         "y": {
          "bdata": "YQnKASsL",
          "dtype": "i2"
         }
        },
        {
         "name": "Nazario.csv",
         "text": [
          "100.0%",
          "100.0%"
         ],
         "textposition": "auto",
         "type": "bar",
         "x": [
          "1",
          "total"
         ],
         "y": {
          "bdata": "HQYdBg==",
          "dtype": "i2"
         }
        },
        {
         "name": "Nazario_5.csv",
         "text": [
          "51.1%",
          "48.9%",
          "100.0%"
         ],
         "textposition": "auto",
         "type": "bar",
         "x": [
          "1",
          "0",
          "total"
         ],
         "y": {
          "bdata": "HQbcBfkL",
          "dtype": "i2"
         }
        },
        {
         "name": "Nigerian_5.csv",
         "text": [
          "52.6%",
          "47.4%",
          "100.0%"
         ],
         "textposition": "auto",
         "type": "bar",
         "x": [
          "1",
          "0",
          "total"
         ],
         "y": {
          "bdata": "BA23C7sY",
          "dtype": "i2"
         }
        },
        {
         "name": "Nigerian_Fraud.csv",
         "text": [
          "100.0%",
          "100.0%"
         ],
         "textposition": "auto",
         "type": "bar",
         "x": [
          "1",
          "total"
         ],
         "y": {
          "bdata": "BA0EDQ==",
          "dtype": "i2"
         }
        },
        {
         "name": "SpamAssasin.csv",
         "text": [
          "70.4%",
          "29.6%",
          "100.0%"
         ],
         "textposition": "auto",
         "type": "bar",
         "x": [
          "0",
          "1",
          "total"
         ],
         "y": {
          "bdata": "+w+2BrEW",
          "dtype": "i2"
         }
        },
        {
         "name": "TREC_07.csv",
         "text": [
          "54.7%",
          "45.3%",
          "100.0%"
         ],
         "textposition": "auto",
         "type": "bar",
         "x": [
          "1",
          "0",
          "total"
         ],
         "y": {
          "bdata": "13IAACZfAAD90QAA",
          "dtype": "i4"
         }
        }
       ],
       "layout": {
        "barmode": "group",
        "template": {
         "data": {
          "bar": [
           {
            "error_x": {
             "color": "#2a3f5f"
            },
            "error_y": {
             "color": "#2a3f5f"
            },
            "marker": {
             "line": {
              "color": "#E5ECF6",
              "width": 0.5
             },
             "pattern": {
              "fillmode": "overlay",
              "size": 10,
              "solidity": 0.2
             }
            },
            "type": "bar"
           }
          ],
          "barpolar": [
           {
            "marker": {
             "line": {
              "color": "#E5ECF6",
              "width": 0.5
             },
             "pattern": {
              "fillmode": "overlay",
              "size": 10,
              "solidity": 0.2
             }
            },
            "type": "barpolar"
           }
          ],
          "carpet": [
           {
            "aaxis": {
             "endlinecolor": "#2a3f5f",
             "gridcolor": "white",
             "linecolor": "white",
             "minorgridcolor": "white",
             "startlinecolor": "#2a3f5f"
            },
            "baxis": {
             "endlinecolor": "#2a3f5f",
             "gridcolor": "white",
             "linecolor": "white",
             "minorgridcolor": "white",
             "startlinecolor": "#2a3f5f"
            },
            "type": "carpet"
           }
          ],
          "choropleth": [
           {
            "colorbar": {
             "outlinewidth": 0,
             "ticks": ""
            },
            "type": "choropleth"
           }
          ],
          "contour": [
           {
            "colorbar": {
             "outlinewidth": 0,
             "ticks": ""
            },
            "colorscale": [
             [
              0,
              "#0d0887"
             ],
             [
              0.1111111111111111,
              "#46039f"
             ],
             [
              0.2222222222222222,
              "#7201a8"
             ],
             [
              0.3333333333333333,
              "#9c179e"
             ],
             [
              0.4444444444444444,
              "#bd3786"
             ],
             [
              0.5555555555555556,
              "#d8576b"
             ],
             [
              0.6666666666666666,
              "#ed7953"
             ],
             [
              0.7777777777777778,
              "#fb9f3a"
             ],
             [
              0.8888888888888888,
              "#fdca26"
             ],
             [
              1,
              "#f0f921"
             ]
            ],
            "type": "contour"
           }
          ],
          "contourcarpet": [
           {
            "colorbar": {
             "outlinewidth": 0,
             "ticks": ""
            },
            "type": "contourcarpet"
           }
          ],
          "heatmap": [
           {
            "colorbar": {
             "outlinewidth": 0,
             "ticks": ""
            },
            "colorscale": [
             [
              0,
              "#0d0887"
             ],
             [
              0.1111111111111111,
              "#46039f"
             ],
             [
              0.2222222222222222,
              "#7201a8"
             ],
             [
              0.3333333333333333,
              "#9c179e"
             ],
             [
              0.4444444444444444,
              "#bd3786"
             ],
             [
              0.5555555555555556,
              "#d8576b"
             ],
             [
              0.6666666666666666,
              "#ed7953"
             ],
             [
              0.7777777777777778,
              "#fb9f3a"
             ],
             [
              0.8888888888888888,
              "#fdca26"
             ],
             [
              1,
              "#f0f921"
             ]
            ],
            "type": "heatmap"
           }
          ],
          "histogram": [
           {
            "marker": {
             "pattern": {
              "fillmode": "overlay",
              "size": 10,
              "solidity": 0.2
             }
            },
            "type": "histogram"
           }
          ],
          "histogram2d": [
           {
            "colorbar": {
             "outlinewidth": 0,
             "ticks": ""
            },
            "colorscale": [
             [
              0,
              "#0d0887"
             ],
             [
              0.1111111111111111,
              "#46039f"
             ],
             [
              0.2222222222222222,
              "#7201a8"
             ],
             [
              0.3333333333333333,
              "#9c179e"
             ],
             [
              0.4444444444444444,
              "#bd3786"
             ],
             [
              0.5555555555555556,
              "#d8576b"
             ],
             [
              0.6666666666666666,
              "#ed7953"
             ],
             [
              0.7777777777777778,
              "#fb9f3a"
             ],
             [
              0.8888888888888888,
              "#fdca26"
             ],
             [
              1,
              "#f0f921"
             ]
            ],
            "type": "histogram2d"
           }
          ],
          "histogram2dcontour": [
           {
            "colorbar": {
             "outlinewidth": 0,
             "ticks": ""
            },
            "colorscale": [
             [
              0,
              "#0d0887"
             ],
             [
              0.1111111111111111,
              "#46039f"
             ],
             [
              0.2222222222222222,
              "#7201a8"
             ],
             [
              0.3333333333333333,
              "#9c179e"
             ],
             [
              0.4444444444444444,
              "#bd3786"
             ],
             [
              0.5555555555555556,
              "#d8576b"
             ],
             [
              0.6666666666666666,
              "#ed7953"
             ],
             [
              0.7777777777777778,
              "#fb9f3a"
             ],
             [
              0.8888888888888888,
              "#fdca26"
             ],
             [
              1,
              "#f0f921"
             ]
            ],
            "type": "histogram2dcontour"
           }
          ],
          "mesh3d": [
           {
            "colorbar": {
             "outlinewidth": 0,
             "ticks": ""
            },
            "type": "mesh3d"
           }
          ],
          "parcoords": [
           {
            "line": {
             "colorbar": {
              "outlinewidth": 0,
              "ticks": ""
             }
            },
            "type": "parcoords"
           }
          ],
          "pie": [
           {
            "automargin": true,
            "type": "pie"
           }
          ],
          "scatter": [
           {
            "fillpattern": {
             "fillmode": "overlay",
             "size": 10,
             "solidity": 0.2
            },
            "type": "scatter"
           }
          ],
          "scatter3d": [
           {
            "line": {
             "colorbar": {
              "outlinewidth": 0,
              "ticks": ""
             }
            },
            "marker": {
             "colorbar": {
              "outlinewidth": 0,
              "ticks": ""
             }
            },
            "type": "scatter3d"
           }
          ],
          "scattercarpet": [
           {
            "marker": {
             "colorbar": {
              "outlinewidth": 0,
              "ticks": ""
             }
            },
            "type": "scattercarpet"
           }
          ],
          "scattergeo": [
           {
            "marker": {
             "colorbar": {
              "outlinewidth": 0,
              "ticks": ""
             }
            },
            "type": "scattergeo"
           }
          ],
          "scattergl": [
           {
            "marker": {
             "colorbar": {
              "outlinewidth": 0,
              "ticks": ""
             }
            },
            "type": "scattergl"
           }
          ],
          "scattermap": [
           {
            "marker": {
             "colorbar": {
              "outlinewidth": 0,
              "ticks": ""
             }
            },
            "type": "scattermap"
           }
          ],
          "scattermapbox": [
           {
            "marker": {
             "colorbar": {
              "outlinewidth": 0,
              "ticks": ""
             }
            },
            "type": "scattermapbox"
           }
          ],
          "scatterpolar": [
           {
            "marker": {
             "colorbar": {
              "outlinewidth": 0,
              "ticks": ""
             }
            },
            "type": "scatterpolar"
           }
          ],
          "scatterpolargl": [
           {
            "marker": {
             "colorbar": {
              "outlinewidth": 0,
              "ticks": ""
             }
            },
            "type": "scatterpolargl"
           }
          ],
          "scatterternary": [
           {
            "marker": {
             "colorbar": {
              "outlinewidth": 0,
              "ticks": ""
             }
            },
            "type": "scatterternary"
           }
          ],
          "surface": [
           {
            "colorbar": {
             "outlinewidth": 0,
             "ticks": ""
            },
            "colorscale": [
             [
              0,
              "#0d0887"
             ],
             [
              0.1111111111111111,
              "#46039f"
             ],
             [
              0.2222222222222222,
              "#7201a8"
             ],
             [
              0.3333333333333333,
              "#9c179e"
             ],
             [
              0.4444444444444444,
              "#bd3786"
             ],
             [
              0.5555555555555556,
              "#d8576b"
             ],
             [
              0.6666666666666666,
              "#ed7953"
             ],
             [
              0.7777777777777778,
              "#fb9f3a"
             ],
             [
              0.8888888888888888,
              "#fdca26"
             ],
             [
              1,
              "#f0f921"
             ]
            ],
            "type": "surface"
           }
          ],
          "table": [
           {
            "cells": {
             "fill": {
              "color": "#EBF0F8"
             },
             "line": {
              "color": "white"
             }
            },
            "header": {
             "fill": {
              "color": "#C8D4E3"
             },
             "line": {
              "color": "white"
             }
            },
            "type": "table"
           }
          ]
         },
         "layout": {
          "annotationdefaults": {
           "arrowcolor": "#2a3f5f",
           "arrowhead": 0,
           "arrowwidth": 1
          },
          "autotypenumbers": "strict",
          "coloraxis": {
           "colorbar": {
            "outlinewidth": 0,
            "ticks": ""
           }
          },
          "colorscale": {
           "diverging": [
            [
             0,
             "#8e0152"
            ],
            [
             0.1,
             "#c51b7d"
            ],
            [
             0.2,
             "#de77ae"
            ],
            [
             0.3,
             "#f1b6da"
            ],
            [
             0.4,
             "#fde0ef"
            ],
            [
             0.5,
             "#f7f7f7"
            ],
            [
             0.6,
             "#e6f5d0"
            ],
            [
             0.7,
             "#b8e186"
            ],
            [
             0.8,
             "#7fbc41"
            ],
            [
             0.9,
             "#4d9221"
            ],
            [
             1,
             "#276419"
            ]
           ],
           "sequential": [
            [
             0,
             "#0d0887"
            ],
            [
             0.1111111111111111,
             "#46039f"
            ],
            [
             0.2222222222222222,
             "#7201a8"
            ],
            [
             0.3333333333333333,
             "#9c179e"
            ],
            [
             0.4444444444444444,
             "#bd3786"
            ],
            [
             0.5555555555555556,
             "#d8576b"
            ],
            [
             0.6666666666666666,
             "#ed7953"
            ],
            [
             0.7777777777777778,
             "#fb9f3a"
            ],
            [
             0.8888888888888888,
             "#fdca26"
            ],
            [
             1,
             "#f0f921"
            ]
           ],
           "sequentialminus": [
            [
             0,
             "#0d0887"
            ],
            [
             0.1111111111111111,
             "#46039f"
            ],
            [
             0.2222222222222222,
             "#7201a8"
            ],
            [
             0.3333333333333333,
             "#9c179e"
            ],
            [
             0.4444444444444444,
             "#bd3786"
            ],
            [
             0.5555555555555556,
             "#d8576b"
            ],
            [
             0.6666666666666666,
             "#ed7953"
            ],
            [
             0.7777777777777778,
             "#fb9f3a"
            ],
            [
             0.8888888888888888,
             "#fdca26"
            ],
            [
             1,
             "#f0f921"
            ]
           ]
          },
          "colorway": [
           "#636efa",
           "#EF553B",
           "#00cc96",
           "#ab63fa",
           "#FFA15A",
           "#19d3f3",
           "#FF6692",
           "#B6E880",
           "#FF97FF",
           "#FECB52"
          ],
          "font": {
           "color": "#2a3f5f"
          },
          "geo": {
           "bgcolor": "white",
           "lakecolor": "white",
           "landcolor": "#E5ECF6",
           "showlakes": true,
           "showland": true,
           "subunitcolor": "white"
          },
          "hoverlabel": {
           "align": "left"
          },
          "hovermode": "closest",
          "mapbox": {
           "style": "light"
          },
          "paper_bgcolor": "white",
          "plot_bgcolor": "#E5ECF6",
          "polar": {
           "angularaxis": {
            "gridcolor": "white",
            "linecolor": "white",
            "ticks": ""
           },
           "bgcolor": "#E5ECF6",
           "radialaxis": {
            "gridcolor": "white",
            "linecolor": "white",
            "ticks": ""
           }
          },
          "scene": {
           "xaxis": {
            "backgroundcolor": "#E5ECF6",
            "gridcolor": "white",
            "gridwidth": 2,
            "linecolor": "white",
            "showbackground": true,
            "ticks": "",
            "zerolinecolor": "white"
           },
           "yaxis": {
            "backgroundcolor": "#E5ECF6",
            "gridcolor": "white",
            "gridwidth": 2,
            "linecolor": "white",
            "showbackground": true,
            "ticks": "",
            "zerolinecolor": "white"
           },
           "zaxis": {
            "backgroundcolor": "#E5ECF6",
            "gridcolor": "white",
            "gridwidth": 2,
            "linecolor": "white",
            "showbackground": true,
            "ticks": "",
            "zerolinecolor": "white"
           }
          },
          "shapedefaults": {
           "line": {
            "color": "#2a3f5f"
           }
          },
          "ternary": {
           "aaxis": {
            "gridcolor": "white",
            "linecolor": "white",
            "ticks": ""
           },
           "baxis": {
            "gridcolor": "white",
            "linecolor": "white",
            "ticks": ""
           },
           "bgcolor": "#E5ECF6",
           "caxis": {
            "gridcolor": "white",
            "linecolor": "white",
            "ticks": ""
           }
          },
          "title": {
           "x": 0.05
          },
          "xaxis": {
           "automargin": true,
           "gridcolor": "white",
           "linecolor": "white",
           "ticks": "",
           "title": {
            "standoff": 15
           },
           "zerolinecolor": "white",
           "zerolinewidth": 2
          },
          "yaxis": {
           "automargin": true,
           "gridcolor": "white",
           "linecolor": "white",
           "ticks": "",
           "title": {
            "standoff": 15
           },
           "zerolinecolor": "white",
           "zerolinewidth": 2
          }
         }
        },
        "title": {
         "text": "Value Counts of 'label' + Total Rows"
        },
        "xaxis": {
         "title": {
          "text": "label"
         }
        },
        "yaxis": {
         "title": {
          "text": "Count"
         }
        }
       }
      }
     },
     "metadata": {},
     "output_type": "display_data"
    }
   ],
   "source": [
    "import os\n",
    "import pandas as pd\n",
    "import plotly.graph_objects as go\n",
    "\n",
    "# Path to your folder\n",
    "   # change this to your folder\n",
    "base_path = os.curdir\n",
    "folder_path = \"datasets\"\n",
    "folder_path = os.path.join(base_path, folder_path)\n",
    "exclude = ['four_row_phishtank_scraped_dataset_670K.csv']\n",
    "# Read all CSV files in the folder\n",
    "dataframes = []\n",
    "for file in os.listdir(folder_path):\n",
    "    if file.endswith(\".csv\"):\n",
    "        if file not in exclude:\n",
    "            file_path = os.path.join(folder_path, file)\n",
    "\n",
    "            print(file_path)\n",
    "            df = pd.read_csv(file_path)\n",
    "            dataframes.append((file,df))\n",
    "\n",
    "# Concatenate all dataframes\n",
    "if len(dataframes) == 0:\n",
    "    raise ValueError(\"No CSV files found in the folder.\")\n",
    "\n",
    "# Choose a column to analyze (change this to your desired column)\n",
    "column_name = \"label\"   # replace with your actual column\n",
    "fig = go.Figure()\n",
    "\n",
    "for file_name, df in dataframes:\n",
    "    # Rename 0/1 to labels safely\n",
    "    df[column_name] = df[column_name].astype(str)\n",
    "    #df.loc[df[column_name] == 1, column_name] = \"spam\"\n",
    "    #df.loc[df[column_name] == 0, column_name] = \"legitimate\"\n",
    "\n",
    "    # Value counts\n",
    "    value_counts = df[column_name].value_counts().reset_index()\n",
    "    value_counts.columns = [column_name, \"count\"]\n",
    "\n",
    "    # Add total row\n",
    "    value_counts_with_total = pd.concat([\n",
    "        value_counts,\n",
    "        pd.DataFrame({column_name: [\"total\"], \"count\": [df.shape[0]]})\n",
    "    ], ignore_index=True)\n",
    "\n",
    "    # Compute percentage relative to total\n",
    "    value_counts_with_total[\"percent\"] = value_counts_with_total[\"count\"] / df.shape[0] * 100\n",
    "\n",
    "    # Add bar trace with percentages on top\n",
    "    fig.add_bar(\n",
    "        x=value_counts_with_total[column_name],\n",
    "        y=value_counts_with_total[\"count\"],\n",
    "        name=file_name,\n",
    "        text=value_counts_with_total[\"percent\"].apply(lambda x: f\"{x:.1f}%\"),\n",
    "        textposition=\"auto\"\n",
    "    )\n",
    "\n",
    "fig.update_layout(\n",
    "    title=f\"Value Counts of '{column_name}' + Total Rows\",\n",
    "    xaxis_title=column_name,\n",
    "    yaxis_title=\"Count\",\n",
    "    barmode=\"group\"\n",
    ")\n",
    "\n",
    "fig.show()\n",
    "column_text = \"body\"\n",
    "column_label = \"label\""
   ]
  },
  {
   "cell_type": "code",
   "execution_count": 3,
   "id": "14e6ab5d",
   "metadata": {},
   "outputs": [
    {
     "ename": "KeyboardInterrupt",
     "evalue": "",
     "output_type": "error",
     "traceback": [
      "\u001b[31m---------------------------------------------------------------------------\u001b[39m",
      "\u001b[31mKeyboardInterrupt\u001b[39m                         Traceback (most recent call last)",
      "\u001b[36mCell\u001b[39m\u001b[36m \u001b[39m\u001b[32mIn[3]\u001b[39m\u001b[32m, line 105\u001b[39m\n\u001b[32m    103\u001b[39m train_labels = le.transform(train_df[column_label])\n\u001b[32m    104\u001b[39m test_labels = le.transform(test_df[column_label])\n\u001b[32m--> \u001b[39m\u001b[32m105\u001b[39m test_dataset = \u001b[43mEmailDataset\u001b[49m\u001b[43m(\u001b[49m\u001b[43mtest_df\u001b[49m\u001b[43m[\u001b[49m\u001b[43mcolumn_text\u001b[49m\u001b[43m]\u001b[49m\u001b[43m,\u001b[49m\u001b[43m \u001b[49m\u001b[43mtest_labels\u001b[49m\u001b[43m,\u001b[49m\u001b[43m \u001b[49m\u001b[43mvectorizer\u001b[49m\u001b[43m)\u001b[49m\n\u001b[32m    106\u001b[39m test_loader = DataLoader(test_dataset, batch_size=batch_size, shuffle=\u001b[38;5;28;01mFalse\u001b[39;00m)\n\u001b[32m    108\u001b[39m model.eval()\n",
      "\u001b[36mCell\u001b[39m\u001b[36m \u001b[39m\u001b[32mIn[3]\u001b[39m\u001b[32m, line 15\u001b[39m, in \u001b[36mEmailDataset.__init__\u001b[39m\u001b[34m(self, texts, labels, vectorizer)\u001b[39m\n\u001b[32m     14\u001b[39m \u001b[38;5;28;01mdef\u001b[39;00m\u001b[38;5;250m \u001b[39m\u001b[34m__init__\u001b[39m(\u001b[38;5;28mself\u001b[39m, texts, labels, vectorizer):\n\u001b[32m---> \u001b[39m\u001b[32m15\u001b[39m     \u001b[38;5;28mself\u001b[39m.X = \u001b[43mvectorizer\u001b[49m\u001b[43m.\u001b[49m\u001b[43mtransform\u001b[49m\u001b[43m(\u001b[49m\u001b[43mtexts\u001b[49m\u001b[43m)\u001b[49m.toarray()\n\u001b[32m     16\u001b[39m     \u001b[38;5;28mself\u001b[39m.y = labels\n",
      "\u001b[36mFile \u001b[39m\u001b[32mc:\\Users\\rrpra\\AppData\\Local\\Programs\\Python\\Python313\\Lib\\site-packages\\sklearn\\feature_extraction\\text.py:1421\u001b[39m, in \u001b[36mCountVectorizer.transform\u001b[39m\u001b[34m(self, raw_documents)\u001b[39m\n\u001b[32m   1418\u001b[39m \u001b[38;5;28mself\u001b[39m._check_vocabulary()\n\u001b[32m   1420\u001b[39m \u001b[38;5;66;03m# use the same matrix-building strategy as fit_transform\u001b[39;00m\n\u001b[32m-> \u001b[39m\u001b[32m1421\u001b[39m _, X = \u001b[38;5;28;43mself\u001b[39;49m\u001b[43m.\u001b[49m\u001b[43m_count_vocab\u001b[49m\u001b[43m(\u001b[49m\u001b[43mraw_documents\u001b[49m\u001b[43m,\u001b[49m\u001b[43m \u001b[49m\u001b[43mfixed_vocab\u001b[49m\u001b[43m=\u001b[49m\u001b[38;5;28;43;01mTrue\u001b[39;49;00m\u001b[43m)\u001b[49m\n\u001b[32m   1422\u001b[39m \u001b[38;5;28;01mif\u001b[39;00m \u001b[38;5;28mself\u001b[39m.binary:\n\u001b[32m   1423\u001b[39m     X.data.fill(\u001b[32m1\u001b[39m)\n",
      "\u001b[36mFile \u001b[39m\u001b[32mc:\\Users\\rrpra\\AppData\\Local\\Programs\\Python\\Python313\\Lib\\site-packages\\sklearn\\feature_extraction\\text.py:1263\u001b[39m, in \u001b[36mCountVectorizer._count_vocab\u001b[39m\u001b[34m(self, raw_documents, fixed_vocab)\u001b[39m\n\u001b[32m   1261\u001b[39m \u001b[38;5;28;01mfor\u001b[39;00m doc \u001b[38;5;129;01min\u001b[39;00m raw_documents:\n\u001b[32m   1262\u001b[39m     feature_counter = {}\n\u001b[32m-> \u001b[39m\u001b[32m1263\u001b[39m     \u001b[38;5;28;01mfor\u001b[39;00m feature \u001b[38;5;129;01min\u001b[39;00m \u001b[43manalyze\u001b[49m\u001b[43m(\u001b[49m\u001b[43mdoc\u001b[49m\u001b[43m)\u001b[49m:\n\u001b[32m   1264\u001b[39m         \u001b[38;5;28;01mtry\u001b[39;00m:\n\u001b[32m   1265\u001b[39m             feature_idx = vocabulary[feature]\n",
      "\u001b[36mFile \u001b[39m\u001b[32mc:\\Users\\rrpra\\AppData\\Local\\Programs\\Python\\Python313\\Lib\\site-packages\\sklearn\\feature_extraction\\text.py:111\u001b[39m, in \u001b[36m_analyze\u001b[39m\u001b[34m(doc, analyzer, tokenizer, ngrams, preprocessor, decoder, stop_words)\u001b[39m\n\u001b[32m    109\u001b[39m             doc = ngrams(doc, stop_words)\n\u001b[32m    110\u001b[39m         \u001b[38;5;28;01melse\u001b[39;00m:\n\u001b[32m--> \u001b[39m\u001b[32m111\u001b[39m             doc = \u001b[43mngrams\u001b[49m\u001b[43m(\u001b[49m\u001b[43mdoc\u001b[49m\u001b[43m)\u001b[49m\n\u001b[32m    112\u001b[39m \u001b[38;5;28;01mreturn\u001b[39;00m doc\n",
      "\u001b[36mFile \u001b[39m\u001b[32mc:\\Users\\rrpra\\AppData\\Local\\Programs\\Python\\Python313\\Lib\\site-packages\\sklearn\\feature_extraction\\text.py:238\u001b[39m, in \u001b[36m_VectorizerMixin._word_ngrams\u001b[39m\u001b[34m(self, tokens, stop_words)\u001b[39m\n\u001b[32m    232\u001b[39m         \u001b[38;5;28;01mraise\u001b[39;00m \u001b[38;5;167;01mValueError\u001b[39;00m(\n\u001b[32m    233\u001b[39m             \u001b[33m\"\u001b[39m\u001b[33mnp.nan is an invalid document, expected byte or unicode string.\u001b[39m\u001b[33m\"\u001b[39m\n\u001b[32m    234\u001b[39m         )\n\u001b[32m    236\u001b[39m     \u001b[38;5;28;01mreturn\u001b[39;00m doc\n\u001b[32m--> \u001b[39m\u001b[32m238\u001b[39m \u001b[38;5;28;01mdef\u001b[39;00m\u001b[38;5;250m \u001b[39m\u001b[34m_word_ngrams\u001b[39m(\u001b[38;5;28mself\u001b[39m, tokens, stop_words=\u001b[38;5;28;01mNone\u001b[39;00m):\n\u001b[32m    239\u001b[39m \u001b[38;5;250m    \u001b[39m\u001b[33;03m\"\"\"Turn tokens into a sequence of n-grams after stop words filtering\"\"\"\u001b[39;00m\n\u001b[32m    240\u001b[39m     \u001b[38;5;66;03m# handle stop words\u001b[39;00m\n",
      "\u001b[31mKeyboardInterrupt\u001b[39m: "
     ]
    }
   ],
   "source": [
    "import torch\n",
    "import torch.nn as nn\n",
    "import torch.optim as optim\n",
    "from torch.utils.data import Dataset, DataLoader\n",
    "from sklearn.preprocessing import LabelEncoder\n",
    "from sklearn.feature_extraction.text import CountVectorizer\n",
    "import pandas as pd\n",
    "import numpy as np\n",
    "\n",
    "# ---------------------------\n",
    "# Custom dataset class\n",
    "# ---------------------------\n",
    "class EmailDataset(Dataset):\n",
    "    def __init__(self, texts, labels, vectorizer):\n",
    "        self.X = vectorizer.transform(texts).toarray()\n",
    "        self.y = labels\n",
    "    def __len__(self):\n",
    "        return len(self.y)\n",
    "    def __getitem__(self, idx):\n",
    "        return torch.tensor(self.X[idx], dtype=torch.float32), torch.tensor(self.y[idx], dtype=torch.long)\n",
    "\n",
    "# ---------------------------\n",
    "# Simple Feedforward model\n",
    "# ---------------------------\n",
    "class SimpleFFNN(nn.Module):\n",
    "    def __init__(self, input_dim, hidden_dim=128, output_dim=2):\n",
    "        super(SimpleFFNN, self).__init__()\n",
    "        self.fc1 = nn.Linear(input_dim, hidden_dim)\n",
    "        self.relu = nn.ReLU()\n",
    "        self.fc2 = nn.Linear(hidden_dim, output_dim)\n",
    "    def forward(self, x):\n",
    "        x = self.relu(self.fc1(x))\n",
    "        x = self.fc2(x)\n",
    "        return x\n",
    "\n",
    "# ---------------------------\n",
    "# Parameters\n",
    "# ---------------------------\n",
    "column_text = \"body\"\n",
    "column_label = \"label\"\n",
    "device = torch.device(\"cuda\" if torch.cuda.is_available() else \"cpu\")\n",
    "batch_size = 32\n",
    "epochs = 5\n",
    "hidden_dim = 128\n",
    "max_features = 2000\n",
    "\n",
    "# ---------------------------\n",
    "# Fill NaNs and map labels\n",
    "# ---------------------------\n",
    "for i in range(len(dataframes)):\n",
    "    file_name, df = dataframes[i]\n",
    "    df[column_text] = df[column_text].fillna(\"\")  # fill NaN\n",
    "    \n",
    "    df.loc[df[column_label] == \"spam\", column_label] = 1\n",
    "    df.loc[df[column_label] == \"legitimate\", column_label] = 0\n",
    "    df[column_label] = df[column_label].astype(int)\n",
    "    dataframes[i] = (file_name, df)\n",
    "\n",
    "# ---------------------------\n",
    "# Vectorizer on all data\n",
    "# ---------------------------\n",
    "all_texts = pd.concat([df[column_text] for _, df in dataframes])\n",
    "vectorizer = CountVectorizer(max_features=max_features)\n",
    "vectorizer.fit(all_texts)\n",
    "\n",
    "# ---------------------------\n",
    "# Cross-dataset evaluation\n",
    "# ---------------------------\n",
    "n = len(dataframes)\n",
    "accuracy_matrix = np.zeros((n, n))\n",
    "\n",
    "for i, (train_name, train_df) in enumerate(dataframes):\n",
    "    # Encode train labels\n",
    "    le = LabelEncoder()\n",
    "    train_labels = le.fit_transform(train_df[column_label])\n",
    "    train_dataset = EmailDataset(train_df[column_text], train_labels, vectorizer)\n",
    "    train_loader = DataLoader(train_dataset, batch_size=batch_size, shuffle=True)\n",
    "\n",
    "    # Model\n",
    "    model = SimpleFFNN(input_dim=max_features, hidden_dim=hidden_dim, output_dim=2).to(device)\n",
    "    criterion = nn.CrossEntropyLoss()\n",
    "    optimizer = optim.Adam(model.parameters(), lr=0.001)\n",
    "\n",
    "    # Train\n",
    "    for epoch in range(epochs):\n",
    "        model.train()\n",
    "        for X_batch, y_batch in train_loader:\n",
    "            X_batch, y_batch = X_batch.to(device), y_batch.to(device)\n",
    "            optimizer.zero_grad()\n",
    "            outputs = model(X_batch)\n",
    "            loss = criterion(outputs, y_batch)\n",
    "            loss.backward()\n",
    "            optimizer.step()\n",
    "\n",
    "    # Test on all datasets\n",
    "    for j, (test_name, test_df) in enumerate(dataframes):\n",
    "        # Fit LabelEncoder on all labels\n",
    "        all_labels = pd.concat([df[column_label] for _, df in dataframes])\n",
    "        le = LabelEncoder()\n",
    "        le.fit(all_labels)\n",
    "\n",
    "        # Then use the same encoder for both train and test\n",
    "        train_labels = le.transform(train_df[column_label])\n",
    "        test_labels = le.transform(test_df[column_label])\n",
    "        test_dataset = EmailDataset(test_df[column_text], test_labels, vectorizer)\n",
    "        test_loader = DataLoader(test_dataset, batch_size=batch_size, shuffle=False)\n",
    "\n",
    "        model.eval()\n",
    "        correct = 0\n",
    "        total = 0\n",
    "        with torch.no_grad():\n",
    "            for X_batch, y_batch in test_loader:\n",
    "                X_batch, y_batch = X_batch.to(device), y_batch.to(device)\n",
    "                outputs = model(X_batch)\n",
    "                _, predicted = torch.max(outputs, 1)\n",
    "                total += y_batch.size(0)\n",
    "                correct += (predicted == y_batch).sum().item()\n",
    "        accuracy_matrix[i, j] = correct / total * 100\n",
    "\n",
    "# ---------------------------\n",
    "# Print confusion-like matrix\n",
    "# ---------------------------\n",
    "df_accuracy = pd.DataFrame(accuracy_matrix,\n",
    "                           index=[name for name, _ in dataframes],\n",
    "                           columns=[name for name, _ in dataframes])\n",
    "print(\"Cross-dataset accuracy matrix (%):\")\n",
    "print(df_accuracy)\n"
   ]
  },
  {
   "cell_type": "markdown",
   "id": "c4153c33",
   "metadata": {},
   "source": [
    "Cross-dataset accuracy matrix (%):\n",
    "                    CEAS_08.csv  Enron.csv    Ling.csv  Nazario.csv  \\\n",
    "CEAS_08.csv           99.966798  76.000269   88.877230    23.003195   \n",
    "Enron.csv             67.934311  99.697652   69.324939    81.725240   \n",
    "Ling.csv              81.580426  79.752746  100.000000    70.415335   \n",
    "Nazario.csv           44.215150  53.048678   83.980413     0.000000   \n",
    "Nazario_5.csv         54.362262  63.483052   83.001049   100.000000   \n",
    "Nigerian_5.csv        45.637738  59.807841   84.889822    27.539936   \n",
    "Nigerian_Fraud.csv    44.215150  53.048678   83.980413     0.000000   \n",
    "SpamAssasin.csv       77.404607  75.839016   88.387548    60.255591   \n",
    "TREC_07.csv           77.894979  68.935398   45.015740    95.015974   \n",
    "\n",
    "                    Nazario_5.csv  Nigerian_5.csv  Nigerian_Fraud.csv  \\\n",
    "CEAS_08.csv             57.781403       92.133944           90.486194   \n",
    "Enron.csv               64.730832       75.848997           99.399760   \n",
    "Ling.csv                74.681892       69.609856           57.923169   \n",
    "Nazario.csv             48.939641       47.370084            0.000000   \n",
    "Nazario_5.csv           99.934747       64.792292           33.943577   \n",
    "Nigerian_5.csv          63.001631       99.936819           99.879952   \n",
    "Nigerian_Fraud.csv      48.939641       47.370084            0.000000   \n",
    "SpamAssasin.csv         75.040783       94.329490           97.959184   \n",
    "TREC_07.csv             82.185971       83.067446           99.369748   \n",
    "\n",
    "                    SpamAssasin.csv  TREC_07.csv  \n",
    "CEAS_08.csv               79.015321    84.282977  \n",
    "Enron.csv                 46.686177    61.398516  \n",
    "Ling.csv                  70.184197    75.545510  \n",
    "Nazario.csv               70.425202    45.311308  \n",
    "Nazario_5.csv             75.210880    53.414439  \n",
    "Nigerian_5.csv            76.674126    50.566438  \n",
    "Nigerian_Fraud.csv        70.425202    45.311308  \n",
    "SpamAssasin.csv           99.931141    78.867868  \n",
    "TREC_07.csv               73.059046    99.910709  "
   ]
  },
  {
   "cell_type": "code",
   "execution_count": 27,
   "id": "d33ce50d",
   "metadata": {},
   "outputs": [
    {
     "data": {
      "application/vnd.plotly.v1+json": {
       "config": {
        "plotlyServerURL": "https://plot.ly"
       },
       "data": [
        {
         "colorscale": [
          [
           0,
           "#440154"
          ],
          [
           0.1111111111111111,
           "#482878"
          ],
          [
           0.2222222222222222,
           "#3e4989"
          ],
          [
           0.3333333333333333,
           "#31688e"
          ],
          [
           0.4444444444444444,
           "#26828e"
          ],
          [
           0.5555555555555556,
           "#1f9e89"
          ],
          [
           0.6666666666666666,
           "#35b779"
          ],
          [
           0.7777777777777778,
           "#6ece58"
          ],
          [
           0.8888888888888888,
           "#b5de2b"
          ],
          [
           1,
           "#fde725"
          ]
         ],
         "hoverongaps": false,
         "text": {
          "bdata": "/BvEA+D9WEARZjxnBABTQPcxdogkOFZAKT5UYdEAN0A4X+wCBeRMQKLHNYqSCFdA9GZxzx2fVkCZ+CcF+8BTQJY1/EscElVAVbn7vsv7UEBmd5NTpuxYQHjVEMzLVFFAkcdsU2puVEASsXjzxS5QQM8pgvdV9lJAGHGQqpXZWEC1a7Si1FdHQEJEqo4Cs05A+MsisyVlVED9MvH+LPBTQAAAAAAAAFlAMeQx25SaUUBbLr0fpKtSQGkIkOIHZ1FAs7waaSr2TEBCz/HhyYtRQJSEQKTp4lJAh8ihDIobRkCGbTcVO4ZKQKXVChW//lRAAAAAAAAAAAAKNe0oRnhIQJx3Nuder0dAAAAAAAAAAACPd5eDNptRQGptQPPYp0ZAUh+NmF4uS0DjNl6j1L1PQPuPKDERwFRAAAAAAAAAWUAMp7Dl0vtYQBekEum0MlBAk6IvJcf4QEBD83ANf81SQMOIulYMtUpAruByZ6HRRkAr3Z1UZ+dNQMPxXNbyOFVAAAmdQDmKO0Cm94N0NYBPQGsf9db0+1hAa+McIlH4WEA9ut7iJCtTQAJcKAmBSElAh8ihDIobRkCGbTcVO4ZKQKXVChW//lRAAAAAAAAAAAAKNe0oRnhIQJx3Nuder0dAAAAAAAAAAACPd5eDNptRQGptQPPYp0ZA3LKiFuVZU0BHLq1xsvVSQCIPhZbNGFZAY7YpNbcgTkCZl3EwnMJSQNXDb1wWlVdAHxrrQ2N9WEBYq9DRl/tYQOVFxyeLt1NALe4qVUd5U0DPqamQ3TtRQH/fwMIDgkZAs02puQXBV0DqI2Lx5otUQDjknAhRxFRA86kX86nXWEC23Slqx0NSQA8crA9J+lhA",
          "dtype": "f8",
          "shape": "9, 9"
         },
         "texttemplate": "%{text:.2f}%",
         "type": "heatmap",
         "x": [
          "CEAS_08.csv",
          "Enron.csv",
          "Ling.csv",
          "Nazario.csv",
          "Nazario_5.csv",
          "Nigerian_5.csv",
          "Nigerian_Fraud.csv",
          "SpamAssasin.csv",
          "TREC_07.csv"
         ],
         "y": [
          "CEAS_08.csv",
          "Enron.csv",
          "Ling.csv",
          "Nazario.csv",
          "Nazario_5.csv",
          "Nigerian_5.csv",
          "Nigerian_Fraud.csv",
          "SpamAssasin.csv",
          "TREC_07.csv"
         ],
         "z": {
          "bdata": "/BvEA+D9WEARZjxnBABTQPcxdogkOFZAKT5UYdEAN0A4X+wCBeRMQKLHNYqSCFdA9GZxzx2fVkCZ+CcF+8BTQJY1/EscElVAVbn7vsv7UEBmd5NTpuxYQHjVEMzLVFFAkcdsU2puVEASsXjzxS5QQM8pgvdV9lJAGHGQqpXZWEC1a7Si1FdHQEJEqo4Cs05A+MsisyVlVED9MvH+LPBTQAAAAAAAAFlAMeQx25SaUUBbLr0fpKtSQGkIkOIHZ1FAs7waaSr2TEBCz/HhyYtRQJSEQKTp4lJAh8ihDIobRkCGbTcVO4ZKQKXVChW//lRAAAAAAAAAAAAKNe0oRnhIQJx3Nuder0dAAAAAAAAAAACPd5eDNptRQGptQPPYp0ZAUh+NmF4uS0DjNl6j1L1PQPuPKDERwFRAAAAAAAAAWUAMp7Dl0vtYQBekEum0MlBAk6IvJcf4QEBD83ANf81SQMOIulYMtUpAruByZ6HRRkAr3Z1UZ+dNQMPxXNbyOFVAAAmdQDmKO0Cm94N0NYBPQGsf9db0+1hAa+McIlH4WEA9ut7iJCtTQAJcKAmBSElAh8ihDIobRkCGbTcVO4ZKQKXVChW//lRAAAAAAAAAAAAKNe0oRnhIQJx3Nuder0dAAAAAAAAAAACPd5eDNptRQGptQPPYp0ZA3LKiFuVZU0BHLq1xsvVSQCIPhZbNGFZAY7YpNbcgTkCZl3EwnMJSQNXDb1wWlVdAHxrrQ2N9WEBYq9DRl/tYQOVFxyeLt1NALe4qVUd5U0DPqamQ3TtRQH/fwMIDgkZAs02puQXBV0DqI2Lx5otUQDjknAhRxFRA86kX86nXWEC23Slqx0NSQA8crA9J+lhA",
          "dtype": "f8",
          "shape": "9, 9"
         }
        }
       ],
       "layout": {
        "template": {
         "data": {
          "bar": [
           {
            "error_x": {
             "color": "#2a3f5f"
            },
            "error_y": {
             "color": "#2a3f5f"
            },
            "marker": {
             "line": {
              "color": "#E5ECF6",
              "width": 0.5
             },
             "pattern": {
              "fillmode": "overlay",
              "size": 10,
              "solidity": 0.2
             }
            },
            "type": "bar"
           }
          ],
          "barpolar": [
           {
            "marker": {
             "line": {
              "color": "#E5ECF6",
              "width": 0.5
             },
             "pattern": {
              "fillmode": "overlay",
              "size": 10,
              "solidity": 0.2
             }
            },
            "type": "barpolar"
           }
          ],
          "carpet": [
           {
            "aaxis": {
             "endlinecolor": "#2a3f5f",
             "gridcolor": "white",
             "linecolor": "white",
             "minorgridcolor": "white",
             "startlinecolor": "#2a3f5f"
            },
            "baxis": {
             "endlinecolor": "#2a3f5f",
             "gridcolor": "white",
             "linecolor": "white",
             "minorgridcolor": "white",
             "startlinecolor": "#2a3f5f"
            },
            "type": "carpet"
           }
          ],
          "choropleth": [
           {
            "colorbar": {
             "outlinewidth": 0,
             "ticks": ""
            },
            "type": "choropleth"
           }
          ],
          "contour": [
           {
            "colorbar": {
             "outlinewidth": 0,
             "ticks": ""
            },
            "colorscale": [
             [
              0,
              "#0d0887"
             ],
             [
              0.1111111111111111,
              "#46039f"
             ],
             [
              0.2222222222222222,
              "#7201a8"
             ],
             [
              0.3333333333333333,
              "#9c179e"
             ],
             [
              0.4444444444444444,
              "#bd3786"
             ],
             [
              0.5555555555555556,
              "#d8576b"
             ],
             [
              0.6666666666666666,
              "#ed7953"
             ],
             [
              0.7777777777777778,
              "#fb9f3a"
             ],
             [
              0.8888888888888888,
              "#fdca26"
             ],
             [
              1,
              "#f0f921"
             ]
            ],
            "type": "contour"
           }
          ],
          "contourcarpet": [
           {
            "colorbar": {
             "outlinewidth": 0,
             "ticks": ""
            },
            "type": "contourcarpet"
           }
          ],
          "heatmap": [
           {
            "colorbar": {
             "outlinewidth": 0,
             "ticks": ""
            },
            "colorscale": [
             [
              0,
              "#0d0887"
             ],
             [
              0.1111111111111111,
              "#46039f"
             ],
             [
              0.2222222222222222,
              "#7201a8"
             ],
             [
              0.3333333333333333,
              "#9c179e"
             ],
             [
              0.4444444444444444,
              "#bd3786"
             ],
             [
              0.5555555555555556,
              "#d8576b"
             ],
             [
              0.6666666666666666,
              "#ed7953"
             ],
             [
              0.7777777777777778,
              "#fb9f3a"
             ],
             [
              0.8888888888888888,
              "#fdca26"
             ],
             [
              1,
              "#f0f921"
             ]
            ],
            "type": "heatmap"
           }
          ],
          "histogram": [
           {
            "marker": {
             "pattern": {
              "fillmode": "overlay",
              "size": 10,
              "solidity": 0.2
             }
            },
            "type": "histogram"
           }
          ],
          "histogram2d": [
           {
            "colorbar": {
             "outlinewidth": 0,
             "ticks": ""
            },
            "colorscale": [
             [
              0,
              "#0d0887"
             ],
             [
              0.1111111111111111,
              "#46039f"
             ],
             [
              0.2222222222222222,
              "#7201a8"
             ],
             [
              0.3333333333333333,
              "#9c179e"
             ],
             [
              0.4444444444444444,
              "#bd3786"
             ],
             [
              0.5555555555555556,
              "#d8576b"
             ],
             [
              0.6666666666666666,
              "#ed7953"
             ],
             [
              0.7777777777777778,
              "#fb9f3a"
             ],
             [
              0.8888888888888888,
              "#fdca26"
             ],
             [
              1,
              "#f0f921"
             ]
            ],
            "type": "histogram2d"
           }
          ],
          "histogram2dcontour": [
           {
            "colorbar": {
             "outlinewidth": 0,
             "ticks": ""
            },
            "colorscale": [
             [
              0,
              "#0d0887"
             ],
             [
              0.1111111111111111,
              "#46039f"
             ],
             [
              0.2222222222222222,
              "#7201a8"
             ],
             [
              0.3333333333333333,
              "#9c179e"
             ],
             [
              0.4444444444444444,
              "#bd3786"
             ],
             [
              0.5555555555555556,
              "#d8576b"
             ],
             [
              0.6666666666666666,
              "#ed7953"
             ],
             [
              0.7777777777777778,
              "#fb9f3a"
             ],
             [
              0.8888888888888888,
              "#fdca26"
             ],
             [
              1,
              "#f0f921"
             ]
            ],
            "type": "histogram2dcontour"
           }
          ],
          "mesh3d": [
           {
            "colorbar": {
             "outlinewidth": 0,
             "ticks": ""
            },
            "type": "mesh3d"
           }
          ],
          "parcoords": [
           {
            "line": {
             "colorbar": {
              "outlinewidth": 0,
              "ticks": ""
             }
            },
            "type": "parcoords"
           }
          ],
          "pie": [
           {
            "automargin": true,
            "type": "pie"
           }
          ],
          "scatter": [
           {
            "fillpattern": {
             "fillmode": "overlay",
             "size": 10,
             "solidity": 0.2
            },
            "type": "scatter"
           }
          ],
          "scatter3d": [
           {
            "line": {
             "colorbar": {
              "outlinewidth": 0,
              "ticks": ""
             }
            },
            "marker": {
             "colorbar": {
              "outlinewidth": 0,
              "ticks": ""
             }
            },
            "type": "scatter3d"
           }
          ],
          "scattercarpet": [
           {
            "marker": {
             "colorbar": {
              "outlinewidth": 0,
              "ticks": ""
             }
            },
            "type": "scattercarpet"
           }
          ],
          "scattergeo": [
           {
            "marker": {
             "colorbar": {
              "outlinewidth": 0,
              "ticks": ""
             }
            },
            "type": "scattergeo"
           }
          ],
          "scattergl": [
           {
            "marker": {
             "colorbar": {
              "outlinewidth": 0,
              "ticks": ""
             }
            },
            "type": "scattergl"
           }
          ],
          "scattermap": [
           {
            "marker": {
             "colorbar": {
              "outlinewidth": 0,
              "ticks": ""
             }
            },
            "type": "scattermap"
           }
          ],
          "scattermapbox": [
           {
            "marker": {
             "colorbar": {
              "outlinewidth": 0,
              "ticks": ""
             }
            },
            "type": "scattermapbox"
           }
          ],
          "scatterpolar": [
           {
            "marker": {
             "colorbar": {
              "outlinewidth": 0,
              "ticks": ""
             }
            },
            "type": "scatterpolar"
           }
          ],
          "scatterpolargl": [
           {
            "marker": {
             "colorbar": {
              "outlinewidth": 0,
              "ticks": ""
             }
            },
            "type": "scatterpolargl"
           }
          ],
          "scatterternary": [
           {
            "marker": {
             "colorbar": {
              "outlinewidth": 0,
              "ticks": ""
             }
            },
            "type": "scatterternary"
           }
          ],
          "surface": [
           {
            "colorbar": {
             "outlinewidth": 0,
             "ticks": ""
            },
            "colorscale": [
             [
              0,
              "#0d0887"
             ],
             [
              0.1111111111111111,
              "#46039f"
             ],
             [
              0.2222222222222222,
              "#7201a8"
             ],
             [
              0.3333333333333333,
              "#9c179e"
             ],
             [
              0.4444444444444444,
              "#bd3786"
             ],
             [
              0.5555555555555556,
              "#d8576b"
             ],
             [
              0.6666666666666666,
              "#ed7953"
             ],
             [
              0.7777777777777778,
              "#fb9f3a"
             ],
             [
              0.8888888888888888,
              "#fdca26"
             ],
             [
              1,
              "#f0f921"
             ]
            ],
            "type": "surface"
           }
          ],
          "table": [
           {
            "cells": {
             "fill": {
              "color": "#EBF0F8"
             },
             "line": {
              "color": "white"
             }
            },
            "header": {
             "fill": {
              "color": "#C8D4E3"
             },
             "line": {
              "color": "white"
             }
            },
            "type": "table"
           }
          ]
         },
         "layout": {
          "annotationdefaults": {
           "arrowcolor": "#2a3f5f",
           "arrowhead": 0,
           "arrowwidth": 1
          },
          "autotypenumbers": "strict",
          "coloraxis": {
           "colorbar": {
            "outlinewidth": 0,
            "ticks": ""
           }
          },
          "colorscale": {
           "diverging": [
            [
             0,
             "#8e0152"
            ],
            [
             0.1,
             "#c51b7d"
            ],
            [
             0.2,
             "#de77ae"
            ],
            [
             0.3,
             "#f1b6da"
            ],
            [
             0.4,
             "#fde0ef"
            ],
            [
             0.5,
             "#f7f7f7"
            ],
            [
             0.6,
             "#e6f5d0"
            ],
            [
             0.7,
             "#b8e186"
            ],
            [
             0.8,
             "#7fbc41"
            ],
            [
             0.9,
             "#4d9221"
            ],
            [
             1,
             "#276419"
            ]
           ],
           "sequential": [
            [
             0,
             "#0d0887"
            ],
            [
             0.1111111111111111,
             "#46039f"
            ],
            [
             0.2222222222222222,
             "#7201a8"
            ],
            [
             0.3333333333333333,
             "#9c179e"
            ],
            [
             0.4444444444444444,
             "#bd3786"
            ],
            [
             0.5555555555555556,
             "#d8576b"
            ],
            [
             0.6666666666666666,
             "#ed7953"
            ],
            [
             0.7777777777777778,
             "#fb9f3a"
            ],
            [
             0.8888888888888888,
             "#fdca26"
            ],
            [
             1,
             "#f0f921"
            ]
           ],
           "sequentialminus": [
            [
             0,
             "#0d0887"
            ],
            [
             0.1111111111111111,
             "#46039f"
            ],
            [
             0.2222222222222222,
             "#7201a8"
            ],
            [
             0.3333333333333333,
             "#9c179e"
            ],
            [
             0.4444444444444444,
             "#bd3786"
            ],
            [
             0.5555555555555556,
             "#d8576b"
            ],
            [
             0.6666666666666666,
             "#ed7953"
            ],
            [
             0.7777777777777778,
             "#fb9f3a"
            ],
            [
             0.8888888888888888,
             "#fdca26"
            ],
            [
             1,
             "#f0f921"
            ]
           ]
          },
          "colorway": [
           "#636efa",
           "#EF553B",
           "#00cc96",
           "#ab63fa",
           "#FFA15A",
           "#19d3f3",
           "#FF6692",
           "#B6E880",
           "#FF97FF",
           "#FECB52"
          ],
          "font": {
           "color": "#2a3f5f"
          },
          "geo": {
           "bgcolor": "white",
           "lakecolor": "white",
           "landcolor": "#E5ECF6",
           "showlakes": true,
           "showland": true,
           "subunitcolor": "white"
          },
          "hoverlabel": {
           "align": "left"
          },
          "hovermode": "closest",
          "mapbox": {
           "style": "light"
          },
          "paper_bgcolor": "white",
          "plot_bgcolor": "#E5ECF6",
          "polar": {
           "angularaxis": {
            "gridcolor": "white",
            "linecolor": "white",
            "ticks": ""
           },
           "bgcolor": "#E5ECF6",
           "radialaxis": {
            "gridcolor": "white",
            "linecolor": "white",
            "ticks": ""
           }
          },
          "scene": {
           "xaxis": {
            "backgroundcolor": "#E5ECF6",
            "gridcolor": "white",
            "gridwidth": 2,
            "linecolor": "white",
            "showbackground": true,
            "ticks": "",
            "zerolinecolor": "white"
           },
           "yaxis": {
            "backgroundcolor": "#E5ECF6",
            "gridcolor": "white",
            "gridwidth": 2,
            "linecolor": "white",
            "showbackground": true,
            "ticks": "",
            "zerolinecolor": "white"
           },
           "zaxis": {
            "backgroundcolor": "#E5ECF6",
            "gridcolor": "white",
            "gridwidth": 2,
            "linecolor": "white",
            "showbackground": true,
            "ticks": "",
            "zerolinecolor": "white"
           }
          },
          "shapedefaults": {
           "line": {
            "color": "#2a3f5f"
           }
          },
          "ternary": {
           "aaxis": {
            "gridcolor": "white",
            "linecolor": "white",
            "ticks": ""
           },
           "baxis": {
            "gridcolor": "white",
            "linecolor": "white",
            "ticks": ""
           },
           "bgcolor": "#E5ECF6",
           "caxis": {
            "gridcolor": "white",
            "linecolor": "white",
            "ticks": ""
           }
          },
          "title": {
           "x": 0.05
          },
          "xaxis": {
           "automargin": true,
           "gridcolor": "white",
           "linecolor": "white",
           "ticks": "",
           "title": {
            "standoff": 15
           },
           "zerolinecolor": "white",
           "zerolinewidth": 2
          },
          "yaxis": {
           "automargin": true,
           "gridcolor": "white",
           "linecolor": "white",
           "ticks": "",
           "title": {
            "standoff": 15
           },
           "zerolinecolor": "white",
           "zerolinewidth": 2
          }
         }
        },
        "title": {
         "text": "Cross-Dataset Accuracy Matrix (%)"
        },
        "xaxis": {
         "tickangle": -45,
         "title": {
          "text": "Test Dataset"
         }
        },
        "yaxis": {
         "title": {
          "text": "Train Dataset"
         }
        }
       }
      }
     },
     "metadata": {},
     "output_type": "display_data"
    }
   ],
   "source": [
    "import plotly.graph_objects as go\n",
    "\n",
    "# df_accuracy is your DataFrame\n",
    "fig = go.Figure(data=go.Heatmap(\n",
    "    z=df_accuracy.values,\n",
    "    x=df_accuracy.columns,\n",
    "    y=df_accuracy.index,\n",
    "    colorscale='Viridis',\n",
    "    text=df_accuracy.values,\n",
    "    texttemplate=\"%{text:.2f}%\",\n",
    "    hoverongaps=False,\n",
    "))\n",
    "\n",
    "fig.update_layout(\n",
    "    title=\"Cross-Dataset Accuracy Matrix (%)\",\n",
    "    xaxis_title=\"Test Dataset\",\n",
    "    yaxis_title=\"Train Dataset\",\n",
    "    xaxis_tickangle=-45,\n",
    ")\n",
    "\n",
    "fig.show()\n"
   ]
  },
  {
   "cell_type": "code",
   "execution_count": null,
   "id": "4e4d83d3",
   "metadata": {},
   "outputs": [
    {
     "ename": "NameError",
     "evalue": "name 'df_accuracy' is not defined",
     "output_type": "error",
     "traceback": [
      "\u001b[31m---------------------------------------------------------------------------\u001b[39m",
      "\u001b[31mNameError\u001b[39m                                 Traceback (most recent call last)",
      "\u001b[36mCell\u001b[39m\u001b[36m \u001b[39m\u001b[32mIn[3]\u001b[39m\u001b[32m, line 12\u001b[39m\n\u001b[32m      7\u001b[39m merged_filename = \u001b[33m\"\u001b[39m\u001b[33mmerged_emails.csv\u001b[39m\u001b[33m\"\u001b[39m\n\u001b[32m      9\u001b[39m \u001b[38;5;66;03m# -----------------------------\u001b[39;00m\n\u001b[32m     10\u001b[39m \u001b[38;5;66;03m# Compute average cross-dataset accuracy per dataset\u001b[39;00m\n\u001b[32m     11\u001b[39m \u001b[38;5;66;03m# -----------------------------\u001b[39;00m\n\u001b[32m---> \u001b[39m\u001b[32m12\u001b[39m avg_accuracy = \u001b[43mdf_accuracy\u001b[49m.mean(axis=\u001b[32m1\u001b[39m)\n\u001b[32m     13\u001b[39m \u001b[38;5;28mprint\u001b[39m(\u001b[33m\"\u001b[39m\u001b[33mAverage cross-dataset accuracy per dataset:\u001b[39m\u001b[33m\"\u001b[39m)\n\u001b[32m     14\u001b[39m \u001b[38;5;28mprint\u001b[39m(avg_accuracy)\n",
      "\u001b[31mNameError\u001b[39m: name 'df_accuracy' is not defined"
     ]
    }
   ],
   "source": [
    "import pandas as pd\n",
    "\n",
    "# -----------------------------\n",
    "# Parameters\n",
    "# -----------------------------\n",
    "accuracy_threshold = 50  # include datasets with avg cross-accuracy above this\n",
    "merged_filename = r\"datasets\\merged_emails.csv\"\n",
    "\n",
    "# -----------------------------\n",
    "# Compute average cross-dataset accuracy per dataset\n",
    "# -----------------------------\n",
    "avg_accuracy = df_accuracy.mean(axis=1)\n",
    "print(\"Average cross-dataset accuracy per dataset:\")\n",
    "print(avg_accuracy)\n",
    "\n",
    "# Select datasets above threshold\n",
    "datasets_to_include = avg_accuracy[avg_accuracy >= accuracy_threshold].index.tolist()\n",
    "print(\"\\nDatasets selected for merging (avg accuracy >= {}%):\".format(accuracy_threshold))\n",
    "print(datasets_to_include)\n",
    "\n"
   ]
  },
  {
   "cell_type": "code",
   "execution_count": 7,
   "id": "65930867",
   "metadata": {},
   "outputs": [
    {
     "name": "stdout",
     "output_type": "stream",
     "text": [
      "\n",
      "Merged Dataset Metadata:\n",
      "Total rows: 137677\n",
      "Number of datasets merged: 6\n",
      "Rows per dataset:\n",
      " - CEAS_08.csv: 39154 rows\n",
      " - Enron.csv: 29767 rows\n",
      " - Ling.csv: 2859 rows\n",
      " - Nigerian_5.csv: 6331 rows\n",
      " - SpamAssasin.csv: 5809 rows\n",
      " - TREC_07.csv: 53757 rows\n",
      "\n",
      "Class distribution:\n",
      "label\n",
      "1    70725\n",
      "0    66952\n",
      "Name: count, dtype: int64\n",
      "\n",
      "Class percentages:\n",
      "label\n",
      "1    51.370236\n",
      "0    48.629764\n",
      "Name: proportion, dtype: float64\n",
      "\n",
      "Merged dataset saved as 'merged_emails.csv'\n"
     ]
    }
   ],
   "source": [
    "datasets_to_include = ['CEAS_08.csv','Enron.csv','Ling.csv','Nigerian_5.csv','SpamAssasin.csv','TREC_07.csv']\n",
    "# -----------------------------\n",
    "# Merge selected datasets\n",
    "# -----------------------------\n",
    "merged_df = pd.concat([df for name, df in dataframes if name in datasets_to_include], ignore_index=True)\n",
    "\n",
    "# -----------------------------\n",
    "# Print metadata\n",
    "# -----------------------------\n",
    "print(\"\\nMerged Dataset Metadata:\")\n",
    "print(f\"Total rows: {len(merged_df)}\")\n",
    "print(f\"Number of datasets merged: {len(datasets_to_include)}\")\n",
    "print(\"Rows per dataset:\")\n",
    "for name in datasets_to_include:\n",
    "    df_count = len([df for n, df in dataframes if n == name][0])\n",
    "    print(f\" - {name}: {df_count} rows\")\n",
    "\n",
    "# Class balance\n",
    "if column_label in merged_df.columns:\n",
    "    print(\"\\nClass distribution:\")\n",
    "    print(merged_df[column_label].value_counts())\n",
    "    print(\"\\nClass percentages:\")\n",
    "    print(merged_df[column_label].value_counts(normalize=True)*100)\n",
    "\n",
    "# -----------------------------\n",
    "# Save merged DataFrame\n",
    "# -----------------------------\n",
    "merged_df.to_csv(merged_filename, index=False)\n",
    "print(f\"\\nMerged dataset saved as '{merged_filename}'\")"
   ]
  }
 ],
 "metadata": {
  "kernelspec": {
   "display_name": "Python 3",
   "language": "python",
   "name": "python3"
  },
  "language_info": {
   "codemirror_mode": {
    "name": "ipython",
    "version": 3
   },
   "file_extension": ".py",
   "mimetype": "text/x-python",
   "name": "python",
   "nbconvert_exporter": "python",
   "pygments_lexer": "ipython3",
   "version": "3.13.3"
  }
 },
 "nbformat": 4,
 "nbformat_minor": 5
}
