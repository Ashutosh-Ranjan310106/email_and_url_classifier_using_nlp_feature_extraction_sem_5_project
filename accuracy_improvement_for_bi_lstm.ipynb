{
 "cells": [
  {
   "cell_type": "code",
   "execution_count": 25,
   "id": "4596dcf3",
   "metadata": {},
   "outputs": [
    {
     "name": "stdout",
     "output_type": "stream",
     "text": [
      "Using device: cuda\n"
     ]
    }
   ],
   "source": [
    "import torch\n",
    "import torch.nn as nn\n",
    "import torch.optim as optim\n",
    "from torchvision import datasets, transforms\n",
    "from torch.utils.data import DataLoader, Subset\n",
    "import numpy as np\n",
    "import time\n",
    "#seeding \n",
    "np.random.seed(42)\n",
    "torch.manual_seed(42)\n",
    "if torch.cuda.is_available():\n",
    "        torch.cuda.manual_seed(42)\n",
    "\n",
    "\n",
    "# 1️⃣ Device setup\n",
    "device = torch.device(\"cuda\" if torch.cuda.is_available() else \"cpu\")\n",
    "print(\"Using device:\", device)"
   ]
  },
  {
   "cell_type": "code",
   "execution_count": 79,
   "id": "339ee07f",
   "metadata": {},
   "outputs": [],
   "source": [
    "\n",
    "\n",
    "# 2️⃣ Load MNIST\n",
    "transform = transforms.Compose([\n",
    "    transforms.ToTensor(),\n",
    "    transforms.Normalize((0.5,),(0.5,))\n",
    "])\n",
    "\n",
    "train_dataset = datasets.MNIST(root=\"./data\", train=True, download=True, transform=transform)\n",
    "test_dataset = datasets.MNIST(root=\"./data\", train=False, transform=transform)\n",
    "\n",
    "\n",
    "train_loader_compleate = DataLoader(train_dataset, batch_size=64, shuffle=True)\n",
    "test_loader = DataLoader(test_dataset, batch_size=1000, shuffle=False)"
   ]
  },
  {
   "cell_type": "code",
   "execution_count": 81,
   "id": "ae2ee7f8",
   "metadata": {},
   "outputs": [],
   "source": [
    "\n",
    "\n",
    "# 3️⃣ Define a simple CNN\n",
    "class SimpleCNN(nn.Module):\n",
    "    def __init__(self, num_conv_layers, num_filters, dropout, criterion):\n",
    "        super().__init__()\n",
    "        layers = []\n",
    "        in_channels = 1\n",
    "        for _ in range(num_conv_layers):\n",
    "            layers.append(nn.Conv2d(in_channels, num_filters, 3, padding=1))\n",
    "            layers.append(nn.ReLU())\n",
    "            layers.append(nn.MaxPool2d(2))\n",
    "            in_channels = num_filters\n",
    "        self.conv = nn.Sequential(*layers)\n",
    "        self.fc = nn.Sequential(\n",
    "            nn.Flatten(),\n",
    "            nn.Linear(num_filters * (28 // (2 ** num_conv_layers))**2, 128),\n",
    "            nn.ReLU(),\n",
    "            nn.Linear(128, 128),\n",
    "            nn.Dropout(dropout),\n",
    "            nn.Linear(128, 10)\n",
    "        )\n",
    "        self.criterion = criterion\n",
    "        self.optimizer = optim.AdamW(self.parameters(), lr=0.001)\n",
    "        \n",
    "\n",
    "    def forward(self, x):\n",
    "        x = self.conv(x)\n",
    "        return self.fc(x)\n",
    "    \n",
    "    def train_model(self, train_loader, epochs=3, val_loader=None, device=torch.device(\"cuda\" if torch.cuda.is_available() else \"cpu\"), log=True, patience=3, min_delta=1e-4 ):\n",
    "        start_time = time.time()\n",
    "        best_val_acc = 0.0\n",
    "        best_epoch = 0\n",
    "        patience_counter = 0\n",
    "        best_state = None\n",
    "\n",
    "        for epoch in range(epochs):\n",
    "            self.train()\n",
    "            correct, total = 0, 0\n",
    "            running_loss = 0.0\n",
    "\n",
    "            for images, labels in train_loader:\n",
    "                images, labels = images.to(device), labels.to(device)\n",
    "                self.optimizer.zero_grad()\n",
    "                outputs = self(images)\n",
    "                loss = self.criterion(outputs, labels)\n",
    "                loss.backward()\n",
    "                self.optimizer.step()\n",
    "                _, predicted = torch.max(outputs, 1)\n",
    "                total += labels.size(0)\n",
    "                correct += (predicted == labels).sum().item()\n",
    "                running_loss += loss.item() * labels.size(0)\n",
    "\n",
    "            train_acc = correct / total\n",
    "            avg_loss = running_loss / total\n",
    "\n",
    "            # --------------------------\n",
    "            # Validation\n",
    "            # --------------------------\n",
    "            val_accuracy = None\n",
    "            if val_loader is not None:\n",
    "                val_accuracy = self.evaluate_model(val_loader)\n",
    "                if log:\n",
    "                    print(f\"Epoch [{epoch+1}/{epochs}] \"\n",
    "                        f\"Train Acc: {train_acc:.4f}, \"\n",
    "                        f\"Val Acc: {val_accuracy:.4f}, \"\n",
    "                        f\"Loss: {avg_loss:.4f}\")\n",
    "                \n",
    "                # Early stopping check\n",
    "                if val_accuracy > best_val_acc + min_delta:\n",
    "                    best_val_acc = val_accuracy\n",
    "                    best_epoch = epoch\n",
    "                    patience_counter = 0\n",
    "                    best_state = self.state_dict()  # save best model weights\n",
    "                else:\n",
    "                    patience_counter += 1\n",
    "\n",
    "                if patience_counter >= patience:\n",
    "                    print(f\"⏹️ Early stopping at epoch {epoch+1} \"\n",
    "                        f\"(no improvement in {patience} epochs)\")\n",
    "                    if best_state is not None:\n",
    "                        self.load_state_dict(best_state)\n",
    "                    break\n",
    "            else:\n",
    "                if log:\n",
    "                    print(f\"Epoch [{epoch+1}/{epochs}] \"\n",
    "                        f\"Train Acc: {train_acc:.4f}, \"\n",
    "                        f\"Loss: {avg_loss:.4f}\")\n",
    "\n",
    "        total_time = time.time() - start_time\n",
    "        if val_loader:\n",
    "            return train_acc, total_time, best_val_acc\n",
    "        return train_acc, total_time\n",
    "    def evaluate_model(self, test_loader):\n",
    "        self.eval()\n",
    "        correct, total = 0, 0\n",
    "        with torch.no_grad():\n",
    "            for images, labels in test_loader:\n",
    "                images, labels = images.to(device), labels.to(device)\n",
    "                outputs = self(images)\n",
    "                _, predicted = torch.max(outputs, 1)\n",
    "                total += labels.size(0)\n",
    "                correct += (predicted == labels).sum().item()\n",
    "        acc = correct / total\n",
    "        return acc\n",
    "\n",
    "\n",
    "\n"
   ]
  },
  {
   "cell_type": "code",
   "execution_count": 65,
   "id": "850e30ff",
   "metadata": {},
   "outputs": [
    {
     "name": "stdout",
     "output_type": "stream",
     "text": [
      "Requirement already satisfied: torch_optimizer in c:\\users\\rrpra\\appdata\\local\\programs\\python\\python313\\lib\\site-packages (0.3.0)\n",
      "Requirement already satisfied: torch>=1.5.0 in c:\\users\\rrpra\\appdata\\local\\programs\\python\\python313\\lib\\site-packages (from torch_optimizer) (2.8.0+cu126)\n",
      "Requirement already satisfied: pytorch-ranger>=0.1.1 in c:\\users\\rrpra\\appdata\\local\\programs\\python\\python313\\lib\\site-packages (from torch_optimizer) (0.1.1)\n",
      "Requirement already satisfied: filelock in c:\\users\\rrpra\\appdata\\local\\programs\\python\\python313\\lib\\site-packages (from torch>=1.5.0->torch_optimizer) (3.18.0)\n",
      "Requirement already satisfied: typing-extensions>=4.10.0 in c:\\users\\rrpra\\appdata\\local\\programs\\python\\python313\\lib\\site-packages (from torch>=1.5.0->torch_optimizer) (4.14.1)\n",
      "Requirement already satisfied: sympy>=1.13.3 in c:\\users\\rrpra\\appdata\\local\\programs\\python\\python313\\lib\\site-packages (from torch>=1.5.0->torch_optimizer) (1.14.0)\n",
      "Requirement already satisfied: networkx in c:\\users\\rrpra\\appdata\\local\\programs\\python\\python313\\lib\\site-packages (from torch>=1.5.0->torch_optimizer) (3.5)\n",
      "Requirement already satisfied: jinja2 in c:\\users\\rrpra\\appdata\\local\\programs\\python\\python313\\lib\\site-packages (from torch>=1.5.0->torch_optimizer) (3.1.6)\n",
      "Requirement already satisfied: fsspec in c:\\users\\rrpra\\appdata\\local\\programs\\python\\python313\\lib\\site-packages (from torch>=1.5.0->torch_optimizer) (2025.7.0)\n",
      "Requirement already satisfied: setuptools in c:\\users\\rrpra\\appdata\\local\\programs\\python\\python313\\lib\\site-packages (from torch>=1.5.0->torch_optimizer) (80.9.0)\n",
      "Requirement already satisfied: mpmath<1.4,>=1.1.0 in c:\\users\\rrpra\\appdata\\local\\programs\\python\\python313\\lib\\site-packages (from sympy>=1.13.3->torch>=1.5.0->torch_optimizer) (1.3.0)\n",
      "Requirement already satisfied: MarkupSafe>=2.0 in c:\\users\\rrpra\\appdata\\local\\programs\\python\\python313\\lib\\site-packages (from jinja2->torch>=1.5.0->torch_optimizer) (3.0.2)\n",
      "Requirement already satisfied: lion-pytorch in c:\\users\\rrpra\\appdata\\local\\programs\\python\\python313\\lib\\site-packages (0.2.3)\n",
      "Requirement already satisfied: torch>=1.6 in c:\\users\\rrpra\\appdata\\local\\programs\\python\\python313\\lib\\site-packages (from lion-pytorch) (2.8.0+cu126)\n",
      "Requirement already satisfied: filelock in c:\\users\\rrpra\\appdata\\local\\programs\\python\\python313\\lib\\site-packages (from torch>=1.6->lion-pytorch) (3.18.0)\n",
      "Requirement already satisfied: typing-extensions>=4.10.0 in c:\\users\\rrpra\\appdata\\local\\programs\\python\\python313\\lib\\site-packages (from torch>=1.6->lion-pytorch) (4.14.1)\n",
      "Requirement already satisfied: sympy>=1.13.3 in c:\\users\\rrpra\\appdata\\local\\programs\\python\\python313\\lib\\site-packages (from torch>=1.6->lion-pytorch) (1.14.0)\n",
      "Requirement already satisfied: networkx in c:\\users\\rrpra\\appdata\\local\\programs\\python\\python313\\lib\\site-packages (from torch>=1.6->lion-pytorch) (3.5)\n",
      "Requirement already satisfied: jinja2 in c:\\users\\rrpra\\appdata\\local\\programs\\python\\python313\\lib\\site-packages (from torch>=1.6->lion-pytorch) (3.1.6)\n",
      "Requirement already satisfied: fsspec in c:\\users\\rrpra\\appdata\\local\\programs\\python\\python313\\lib\\site-packages (from torch>=1.6->lion-pytorch) (2025.7.0)\n",
      "Requirement already satisfied: setuptools in c:\\users\\rrpra\\appdata\\local\\programs\\python\\python313\\lib\\site-packages (from torch>=1.6->lion-pytorch) (80.9.0)\n",
      "Requirement already satisfied: mpmath<1.4,>=1.1.0 in c:\\users\\rrpra\\appdata\\local\\programs\\python\\python313\\lib\\site-packages (from sympy>=1.13.3->torch>=1.6->lion-pytorch) (1.3.0)\n",
      "Requirement already satisfied: MarkupSafe>=2.0 in c:\\users\\rrpra\\appdata\\local\\programs\\python\\python313\\lib\\site-packages (from jinja2->torch>=1.6->lion-pytorch) (3.0.2)\n",
      "Requirement already satisfied: ranger21 in c:\\users\\rrpra\\appdata\\local\\programs\\python\\python313\\lib\\site-packages (0.1.0)\n",
      "Requirement already satisfied: matplotlib in c:\\users\\rrpra\\appdata\\local\\programs\\python\\python313\\lib\\site-packages (from ranger21) (3.10.5)\n",
      "Requirement already satisfied: numpy in c:\\users\\rrpra\\appdata\\local\\programs\\python\\python313\\lib\\site-packages (from ranger21) (2.2.6)\n",
      "Requirement already satisfied: torch in c:\\users\\rrpra\\appdata\\local\\programs\\python\\python313\\lib\\site-packages (from ranger21) (2.8.0+cu126)\n",
      "Requirement already satisfied: contourpy>=1.0.1 in c:\\users\\rrpra\\appdata\\local\\programs\\python\\python313\\lib\\site-packages (from matplotlib->ranger21) (1.3.3)\n",
      "Requirement already satisfied: cycler>=0.10 in c:\\users\\rrpra\\appdata\\local\\programs\\python\\python313\\lib\\site-packages (from matplotlib->ranger21) (0.12.1)\n",
      "Requirement already satisfied: fonttools>=4.22.0 in c:\\users\\rrpra\\appdata\\local\\programs\\python\\python313\\lib\\site-packages (from matplotlib->ranger21) (4.59.0)\n",
      "Requirement already satisfied: kiwisolver>=1.3.1 in c:\\users\\rrpra\\appdata\\local\\programs\\python\\python313\\lib\\site-packages (from matplotlib->ranger21) (1.4.8)\n",
      "Requirement already satisfied: packaging>=20.0 in c:\\users\\rrpra\\appdata\\local\\programs\\python\\python313\\lib\\site-packages (from matplotlib->ranger21) (24.2)\n",
      "Requirement already satisfied: pillow>=8 in c:\\users\\rrpra\\appdata\\local\\programs\\python\\python313\\lib\\site-packages (from matplotlib->ranger21) (11.2.1)\n",
      "Requirement already satisfied: pyparsing>=2.3.1 in c:\\users\\rrpra\\appdata\\local\\programs\\python\\python313\\lib\\site-packages (from matplotlib->ranger21) (3.2.3)\n",
      "Requirement already satisfied: python-dateutil>=2.7 in c:\\users\\rrpra\\appdata\\local\\programs\\python\\python313\\lib\\site-packages (from matplotlib->ranger21) (2.9.0.post0)\n",
      "Requirement already satisfied: six>=1.5 in c:\\users\\rrpra\\appdata\\local\\programs\\python\\python313\\lib\\site-packages (from python-dateutil>=2.7->matplotlib->ranger21) (1.17.0)\n",
      "Requirement already satisfied: filelock in c:\\users\\rrpra\\appdata\\local\\programs\\python\\python313\\lib\\site-packages (from torch->ranger21) (3.18.0)\n",
      "Requirement already satisfied: typing-extensions>=4.10.0 in c:\\users\\rrpra\\appdata\\local\\programs\\python\\python313\\lib\\site-packages (from torch->ranger21) (4.14.1)\n",
      "Requirement already satisfied: sympy>=1.13.3 in c:\\users\\rrpra\\appdata\\local\\programs\\python\\python313\\lib\\site-packages (from torch->ranger21) (1.14.0)\n",
      "Requirement already satisfied: networkx in c:\\users\\rrpra\\appdata\\local\\programs\\python\\python313\\lib\\site-packages (from torch->ranger21) (3.5)\n",
      "Requirement already satisfied: jinja2 in c:\\users\\rrpra\\appdata\\local\\programs\\python\\python313\\lib\\site-packages (from torch->ranger21) (3.1.6)\n",
      "Requirement already satisfied: fsspec in c:\\users\\rrpra\\appdata\\local\\programs\\python\\python313\\lib\\site-packages (from torch->ranger21) (2025.7.0)\n",
      "Requirement already satisfied: setuptools in c:\\users\\rrpra\\appdata\\local\\programs\\python\\python313\\lib\\site-packages (from torch->ranger21) (80.9.0)\n",
      "Requirement already satisfied: mpmath<1.4,>=1.1.0 in c:\\users\\rrpra\\appdata\\local\\programs\\python\\python313\\lib\\site-packages (from sympy>=1.13.3->torch->ranger21) (1.3.0)\n",
      "Requirement already satisfied: MarkupSafe>=2.0 in c:\\users\\rrpra\\appdata\\local\\programs\\python\\python313\\lib\\site-packages (from jinja2->torch->ranger21) (3.0.2)\n",
      "Requirement already satisfied: optuna in c:\\users\\rrpra\\appdata\\local\\programs\\python\\python313\\lib\\site-packages (4.5.0)\n",
      "Requirement already satisfied: alembic>=1.5.0 in c:\\users\\rrpra\\appdata\\local\\programs\\python\\python313\\lib\\site-packages (from optuna) (1.17.0)\n",
      "Requirement already satisfied: colorlog in c:\\users\\rrpra\\appdata\\local\\programs\\python\\python313\\lib\\site-packages (from optuna) (6.10.1)\n",
      "Requirement already satisfied: numpy in c:\\users\\rrpra\\appdata\\local\\programs\\python\\python313\\lib\\site-packages (from optuna) (2.2.6)\n",
      "Requirement already satisfied: packaging>=20.0 in c:\\users\\rrpra\\appdata\\local\\programs\\python\\python313\\lib\\site-packages (from optuna) (24.2)\n",
      "Requirement already satisfied: sqlalchemy>=1.4.2 in c:\\users\\rrpra\\appdata\\local\\programs\\python\\python313\\lib\\site-packages (from optuna) (2.0.40)\n",
      "Requirement already satisfied: tqdm in c:\\users\\rrpra\\appdata\\local\\programs\\python\\python313\\lib\\site-packages (from optuna) (4.67.1)\n",
      "Requirement already satisfied: PyYAML in c:\\users\\rrpra\\appdata\\local\\programs\\python\\python313\\lib\\site-packages (from optuna) (6.0.2)\n",
      "Requirement already satisfied: Mako in c:\\users\\rrpra\\appdata\\local\\programs\\python\\python313\\lib\\site-packages (from alembic>=1.5.0->optuna) (1.3.10)\n",
      "Requirement already satisfied: typing-extensions>=4.12 in c:\\users\\rrpra\\appdata\\local\\programs\\python\\python313\\lib\\site-packages (from alembic>=1.5.0->optuna) (4.14.1)\n",
      "Requirement already satisfied: greenlet>=1 in c:\\users\\rrpra\\appdata\\local\\programs\\python\\python313\\lib\\site-packages (from sqlalchemy>=1.4.2->optuna) (3.1.1)\n",
      "Requirement already satisfied: colorama in c:\\users\\rrpra\\appdata\\local\\programs\\python\\python313\\lib\\site-packages (from colorlog->optuna) (0.4.6)\n",
      "Requirement already satisfied: MarkupSafe>=0.9.2 in c:\\users\\rrpra\\appdata\\local\\programs\\python\\python313\\lib\\site-packages (from Mako->alembic>=1.5.0->optuna) (3.0.2)\n"
     ]
    }
   ],
   "source": [
    "!pip install -U torch_optimizer\n",
    "!pip install lion-pytorch\n",
    "!pip install ranger21\n",
    "!pip install optuna\n"
   ]
  },
  {
   "cell_type": "code",
   "execution_count": 66,
   "id": "5fdb99ea",
   "metadata": {},
   "outputs": [],
   "source": [
    "from torch_optimizer import  Yogi, AdaBelief, Lamb\n",
    "from ranger21 import Ranger21\n",
    "from lion_pytorch import Lion  # pip install lion-pytorch\n",
    "import torch.optim as optim"
   ]
  },
  {
   "cell_type": "code",
   "execution_count": 67,
   "id": "abfa5b36",
   "metadata": {},
   "outputs": [],
   "source": [
    "from scipy.optimize import curve_fit\n",
    "\n",
    "def power_law(x, a, b):\n",
    "    return a * np.power(x, b)"
   ]
  },
  {
   "cell_type": "code",
   "execution_count": 83,
   "id": "64472a12",
   "metadata": {},
   "outputs": [
    {
     "name": "stderr",
     "output_type": "stream",
     "text": [
      "[I 2025-10-17 01:59:35,720] A new study created in memory with name: no-name-deb4c05b-cf3a-4247-87d5-211e669b991a\n",
      "C:\\Users\\rrpra\\AppData\\Local\\Temp\\ipykernel_8048\\325211735.py:10: FutureWarning: suggest_loguniform has been deprecated in v3.0.0. This feature will be removed in v6.0.0. See https://github.com/optuna/optuna/releases/tag/v3.0.0. Use suggest_float(..., log=True) instead.\n",
      "  lr = trial.suggest_loguniform(\"lr\", 1e-4, 1e-2)\n",
      "[I 2025-10-17 01:59:45,097] Trial 0 finished with value: 0.9507 and parameters: {'num_conv_layers': 3, 'num_filters': 64, 'dropout': 0.20028297982081308, 'lr': 0.004204622120048832, 'batch': 16, 'optimizer': 'AdaBelief'}. Best is trial 0 with value: 0.9507.\n"
     ]
    },
    {
     "name": "stdout",
     "output_type": "stream",
     "text": [
      "5% data -> Acc: 95.20%, Time: 9.37s\n"
     ]
    },
    {
     "name": "stderr",
     "output_type": "stream",
     "text": [
      "[I 2025-10-17 01:59:53,045] Trial 1 finished with value: 0.9472 and parameters: {'num_conv_layers': 2, 'num_filters': 128, 'dropout': 0.2083501757504469, 'lr': 0.0024130437903936704, 'batch': 128, 'optimizer': 'AdaBelief'}. Best is trial 0 with value: 0.9507.\n"
     ]
    },
    {
     "name": "stdout",
     "output_type": "stream",
     "text": [
      "5% data -> Acc: 93.63%, Time: 7.94s\n"
     ]
    },
    {
     "name": "stderr",
     "output_type": "stream",
     "text": [
      "[I 2025-10-17 02:00:00,143] Trial 2 finished with value: 0.9429 and parameters: {'num_conv_layers': 1, 'num_filters': 64, 'dropout': 0.20387662691634473, 'lr': 0.007110823206807849, 'batch': 32, 'optimizer': 'Yogi'}. Best is trial 0 with value: 0.9507.\n"
     ]
    },
    {
     "name": "stdout",
     "output_type": "stream",
     "text": [
      "5% data -> Acc: 96.83%, Time: 7.09s\n"
     ]
    },
    {
     "name": "stderr",
     "output_type": "stream",
     "text": [
      "[I 2025-10-17 02:00:07,827] Trial 3 finished with value: 0.8902 and parameters: {'num_conv_layers': 2, 'num_filters': 128, 'dropout': 0.41762241502146186, 'lr': 0.004545956273769637, 'batch': 524, 'optimizer': 'AdaBelief'}. Best is trial 0 with value: 0.9507.\n"
     ]
    },
    {
     "name": "stdout",
     "output_type": "stream",
     "text": [
      "5% data -> Acc: 79.67%, Time: 7.68s\n"
     ]
    },
    {
     "name": "stderr",
     "output_type": "stream",
     "text": [
      "[I 2025-10-17 02:00:14,199] Trial 4 finished with value: 0.8736 and parameters: {'num_conv_layers': 1, 'num_filters': 64, 'dropout': 0.46612405680157537, 'lr': 0.00010737237274839275, 'batch': 64, 'optimizer': 'AdamW'}. Best is trial 0 with value: 0.9507.\n"
     ]
    },
    {
     "name": "stdout",
     "output_type": "stream",
     "text": [
      "5% data -> Acc: 79.10%, Time: 6.36s\n"
     ]
    },
    {
     "name": "stderr",
     "output_type": "stream",
     "text": [
      "[I 2025-10-17 02:00:24,031] Trial 5 finished with value: 0.8786 and parameters: {'num_conv_layers': 4, 'num_filters': 64, 'dropout': 0.43827672648500393, 'lr': 0.00936627613042328, 'batch': 16, 'optimizer': 'Yogi'}. Best is trial 0 with value: 0.9507.\n"
     ]
    },
    {
     "name": "stdout",
     "output_type": "stream",
     "text": [
      "5% data -> Acc: 90.37%, Time: 9.83s\n"
     ]
    },
    {
     "name": "stderr",
     "output_type": "stream",
     "text": [
      "[I 2025-10-17 02:00:30,481] Trial 6 finished with value: 0.1135 and parameters: {'num_conv_layers': 4, 'num_filters': 64, 'dropout': 0.26821836097155216, 'lr': 0.0009149558031357425, 'batch': 2048, 'optimizer': 'AdaBelief'}. Best is trial 0 with value: 0.9507.\n"
     ]
    },
    {
     "name": "stdout",
     "output_type": "stream",
     "text": [
      "5% data -> Acc: 11.33%, Time: 6.44s\n"
     ]
    },
    {
     "name": "stderr",
     "output_type": "stream",
     "text": [
      "[I 2025-10-17 02:00:36,065] Trial 7 finished with value: 0.4587 and parameters: {'num_conv_layers': 1, 'num_filters': 32, 'dropout': 0.24841477214693924, 'lr': 0.00017714425181253869, 'batch': 1024, 'optimizer': 'Lion'}. Best is trial 0 with value: 0.9507.\n"
     ]
    },
    {
     "name": "stdout",
     "output_type": "stream",
     "text": [
      "5% data -> Acc: 46.40%, Time: 5.58s\n"
     ]
    },
    {
     "name": "stderr",
     "output_type": "stream",
     "text": [
      "[I 2025-10-17 02:00:43,565] Trial 8 finished with value: 0.9387 and parameters: {'num_conv_layers': 1, 'num_filters': 32, 'dropout': 0.31400168947406104, 'lr': 0.00016821659256315382, 'batch': 16, 'optimizer': 'Lion'}. Best is trial 0 with value: 0.9507.\n"
     ]
    },
    {
     "name": "stdout",
     "output_type": "stream",
     "text": [
      "5% data -> Acc: 93.87%, Time: 7.49s\n"
     ]
    },
    {
     "name": "stderr",
     "output_type": "stream",
     "text": [
      "[I 2025-10-17 02:00:52,428] Trial 9 finished with value: 0.9649 and parameters: {'num_conv_layers': 4, 'num_filters': 128, 'dropout': 0.2777369091250338, 'lr': 0.0022497231598355917, 'batch': 32, 'optimizer': 'Yogi'}. Best is trial 9 with value: 0.9649.\n"
     ]
    },
    {
     "name": "stdout",
     "output_type": "stream",
     "text": [
      "5% data -> Acc: 93.27%, Time: 8.86s\n"
     ]
    },
    {
     "name": "stderr",
     "output_type": "stream",
     "text": [
      "[I 2025-10-17 02:01:00,517] Trial 10 finished with value: 0.414 and parameters: {'num_conv_layers': 3, 'num_filters': 16, 'dropout': 0.3690446955390573, 'lr': 0.0008152596860100228, 'batch': 32, 'optimizer': 'LAMB'}. Best is trial 9 with value: 0.9649.\n"
     ]
    },
    {
     "name": "stdout",
     "output_type": "stream",
     "text": [
      "5% data -> Acc: 34.87%, Time: 8.08s\n"
     ]
    },
    {
     "name": "stderr",
     "output_type": "stream",
     "text": [
      "[I 2025-10-17 02:01:10,386] Trial 11 finished with value: 0.9483 and parameters: {'num_conv_layers': 3, 'num_filters': 128, 'dropout': 0.2976924635839614, 'lr': 0.0020283706139822, 'batch': 16, 'optimizer': 'Yogi'}. Best is trial 9 with value: 0.9649.\n"
     ]
    },
    {
     "name": "stdout",
     "output_type": "stream",
     "text": [
      "5% data -> Acc: 95.73%, Time: 9.86s\n"
     ]
    },
    {
     "name": "stderr",
     "output_type": "stream",
     "text": [
      "[I 2025-10-17 02:01:18,209] Trial 12 finished with value: 0.6061 and parameters: {'num_conv_layers': 4, 'num_filters': 16, 'dropout': 0.252145527848822, 'lr': 0.002094406291943806, 'batch': 32, 'optimizer': 'LAMB'}. Best is trial 9 with value: 0.9649.\n"
     ]
    },
    {
     "name": "stdout",
     "output_type": "stream",
     "text": [
      "5% data -> Acc: 45.77%, Time: 7.81s\n"
     ]
    },
    {
     "name": "stderr",
     "output_type": "stream",
     "text": [
      "[I 2025-10-17 02:01:25,891] Trial 13 finished with value: 0.637 and parameters: {'num_conv_layers': 3, 'num_filters': 128, 'dropout': 0.3499469932589584, 'lr': 0.0004857571097627294, 'batch': 1024, 'optimizer': 'AdamW'}. Best is trial 9 with value: 0.9649.\n"
     ]
    },
    {
     "name": "stdout",
     "output_type": "stream",
     "text": [
      "5% data -> Acc: 47.30%, Time: 7.67s\n"
     ]
    },
    {
     "name": "stderr",
     "output_type": "stream",
     "text": [
      "[I 2025-10-17 02:01:32,327] Trial 14 finished with value: 0.8961 and parameters: {'num_conv_layers': 4, 'num_filters': 64, 'dropout': 0.20083474937371562, 'lr': 0.0035484081899730263, 'batch': 128, 'optimizer': 'AdaBelief'}. Best is trial 9 with value: 0.9649.\n"
     ]
    },
    {
     "name": "stdout",
     "output_type": "stream",
     "text": [
      "5% data -> Acc: 79.80%, Time: 6.43s\n"
     ]
    },
    {
     "name": "stderr",
     "output_type": "stream",
     "text": [
      "[I 2025-10-17 02:01:42,063] Trial 15 finished with value: 0.2094 and parameters: {'num_conv_layers': 3, 'num_filters': 128, 'dropout': 0.2951832849580449, 'lr': 0.0013599613742197997, 'batch': 2048, 'optimizer': 'Yogi'}. Best is trial 9 with value: 0.9649.\n"
     ]
    },
    {
     "name": "stdout",
     "output_type": "stream",
     "text": [
      "5% data -> Acc: 13.93%, Time: 9.73s\n"
     ]
    },
    {
     "name": "stderr",
     "output_type": "stream",
     "text": [
      "[I 2025-10-17 02:01:48,531] Trial 16 finished with value: 0.9534 and parameters: {'num_conv_layers': 2, 'num_filters': 16, 'dropout': 0.2408021971248224, 'lr': 0.005021363585222409, 'batch': 32, 'optimizer': 'AdaBelief'}. Best is trial 9 with value: 0.9649.\n"
     ]
    },
    {
     "name": "stdout",
     "output_type": "stream",
     "text": [
      "5% data -> Acc: 95.27%, Time: 6.46s\n"
     ]
    },
    {
     "name": "stderr",
     "output_type": "stream",
     "text": [
      "[I 2025-10-17 02:01:55,030] Trial 17 finished with value: 0.9555 and parameters: {'num_conv_layers': 2, 'num_filters': 16, 'dropout': 0.3487564565816833, 'lr': 0.006287623638379685, 'batch': 32, 'optimizer': 'Yogi'}. Best is trial 9 with value: 0.9649.\n"
     ]
    },
    {
     "name": "stdout",
     "output_type": "stream",
     "text": [
      "5% data -> Acc: 95.37%, Time: 6.49s\n"
     ]
    },
    {
     "name": "stderr",
     "output_type": "stream",
     "text": [
      "[I 2025-10-17 02:02:01,709] Trial 18 finished with value: 0.8717 and parameters: {'num_conv_layers': 2, 'num_filters': 16, 'dropout': 0.3643488975252795, 'lr': 0.00038584590123277456, 'batch': 32, 'optimizer': 'Yogi'}. Best is trial 9 with value: 0.9649.\n"
     ]
    },
    {
     "name": "stdout",
     "output_type": "stream",
     "text": [
      "5% data -> Acc: 82.63%, Time: 6.67s\n"
     ]
    },
    {
     "name": "stderr",
     "output_type": "stream",
     "text": [
      "[I 2025-10-17 02:02:07,058] Trial 19 finished with value: 0.6589 and parameters: {'num_conv_layers': 2, 'num_filters': 16, 'dropout': 0.3349166463800498, 'lr': 0.009293499121334611, 'batch': 524, 'optimizer': 'Yogi'}. Best is trial 9 with value: 0.9649.\n"
     ]
    },
    {
     "name": "stdout",
     "output_type": "stream",
     "text": [
      "5% data -> Acc: 52.33%, Time: 5.34s\n"
     ]
    },
    {
     "name": "stderr",
     "output_type": "stream",
     "text": [
      "[I 2025-10-17 02:02:13,487] Trial 20 finished with value: 0.6042 and parameters: {'num_conv_layers': 4, 'num_filters': 32, 'dropout': 0.39201801303857253, 'lr': 0.0013782426761239624, 'batch': 64, 'optimizer': 'Yogi'}. Best is trial 9 with value: 0.9649.\n"
     ]
    },
    {
     "name": "stdout",
     "output_type": "stream",
     "text": [
      "5% data -> Acc: 32.37%, Time: 6.42s\n"
     ]
    },
    {
     "name": "stderr",
     "output_type": "stream",
     "text": [
      "[I 2025-10-17 02:02:19,996] Trial 21 finished with value: 0.9608 and parameters: {'num_conv_layers': 2, 'num_filters': 16, 'dropout': 0.27394146845530454, 'lr': 0.005559961549255367, 'batch': 32, 'optimizer': 'Yogi'}. Best is trial 9 with value: 0.9649.\n"
     ]
    },
    {
     "name": "stdout",
     "output_type": "stream",
     "text": [
      "5% data -> Acc: 95.40%, Time: 6.50s\n"
     ]
    },
    {
     "name": "stderr",
     "output_type": "stream",
     "text": [
      "[I 2025-10-17 02:02:26,529] Trial 22 finished with value: 0.9452 and parameters: {'num_conv_layers': 2, 'num_filters': 16, 'dropout': 0.28298774537877536, 'lr': 0.0029782960578245005, 'batch': 32, 'optimizer': 'Yogi'}. Best is trial 9 with value: 0.9649.\n"
     ]
    },
    {
     "name": "stdout",
     "output_type": "stream",
     "text": [
      "5% data -> Acc: 95.63%, Time: 6.52s\n"
     ]
    },
    {
     "name": "stderr",
     "output_type": "stream",
     "text": [
      "[I 2025-10-17 02:02:33,898] Trial 23 finished with value: 0.949 and parameters: {'num_conv_layers': 2, 'num_filters': 16, 'dropout': 0.32895993818855623, 'lr': 0.006081996233760989, 'batch': 32, 'optimizer': 'Yogi'}. Best is trial 9 with value: 0.9649.\n"
     ]
    },
    {
     "name": "stdout",
     "output_type": "stream",
     "text": [
      "5% data -> Acc: 95.93%, Time: 7.36s\n"
     ]
    },
    {
     "name": "stderr",
     "output_type": "stream",
     "text": [
      "[I 2025-10-17 02:02:41,370] Trial 24 finished with value: 0.9397 and parameters: {'num_conv_layers': 3, 'num_filters': 16, 'dropout': 0.31494169029330743, 'lr': 0.0064355376252324525, 'batch': 32, 'optimizer': 'Yogi'}. Best is trial 9 with value: 0.9649.\n"
     ]
    },
    {
     "name": "stdout",
     "output_type": "stream",
     "text": [
      "5% data -> Acc: 93.30%, Time: 7.46s\n"
     ]
    },
    {
     "name": "stderr",
     "output_type": "stream",
     "text": [
      "[I 2025-10-17 02:02:50,048] Trial 25 finished with value: 0.9584 and parameters: {'num_conv_layers': 2, 'num_filters': 128, 'dropout': 0.39758285801637744, 'lr': 0.0015920711089525046, 'batch': 32, 'optimizer': 'Yogi'}. Best is trial 9 with value: 0.9649.\n"
     ]
    },
    {
     "name": "stdout",
     "output_type": "stream",
     "text": [
      "5% data -> Acc: 95.77%, Time: 8.66s\n"
     ]
    },
    {
     "name": "stderr",
     "output_type": "stream",
     "text": [
      "[I 2025-10-17 02:02:58,435] Trial 26 finished with value: 0.9402 and parameters: {'num_conv_layers': 1, 'num_filters': 128, 'dropout': 0.38879974348822816, 'lr': 0.0013546230858934058, 'batch': 32, 'optimizer': 'AdamW'}. Best is trial 9 with value: 0.9649.\n"
     ]
    },
    {
     "name": "stdout",
     "output_type": "stream",
     "text": [
      "5% data -> Acc: 94.63%, Time: 8.36s\n"
     ]
    },
    {
     "name": "stderr",
     "output_type": "stream",
     "text": [
      "[I 2025-10-17 02:03:08,096] Trial 27 finished with value: 0.5865 and parameters: {'num_conv_layers': 3, 'num_filters': 128, 'dropout': 0.47752634075788347, 'lr': 0.000587866441804388, 'batch': 32, 'optimizer': 'LAMB'}. Best is trial 9 with value: 0.9649.\n"
     ]
    },
    {
     "name": "stdout",
     "output_type": "stream",
     "text": [
      "5% data -> Acc: 52.10%, Time: 9.65s\n"
     ]
    },
    {
     "name": "stderr",
     "output_type": "stream",
     "text": [
      "[I 2025-10-17 02:03:15,653] Trial 28 finished with value: 0.9411 and parameters: {'num_conv_layers': 2, 'num_filters': 128, 'dropout': 0.23293526197014386, 'lr': 0.0028308576632468134, 'batch': 128, 'optimizer': 'Yogi'}. Best is trial 9 with value: 0.9649.\n"
     ]
    },
    {
     "name": "stdout",
     "output_type": "stream",
     "text": [
      "5% data -> Acc: 92.33%, Time: 7.55s\n"
     ]
    },
    {
     "name": "stderr",
     "output_type": "stream",
     "text": [
      "[I 2025-10-17 02:03:24,702] Trial 29 finished with value: 0.3893 and parameters: {'num_conv_layers': 3, 'num_filters': 128, 'dropout': 0.4214081221768456, 'lr': 0.0016868150667647475, 'batch': 2048, 'optimizer': 'Lion'}. Best is trial 9 with value: 0.9649.\n"
     ]
    },
    {
     "name": "stdout",
     "output_type": "stream",
     "text": [
      "5% data -> Acc: 24.23%, Time: 9.04s\n",
      "\n",
      "✅ Best trial:\n",
      "Accuracy: 0.9649\n",
      "Best hyperparameters: {'num_conv_layers': 4, 'num_filters': 128, 'dropout': 0.2777369091250338, 'lr': 0.0022497231598355917, 'batch': 32, 'optimizer': 'Yogi'}\n"
     ]
    }
   ],
   "source": [
    "import optuna\n",
    "# ------------------------------\n",
    "# 4️⃣ Objective function for Optuna\n",
    "# ------------------------------\n",
    "def objective(trial):\n",
    "    # Suggest hyperparameters\n",
    "    num_conv_layers = trial.suggest_int(\"num_conv_layers\", 1, 4)\n",
    "    num_filters = trial.suggest_categorical(\"num_filters\", [16, 32, 64, 128])\n",
    "    dropout = trial.suggest_float(\"dropout\", 0.2, 0.5)\n",
    "    lr = trial.suggest_loguniform(\"lr\", 1e-4, 1e-2)\n",
    "    batch_size = trial.suggest_categorical(\"batch\", [16,32,64,128,524,1024,2048])\n",
    "    optimizer_name = trial.suggest_categorical(\n",
    "    \"optimizer\",\n",
    "        [\"AdamW\", \"Lion\", \"AdaBelief\", \"LAMB\", \"Yogi\"]\n",
    "    )\n",
    "\n",
    "    # Define model and loss\n",
    "\n",
    "    \n",
    "    # Learning rate suggestion\n",
    "    lr = trial.suggest_float(\"lr\", 1e-5, 1e-2, log=True)\n",
    "\n",
    "    \n",
    "\n",
    "    #============================================================================================\n",
    "\n",
    "    fractions = [0.05]\n",
    "    train_times = []\n",
    "    accuracies = []\n",
    "\n",
    "    for frac in fractions:\n",
    "        subset_size = int(len(train_dataset) * frac)\n",
    "        subset_indices = np.random.choice(len(train_dataset), subset_size, replace=False)\n",
    "        train_subset = Subset(train_dataset, subset_indices)\n",
    "        train_loader = DataLoader(train_subset, batch_size=batch_size, shuffle=True)\n",
    "\n",
    "        criterion = nn.CrossEntropyLoss()\n",
    "        model = SimpleCNN(num_conv_layers, num_filters, dropout, criterion=criterion).to(device)\n",
    "\n",
    "\n",
    "        # Create optimizer based on choice\n",
    "        if optimizer_name == \"AdamW\":\n",
    "            optimizer = optim.AdamW(model.parameters(), lr=lr)\n",
    "\n",
    "        elif optimizer_name == \"Lion\":\n",
    "            optimizer = Lion(model.parameters(), lr=lr)\n",
    "\n",
    "        elif optimizer_name == \"AdaBelief\":\n",
    "            optimizer = AdaBelief(model.parameters(), lr=lr, eps=1e-8, betas=(0.9, 0.999))\n",
    "\n",
    "        elif optimizer_name == \"LAMB\":\n",
    "            optimizer = Lamb(model.parameters(), lr=lr)\n",
    "\n",
    "        elif optimizer_name == \"Yogi\":\n",
    "            optimizer = Yogi(model.parameters(), lr=lr)\n",
    "\n",
    "        else:\n",
    "            optimizer = optim.Adam(model.parameters(), lr=lr)\n",
    "\n",
    "\n",
    "        model.optimizer = optimizer\n",
    "\n",
    "\n",
    "        acc, train_time, val_accuracy = model.train_model(train_loader=train_loader, val_loader=test_loader, epochs=3, log=False)\n",
    "\n",
    "\n",
    "        train_times.append(train_time)\n",
    "        accuracies.append(val_accuracy)\n",
    "        print(f\"{int(frac*100)}% data -> Acc: {acc*100:.2f}%, Time: {train_time:.2f}s\")\n",
    "\n",
    "\n",
    "    '''\n",
    "    # Fit time scaling\n",
    "    params_time, _ = curve_fit(power_law, fractions, train_times)\n",
    "    pred_time_100 = power_law(1.0, *params_time)\n",
    "\n",
    "    # Fit accuracy scaling (roughly)\n",
    "    params_acc, _ = curve_fit(lambda x, Amax, k, alpha: Amax - k / np.power(x, alpha),\n",
    "                            fractions, accuracies, bounds=(0, [1.0, 1.0, 2.0]))\n",
    "    Amax_pred = params_acc[0]\n",
    "    '''\n",
    "\n",
    "    #============================================================================================\n",
    "    return sum(accuracies)/len(accuracies)\n",
    "\n",
    "\n",
    "# ------------------------------\n",
    "# 5️⃣ Run the study\n",
    "# ------------------------------\n",
    "study = optuna.create_study(direction=\"maximize\")\n",
    "study.optimize(objective, n_trials=30)  # 15 trials or 10 min\n",
    "\n",
    "# ------------------------------\n",
    "# 6️⃣ Show best results\n",
    "# ------------------------------\n",
    "print(\"\\n✅ Best trial:\")\n",
    "best_trial = study.best_trial\n",
    "print(f\"Accuracy: {best_trial.value:.4f}\")\n",
    "print(\"Best hyperparameters:\", best_trial.params)"
   ]
  },
  {
   "cell_type": "code",
   "execution_count": 84,
   "id": "8e21f5f2",
   "metadata": {},
   "outputs": [
    {
     "name": "stdout",
     "output_type": "stream",
     "text": [
      "\n",
      "🏆 Top 4 Trials:\n",
      "\n",
      "==============================\n",
      "🔹 Model #1\n",
      "Accuracy: 0.9649\n",
      "Parameters: {'num_conv_layers': 4, 'num_filters': 128, 'dropout': 0.2777369091250338, 'lr': 0.0022497231598355917, 'batch': 32, 'optimizer': 'Yogi'}\n",
      "==============================\n",
      "\n",
      "Epoch [1/5] Train Acc: 0.9109, Val Acc: 0.9860, Loss: 0.2690\n",
      "Epoch [2/5] Train Acc: 0.9839, Val Acc: 0.9890, Loss: 0.0564\n",
      "Epoch [3/5] Train Acc: 0.9884, Val Acc: 0.9846, Loss: 0.0413\n",
      "Epoch [4/5] Train Acc: 0.9899, Val Acc: 0.9895, Loss: 0.0362\n",
      "Epoch [5/5] Train Acc: 0.9924, Val Acc: 0.9901, Loss: 0.0275\n",
      "🎯 Final Test Accuracy (Model #1): 99.01%\n",
      "🕒 Total Training Time: 105.68s\n",
      "\n",
      "\n",
      "==============================\n",
      "🔹 Model #2\n",
      "Accuracy: 0.9608\n",
      "Parameters: {'num_conv_layers': 2, 'num_filters': 16, 'dropout': 0.27394146845530454, 'lr': 0.005559961549255367, 'batch': 32, 'optimizer': 'Yogi'}\n",
      "==============================\n",
      "\n",
      "Epoch [1/5] Train Acc: 0.9453, Val Acc: 0.9784, Loss: 0.1739\n",
      "Epoch [2/5] Train Acc: 0.9780, Val Acc: 0.9810, Loss: 0.0761\n",
      "Epoch [3/5] Train Acc: 0.9819, Val Acc: 0.9864, Loss: 0.0603\n",
      "Epoch [4/5] Train Acc: 0.9843, Val Acc: 0.9840, Loss: 0.0532\n",
      "Epoch [5/5] Train Acc: 0.9863, Val Acc: 0.9849, Loss: 0.0489\n",
      "🎯 Final Test Accuracy (Model #2): 98.49%\n",
      "🕒 Total Training Time: 73.26s\n",
      "\n",
      "\n",
      "==============================\n",
      "🔹 Model #3\n",
      "Accuracy: 0.9584\n",
      "Parameters: {'num_conv_layers': 2, 'num_filters': 128, 'dropout': 0.39758285801637744, 'lr': 0.0015920711089525046, 'batch': 32, 'optimizer': 'Yogi'}\n",
      "==============================\n",
      "\n",
      "Epoch [1/5] Train Acc: 0.9527, Val Acc: 0.9826, Loss: 0.1541\n",
      "Epoch [2/5] Train Acc: 0.9851, Val Acc: 0.9843, Loss: 0.0496\n",
      "Epoch [3/5] Train Acc: 0.9902, Val Acc: 0.9865, Loss: 0.0336\n",
      "Epoch [4/5] Train Acc: 0.9929, Val Acc: 0.9895, Loss: 0.0241\n",
      "Epoch [5/5] Train Acc: 0.9935, Val Acc: 0.9887, Loss: 0.0206\n",
      "🎯 Final Test Accuracy (Model #3): 98.87%\n",
      "🕒 Total Training Time: 98.57s\n",
      "\n",
      "\n",
      "==============================\n",
      "🔹 Model #4\n",
      "Accuracy: 0.9555\n",
      "Parameters: {'num_conv_layers': 2, 'num_filters': 16, 'dropout': 0.3487564565816833, 'lr': 0.006287623638379685, 'batch': 32, 'optimizer': 'Yogi'}\n",
      "==============================\n",
      "\n",
      "Epoch [1/5] Train Acc: 0.9426, Val Acc: 0.9755, Loss: 0.1834\n",
      "Epoch [2/5] Train Acc: 0.9758, Val Acc: 0.9830, Loss: 0.0833\n",
      "Epoch [3/5] Train Acc: 0.9798, Val Acc: 0.9804, Loss: 0.0707\n",
      "Epoch [4/5] Train Acc: 0.9820, Val Acc: 0.9825, Loss: 0.0637\n",
      "Epoch [5/5] Train Acc: 0.9842, Val Acc: 0.9827, Loss: 0.0578\n",
      "⏹️ Early stopping at epoch 5 (no improvement in 3 epochs)\n",
      "🎯 Final Test Accuracy (Model #4): 98.27%\n",
      "🕒 Total Training Time: 73.03s\n",
      "\n"
     ]
    }
   ],
   "source": [
    "from torch_optimizer import AdaBelief\n",
    "\n",
    "# Get top 4 trials sorted by accuracy (best first)\n",
    "top_trials = sorted(study.trials, key=lambda t: t.value, reverse=True)[:4]\n",
    "\n",
    "print(\"\\n🏆 Top 4 Trials:\")\n",
    "for rank, trial in enumerate(top_trials, start=1):\n",
    "    params = trial.params\n",
    "    print(f\"\\n==============================\")\n",
    "    print(f\"🔹 Model #{rank}\")\n",
    "    print(f\"Accuracy: {trial.value:.4f}\")\n",
    "    print(f\"Parameters: {params}\")\n",
    "    print(\"==============================\\n\")\n",
    "\n",
    "    # Build model\n",
    "    criterion = nn.CrossEntropyLoss()\n",
    "    model = SimpleCNN(\n",
    "        params['num_conv_layers'],\n",
    "        params['num_filters'],\n",
    "        params['dropout'],\n",
    "        criterion\n",
    "    ).to(device)\n",
    "\n",
    "    # Create optimizer\n",
    "    optimizer = AdaBelief(model.parameters(), lr=params['lr'], eps=1e-8, betas=(0.9, 0.999))\n",
    "    model.optimizer = optimizer\n",
    "\n",
    "    # Train for 20 epochs on full dataset\n",
    "    train_acc, total_time, val_acc = model.train_model(\n",
    "        train_loader_compleate,\n",
    "        epochs=5,\n",
    "        val_loader=test_loader,\n",
    "        device=device,\n",
    "        log=True\n",
    "    )\n",
    "\n",
    "    # Evaluate final test accuracy\n",
    "    test_accuracy = model.evaluate_model(test_loader)\n",
    "    print(f\"🎯 Final Test Accuracy (Model #{rank}): {test_accuracy*100:.2f}%\")\n",
    "    print(f\"🕒 Total Training Time: {total_time:.2f}s\\n\")\n"
   ]
  },
  {
   "cell_type": "markdown",
   "id": "5b42b9b2",
   "metadata": {},
   "source": [
    "# urlCNN"
   ]
  },
  {
   "cell_type": "code",
   "execution_count": 92,
   "id": "1c772557",
   "metadata": {},
   "outputs": [],
   "source": [
    "from datasets import load_dataset\n",
    "import pandas as pd"
   ]
  },
  {
   "cell_type": "code",
   "execution_count": 93,
   "id": "1add8a9e",
   "metadata": {},
   "outputs": [
    {
     "name": "stdout",
     "output_type": "stream",
     "text": [
      "   label                                                url\n",
      "0      0             xenophongroup.com/montjoie/compgns.htm\n",
      "1      1    www.azzali.eu/&usg=AOvVaw2phVSb_ENMrkATGNx5LQ0l\n",
      "2      1                     guildmusic.edu.au/js/index.htm\n",
      "3      1  memo.unexpectedrunner.com/ezxgytw4et\\nholotili...\n",
      "4      0  en.wikipedia.org/wiki/Category:American_televi...\n"
     ]
    }
   ],
   "source": [
    "#dataset1\n",
    "\n",
    "# Load the dataset from Hugging Face Hub\n",
    "train_dataset = load_dataset(\"kmack/Phishing_urls\", split=\"train\")\n",
    "test_dataset = load_dataset(\"kmack/Phishing_urls\", split=\"test\")\n",
    "valid_dataset = load_dataset(\"kmack/Phishing_urls\", split=\"valid\")\n",
    "\n",
    "# Convert to pandas DataFrame\n",
    "train_df = train_dataset.to_pandas()\n",
    "test_df = test_dataset.to_pandas()\n",
    "valid_df = valid_dataset.to_pandas()\n",
    "\n",
    "\n",
    "all_df = [train_df, test_df,valid_df]\n",
    "for i, df in enumerate(all_df):\n",
    "    df['url'] = df['text']\n",
    "    df.drop('text',axis=1,inplace=True)\n",
    "print(train_df.head())"
   ]
  },
  {
   "cell_type": "code",
   "execution_count": 94,
   "id": "c2e407bd",
   "metadata": {},
   "outputs": [
    {
     "name": "stdout",
     "output_type": "stream",
     "text": [
      "Vocabulary size: 99\n",
      "Sample: ['<PAD>', '<UNK>', '<START>', '<END>', ' ', '!', '\"', '#', '$', '%', '&', \"'\", '(', ')', '*', '+', ',', '-', '.', '/', '0', '1', '2', '3', '4', '5', '6', '7', '8', '9', ':', ';', '<', '=', '>', '?', '@', 'A', 'B', 'C', 'D', 'E', 'F', 'G', 'H', 'I', 'J', 'K', 'L', 'M']\n"
     ]
    }
   ],
   "source": [
    "# Special tokens\n",
    "special_tokens = ['<PAD>', '<UNK>', '<START>', '<END>']\n",
    "\n",
    "# ASCII printable characters\n",
    "ascii_chars = [chr(i) for i in range(32, 127)]  # ' ' (space) to '~'\n",
    "\n",
    "# Full vocabulary\n",
    "vocab = special_tokens + ascii_chars\n",
    "\n",
    "# Create mappings\n",
    "char2idx = {ch: idx for idx, ch in enumerate(vocab)}\n",
    "idx2char = {idx: ch for ch, idx in char2idx.items()}\n",
    "vocab_size = len(vocab)\n",
    "print(\"Vocabulary size:\", vocab_size)\n",
    "print(\"Sample:\", vocab[:50])\n"
   ]
  },
  {
   "cell_type": "code",
   "execution_count": 95,
   "id": "12cee80a",
   "metadata": {},
   "outputs": [],
   "source": [
    "train_df = train_df.drop_duplicates(subset =['url'])"
   ]
  },
  {
   "cell_type": "code",
   "execution_count": 96,
   "id": "d3dc2192",
   "metadata": {},
   "outputs": [
    {
     "name": "stderr",
     "output_type": "stream",
     "text": [
      "100%|██████████| 535838/535838 [01:12<00:00, 7400.53it/s]\n",
      "C:\\Users\\rrpra\\AppData\\Local\\Temp\\ipykernel_8048\\3970848146.py:20: SettingWithCopyWarning: \n",
      "A value is trying to be set on a copy of a slice from a DataFrame.\n",
      "Try using .loc[row_indexer,col_indexer] = value instead\n",
      "\n",
      "See the caveats in the documentation: https://pandas.pydata.org/pandas-docs/stable/user_guide/indexing.html#returning-a-view-versus-a-copy\n",
      "  train_df['encode'] = train_df['url'].progress_apply(encode_url)\n",
      "100%|██████████| 70882/70882 [00:09<00:00, 7612.36it/s]\n",
      "100%|██████████| 70882/70882 [00:09<00:00, 7429.28it/s]\n"
     ]
    }
   ],
   "source": [
    "from tqdm import tqdm\n",
    "import numpy as np\n",
    "import torch\n",
    "import torch.nn.functional as F\n",
    "tqdm.pandas()\n",
    "\n",
    "max_url_length = 50\n",
    "\n",
    "\n",
    "def encode_url(url):\n",
    "    indices = torch.tensor([0]*max_url_length)\n",
    "    for i,c in enumerate(url[:max_url_length]):\n",
    "        indices[i] = char2idx.get(c, char2idx['<UNK>'])\n",
    "    #print(indices)  \n",
    "\n",
    "\n",
    "    return indices\n",
    "\n",
    "# Apply encoding to your URL column\n",
    "train_df['encode'] = train_df['url'].progress_apply(encode_url)\n",
    "test_df['encode'] = test_df['url'].progress_apply(encode_url)\n",
    "valid_df['encode'] = valid_df['url'].progress_apply(encode_url)\n",
    "\n"
   ]
  },
  {
   "cell_type": "code",
   "execution_count": null,
   "id": "ddce20de",
   "metadata": {},
   "outputs": [],
   "source": [
    "import torch\n",
    "from torch.utils.data import TensorDataset, DataLoader\n",
    "\n",
    "device = torch.device(\"cuda\" if torch.cuda.is_available() else \"cpu\")\n",
    "\n",
    "# Convert encoded URLs to proper tensors\n",
    "url_tensor = torch.tensor(np.stack(train_df['encode'].values), dtype=torch.long)\n",
    "labels_tensor = torch.tensor(train_df['label'].values, dtype=torch.float)\n",
    "\n",
    "valid_url_tensor = torch.tensor(np.stack(valid_df['encode'].values), dtype=torch.long)\n",
    "valid_labels_tensor = torch.tensor(valid_df['label'].values, dtype=torch.float)\n",
    "\n",
    "test_url_tensor = torch.tensor(np.stack(test_df['encode'].values), dtype=torch.long)\n",
    "test_labels_tensor = torch.tensor(test_df['label'].values, dtype=torch.float)\n",
    "\n",
    "\n",
    "train_dataset = TensorDataset(url_tensor, labels_tensor)\n",
    "\n",
    "val_dataset = TensorDataset(valid_url_tensor, valid_labels_tensor)\n",
    "val_loader = DataLoader(val_dataset, batch_size=4056, shuffle=False)\n",
    "\n",
    "test_dataset = TensorDataset(test_url_tensor, test_labels_tensor)\n",
    "test_loader = DataLoader(test_dataset, batch_size=4056, shuffle=False)\n"
   ]
  },
  {
   "cell_type": "code",
   "execution_count": 127,
   "id": "dcec5e1d",
   "metadata": {},
   "outputs": [],
   "source": [
    "class URLBinaryCNN(nn.Module):\n",
    "    def __init__(\n",
    "        self,\n",
    "        vocab_size,\n",
    "        embed_dim=128,\n",
    "        conv_layers=3,\n",
    "        conv_channels=[256, 128, 64],\n",
    "        fc_layers=[128, 64],\n",
    "        dropout=[0.5, 0.3],\n",
    "    ):\n",
    "        super().__init__()\n",
    "        self.embedding = nn.Embedding(vocab_size, embed_dim)\n",
    "        self.conv_blocks = nn.ModuleList()\n",
    "\n",
    "        in_channels = embed_dim\n",
    "        for i in range(conv_layers):\n",
    "            out_channels = conv_channels[i]\n",
    "            conv = nn.Conv1d(in_channels, out_channels, kernel_size=3, padding=1)\n",
    "            bn = nn.BatchNorm1d(out_channels)\n",
    "            #pool = nn.MaxPool1d(2) if i < conv_layers - 1 else nn.AdaptiveMaxPool1d(1)\n",
    "            self.conv_blocks.append(nn.Sequential(conv, bn, nn.ReLU()))\n",
    "            in_channels = out_channels\n",
    "\n",
    "        self.global_pool = nn.AdaptiveMaxPool1d(1)\n",
    "\n",
    "        # fully connected layers\n",
    "        fc_modules = []\n",
    "        in_dim = conv_channels[-1]\n",
    "        for i, out_dim in enumerate(fc_layers):\n",
    "            fc_modules.append(nn.Linear(in_dim, out_dim))\n",
    "            fc_modules.append(nn.ReLU())\n",
    "            if i < len(dropout):\n",
    "                fc_modules.append(nn.Dropout(dropout[i]))\n",
    "            in_dim = out_dim\n",
    "        fc_modules.append(nn.Linear(in_dim, 1))\n",
    "        fc_modules.append(nn.Sigmoid())\n",
    "        self.fc = nn.Sequential(*fc_modules)\n",
    "\n",
    "    def forward(self, x):\n",
    "        x = self.embedding(x)  # (batch, seq_len, embed_dim)\n",
    "        x = x.permute(0, 2, 1)  # (batch, embed_dim, seq_len)\n",
    "        for block in self.conv_blocks:\n",
    "            x = block(x)\n",
    "        x = self.global_pool(x).squeeze(-1)\n",
    "        x = self.fc(x)\n",
    "        return x  # logits\n",
    "\n",
    "\n",
    "# %% Training utilities\n",
    "class Trainer:\n",
    "    def __init__(self, model, criterion, optimizer):\n",
    "        self.model = model\n",
    "        self.criterion = criterion\n",
    "        self.optimizer = optimizer\n",
    "\n",
    "    def train_model(\n",
    "        self,\n",
    "        train_loader,\n",
    "        val_loader=None,\n",
    "        epochs=5,\n",
    "        patience=3,\n",
    "        min_delta=1e-4,\n",
    "        log=True,\n",
    "    ):\n",
    "        best_val_acc = 0\n",
    "        patience_counter = 0\n",
    "        best_state = None\n",
    "        start_time = time.time()\n",
    "\n",
    "        for epoch in range(epochs):\n",
    "            self.model.train()\n",
    "            running_loss, correct, total = 0, 0, 0\n",
    "\n",
    "            for x, y in train_loader:\n",
    "                x, y = x.to(device), y.to(device)\n",
    "                self.optimizer.zero_grad()\n",
    "                out = self.model(x).view(-1)\n",
    "                loss = self.criterion(out, y)\n",
    "                loss.backward()\n",
    "                self.optimizer.step()\n",
    "\n",
    "                running_loss += loss.item() * y.size(0)\n",
    "                preds = (torch.sigmoid(out) > 0.5).float()\n",
    "                correct += (preds == y).sum().item()\n",
    "                total += y.size(0)\n",
    "\n",
    "            train_acc = correct / total\n",
    "            avg_loss = running_loss / total\n",
    "\n",
    "            # Validation\n",
    "            if val_loader:\n",
    "                val_acc = self.evaluate_model(val_loader)\n",
    "                if log:\n",
    "                    print(\n",
    "                        f\"Epoch [{epoch+1}/{epochs}] | Train Acc: {train_acc:.4f} | Val Acc: {val_acc:.4f} | Loss: {avg_loss:.4f}\"\n",
    "                    )\n",
    "\n",
    "                if val_acc > best_val_acc + min_delta:\n",
    "                    best_val_acc = val_acc\n",
    "                    best_state = self.model.state_dict()\n",
    "                    patience_counter = 0\n",
    "                else:\n",
    "                    patience_counter += 1\n",
    "                    if patience_counter >= patience:\n",
    "                        if best_state:\n",
    "                            self.model.load_state_dict(best_state)\n",
    "                        break\n",
    "            else:\n",
    "                if log:\n",
    "                    print(f\"Epoch [{epoch+1}/{epochs}] | Train Acc: {train_acc:.4f} | Loss: {avg_loss:.4f}\")\n",
    "\n",
    "        total_time = time.time() - start_time\n",
    "        return train_acc, total_time, best_val_acc\n",
    "\n",
    "    def evaluate_model(self, test_loader):\n",
    "        self.model.eval()\n",
    "        correct, total = 0, 0\n",
    "        with torch.no_grad():\n",
    "            for x, y in test_loader:\n",
    "                x, y = x.to(device), y.to(device)\n",
    "                out = self.model(x).squeeze()\n",
    "                preds = (torch.sigmoid(out) > 0.5).float()\n",
    "                correct += (preds == y).sum().item()\n",
    "                total += y.size(0)\n",
    "        return correct / total"
   ]
  },
  {
   "cell_type": "code",
   "execution_count": 121,
   "id": "90341cfb",
   "metadata": {},
   "outputs": [],
   "source": [
    "# %% Optuna objective\n",
    "def objective(trial):\n",
    "    embed_dim = trial.suggest_categorical(\"embed_dim\", [64, 128, 256])\n",
    "    conv_layers = trial.suggest_int(\"conv_layers\", 2, 6)\n",
    "    conv_channels = [trial.suggest_categorical(f\"conv_ch_{i}\", [16, 32, 64, 128]) for i in range(conv_layers)]\n",
    "    fc_layers_count = trial.suggest_int(\"fc_count\", 2, 3)\n",
    "    fc_layers = [trial.suggest_categorical(f\"fc_nodes_{i}\", [128,256,512,1024]) for i in range(fc_layers_count)]\n",
    "    dropout = [trial.suggest_float(\"drop1\", 0.2, 0.5), trial.suggest_float(\"drop2\", 0.1, 0.4)]\n",
    "    lr = trial.suggest_float(\"lr\", 1e-5, 1e-3, log=True)\n",
    "    batch_size = trial.suggest_categorical(\"batch_size\", [32, 64, 128])\n",
    "    optimizer_name = trial.suggest_categorical(\"optimizer\", [\"AdamW\", \"Lion\", \"AdaBelief\", \"LAMB\", \"Yogi\"])\n",
    "\n",
    "\n",
    "    fractions = [0.05]\n",
    "    train_times = []\n",
    "    accuracies = []\n",
    "\n",
    "    for frac in fractions:\n",
    "\n",
    "        subset_size = int(len(train_dataset) * frac)\n",
    "        subset_indices = np.random.choice(len(train_dataset), subset_size, replace=False)\n",
    "        train_subset = Subset(train_dataset, subset_indices)\n",
    "        train_loader = DataLoader(train_subset, batch_size=batch_size, shuffle=True)\n",
    "        val_loader = DataLoader(val_dataset, batch_size=1024)\n",
    "        # Model setup\n",
    "        model = URLBinaryCNN(vocab_size, embed_dim, conv_layers, conv_channels,fc_layers, dropout).to(device)\n",
    "        criterion = nn.BCEWithLogitsLoss()\n",
    "\n",
    "        # Optimizer\n",
    "        if optimizer_name == \"AdamW\":\n",
    "            optimizer = optim.AdamW(model.parameters(), lr=lr)\n",
    "        elif optimizer_name == \"Lion\":\n",
    "            optimizer = Lion(model.parameters(), lr=lr)\n",
    "        elif optimizer_name == \"AdaBelief\":\n",
    "            optimizer = AdaBelief(model.parameters(), lr=lr)\n",
    "        elif optimizer_name == \"LAMB\":\n",
    "            optimizer = Lamb(model.parameters(), lr=lr)\n",
    "        elif optimizer_name == \"Yogi\":\n",
    "            optimizer = Yogi(model.parameters(), lr=lr)\n",
    "        else:\n",
    "            optimizer = optim.Adam(model.parameters(), lr=lr)\n",
    "\n",
    "        \n",
    "\n",
    "        trainer = Trainer(model, criterion, optimizer)\n",
    "        acc, _, val_acc = trainer.train_model(train_loader, val_loader, epochs=3, log=False)\n",
    "        accuracies.append(val_acc)\n",
    "        print(f\"{int(frac*100)}% data -> Acc: {acc*100:.2f}%\")\n",
    "\n",
    "    return sum(accuracies)/len(accuracies)\n",
    "\n"
   ]
  },
  {
   "cell_type": "code",
   "execution_count": 122,
   "id": "5c503ecf",
   "metadata": {},
   "outputs": [
    {
     "name": "stderr",
     "output_type": "stream",
     "text": [
      "[I 2025-10-17 02:45:46,432] A new study created in memory with name: no-name-9641a9bb-5e44-4e49-814a-cf3db3d7a454\n",
      "[I 2025-10-17 02:46:18,108] Trial 0 finished with value: 0.6964673683022488 and parameters: {'embed_dim': 64, 'conv_layers': 5, 'conv_ch_0': 128, 'conv_ch_1': 128, 'conv_ch_2': 64, 'conv_ch_3': 64, 'conv_ch_4': 128, 'fc_count': 2, 'fc_nodes_0': 1024, 'fc_nodes_1': 128, 'drop1': 0.4436234973247015, 'drop2': 0.25266766467686275, 'lr': 1.200176155601056e-05, 'batch_size': 32, 'optimizer': 'Lion'}. Best is trial 0 with value: 0.6964673683022488.\n"
     ]
    },
    {
     "name": "stdout",
     "output_type": "stream",
     "text": [
      "5% data -> Acc: 69.48%\n"
     ]
    },
    {
     "name": "stderr",
     "output_type": "stream",
     "text": [
      "[I 2025-10-17 02:47:15,666] Trial 1 finished with value: 0.568014446544962 and parameters: {'embed_dim': 128, 'conv_layers': 6, 'conv_ch_0': 128, 'conv_ch_1': 32, 'conv_ch_2': 64, 'conv_ch_3': 128, 'conv_ch_4': 64, 'conv_ch_5': 128, 'fc_count': 2, 'fc_nodes_0': 512, 'fc_nodes_1': 128, 'drop1': 0.3317287001359468, 'drop2': 0.16972810204347916, 'lr': 0.00021196982208212907, 'batch_size': 32, 'optimizer': 'LAMB'}. Best is trial 0 with value: 0.6964673683022488.\n"
     ]
    },
    {
     "name": "stdout",
     "output_type": "stream",
     "text": [
      "5% data -> Acc: 53.14%\n"
     ]
    },
    {
     "name": "stderr",
     "output_type": "stream",
     "text": [
      "[I 2025-10-17 02:47:48,698] Trial 2 finished with value: 0.5011709601873536 and parameters: {'embed_dim': 128, 'conv_layers': 4, 'conv_ch_0': 128, 'conv_ch_1': 16, 'conv_ch_2': 128, 'conv_ch_3': 16, 'fc_count': 3, 'fc_nodes_0': 256, 'fc_nodes_1': 1024, 'fc_nodes_2': 1024, 'drop1': 0.31330164614688094, 'drop2': 0.2928815692770831, 'lr': 4.5605221960844806e-05, 'batch_size': 32, 'optimizer': 'Yogi'}. Best is trial 0 with value: 0.6964673683022488.\n"
     ]
    },
    {
     "name": "stdout",
     "output_type": "stream",
     "text": [
      "5% data -> Acc: 49.67%\n"
     ]
    },
    {
     "name": "stderr",
     "output_type": "stream",
     "text": [
      "[I 2025-10-17 02:48:06,888] Trial 3 finished with value: 0.7963234671707909 and parameters: {'embed_dim': 256, 'conv_layers': 5, 'conv_ch_0': 128, 'conv_ch_1': 128, 'conv_ch_2': 16, 'conv_ch_3': 64, 'conv_ch_4': 16, 'fc_count': 2, 'fc_nodes_0': 256, 'fc_nodes_1': 128, 'drop1': 0.443283015074945, 'drop2': 0.20724225552296993, 'lr': 0.0003626100895729462, 'batch_size': 64, 'optimizer': 'Lion'}. Best is trial 3 with value: 0.7963234671707909.\n"
     ]
    },
    {
     "name": "stdout",
     "output_type": "stream",
     "text": [
      "5% data -> Acc: 77.47%\n"
     ]
    },
    {
     "name": "stderr",
     "output_type": "stream",
     "text": [
      "[I 2025-10-17 02:48:25,854] Trial 4 finished with value: 0.5215005219943004 and parameters: {'embed_dim': 64, 'conv_layers': 4, 'conv_ch_0': 32, 'conv_ch_1': 64, 'conv_ch_2': 64, 'conv_ch_3': 16, 'fc_count': 3, 'fc_nodes_0': 512, 'fc_nodes_1': 128, 'fc_nodes_2': 1024, 'drop1': 0.3953707542817622, 'drop2': 0.3316664936969699, 'lr': 3.060520257399685e-05, 'batch_size': 32, 'optimizer': 'AdamW'}. Best is trial 3 with value: 0.7963234671707909.\n"
     ]
    },
    {
     "name": "stdout",
     "output_type": "stream",
     "text": [
      "5% data -> Acc: 51.17%\n"
     ]
    },
    {
     "name": "stderr",
     "output_type": "stream",
     "text": [
      "[I 2025-10-17 02:48:56,056] Trial 5 finished with value: 0.5011709601873536 and parameters: {'embed_dim': 64, 'conv_layers': 4, 'conv_ch_0': 32, 'conv_ch_1': 64, 'conv_ch_2': 32, 'conv_ch_3': 16, 'fc_count': 2, 'fc_nodes_0': 512, 'fc_nodes_1': 128, 'drop1': 0.23861417660427103, 'drop2': 0.10183193389012207, 'lr': 1.969599225702152e-05, 'batch_size': 32, 'optimizer': 'AdaBelief'}. Best is trial 3 with value: 0.7963234671707909.\n"
     ]
    },
    {
     "name": "stdout",
     "output_type": "stream",
     "text": [
      "5% data -> Acc: 50.10%\n"
     ]
    },
    {
     "name": "stderr",
     "output_type": "stream",
     "text": [
      "[I 2025-10-17 02:49:19,015] Trial 6 finished with value: 0.5011709601873536 and parameters: {'embed_dim': 128, 'conv_layers': 2, 'conv_ch_0': 32, 'conv_ch_1': 16, 'fc_count': 3, 'fc_nodes_0': 128, 'fc_nodes_1': 256, 'fc_nodes_2': 256, 'drop1': 0.3733204234457811, 'drop2': 0.15657603180084737, 'lr': 6.133245760470359e-05, 'batch_size': 32, 'optimizer': 'AdaBelief'}. Best is trial 3 with value: 0.7963234671707909.\n"
     ]
    },
    {
     "name": "stdout",
     "output_type": "stream",
     "text": [
      "5% data -> Acc: 49.79%\n"
     ]
    },
    {
     "name": "stderr",
     "output_type": "stream",
     "text": [
      "[I 2025-10-17 02:49:30,758] Trial 7 finished with value: 0.5024829999153523 and parameters: {'embed_dim': 256, 'conv_layers': 5, 'conv_ch_0': 32, 'conv_ch_1': 128, 'conv_ch_2': 64, 'conv_ch_3': 32, 'conv_ch_4': 64, 'fc_count': 3, 'fc_nodes_0': 128, 'fc_nodes_1': 256, 'fc_nodes_2': 256, 'drop1': 0.3611271563814605, 'drop2': 0.31331367118863895, 'lr': 1.9851292204253646e-05, 'batch_size': 128, 'optimizer': 'Lion'}. Best is trial 3 with value: 0.7963234671707909.\n"
     ]
    },
    {
     "name": "stdout",
     "output_type": "stream",
     "text": [
      "5% data -> Acc: 49.39%\n"
     ]
    },
    {
     "name": "stderr",
     "output_type": "stream",
     "text": [
      "[I 2025-10-17 02:49:48,455] Trial 8 finished with value: 0.789071978781637 and parameters: {'embed_dim': 64, 'conv_layers': 2, 'conv_ch_0': 128, 'conv_ch_1': 16, 'fc_count': 3, 'fc_nodes_0': 1024, 'fc_nodes_1': 1024, 'fc_nodes_2': 256, 'drop1': 0.28943722311847075, 'drop2': 0.2545784608099183, 'lr': 0.0006203128644075795, 'batch_size': 32, 'optimizer': 'AdamW'}. Best is trial 3 with value: 0.7963234671707909.\n"
     ]
    },
    {
     "name": "stdout",
     "output_type": "stream",
     "text": [
      "5% data -> Acc: 75.00%\n"
     ]
    },
    {
     "name": "stderr",
     "output_type": "stream",
     "text": [
      "[I 2025-10-17 02:50:19,404] Trial 9 finished with value: 0.802375779464462 and parameters: {'embed_dim': 128, 'conv_layers': 5, 'conv_ch_0': 64, 'conv_ch_1': 32, 'conv_ch_2': 16, 'conv_ch_3': 64, 'conv_ch_4': 64, 'fc_count': 2, 'fc_nodes_0': 256, 'fc_nodes_1': 128, 'drop1': 0.4957223177431545, 'drop2': 0.14400069387162426, 'lr': 0.0001981648093134655, 'batch_size': 32, 'optimizer': 'Lion'}. Best is trial 9 with value: 0.802375779464462.\n"
     ]
    },
    {
     "name": "stdout",
     "output_type": "stream",
     "text": [
      "5% data -> Acc: 76.48%\n"
     ]
    },
    {
     "name": "stderr",
     "output_type": "stream",
     "text": [
      "[I 2025-10-17 02:50:40,044] Trial 10 finished with value: 0.5021161931096753 and parameters: {'embed_dim': 128, 'conv_layers': 6, 'conv_ch_0': 64, 'conv_ch_1': 32, 'conv_ch_2': 16, 'conv_ch_3': 64, 'conv_ch_4': 32, 'conv_ch_5': 64, 'fc_count': 2, 'fc_nodes_0': 256, 'fc_nodes_1': 512, 'drop1': 0.4958995811600921, 'drop2': 0.1004487608905017, 'lr': 0.00013272649661231028, 'batch_size': 64, 'optimizer': 'Yogi'}. Best is trial 9 with value: 0.802375779464462.\n"
     ]
    },
    {
     "name": "stdout",
     "output_type": "stream",
     "text": [
      "5% data -> Acc: 49.96%\n"
     ]
    },
    {
     "name": "stderr",
     "output_type": "stream",
     "text": [
      "[I 2025-10-17 02:50:57,964] Trial 11 finished with value: 0.774498462233007 and parameters: {'embed_dim': 256, 'conv_layers': 5, 'conv_ch_0': 64, 'conv_ch_1': 128, 'conv_ch_2': 16, 'conv_ch_3': 64, 'conv_ch_4': 16, 'fc_count': 2, 'fc_nodes_0': 256, 'fc_nodes_1': 128, 'drop1': 0.4963730322100832, 'drop2': 0.19097993944386094, 'lr': 0.00042665588787448, 'batch_size': 64, 'optimizer': 'Lion'}. Best is trial 9 with value: 0.802375779464462.\n"
     ]
    },
    {
     "name": "stdout",
     "output_type": "stream",
     "text": [
      "5% data -> Acc: 76.94%\n"
     ]
    },
    {
     "name": "stderr",
     "output_type": "stream",
     "text": [
      "[I 2025-10-17 02:51:12,062] Trial 12 finished with value: 0.7327530261561468 and parameters: {'embed_dim': 256, 'conv_layers': 3, 'conv_ch_0': 16, 'conv_ch_1': 32, 'conv_ch_2': 16, 'fc_count': 2, 'fc_nodes_0': 256, 'fc_nodes_1': 512, 'drop1': 0.4295589517017499, 'drop2': 0.19756525343444348, 'lr': 0.00027763424574154004, 'batch_size': 64, 'optimizer': 'Lion'}. Best is trial 9 with value: 0.802375779464462.\n"
     ]
    },
    {
     "name": "stdout",
     "output_type": "stream",
     "text": [
      "5% data -> Acc: 71.43%\n"
     ]
    },
    {
     "name": "stderr",
     "output_type": "stream",
     "text": [
      "[I 2025-10-17 02:51:23,064] Trial 13 finished with value: 0.7671482181654017 and parameters: {'embed_dim': 256, 'conv_layers': 5, 'conv_ch_0': 64, 'conv_ch_1': 32, 'conv_ch_2': 16, 'conv_ch_3': 64, 'conv_ch_4': 16, 'fc_count': 2, 'fc_nodes_0': 256, 'fc_nodes_1': 128, 'drop1': 0.4488677146856939, 'drop2': 0.2183942495051669, 'lr': 0.0008245474979276017, 'batch_size': 128, 'optimizer': 'Lion'}. Best is trial 9 with value: 0.802375779464462.\n"
     ]
    },
    {
     "name": "stdout",
     "output_type": "stream",
     "text": [
      "5% data -> Acc: 79.50%\n"
     ]
    },
    {
     "name": "stderr",
     "output_type": "stream",
     "text": [
      "[I 2025-10-17 02:51:53,081] Trial 14 finished with value: 0.5011709601873536 and parameters: {'embed_dim': 256, 'conv_layers': 6, 'conv_ch_0': 16, 'conv_ch_1': 128, 'conv_ch_2': 16, 'conv_ch_3': 64, 'conv_ch_4': 64, 'conv_ch_5': 16, 'fc_count': 2, 'fc_nodes_0': 256, 'fc_nodes_1': 128, 'drop1': 0.46822741631222686, 'drop2': 0.3759017437448372, 'lr': 0.00011938384234471593, 'batch_size': 64, 'optimizer': 'LAMB'}. Best is trial 9 with value: 0.802375779464462.\n"
     ]
    },
    {
     "name": "stdout",
     "output_type": "stream",
     "text": [
      "5% data -> Acc: 49.70%\n"
     ]
    },
    {
     "name": "stderr",
     "output_type": "stream",
     "text": [
      "[I 2025-10-17 02:52:06,941] Trial 15 finished with value: 0.756101690132897 and parameters: {'embed_dim': 128, 'conv_layers': 3, 'conv_ch_0': 64, 'conv_ch_1': 32, 'conv_ch_2': 32, 'fc_count': 2, 'fc_nodes_0': 256, 'fc_nodes_1': 128, 'drop1': 0.40280608255050776, 'drop2': 0.15210122551354727, 'lr': 0.0002817003880521366, 'batch_size': 64, 'optimizer': 'Lion'}. Best is trial 9 with value: 0.802375779464462.\n"
     ]
    },
    {
     "name": "stdout",
     "output_type": "stream",
     "text": [
      "5% data -> Acc: 75.27%\n"
     ]
    },
    {
     "name": "stderr",
     "output_type": "stream",
     "text": [
      "[I 2025-10-17 02:52:17,954] Trial 16 finished with value: 0.7947433763155667 and parameters: {'embed_dim': 128, 'conv_layers': 5, 'conv_ch_0': 128, 'conv_ch_1': 128, 'conv_ch_2': 128, 'conv_ch_3': 128, 'conv_ch_4': 16, 'fc_count': 2, 'fc_nodes_0': 256, 'fc_nodes_1': 256, 'drop1': 0.47080807221114823, 'drop2': 0.1386624418855832, 'lr': 0.0001921253922130029, 'batch_size': 128, 'optimizer': 'Lion'}. Best is trial 9 with value: 0.802375779464462.\n"
     ]
    },
    {
     "name": "stdout",
     "output_type": "stream",
     "text": [
      "5% data -> Acc: 81.39%\n"
     ]
    },
    {
     "name": "stderr",
     "output_type": "stream",
     "text": [
      "[I 2025-10-17 02:52:34,384] Trial 17 finished with value: 0.7053694873169493 and parameters: {'embed_dim': 256, 'conv_layers': 4, 'conv_ch_0': 64, 'conv_ch_1': 64, 'conv_ch_2': 16, 'conv_ch_3': 32, 'fc_count': 2, 'fc_nodes_0': 1024, 'fc_nodes_1': 1024, 'drop1': 0.4240054953308158, 'drop2': 0.22415088858842325, 'lr': 0.000502905478563434, 'batch_size': 64, 'optimizer': 'Lion'}. Best is trial 9 with value: 0.802375779464462.\n"
     ]
    },
    {
     "name": "stdout",
     "output_type": "stream",
     "text": [
      "5% data -> Acc: 70.09%\n"
     ]
    },
    {
     "name": "stderr",
     "output_type": "stream",
     "text": [
      "[I 2025-10-17 02:52:48,604] Trial 18 finished with value: 0.5011709601873536 and parameters: {'embed_dim': 128, 'conv_layers': 3, 'conv_ch_0': 16, 'conv_ch_1': 128, 'conv_ch_2': 16, 'fc_count': 2, 'fc_nodes_0': 128, 'fc_nodes_1': 512, 'drop1': 0.20731019821627014, 'drop2': 0.12852799542673624, 'lr': 7.664680526530596e-05, 'batch_size': 64, 'optimizer': 'AdaBelief'}. Best is trial 9 with value: 0.802375779464462.\n"
     ]
    },
    {
     "name": "stdout",
     "output_type": "stream",
     "text": [
      "5% data -> Acc: 49.25%\n"
     ]
    },
    {
     "name": "stderr",
     "output_type": "stream",
     "text": [
      "[I 2025-10-17 02:52:57,737] Trial 19 finished with value: 0.6680821647244717 and parameters: {'embed_dim': 256, 'conv_layers': 6, 'conv_ch_0': 128, 'conv_ch_1': 32, 'conv_ch_2': 16, 'conv_ch_3': 64, 'conv_ch_4': 32, 'conv_ch_5': 32, 'fc_count': 2, 'fc_nodes_0': 256, 'fc_nodes_1': 128, 'drop1': 0.47621737834986577, 'drop2': 0.27773123154902485, 'lr': 0.00041784776868338035, 'batch_size': 128, 'optimizer': 'AdamW'}. Best is trial 9 with value: 0.802375779464462.\n"
     ]
    },
    {
     "name": "stdout",
     "output_type": "stream",
     "text": [
      "5% data -> Acc: 66.03%\n"
     ]
    },
    {
     "name": "stderr",
     "output_type": "stream",
     "text": [
      "[I 2025-10-17 02:53:34,355] Trial 20 finished with value: 0.74724189498039 and parameters: {'embed_dim': 256, 'conv_layers': 5, 'conv_ch_0': 64, 'conv_ch_1': 32, 'conv_ch_2': 32, 'conv_ch_3': 64, 'conv_ch_4': 128, 'fc_count': 3, 'fc_nodes_0': 256, 'fc_nodes_1': 128, 'fc_nodes_2': 512, 'drop1': 0.39660503306027195, 'drop2': 0.18270136392295272, 'lr': 0.0008100588949115134, 'batch_size': 32, 'optimizer': 'Yogi'}. Best is trial 9 with value: 0.802375779464462.\n"
     ]
    },
    {
     "name": "stdout",
     "output_type": "stream",
     "text": [
      "5% data -> Acc: 66.72%\n"
     ]
    },
    {
     "name": "stderr",
     "output_type": "stream",
     "text": [
      "[I 2025-10-17 02:53:45,417] Trial 21 finished with value: 0.8091052735532294 and parameters: {'embed_dim': 128, 'conv_layers': 5, 'conv_ch_0': 128, 'conv_ch_1': 128, 'conv_ch_2': 128, 'conv_ch_3': 128, 'conv_ch_4': 16, 'fc_count': 2, 'fc_nodes_0': 256, 'fc_nodes_1': 256, 'drop1': 0.4582219325663578, 'drop2': 0.13788391792099114, 'lr': 0.00016402905257424704, 'batch_size': 128, 'optimizer': 'Lion'}. Best is trial 21 with value: 0.8091052735532294.\n"
     ]
    },
    {
     "name": "stdout",
     "output_type": "stream",
     "text": [
      "5% data -> Acc: 81.93%\n"
     ]
    },
    {
     "name": "stderr",
     "output_type": "stream",
     "text": [
      "[I 2025-10-17 02:53:56,336] Trial 22 finished with value: 0.7961823876301459 and parameters: {'embed_dim': 128, 'conv_layers': 5, 'conv_ch_0': 128, 'conv_ch_1': 128, 'conv_ch_2': 128, 'conv_ch_3': 128, 'conv_ch_4': 16, 'fc_count': 2, 'fc_nodes_0': 256, 'fc_nodes_1': 256, 'drop1': 0.45756232128686214, 'drop2': 0.12893208374773366, 'lr': 0.00015819042025498945, 'batch_size': 128, 'optimizer': 'Lion'}. Best is trial 21 with value: 0.8091052735532294.\n"
     ]
    },
    {
     "name": "stdout",
     "output_type": "stream",
     "text": [
      "5% data -> Acc: 80.65%\n"
     ]
    },
    {
     "name": "stderr",
     "output_type": "stream",
     "text": [
      "[I 2025-10-17 02:54:07,553] Trial 23 finished with value: 0.792838802516859 and parameters: {'embed_dim': 128, 'conv_layers': 4, 'conv_ch_0': 128, 'conv_ch_1': 128, 'conv_ch_2': 128, 'conv_ch_3': 128, 'fc_count': 2, 'fc_nodes_0': 256, 'fc_nodes_1': 256, 'drop1': 0.49814638911233955, 'drop2': 0.2120215047415209, 'lr': 0.0002417932712965079, 'batch_size': 128, 'optimizer': 'Lion'}. Best is trial 21 with value: 0.8091052735532294.\n"
     ]
    },
    {
     "name": "stdout",
     "output_type": "stream",
     "text": [
      "5% data -> Acc: 80.98%\n"
     ]
    },
    {
     "name": "stderr",
     "output_type": "stream",
     "text": [
      "[I 2025-10-17 02:54:19,467] Trial 24 finished with value: 0.8000761829519483 and parameters: {'embed_dim': 128, 'conv_layers': 6, 'conv_ch_0': 128, 'conv_ch_1': 128, 'conv_ch_2': 128, 'conv_ch_3': 128, 'conv_ch_4': 16, 'conv_ch_5': 32, 'fc_count': 2, 'fc_nodes_0': 256, 'fc_nodes_1': 256, 'drop1': 0.4167886648858113, 'drop2': 0.16805662921926628, 'lr': 9.043473893852983e-05, 'batch_size': 128, 'optimizer': 'Lion'}. Best is trial 21 with value: 0.8091052735532294.\n"
     ]
    },
    {
     "name": "stdout",
     "output_type": "stream",
     "text": [
      "5% data -> Acc: 79.87%\n"
     ]
    },
    {
     "name": "stderr",
     "output_type": "stream",
     "text": [
      "[I 2025-10-17 02:54:38,298] Trial 25 finished with value: 0.5011709601873536 and parameters: {'embed_dim': 128, 'conv_layers': 6, 'conv_ch_0': 128, 'conv_ch_1': 128, 'conv_ch_2': 128, 'conv_ch_3': 128, 'conv_ch_4': 64, 'conv_ch_5': 32, 'fc_count': 2, 'fc_nodes_0': 256, 'fc_nodes_1': 256, 'drop1': 0.41723493834516334, 'drop2': 0.1185595436310527, 'lr': 9.825507268081447e-05, 'batch_size': 128, 'optimizer': 'LAMB'}. Best is trial 21 with value: 0.8091052735532294.\n"
     ]
    },
    {
     "name": "stdout",
     "output_type": "stream",
     "text": [
      "5% data -> Acc: 49.65%\n"
     ]
    },
    {
     "name": "stderr",
     "output_type": "stream",
     "text": [
      "[I 2025-10-17 02:54:49,604] Trial 26 finished with value: 0.7901723991986682 and parameters: {'embed_dim': 128, 'conv_layers': 6, 'conv_ch_0': 64, 'conv_ch_1': 16, 'conv_ch_2': 128, 'conv_ch_3': 128, 'conv_ch_4': 16, 'conv_ch_5': 32, 'fc_count': 2, 'fc_nodes_0': 1024, 'fc_nodes_1': 256, 'drop1': 0.38224112432096574, 'drop2': 0.1666501121028258, 'lr': 8.685336033243513e-05, 'batch_size': 128, 'optimizer': 'Lion'}. Best is trial 21 with value: 0.8091052735532294.\n"
     ]
    },
    {
     "name": "stdout",
     "output_type": "stream",
     "text": [
      "5% data -> Acc: 80.77%\n"
     ]
    },
    {
     "name": "stderr",
     "output_type": "stream",
     "text": [
      "[I 2025-10-17 02:55:00,687] Trial 27 finished with value: 0.5014813351767726 and parameters: {'embed_dim': 128, 'conv_layers': 6, 'conv_ch_0': 16, 'conv_ch_1': 64, 'conv_ch_2': 128, 'conv_ch_3': 128, 'conv_ch_4': 16, 'conv_ch_5': 16, 'fc_count': 2, 'fc_nodes_0': 128, 'fc_nodes_1': 256, 'drop1': 0.4757568114214608, 'drop2': 0.14092293667262856, 'lr': 5.339004847891486e-05, 'batch_size': 128, 'optimizer': 'Lion'}. Best is trial 21 with value: 0.8091052735532294.\n"
     ]
    },
    {
     "name": "stdout",
     "output_type": "stream",
     "text": [
      "5% data -> Acc: 49.71%\n"
     ]
    },
    {
     "name": "stderr",
     "output_type": "stream",
     "text": [
      "[I 2025-10-17 02:55:12,439] Trial 28 finished with value: 0.8031093930758162 and parameters: {'embed_dim': 128, 'conv_layers': 5, 'conv_ch_0': 128, 'conv_ch_1': 128, 'conv_ch_2': 128, 'conv_ch_3': 128, 'conv_ch_4': 64, 'fc_count': 2, 'fc_nodes_0': 512, 'fc_nodes_1': 256, 'drop1': 0.4160715336042746, 'drop2': 0.17291751601893907, 'lr': 0.00015503753284701072, 'batch_size': 128, 'optimizer': 'Lion'}. Best is trial 21 with value: 0.8091052735532294.\n"
     ]
    },
    {
     "name": "stdout",
     "output_type": "stream",
     "text": [
      "5% data -> Acc: 80.38%\n"
     ]
    },
    {
     "name": "stderr",
     "output_type": "stream",
     "text": [
      "[I 2025-10-17 02:55:23,416] Trial 29 finished with value: 0.7922039445839565 and parameters: {'embed_dim': 64, 'conv_layers': 5, 'conv_ch_0': 128, 'conv_ch_1': 128, 'conv_ch_2': 128, 'conv_ch_3': 32, 'conv_ch_4': 64, 'fc_count': 2, 'fc_nodes_0': 512, 'fc_nodes_1': 256, 'drop1': 0.4409821355098291, 'drop2': 0.24395836137289373, 'lr': 0.00017548601941601814, 'batch_size': 128, 'optimizer': 'Lion'}. Best is trial 21 with value: 0.8091052735532294.\n"
     ]
    },
    {
     "name": "stdout",
     "output_type": "stream",
     "text": [
      "5% data -> Acc: 79.67%\n"
     ]
    },
    {
     "name": "stderr",
     "output_type": "stream",
     "text": [
      "[I 2025-10-17 02:56:09,972] Trial 30 finished with value: 0.5015518749470952 and parameters: {'embed_dim': 128, 'conv_layers': 4, 'conv_ch_0': 64, 'conv_ch_1': 32, 'conv_ch_2': 128, 'conv_ch_3': 128, 'fc_count': 2, 'fc_nodes_0': 512, 'fc_nodes_1': 1024, 'drop1': 0.34622649336638733, 'drop2': 0.2345806301700024, 'lr': 0.00014460944698541014, 'batch_size': 32, 'optimizer': 'LAMB'}. Best is trial 21 with value: 0.8091052735532294.\n"
     ]
    },
    {
     "name": "stdout",
     "output_type": "stream",
     "text": [
      "5% data -> Acc: 49.77%\n"
     ]
    },
    {
     "name": "stderr",
     "output_type": "stream",
     "text": [
      "[I 2025-10-17 02:56:21,354] Trial 31 finished with value: 0.8033351203408482 and parameters: {'embed_dim': 128, 'conv_layers': 5, 'conv_ch_0': 128, 'conv_ch_1': 128, 'conv_ch_2': 128, 'conv_ch_3': 128, 'conv_ch_4': 64, 'fc_count': 2, 'fc_nodes_0': 512, 'fc_nodes_1': 256, 'drop1': 0.4194296536735568, 'drop2': 0.17830754633605134, 'lr': 0.00010894290448098528, 'batch_size': 128, 'optimizer': 'Lion'}. Best is trial 21 with value: 0.8091052735532294.\n"
     ]
    },
    {
     "name": "stdout",
     "output_type": "stream",
     "text": [
      "5% data -> Acc: 82.03%\n"
     ]
    },
    {
     "name": "stderr",
     "output_type": "stream",
     "text": [
      "[I 2025-10-17 02:56:32,953] Trial 32 finished with value: 0.7946869444993087 and parameters: {'embed_dim': 128, 'conv_layers': 5, 'conv_ch_0': 128, 'conv_ch_1': 128, 'conv_ch_2': 128, 'conv_ch_3': 128, 'conv_ch_4': 64, 'fc_count': 2, 'fc_nodes_0': 512, 'fc_nodes_1': 256, 'drop1': 0.4540344459184147, 'drop2': 0.18033114710242362, 'lr': 0.0001220840841717034, 'batch_size': 128, 'optimizer': 'Lion'}. Best is trial 21 with value: 0.8091052735532294.\n"
     ]
    },
    {
     "name": "stdout",
     "output_type": "stream",
     "text": [
      "5% data -> Acc: 79.59%\n"
     ]
    },
    {
     "name": "stderr",
     "output_type": "stream",
     "text": [
      "[I 2025-10-17 02:56:44,219] Trial 33 finished with value: 0.8005276374820124 and parameters: {'embed_dim': 128, 'conv_layers': 5, 'conv_ch_0': 128, 'conv_ch_1': 128, 'conv_ch_2': 128, 'conv_ch_3': 128, 'conv_ch_4': 64, 'fc_count': 2, 'fc_nodes_0': 512, 'fc_nodes_1': 256, 'drop1': 0.4297068829204158, 'drop2': 0.151214008773626, 'lr': 0.00020954917116612176, 'batch_size': 128, 'optimizer': 'Lion'}. Best is trial 21 with value: 0.8091052735532294.\n"
     ]
    },
    {
     "name": "stdout",
     "output_type": "stream",
     "text": [
      "5% data -> Acc: 79.64%\n"
     ]
    },
    {
     "name": "stderr",
     "output_type": "stream",
     "text": [
      "[I 2025-10-17 02:56:56,212] Trial 34 finished with value: 0.5156598290115968 and parameters: {'embed_dim': 128, 'conv_layers': 5, 'conv_ch_0': 128, 'conv_ch_1': 128, 'conv_ch_2': 64, 'conv_ch_3': 128, 'conv_ch_4': 64, 'fc_count': 2, 'fc_nodes_0': 512, 'fc_nodes_1': 256, 'drop1': 0.4797336562814925, 'drop2': 0.11610867560042697, 'lr': 0.0003116743192620133, 'batch_size': 128, 'optimizer': 'Yogi'}. Best is trial 21 with value: 0.8091052735532294.\n"
     ]
    },
    {
     "name": "stdout",
     "output_type": "stream",
     "text": [
      "5% data -> Acc: 50.06%\n"
     ]
    },
    {
     "name": "stderr",
     "output_type": "stream",
     "text": [
      "[I 2025-10-17 02:57:25,274] Trial 35 finished with value: 0.7785333370954545 and parameters: {'embed_dim': 128, 'conv_layers': 4, 'conv_ch_0': 128, 'conv_ch_1': 128, 'conv_ch_2': 128, 'conv_ch_3': 128, 'fc_count': 2, 'fc_nodes_0': 512, 'fc_nodes_1': 512, 'drop1': 0.32119222739383374, 'drop2': 0.17406736795816874, 'lr': 6.679336100836786e-05, 'batch_size': 32, 'optimizer': 'Lion'}. Best is trial 21 with value: 0.8091052735532294.\n"
     ]
    },
    {
     "name": "stdout",
     "output_type": "stream",
     "text": [
      "5% data -> Acc: 69.73%\n"
     ]
    },
    {
     "name": "stderr",
     "output_type": "stream",
     "text": [
      "[I 2025-10-17 02:57:33,936] Trial 36 finished with value: 0.5060664202477356 and parameters: {'embed_dim': 128, 'conv_layers': 5, 'conv_ch_0': 128, 'conv_ch_1': 16, 'conv_ch_2': 128, 'conv_ch_3': 128, 'conv_ch_4': 64, 'fc_count': 2, 'fc_nodes_0': 512, 'fc_nodes_1': 256, 'drop1': 0.40375045487928657, 'drop2': 0.1924076793422155, 'lr': 3.9424567229416656e-05, 'batch_size': 128, 'optimizer': 'AdamW'}. Best is trial 21 with value: 0.8091052735532294.\n"
     ]
    },
    {
     "name": "stdout",
     "output_type": "stream",
     "text": [
      "5% data -> Acc: 50.29%\n"
     ]
    },
    {
     "name": "stderr",
     "output_type": "stream",
     "text": [
      "[I 2025-10-17 02:58:06,029] Trial 37 finished with value: 0.5184390959623035 and parameters: {'embed_dim': 64, 'conv_layers': 4, 'conv_ch_0': 32, 'conv_ch_1': 64, 'conv_ch_2': 32, 'conv_ch_3': 32, 'fc_count': 3, 'fc_nodes_0': 512, 'fc_nodes_1': 256, 'fc_nodes_2': 128, 'drop1': 0.29124424654719006, 'drop2': 0.15203069958273144, 'lr': 0.00011319982697925382, 'batch_size': 32, 'optimizer': 'AdaBelief'}. Best is trial 21 with value: 0.8091052735532294.\n"
     ]
    },
    {
     "name": "stdout",
     "output_type": "stream",
     "text": [
      "5% data -> Acc: 50.42%\n"
     ]
    },
    {
     "name": "stderr",
     "output_type": "stream",
     "text": [
      "[I 2025-10-17 02:58:35,186] Trial 38 finished with value: 0.7981575011991761 and parameters: {'embed_dim': 128, 'conv_layers': 4, 'conv_ch_0': 128, 'conv_ch_1': 128, 'conv_ch_2': 64, 'conv_ch_3': 16, 'fc_count': 2, 'fc_nodes_0': 512, 'fc_nodes_1': 1024, 'drop1': 0.3783048577750752, 'drop2': 0.11683643028102086, 'lr': 0.00022254449135547232, 'batch_size': 32, 'optimizer': 'Lion'}. Best is trial 21 with value: 0.8091052735532294.\n"
     ]
    },
    {
     "name": "stdout",
     "output_type": "stream",
     "text": [
      "5% data -> Acc: 80.02%\n"
     ]
    },
    {
     "name": "stderr",
     "output_type": "stream",
     "text": [
      "[I 2025-10-17 02:58:50,928] Trial 39 finished with value: 0.5011709601873536 and parameters: {'embed_dim': 128, 'conv_layers': 5, 'conv_ch_0': 32, 'conv_ch_1': 32, 'conv_ch_2': 128, 'conv_ch_3': 128, 'conv_ch_4': 64, 'fc_count': 2, 'fc_nodes_0': 1024, 'fc_nodes_1': 256, 'drop1': 0.44092271468979444, 'drop2': 0.26818107080420145, 'lr': 0.0001642678955650859, 'batch_size': 128, 'optimizer': 'LAMB'}. Best is trial 21 with value: 0.8091052735532294.\n"
     ]
    },
    {
     "name": "stdout",
     "output_type": "stream",
     "text": [
      "5% data -> Acc: 49.82%\n"
     ]
    },
    {
     "name": "stderr",
     "output_type": "stream",
     "text": [
      "[I 2025-10-17 02:59:27,308] Trial 40 finished with value: 0.7951666149375017 and parameters: {'embed_dim': 64, 'conv_layers': 6, 'conv_ch_0': 128, 'conv_ch_1': 16, 'conv_ch_2': 128, 'conv_ch_3': 64, 'conv_ch_4': 128, 'conv_ch_5': 64, 'fc_count': 3, 'fc_nodes_0': 512, 'fc_nodes_1': 128, 'fc_nodes_2': 512, 'drop1': 0.35577347564519674, 'drop2': 0.3980907939455003, 'lr': 4.28874832948194e-05, 'batch_size': 32, 'optimizer': 'Lion'}. Best is trial 21 with value: 0.8091052735532294.\n"
     ]
    },
    {
     "name": "stdout",
     "output_type": "stream",
     "text": [
      "5% data -> Acc: 79.77%\n"
     ]
    },
    {
     "name": "stderr",
     "output_type": "stream",
     "text": [
      "[I 2025-10-17 02:59:38,826] Trial 41 finished with value: 0.8040405180440733 and parameters: {'embed_dim': 128, 'conv_layers': 5, 'conv_ch_0': 128, 'conv_ch_1': 128, 'conv_ch_2': 128, 'conv_ch_3': 128, 'conv_ch_4': 64, 'fc_count': 2, 'fc_nodes_0': 512, 'fc_nodes_1': 256, 'drop1': 0.42939268569184535, 'drop2': 0.15796305968103533, 'lr': 0.00021098702201892744, 'batch_size': 128, 'optimizer': 'Lion'}. Best is trial 21 with value: 0.8091052735532294.\n"
     ]
    },
    {
     "name": "stdout",
     "output_type": "stream",
     "text": [
      "5% data -> Acc: 77.54%\n"
     ]
    },
    {
     "name": "stderr",
     "output_type": "stream",
     "text": [
      "[I 2025-10-17 02:59:50,121] Trial 42 finished with value: 0.7381986964250444 and parameters: {'embed_dim': 128, 'conv_layers': 5, 'conv_ch_0': 128, 'conv_ch_1': 128, 'conv_ch_2': 128, 'conv_ch_3': 128, 'conv_ch_4': 64, 'fc_count': 2, 'fc_nodes_0': 512, 'fc_nodes_1': 256, 'drop1': 0.46174776989863353, 'drop2': 0.16353127942350545, 'lr': 0.00033361432987010295, 'batch_size': 128, 'optimizer': 'Lion'}. Best is trial 21 with value: 0.8091052735532294.\n"
     ]
    },
    {
     "name": "stdout",
     "output_type": "stream",
     "text": [
      "5% data -> Acc: 74.42%\n"
     ]
    },
    {
     "name": "stderr",
     "output_type": "stream",
     "text": [
      "[I 2025-10-17 03:00:01,684] Trial 43 finished with value: 0.7768544905617787 and parameters: {'embed_dim': 128, 'conv_layers': 5, 'conv_ch_0': 128, 'conv_ch_1': 128, 'conv_ch_2': 128, 'conv_ch_3': 16, 'conv_ch_4': 64, 'fc_count': 2, 'fc_nodes_0': 512, 'fc_nodes_1': 256, 'drop1': 0.4139254072214423, 'drop2': 0.13856774961994284, 'lr': 0.00022824001382136348, 'batch_size': 128, 'optimizer': 'Lion'}. Best is trial 21 with value: 0.8091052735532294.\n"
     ]
    },
    {
     "name": "stdout",
     "output_type": "stream",
     "text": [
      "5% data -> Acc: 77.76%\n"
     ]
    },
    {
     "name": "stderr",
     "output_type": "stream",
     "text": [
      "[I 2025-10-17 03:00:13,505] Trial 44 finished with value: 0.5011709601873536 and parameters: {'embed_dim': 128, 'conv_layers': 5, 'conv_ch_0': 128, 'conv_ch_1': 128, 'conv_ch_2': 64, 'conv_ch_3': 128, 'conv_ch_4': 64, 'fc_count': 2, 'fc_nodes_0': 512, 'fc_nodes_1': 256, 'drop1': 0.48570980193494284, 'drop2': 0.20012285661448959, 'lr': 1.2512621811018931e-05, 'batch_size': 128, 'optimizer': 'Yogi'}. Best is trial 21 with value: 0.8091052735532294.\n"
     ]
    },
    {
     "name": "stdout",
     "output_type": "stream",
     "text": [
      "5% data -> Acc: 50.21%\n"
     ]
    },
    {
     "name": "stderr",
     "output_type": "stream",
     "text": [
      "[I 2025-10-17 03:00:25,443] Trial 45 finished with value: 0.5011709601873536 and parameters: {'embed_dim': 128, 'conv_layers': 4, 'conv_ch_0': 128, 'conv_ch_1': 128, 'conv_ch_2': 128, 'conv_ch_3': 128, 'fc_count': 2, 'fc_nodes_0': 128, 'fc_nodes_1': 512, 'drop1': 0.43247431997302777, 'drop2': 0.11019065043907665, 'lr': 0.00014896165737310907, 'batch_size': 128, 'optimizer': 'AdaBelief'}. Best is trial 21 with value: 0.8091052735532294.\n"
     ]
    },
    {
     "name": "stdout",
     "output_type": "stream",
     "text": [
      "5% data -> Acc: 50.12%\n"
     ]
    },
    {
     "name": "stderr",
     "output_type": "stream",
     "text": [
      "[I 2025-10-17 03:00:32,929] Trial 46 finished with value: 0.5524110493496233 and parameters: {'embed_dim': 128, 'conv_layers': 5, 'conv_ch_0': 64, 'conv_ch_1': 32, 'conv_ch_2': 16, 'conv_ch_3': 16, 'conv_ch_4': 32, 'fc_count': 2, 'fc_nodes_0': 512, 'fc_nodes_1': 256, 'drop1': 0.3868928009948905, 'drop2': 0.13122833856037536, 'lr': 0.00011354938999278437, 'batch_size': 128, 'optimizer': 'AdamW'}. Best is trial 21 with value: 0.8091052735532294.\n"
     ]
    },
    {
     "name": "stdout",
     "output_type": "stream",
     "text": [
      "5% data -> Acc: 54.27%\n"
     ]
    },
    {
     "name": "stderr",
     "output_type": "stream",
     "text": [
      "[I 2025-10-17 03:01:04,097] Trial 47 finished with value: 0.49882903981264637 and parameters: {'embed_dim': 128, 'conv_layers': 5, 'conv_ch_0': 32, 'conv_ch_1': 128, 'conv_ch_2': 32, 'conv_ch_3': 64, 'conv_ch_4': 128, 'fc_count': 2, 'fc_nodes_0': 1024, 'fc_nodes_1': 128, 'drop1': 0.3695163517413234, 'drop2': 0.1799366083424312, 'lr': 0.00025909922550542243, 'batch_size': 32, 'optimizer': 'Lion'}. Best is trial 21 with value: 0.8091052735532294.\n"
     ]
    },
    {
     "name": "stdout",
     "output_type": "stream",
     "text": [
      "5% data -> Acc: 49.54%\n"
     ]
    },
    {
     "name": "stderr",
     "output_type": "stream",
     "text": [
      "[I 2025-10-17 03:01:15,223] Trial 48 finished with value: 0.7606726672497954 and parameters: {'embed_dim': 64, 'conv_layers': 6, 'conv_ch_0': 16, 'conv_ch_1': 64, 'conv_ch_2': 128, 'conv_ch_3': 128, 'conv_ch_4': 64, 'conv_ch_5': 128, 'fc_count': 2, 'fc_nodes_0': 512, 'fc_nodes_1': 1024, 'drop1': 0.44532406370321, 'drop2': 0.14901005851856572, 'lr': 0.00019123236601636945, 'batch_size': 128, 'optimizer': 'Lion'}. Best is trial 21 with value: 0.8091052735532294.\n"
     ]
    },
    {
     "name": "stdout",
     "output_type": "stream",
     "text": [
      "5% data -> Acc: 72.04%\n"
     ]
    },
    {
     "name": "stderr",
     "output_type": "stream",
     "text": [
      "[I 2025-10-17 03:01:25,432] Trial 49 finished with value: 0.7460286109308428 and parameters: {'embed_dim': 128, 'conv_layers': 5, 'conv_ch_0': 128, 'conv_ch_1': 128, 'conv_ch_2': 16, 'conv_ch_3': 64, 'conv_ch_4': 64, 'fc_count': 2, 'fc_nodes_0': 256, 'fc_nodes_1': 256, 'drop1': 0.4881110236678762, 'drop2': 0.2023702740519726, 'lr': 0.0003840322741278942, 'batch_size': 128, 'optimizer': 'Lion'}. Best is trial 21 with value: 0.8091052735532294.\n"
     ]
    },
    {
     "name": "stdout",
     "output_type": "stream",
     "text": [
      "5% data -> Acc: 74.38%\n",
      "\n",
      "Best Trial: {'embed_dim': 128, 'conv_layers': 5, 'conv_ch_0': 128, 'conv_ch_1': 128, 'conv_ch_2': 128, 'conv_ch_3': 128, 'conv_ch_4': 16, 'fc_count': 2, 'fc_nodes_0': 256, 'fc_nodes_1': 256, 'drop1': 0.4582219325663578, 'drop2': 0.13788391792099114, 'lr': 0.00016402905257424704, 'batch_size': 128, 'optimizer': 'Lion'}\n"
     ]
    }
   ],
   "source": [
    "\n",
    "# %% Run Optuna Search\n",
    "study = optuna.create_study(direction=\"maximize\")\n",
    "study.optimize(objective, n_trials=50)\n",
    "print(\"\\nBest Trial:\", study.best_trial.params)\n"
   ]
  },
  {
   "cell_type": "code",
   "execution_count": 128,
   "id": "95d1dc35",
   "metadata": {},
   "outputs": [
    {
     "name": "stdout",
     "output_type": "stream",
     "text": [
      "Epoch [1/10] | Train Acc: 0.6329 | Val Acc: 0.7332 | Loss: 0.5759\n",
      "Epoch [2/10] | Train Acc: 0.7441 | Val Acc: 0.7661 | Loss: 0.5641\n",
      "Epoch [3/10] | Train Acc: 0.7678 | Val Acc: 0.7738 | Loss: 0.5610\n",
      "Epoch [4/10] | Train Acc: 0.7980 | Val Acc: 0.7882 | Loss: 0.5590\n",
      "Epoch [5/10] | Train Acc: 0.8160 | Val Acc: 0.8182 | Loss: 0.5574\n",
      "Epoch [6/10] | Train Acc: 0.8252 | Val Acc: 0.7971 | Loss: 0.5561\n",
      "Epoch [7/10] | Train Acc: 0.8302 | Val Acc: 0.8283 | Loss: 0.5554\n",
      "Epoch [8/10] | Train Acc: 0.8431 | Val Acc: 0.8362 | Loss: 0.5548\n",
      "Epoch [9/10] | Train Acc: 0.8474 | Val Acc: 0.8284 | Loss: 0.5537\n",
      "Epoch [10/10] | Train Acc: 0.8552 | Val Acc: 0.8384 | Loss: 0.5529\n",
      "✅ Final Test Accuracy: 83.84%\n"
     ]
    }
   ],
   "source": [
    "# %% Evaluate final model\n",
    "best_params = study.best_trial.params\n",
    "final_model = URLBinaryCNN(\n",
    "    vocab_size,\n",
    "    best_params[\"embed_dim\"],\n",
    "    best_params[\"conv_layers\"],\n",
    "    [best_params[f\"conv_ch_{i}\"] for i in range(best_params[\"conv_layers\"])],\n",
    "    [best_params[f\"fc_nodes_{i}\"] for i in range(best_params[\"fc_count\"])],\n",
    "    [best_params[\"drop1\"], best_params[\"drop2\"]],\n",
    ").to(device)\n",
    "\n",
    "criterion = nn.BCEWithLogitsLoss()\n",
    "optimizer = optim.AdamW(final_model.parameters(), lr=best_params[\"lr\"])\n",
    "train_loader = DataLoader(train_dataset, batch_size=best_params[\"batch_size\"], shuffle=True)\n",
    "val_loader = DataLoader(test_dataset, batch_size=256)\n",
    "\n",
    "trainer = Trainer(final_model, criterion, optimizer)\n",
    "trainer.train_model(train_loader, val_loader, epochs=10, log=True)\n",
    "test_acc = trainer.evaluate_model(val_loader)\n",
    "print(f\"✅ Final Test Accuracy: {test_acc*100:.2f}%\")"
   ]
  },
  {
   "cell_type": "code",
   "execution_count": 129,
   "id": "5a581e44",
   "metadata": {},
   "outputs": [],
   "source": [
    "import optuna\n",
    "from optuna.visualization import plot_optimization_history,plot_parallel_coordinate, plot_param_importances, plot_slice, plot_contour, plot_edf"
   ]
  },
  {
   "cell_type": "code",
   "execution_count": 130,
   "id": "a4d53881",
   "metadata": {},
   "outputs": [
    {
     "data": {
      "application/vnd.plotly.v1+json": {
       "config": {
        "plotlyServerURL": "https://plot.ly"
       },
       "data": [
        {
         "mode": "markers",
         "name": "Objective Value",
         "type": "scatter",
         "x": [
          0,
          1,
          2,
          3,
          4,
          5,
          6,
          7,
          8,
          9,
          10,
          11,
          12,
          13,
          14,
          15,
          16,
          17,
          18,
          19,
          20,
          21,
          22,
          23,
          24,
          25,
          26,
          27,
          28,
          29,
          30,
          31,
          32,
          33,
          34,
          35,
          36,
          37,
          38,
          39,
          40,
          41,
          42,
          43,
          44,
          45,
          46,
          47,
          48,
          49
         ],
         "y": [
          0.6964673683022488,
          0.568014446544962,
          0.5011709601873536,
          0.7963234671707909,
          0.5215005219943004,
          0.5011709601873536,
          0.5011709601873536,
          0.5024829999153523,
          0.789071978781637,
          0.802375779464462,
          0.5021161931096753,
          0.774498462233007,
          0.7327530261561468,
          0.7671482181654017,
          0.5011709601873536,
          0.756101690132897,
          0.7947433763155667,
          0.7053694873169493,
          0.5011709601873536,
          0.6680821647244717,
          0.74724189498039,
          0.8091052735532294,
          0.7961823876301459,
          0.792838802516859,
          0.8000761829519483,
          0.5011709601873536,
          0.7901723991986682,
          0.5014813351767726,
          0.8031093930758162,
          0.7922039445839565,
          0.5015518749470952,
          0.8033351203408482,
          0.7946869444993087,
          0.8005276374820124,
          0.5156598290115968,
          0.7785333370954545,
          0.5060664202477356,
          0.5184390959623035,
          0.7981575011991761,
          0.5011709601873536,
          0.7951666149375017,
          0.8040405180440733,
          0.7381986964250444,
          0.7768544905617787,
          0.5011709601873536,
          0.5011709601873536,
          0.5524110493496233,
          0.49882903981264637,
          0.7606726672497954,
          0.7460286109308428
         ]
        },
        {
         "mode": "lines",
         "name": "Best Value",
         "type": "scatter",
         "x": [
          0,
          1,
          2,
          3,
          4,
          5,
          6,
          7,
          8,
          9,
          10,
          11,
          12,
          13,
          14,
          15,
          16,
          17,
          18,
          19,
          20,
          21,
          22,
          23,
          24,
          25,
          26,
          27,
          28,
          29,
          30,
          31,
          32,
          33,
          34,
          35,
          36,
          37,
          38,
          39,
          40,
          41,
          42,
          43,
          44,
          45,
          46,
          47,
          48,
          49
         ],
         "y": [
          0.6964673683022488,
          0.6964673683022488,
          0.6964673683022488,
          0.7963234671707909,
          0.7963234671707909,
          0.7963234671707909,
          0.7963234671707909,
          0.7963234671707909,
          0.7963234671707909,
          0.802375779464462,
          0.802375779464462,
          0.802375779464462,
          0.802375779464462,
          0.802375779464462,
          0.802375779464462,
          0.802375779464462,
          0.802375779464462,
          0.802375779464462,
          0.802375779464462,
          0.802375779464462,
          0.802375779464462,
          0.8091052735532294,
          0.8091052735532294,
          0.8091052735532294,
          0.8091052735532294,
          0.8091052735532294,
          0.8091052735532294,
          0.8091052735532294,
          0.8091052735532294,
          0.8091052735532294,
          0.8091052735532294,
          0.8091052735532294,
          0.8091052735532294,
          0.8091052735532294,
          0.8091052735532294,
          0.8091052735532294,
          0.8091052735532294,
          0.8091052735532294,
          0.8091052735532294,
          0.8091052735532294,
          0.8091052735532294,
          0.8091052735532294,
          0.8091052735532294,
          0.8091052735532294,
          0.8091052735532294,
          0.8091052735532294,
          0.8091052735532294,
          0.8091052735532294,
          0.8091052735532294,
          0.8091052735532294
         ]
        },
        {
         "marker": {
          "color": "#cccccc"
         },
         "mode": "markers",
         "name": "Infeasible Trial",
         "showlegend": false,
         "type": "scatter",
         "x": [],
         "y": []
        }
       ],
       "layout": {
        "template": {
         "data": {
          "bar": [
           {
            "error_x": {
             "color": "#2a3f5f"
            },
            "error_y": {
             "color": "#2a3f5f"
            },
            "marker": {
             "line": {
              "color": "#E5ECF6",
              "width": 0.5
             },
             "pattern": {
              "fillmode": "overlay",
              "size": 10,
              "solidity": 0.2
             }
            },
            "type": "bar"
           }
          ],
          "barpolar": [
           {
            "marker": {
             "line": {
              "color": "#E5ECF6",
              "width": 0.5
             },
             "pattern": {
              "fillmode": "overlay",
              "size": 10,
              "solidity": 0.2
             }
            },
            "type": "barpolar"
           }
          ],
          "carpet": [
           {
            "aaxis": {
             "endlinecolor": "#2a3f5f",
             "gridcolor": "white",
             "linecolor": "white",
             "minorgridcolor": "white",
             "startlinecolor": "#2a3f5f"
            },
            "baxis": {
             "endlinecolor": "#2a3f5f",
             "gridcolor": "white",
             "linecolor": "white",
             "minorgridcolor": "white",
             "startlinecolor": "#2a3f5f"
            },
            "type": "carpet"
           }
          ],
          "choropleth": [
           {
            "colorbar": {
             "outlinewidth": 0,
             "ticks": ""
            },
            "type": "choropleth"
           }
          ],
          "contour": [
           {
            "colorbar": {
             "outlinewidth": 0,
             "ticks": ""
            },
            "colorscale": [
             [
              0,
              "#0d0887"
             ],
             [
              0.1111111111111111,
              "#46039f"
             ],
             [
              0.2222222222222222,
              "#7201a8"
             ],
             [
              0.3333333333333333,
              "#9c179e"
             ],
             [
              0.4444444444444444,
              "#bd3786"
             ],
             [
              0.5555555555555556,
              "#d8576b"
             ],
             [
              0.6666666666666666,
              "#ed7953"
             ],
             [
              0.7777777777777778,
              "#fb9f3a"
             ],
             [
              0.8888888888888888,
              "#fdca26"
             ],
             [
              1,
              "#f0f921"
             ]
            ],
            "type": "contour"
           }
          ],
          "contourcarpet": [
           {
            "colorbar": {
             "outlinewidth": 0,
             "ticks": ""
            },
            "type": "contourcarpet"
           }
          ],
          "heatmap": [
           {
            "colorbar": {
             "outlinewidth": 0,
             "ticks": ""
            },
            "colorscale": [
             [
              0,
              "#0d0887"
             ],
             [
              0.1111111111111111,
              "#46039f"
             ],
             [
              0.2222222222222222,
              "#7201a8"
             ],
             [
              0.3333333333333333,
              "#9c179e"
             ],
             [
              0.4444444444444444,
              "#bd3786"
             ],
             [
              0.5555555555555556,
              "#d8576b"
             ],
             [
              0.6666666666666666,
              "#ed7953"
             ],
             [
              0.7777777777777778,
              "#fb9f3a"
             ],
             [
              0.8888888888888888,
              "#fdca26"
             ],
             [
              1,
              "#f0f921"
             ]
            ],
            "type": "heatmap"
           }
          ],
          "histogram": [
           {
            "marker": {
             "pattern": {
              "fillmode": "overlay",
              "size": 10,
              "solidity": 0.2
             }
            },
            "type": "histogram"
           }
          ],
          "histogram2d": [
           {
            "colorbar": {
             "outlinewidth": 0,
             "ticks": ""
            },
            "colorscale": [
             [
              0,
              "#0d0887"
             ],
             [
              0.1111111111111111,
              "#46039f"
             ],
             [
              0.2222222222222222,
              "#7201a8"
             ],
             [
              0.3333333333333333,
              "#9c179e"
             ],
             [
              0.4444444444444444,
              "#bd3786"
             ],
             [
              0.5555555555555556,
              "#d8576b"
             ],
             [
              0.6666666666666666,
              "#ed7953"
             ],
             [
              0.7777777777777778,
              "#fb9f3a"
             ],
             [
              0.8888888888888888,
              "#fdca26"
             ],
             [
              1,
              "#f0f921"
             ]
            ],
            "type": "histogram2d"
           }
          ],
          "histogram2dcontour": [
           {
            "colorbar": {
             "outlinewidth": 0,
             "ticks": ""
            },
            "colorscale": [
             [
              0,
              "#0d0887"
             ],
             [
              0.1111111111111111,
              "#46039f"
             ],
             [
              0.2222222222222222,
              "#7201a8"
             ],
             [
              0.3333333333333333,
              "#9c179e"
             ],
             [
              0.4444444444444444,
              "#bd3786"
             ],
             [
              0.5555555555555556,
              "#d8576b"
             ],
             [
              0.6666666666666666,
              "#ed7953"
             ],
             [
              0.7777777777777778,
              "#fb9f3a"
             ],
             [
              0.8888888888888888,
              "#fdca26"
             ],
             [
              1,
              "#f0f921"
             ]
            ],
            "type": "histogram2dcontour"
           }
          ],
          "mesh3d": [
           {
            "colorbar": {
             "outlinewidth": 0,
             "ticks": ""
            },
            "type": "mesh3d"
           }
          ],
          "parcoords": [
           {
            "line": {
             "colorbar": {
              "outlinewidth": 0,
              "ticks": ""
             }
            },
            "type": "parcoords"
           }
          ],
          "pie": [
           {
            "automargin": true,
            "type": "pie"
           }
          ],
          "scatter": [
           {
            "fillpattern": {
             "fillmode": "overlay",
             "size": 10,
             "solidity": 0.2
            },
            "type": "scatter"
           }
          ],
          "scatter3d": [
           {
            "line": {
             "colorbar": {
              "outlinewidth": 0,
              "ticks": ""
             }
            },
            "marker": {
             "colorbar": {
              "outlinewidth": 0,
              "ticks": ""
             }
            },
            "type": "scatter3d"
           }
          ],
          "scattercarpet": [
           {
            "marker": {
             "colorbar": {
              "outlinewidth": 0,
              "ticks": ""
             }
            },
            "type": "scattercarpet"
           }
          ],
          "scattergeo": [
           {
            "marker": {
             "colorbar": {
              "outlinewidth": 0,
              "ticks": ""
             }
            },
            "type": "scattergeo"
           }
          ],
          "scattergl": [
           {
            "marker": {
             "colorbar": {
              "outlinewidth": 0,
              "ticks": ""
             }
            },
            "type": "scattergl"
           }
          ],
          "scattermap": [
           {
            "marker": {
             "colorbar": {
              "outlinewidth": 0,
              "ticks": ""
             }
            },
            "type": "scattermap"
           }
          ],
          "scattermapbox": [
           {
            "marker": {
             "colorbar": {
              "outlinewidth": 0,
              "ticks": ""
             }
            },
            "type": "scattermapbox"
           }
          ],
          "scatterpolar": [
           {
            "marker": {
             "colorbar": {
              "outlinewidth": 0,
              "ticks": ""
             }
            },
            "type": "scatterpolar"
           }
          ],
          "scatterpolargl": [
           {
            "marker": {
             "colorbar": {
              "outlinewidth": 0,
              "ticks": ""
             }
            },
            "type": "scatterpolargl"
           }
          ],
          "scatterternary": [
           {
            "marker": {
             "colorbar": {
              "outlinewidth": 0,
              "ticks": ""
             }
            },
            "type": "scatterternary"
           }
          ],
          "surface": [
           {
            "colorbar": {
             "outlinewidth": 0,
             "ticks": ""
            },
            "colorscale": [
             [
              0,
              "#0d0887"
             ],
             [
              0.1111111111111111,
              "#46039f"
             ],
             [
              0.2222222222222222,
              "#7201a8"
             ],
             [
              0.3333333333333333,
              "#9c179e"
             ],
             [
              0.4444444444444444,
              "#bd3786"
             ],
             [
              0.5555555555555556,
              "#d8576b"
             ],
             [
              0.6666666666666666,
              "#ed7953"
             ],
             [
              0.7777777777777778,
              "#fb9f3a"
             ],
             [
              0.8888888888888888,
              "#fdca26"
             ],
             [
              1,
              "#f0f921"
             ]
            ],
            "type": "surface"
           }
          ],
          "table": [
           {
            "cells": {
             "fill": {
              "color": "#EBF0F8"
             },
             "line": {
              "color": "white"
             }
            },
            "header": {
             "fill": {
              "color": "#C8D4E3"
             },
             "line": {
              "color": "white"
             }
            },
            "type": "table"
           }
          ]
         },
         "layout": {
          "annotationdefaults": {
           "arrowcolor": "#2a3f5f",
           "arrowhead": 0,
           "arrowwidth": 1
          },
          "autotypenumbers": "strict",
          "coloraxis": {
           "colorbar": {
            "outlinewidth": 0,
            "ticks": ""
           }
          },
          "colorscale": {
           "diverging": [
            [
             0,
             "#8e0152"
            ],
            [
             0.1,
             "#c51b7d"
            ],
            [
             0.2,
             "#de77ae"
            ],
            [
             0.3,
             "#f1b6da"
            ],
            [
             0.4,
             "#fde0ef"
            ],
            [
             0.5,
             "#f7f7f7"
            ],
            [
             0.6,
             "#e6f5d0"
            ],
            [
             0.7,
             "#b8e186"
            ],
            [
             0.8,
             "#7fbc41"
            ],
            [
             0.9,
             "#4d9221"
            ],
            [
             1,
             "#276419"
            ]
           ],
           "sequential": [
            [
             0,
             "#0d0887"
            ],
            [
             0.1111111111111111,
             "#46039f"
            ],
            [
             0.2222222222222222,
             "#7201a8"
            ],
            [
             0.3333333333333333,
             "#9c179e"
            ],
            [
             0.4444444444444444,
             "#bd3786"
            ],
            [
             0.5555555555555556,
             "#d8576b"
            ],
            [
             0.6666666666666666,
             "#ed7953"
            ],
            [
             0.7777777777777778,
             "#fb9f3a"
            ],
            [
             0.8888888888888888,
             "#fdca26"
            ],
            [
             1,
             "#f0f921"
            ]
           ],
           "sequentialminus": [
            [
             0,
             "#0d0887"
            ],
            [
             0.1111111111111111,
             "#46039f"
            ],
            [
             0.2222222222222222,
             "#7201a8"
            ],
            [
             0.3333333333333333,
             "#9c179e"
            ],
            [
             0.4444444444444444,
             "#bd3786"
            ],
            [
             0.5555555555555556,
             "#d8576b"
            ],
            [
             0.6666666666666666,
             "#ed7953"
            ],
            [
             0.7777777777777778,
             "#fb9f3a"
            ],
            [
             0.8888888888888888,
             "#fdca26"
            ],
            [
             1,
             "#f0f921"
            ]
           ]
          },
          "colorway": [
           "#636efa",
           "#EF553B",
           "#00cc96",
           "#ab63fa",
           "#FFA15A",
           "#19d3f3",
           "#FF6692",
           "#B6E880",
           "#FF97FF",
           "#FECB52"
          ],
          "font": {
           "color": "#2a3f5f"
          },
          "geo": {
           "bgcolor": "white",
           "lakecolor": "white",
           "landcolor": "#E5ECF6",
           "showlakes": true,
           "showland": true,
           "subunitcolor": "white"
          },
          "hoverlabel": {
           "align": "left"
          },
          "hovermode": "closest",
          "mapbox": {
           "style": "light"
          },
          "paper_bgcolor": "white",
          "plot_bgcolor": "#E5ECF6",
          "polar": {
           "angularaxis": {
            "gridcolor": "white",
            "linecolor": "white",
            "ticks": ""
           },
           "bgcolor": "#E5ECF6",
           "radialaxis": {
            "gridcolor": "white",
            "linecolor": "white",
            "ticks": ""
           }
          },
          "scene": {
           "xaxis": {
            "backgroundcolor": "#E5ECF6",
            "gridcolor": "white",
            "gridwidth": 2,
            "linecolor": "white",
            "showbackground": true,
            "ticks": "",
            "zerolinecolor": "white"
           },
           "yaxis": {
            "backgroundcolor": "#E5ECF6",
            "gridcolor": "white",
            "gridwidth": 2,
            "linecolor": "white",
            "showbackground": true,
            "ticks": "",
            "zerolinecolor": "white"
           },
           "zaxis": {
            "backgroundcolor": "#E5ECF6",
            "gridcolor": "white",
            "gridwidth": 2,
            "linecolor": "white",
            "showbackground": true,
            "ticks": "",
            "zerolinecolor": "white"
           }
          },
          "shapedefaults": {
           "line": {
            "color": "#2a3f5f"
           }
          },
          "ternary": {
           "aaxis": {
            "gridcolor": "white",
            "linecolor": "white",
            "ticks": ""
           },
           "baxis": {
            "gridcolor": "white",
            "linecolor": "white",
            "ticks": ""
           },
           "bgcolor": "#E5ECF6",
           "caxis": {
            "gridcolor": "white",
            "linecolor": "white",
            "ticks": ""
           }
          },
          "title": {
           "x": 0.05
          },
          "xaxis": {
           "automargin": true,
           "gridcolor": "white",
           "linecolor": "white",
           "ticks": "",
           "title": {
            "standoff": 15
           },
           "zerolinecolor": "white",
           "zerolinewidth": 2
          },
          "yaxis": {
           "automargin": true,
           "gridcolor": "white",
           "linecolor": "white",
           "ticks": "",
           "title": {
            "standoff": 15
           },
           "zerolinecolor": "white",
           "zerolinewidth": 2
          }
         }
        },
        "title": {
         "text": "Optimization History Plot"
        },
        "xaxis": {
         "title": {
          "text": "Trial"
         }
        },
        "yaxis": {
         "title": {
          "text": "Objective Value"
         }
        }
       }
      }
     },
     "metadata": {},
     "output_type": "display_data"
    }
   ],
   "source": [
    "# Plot 1: How accuracy improved with each trial\n",
    "plot_optimization_history(study).show()"
   ]
  },
  {
   "cell_type": "code",
   "execution_count": 132,
   "id": "32ef44c8",
   "metadata": {},
   "outputs": [
    {
     "data": {
      "application/vnd.plotly.v1+json": {
       "config": {
        "plotlyServerURL": "https://plot.ly"
       },
       "data": [
        {
         "cliponaxis": false,
         "hovertemplate": [
          "fc_nodes_1 (CategoricalDistribution): 0.002525933117541352<extra></extra>",
          "drop2 (FloatDistribution): 0.003978596505087583<extra></extra>",
          "conv_layers (IntDistribution): 0.004723148461631476<extra></extra>",
          "batch_size (CategoricalDistribution): 0.0072057229775794466<extra></extra>",
          "conv_ch_1 (CategoricalDistribution): 0.009613640028582029<extra></extra>",
          "fc_count (IntDistribution): 0.012638901982292637<extra></extra>",
          "embed_dim (CategoricalDistribution): 0.027332559730857724<extra></extra>",
          "drop1 (FloatDistribution): 0.030404043618307862<extra></extra>",
          "fc_nodes_0 (CategoricalDistribution): 0.12039542988628663<extra></extra>",
          "optimizer (CategoricalDistribution): 0.2001359778525163<extra></extra>",
          "lr (FloatDistribution): 0.28407768100296327<extra></extra>",
          "conv_ch_0 (CategoricalDistribution): 0.2969683648363538<extra></extra>"
         ],
         "name": "Objective Value",
         "orientation": "h",
         "text": [
          "<0.01",
          "<0.01",
          "<0.01",
          "<0.01",
          "<0.01",
          "0.01",
          "0.03",
          "0.03",
          "0.12",
          "0.20",
          "0.28",
          "0.30"
         ],
         "textposition": "outside",
         "type": "bar",
         "x": [
          0.002525933117541352,
          0.003978596505087583,
          0.004723148461631476,
          0.0072057229775794466,
          0.009613640028582029,
          0.012638901982292637,
          0.027332559730857724,
          0.030404043618307862,
          0.12039542988628663,
          0.2001359778525163,
          0.28407768100296327,
          0.2969683648363538
         ],
         "y": [
          "fc_nodes_1",
          "drop2",
          "conv_layers",
          "batch_size",
          "conv_ch_1",
          "fc_count",
          "embed_dim",
          "drop1",
          "fc_nodes_0",
          "optimizer",
          "lr",
          "conv_ch_0"
         ]
        }
       ],
       "layout": {
        "template": {
         "data": {
          "bar": [
           {
            "error_x": {
             "color": "#2a3f5f"
            },
            "error_y": {
             "color": "#2a3f5f"
            },
            "marker": {
             "line": {
              "color": "#E5ECF6",
              "width": 0.5
             },
             "pattern": {
              "fillmode": "overlay",
              "size": 10,
              "solidity": 0.2
             }
            },
            "type": "bar"
           }
          ],
          "barpolar": [
           {
            "marker": {
             "line": {
              "color": "#E5ECF6",
              "width": 0.5
             },
             "pattern": {
              "fillmode": "overlay",
              "size": 10,
              "solidity": 0.2
             }
            },
            "type": "barpolar"
           }
          ],
          "carpet": [
           {
            "aaxis": {
             "endlinecolor": "#2a3f5f",
             "gridcolor": "white",
             "linecolor": "white",
             "minorgridcolor": "white",
             "startlinecolor": "#2a3f5f"
            },
            "baxis": {
             "endlinecolor": "#2a3f5f",
             "gridcolor": "white",
             "linecolor": "white",
             "minorgridcolor": "white",
             "startlinecolor": "#2a3f5f"
            },
            "type": "carpet"
           }
          ],
          "choropleth": [
           {
            "colorbar": {
             "outlinewidth": 0,
             "ticks": ""
            },
            "type": "choropleth"
           }
          ],
          "contour": [
           {
            "colorbar": {
             "outlinewidth": 0,
             "ticks": ""
            },
            "colorscale": [
             [
              0,
              "#0d0887"
             ],
             [
              0.1111111111111111,
              "#46039f"
             ],
             [
              0.2222222222222222,
              "#7201a8"
             ],
             [
              0.3333333333333333,
              "#9c179e"
             ],
             [
              0.4444444444444444,
              "#bd3786"
             ],
             [
              0.5555555555555556,
              "#d8576b"
             ],
             [
              0.6666666666666666,
              "#ed7953"
             ],
             [
              0.7777777777777778,
              "#fb9f3a"
             ],
             [
              0.8888888888888888,
              "#fdca26"
             ],
             [
              1,
              "#f0f921"
             ]
            ],
            "type": "contour"
           }
          ],
          "contourcarpet": [
           {
            "colorbar": {
             "outlinewidth": 0,
             "ticks": ""
            },
            "type": "contourcarpet"
           }
          ],
          "heatmap": [
           {
            "colorbar": {
             "outlinewidth": 0,
             "ticks": ""
            },
            "colorscale": [
             [
              0,
              "#0d0887"
             ],
             [
              0.1111111111111111,
              "#46039f"
             ],
             [
              0.2222222222222222,
              "#7201a8"
             ],
             [
              0.3333333333333333,
              "#9c179e"
             ],
             [
              0.4444444444444444,
              "#bd3786"
             ],
             [
              0.5555555555555556,
              "#d8576b"
             ],
             [
              0.6666666666666666,
              "#ed7953"
             ],
             [
              0.7777777777777778,
              "#fb9f3a"
             ],
             [
              0.8888888888888888,
              "#fdca26"
             ],
             [
              1,
              "#f0f921"
             ]
            ],
            "type": "heatmap"
           }
          ],
          "histogram": [
           {
            "marker": {
             "pattern": {
              "fillmode": "overlay",
              "size": 10,
              "solidity": 0.2
             }
            },
            "type": "histogram"
           }
          ],
          "histogram2d": [
           {
            "colorbar": {
             "outlinewidth": 0,
             "ticks": ""
            },
            "colorscale": [
             [
              0,
              "#0d0887"
             ],
             [
              0.1111111111111111,
              "#46039f"
             ],
             [
              0.2222222222222222,
              "#7201a8"
             ],
             [
              0.3333333333333333,
              "#9c179e"
             ],
             [
              0.4444444444444444,
              "#bd3786"
             ],
             [
              0.5555555555555556,
              "#d8576b"
             ],
             [
              0.6666666666666666,
              "#ed7953"
             ],
             [
              0.7777777777777778,
              "#fb9f3a"
             ],
             [
              0.8888888888888888,
              "#fdca26"
             ],
             [
              1,
              "#f0f921"
             ]
            ],
            "type": "histogram2d"
           }
          ],
          "histogram2dcontour": [
           {
            "colorbar": {
             "outlinewidth": 0,
             "ticks": ""
            },
            "colorscale": [
             [
              0,
              "#0d0887"
             ],
             [
              0.1111111111111111,
              "#46039f"
             ],
             [
              0.2222222222222222,
              "#7201a8"
             ],
             [
              0.3333333333333333,
              "#9c179e"
             ],
             [
              0.4444444444444444,
              "#bd3786"
             ],
             [
              0.5555555555555556,
              "#d8576b"
             ],
             [
              0.6666666666666666,
              "#ed7953"
             ],
             [
              0.7777777777777778,
              "#fb9f3a"
             ],
             [
              0.8888888888888888,
              "#fdca26"
             ],
             [
              1,
              "#f0f921"
             ]
            ],
            "type": "histogram2dcontour"
           }
          ],
          "mesh3d": [
           {
            "colorbar": {
             "outlinewidth": 0,
             "ticks": ""
            },
            "type": "mesh3d"
           }
          ],
          "parcoords": [
           {
            "line": {
             "colorbar": {
              "outlinewidth": 0,
              "ticks": ""
             }
            },
            "type": "parcoords"
           }
          ],
          "pie": [
           {
            "automargin": true,
            "type": "pie"
           }
          ],
          "scatter": [
           {
            "fillpattern": {
             "fillmode": "overlay",
             "size": 10,
             "solidity": 0.2
            },
            "type": "scatter"
           }
          ],
          "scatter3d": [
           {
            "line": {
             "colorbar": {
              "outlinewidth": 0,
              "ticks": ""
             }
            },
            "marker": {
             "colorbar": {
              "outlinewidth": 0,
              "ticks": ""
             }
            },
            "type": "scatter3d"
           }
          ],
          "scattercarpet": [
           {
            "marker": {
             "colorbar": {
              "outlinewidth": 0,
              "ticks": ""
             }
            },
            "type": "scattercarpet"
           }
          ],
          "scattergeo": [
           {
            "marker": {
             "colorbar": {
              "outlinewidth": 0,
              "ticks": ""
             }
            },
            "type": "scattergeo"
           }
          ],
          "scattergl": [
           {
            "marker": {
             "colorbar": {
              "outlinewidth": 0,
              "ticks": ""
             }
            },
            "type": "scattergl"
           }
          ],
          "scattermap": [
           {
            "marker": {
             "colorbar": {
              "outlinewidth": 0,
              "ticks": ""
             }
            },
            "type": "scattermap"
           }
          ],
          "scattermapbox": [
           {
            "marker": {
             "colorbar": {
              "outlinewidth": 0,
              "ticks": ""
             }
            },
            "type": "scattermapbox"
           }
          ],
          "scatterpolar": [
           {
            "marker": {
             "colorbar": {
              "outlinewidth": 0,
              "ticks": ""
             }
            },
            "type": "scatterpolar"
           }
          ],
          "scatterpolargl": [
           {
            "marker": {
             "colorbar": {
              "outlinewidth": 0,
              "ticks": ""
             }
            },
            "type": "scatterpolargl"
           }
          ],
          "scatterternary": [
           {
            "marker": {
             "colorbar": {
              "outlinewidth": 0,
              "ticks": ""
             }
            },
            "type": "scatterternary"
           }
          ],
          "surface": [
           {
            "colorbar": {
             "outlinewidth": 0,
             "ticks": ""
            },
            "colorscale": [
             [
              0,
              "#0d0887"
             ],
             [
              0.1111111111111111,
              "#46039f"
             ],
             [
              0.2222222222222222,
              "#7201a8"
             ],
             [
              0.3333333333333333,
              "#9c179e"
             ],
             [
              0.4444444444444444,
              "#bd3786"
             ],
             [
              0.5555555555555556,
              "#d8576b"
             ],
             [
              0.6666666666666666,
              "#ed7953"
             ],
             [
              0.7777777777777778,
              "#fb9f3a"
             ],
             [
              0.8888888888888888,
              "#fdca26"
             ],
             [
              1,
              "#f0f921"
             ]
            ],
            "type": "surface"
           }
          ],
          "table": [
           {
            "cells": {
             "fill": {
              "color": "#EBF0F8"
             },
             "line": {
              "color": "white"
             }
            },
            "header": {
             "fill": {
              "color": "#C8D4E3"
             },
             "line": {
              "color": "white"
             }
            },
            "type": "table"
           }
          ]
         },
         "layout": {
          "annotationdefaults": {
           "arrowcolor": "#2a3f5f",
           "arrowhead": 0,
           "arrowwidth": 1
          },
          "autotypenumbers": "strict",
          "coloraxis": {
           "colorbar": {
            "outlinewidth": 0,
            "ticks": ""
           }
          },
          "colorscale": {
           "diverging": [
            [
             0,
             "#8e0152"
            ],
            [
             0.1,
             "#c51b7d"
            ],
            [
             0.2,
             "#de77ae"
            ],
            [
             0.3,
             "#f1b6da"
            ],
            [
             0.4,
             "#fde0ef"
            ],
            [
             0.5,
             "#f7f7f7"
            ],
            [
             0.6,
             "#e6f5d0"
            ],
            [
             0.7,
             "#b8e186"
            ],
            [
             0.8,
             "#7fbc41"
            ],
            [
             0.9,
             "#4d9221"
            ],
            [
             1,
             "#276419"
            ]
           ],
           "sequential": [
            [
             0,
             "#0d0887"
            ],
            [
             0.1111111111111111,
             "#46039f"
            ],
            [
             0.2222222222222222,
             "#7201a8"
            ],
            [
             0.3333333333333333,
             "#9c179e"
            ],
            [
             0.4444444444444444,
             "#bd3786"
            ],
            [
             0.5555555555555556,
             "#d8576b"
            ],
            [
             0.6666666666666666,
             "#ed7953"
            ],
            [
             0.7777777777777778,
             "#fb9f3a"
            ],
            [
             0.8888888888888888,
             "#fdca26"
            ],
            [
             1,
             "#f0f921"
            ]
           ],
           "sequentialminus": [
            [
             0,
             "#0d0887"
            ],
            [
             0.1111111111111111,
             "#46039f"
            ],
            [
             0.2222222222222222,
             "#7201a8"
            ],
            [
             0.3333333333333333,
             "#9c179e"
            ],
            [
             0.4444444444444444,
             "#bd3786"
            ],
            [
             0.5555555555555556,
             "#d8576b"
            ],
            [
             0.6666666666666666,
             "#ed7953"
            ],
            [
             0.7777777777777778,
             "#fb9f3a"
            ],
            [
             0.8888888888888888,
             "#fdca26"
            ],
            [
             1,
             "#f0f921"
            ]
           ]
          },
          "colorway": [
           "#636efa",
           "#EF553B",
           "#00cc96",
           "#ab63fa",
           "#FFA15A",
           "#19d3f3",
           "#FF6692",
           "#B6E880",
           "#FF97FF",
           "#FECB52"
          ],
          "font": {
           "color": "#2a3f5f"
          },
          "geo": {
           "bgcolor": "white",
           "lakecolor": "white",
           "landcolor": "#E5ECF6",
           "showlakes": true,
           "showland": true,
           "subunitcolor": "white"
          },
          "hoverlabel": {
           "align": "left"
          },
          "hovermode": "closest",
          "mapbox": {
           "style": "light"
          },
          "paper_bgcolor": "white",
          "plot_bgcolor": "#E5ECF6",
          "polar": {
           "angularaxis": {
            "gridcolor": "white",
            "linecolor": "white",
            "ticks": ""
           },
           "bgcolor": "#E5ECF6",
           "radialaxis": {
            "gridcolor": "white",
            "linecolor": "white",
            "ticks": ""
           }
          },
          "scene": {
           "xaxis": {
            "backgroundcolor": "#E5ECF6",
            "gridcolor": "white",
            "gridwidth": 2,
            "linecolor": "white",
            "showbackground": true,
            "ticks": "",
            "zerolinecolor": "white"
           },
           "yaxis": {
            "backgroundcolor": "#E5ECF6",
            "gridcolor": "white",
            "gridwidth": 2,
            "linecolor": "white",
            "showbackground": true,
            "ticks": "",
            "zerolinecolor": "white"
           },
           "zaxis": {
            "backgroundcolor": "#E5ECF6",
            "gridcolor": "white",
            "gridwidth": 2,
            "linecolor": "white",
            "showbackground": true,
            "ticks": "",
            "zerolinecolor": "white"
           }
          },
          "shapedefaults": {
           "line": {
            "color": "#2a3f5f"
           }
          },
          "ternary": {
           "aaxis": {
            "gridcolor": "white",
            "linecolor": "white",
            "ticks": ""
           },
           "baxis": {
            "gridcolor": "white",
            "linecolor": "white",
            "ticks": ""
           },
           "bgcolor": "#E5ECF6",
           "caxis": {
            "gridcolor": "white",
            "linecolor": "white",
            "ticks": ""
           }
          },
          "title": {
           "x": 0.05
          },
          "xaxis": {
           "automargin": true,
           "gridcolor": "white",
           "linecolor": "white",
           "ticks": "",
           "title": {
            "standoff": 15
           },
           "zerolinecolor": "white",
           "zerolinewidth": 2
          },
          "yaxis": {
           "automargin": true,
           "gridcolor": "white",
           "linecolor": "white",
           "ticks": "",
           "title": {
            "standoff": 15
           },
           "zerolinecolor": "white",
           "zerolinewidth": 2
          }
         }
        },
        "title": {
         "text": "Hyperparameter Importances"
        },
        "xaxis": {
         "title": {
          "text": "Hyperparameter Importance"
         }
        },
        "yaxis": {
         "title": {
          "text": "Hyperparameter"
         }
        }
       }
      }
     },
     "metadata": {},
     "output_type": "display_data"
    }
   ],
   "source": [
    "\n",
    "# Plot 3: Which parameters were most important\n",
    "plot_param_importances(study).show()"
   ]
  },
  {
   "cell_type": "code",
   "execution_count": 133,
   "id": "107228b6",
   "metadata": {},
   "outputs": [
    {
     "data": {
      "application/vnd.plotly.v1+json": {
       "config": {
        "plotlyServerURL": "https://plot.ly"
       },
       "data": [
        {
         "marker": {
          "color": [
           0,
           1,
           2,
           3,
           4,
           5,
           6,
           7,
           8,
           9,
           10,
           11,
           12,
           13,
           14,
           15,
           16,
           17,
           18,
           19,
           20,
           21,
           22,
           23,
           24,
           25,
           26,
           27,
           28,
           29,
           30,
           31,
           32,
           33,
           34,
           35,
           36,
           37,
           38,
           39,
           40,
           41,
           42,
           43,
           44,
           45,
           46,
           47,
           48,
           49
          ],
          "colorbar": {
           "title": {
            "text": "Trial"
           },
           "x": 1,
           "xpad": 40
          },
          "colorscale": [
           [
            0,
            "rgb(247,251,255)"
           ],
           [
            0.125,
            "rgb(222,235,247)"
           ],
           [
            0.25,
            "rgb(198,219,239)"
           ],
           [
            0.375,
            "rgb(158,202,225)"
           ],
           [
            0.5,
            "rgb(107,174,214)"
           ],
           [
            0.625,
            "rgb(66,146,198)"
           ],
           [
            0.75,
            "rgb(33,113,181)"
           ],
           [
            0.875,
            "rgb(8,81,156)"
           ],
           [
            1,
            "rgb(8,48,107)"
           ]
          ],
          "line": {
           "color": "Grey",
           "width": 0.5
          },
          "showscale": true
         },
         "mode": "markers",
         "name": "Feasible Trial",
         "showlegend": false,
         "type": "scatter",
         "x": [
          32,
          32,
          32,
          64,
          32,
          32,
          32,
          128,
          32,
          32,
          64,
          64,
          64,
          128,
          64,
          64,
          128,
          64,
          64,
          128,
          32,
          128,
          128,
          128,
          128,
          128,
          128,
          128,
          128,
          128,
          32,
          128,
          128,
          128,
          128,
          32,
          128,
          32,
          32,
          128,
          32,
          128,
          128,
          128,
          128,
          128,
          128,
          32,
          128,
          128
         ],
         "xaxis": "x",
         "y": [
          0.6964673683022488,
          0.568014446544962,
          0.5011709601873536,
          0.7963234671707909,
          0.5215005219943004,
          0.5011709601873536,
          0.5011709601873536,
          0.5024829999153523,
          0.789071978781637,
          0.802375779464462,
          0.5021161931096753,
          0.774498462233007,
          0.7327530261561468,
          0.7671482181654017,
          0.5011709601873536,
          0.756101690132897,
          0.7947433763155667,
          0.7053694873169493,
          0.5011709601873536,
          0.6680821647244717,
          0.74724189498039,
          0.8091052735532294,
          0.7961823876301459,
          0.792838802516859,
          0.8000761829519483,
          0.5011709601873536,
          0.7901723991986682,
          0.5014813351767726,
          0.8031093930758162,
          0.7922039445839565,
          0.5015518749470952,
          0.8033351203408482,
          0.7946869444993087,
          0.8005276374820124,
          0.5156598290115968,
          0.7785333370954545,
          0.5060664202477356,
          0.5184390959623035,
          0.7981575011991761,
          0.5011709601873536,
          0.7951666149375017,
          0.8040405180440733,
          0.7381986964250444,
          0.7768544905617787,
          0.5011709601873536,
          0.5011709601873536,
          0.5524110493496233,
          0.49882903981264637,
          0.7606726672497954,
          0.7460286109308428
         ],
         "yaxis": "y"
        },
        {
         "marker": {
          "color": [
           0,
           1,
           2,
           3,
           4,
           5,
           6,
           7,
           8,
           9,
           10,
           11,
           12,
           13,
           14,
           15,
           16,
           17,
           18,
           19,
           20,
           21,
           22,
           23,
           24,
           25,
           26,
           27,
           28,
           29,
           30,
           31,
           32,
           33,
           34,
           35,
           36,
           37,
           38,
           39,
           40,
           41,
           42,
           43,
           44,
           45,
           46,
           47,
           48,
           49
          ],
          "colorbar": {
           "title": {
            "text": "Trial"
           },
           "x": 1,
           "xpad": 40
          },
          "colorscale": [
           [
            0,
            "rgb(247,251,255)"
           ],
           [
            0.125,
            "rgb(222,235,247)"
           ],
           [
            0.25,
            "rgb(198,219,239)"
           ],
           [
            0.375,
            "rgb(158,202,225)"
           ],
           [
            0.5,
            "rgb(107,174,214)"
           ],
           [
            0.625,
            "rgb(66,146,198)"
           ],
           [
            0.75,
            "rgb(33,113,181)"
           ],
           [
            0.875,
            "rgb(8,81,156)"
           ],
           [
            1,
            "rgb(8,48,107)"
           ]
          ],
          "line": {
           "color": "Grey",
           "width": 0.5
          },
          "showscale": false
         },
         "mode": "markers",
         "name": "Feasible Trial",
         "showlegend": false,
         "type": "scatter",
         "x": [
          128,
          128,
          128,
          128,
          32,
          32,
          32,
          32,
          128,
          64,
          64,
          64,
          16,
          64,
          16,
          64,
          128,
          64,
          16,
          128,
          64,
          128,
          128,
          128,
          128,
          128,
          64,
          16,
          128,
          128,
          64,
          128,
          128,
          128,
          128,
          128,
          128,
          32,
          128,
          32,
          128,
          128,
          128,
          128,
          128,
          128,
          64,
          32,
          16,
          128
         ],
         "xaxis": "x2",
         "y": [
          0.6964673683022488,
          0.568014446544962,
          0.5011709601873536,
          0.7963234671707909,
          0.5215005219943004,
          0.5011709601873536,
          0.5011709601873536,
          0.5024829999153523,
          0.789071978781637,
          0.802375779464462,
          0.5021161931096753,
          0.774498462233007,
          0.7327530261561468,
          0.7671482181654017,
          0.5011709601873536,
          0.756101690132897,
          0.7947433763155667,
          0.7053694873169493,
          0.5011709601873536,
          0.6680821647244717,
          0.74724189498039,
          0.8091052735532294,
          0.7961823876301459,
          0.792838802516859,
          0.8000761829519483,
          0.5011709601873536,
          0.7901723991986682,
          0.5014813351767726,
          0.8031093930758162,
          0.7922039445839565,
          0.5015518749470952,
          0.8033351203408482,
          0.7946869444993087,
          0.8005276374820124,
          0.5156598290115968,
          0.7785333370954545,
          0.5060664202477356,
          0.5184390959623035,
          0.7981575011991761,
          0.5011709601873536,
          0.7951666149375017,
          0.8040405180440733,
          0.7381986964250444,
          0.7768544905617787,
          0.5011709601873536,
          0.5011709601873536,
          0.5524110493496233,
          0.49882903981264637,
          0.7606726672497954,
          0.7460286109308428
         ],
         "yaxis": "y2"
        },
        {
         "marker": {
          "color": [
           0,
           1,
           2,
           3,
           4,
           5,
           6,
           7,
           8,
           9,
           10,
           11,
           12,
           13,
           14,
           15,
           16,
           17,
           18,
           19,
           20,
           21,
           22,
           23,
           24,
           25,
           26,
           27,
           28,
           29,
           30,
           31,
           32,
           33,
           34,
           35,
           36,
           37,
           38,
           39,
           40,
           41,
           42,
           43,
           44,
           45,
           46,
           47,
           48,
           49
          ],
          "colorbar": {
           "title": {
            "text": "Trial"
           },
           "x": 1,
           "xpad": 40
          },
          "colorscale": [
           [
            0,
            "rgb(247,251,255)"
           ],
           [
            0.125,
            "rgb(222,235,247)"
           ],
           [
            0.25,
            "rgb(198,219,239)"
           ],
           [
            0.375,
            "rgb(158,202,225)"
           ],
           [
            0.5,
            "rgb(107,174,214)"
           ],
           [
            0.625,
            "rgb(66,146,198)"
           ],
           [
            0.75,
            "rgb(33,113,181)"
           ],
           [
            0.875,
            "rgb(8,81,156)"
           ],
           [
            1,
            "rgb(8,48,107)"
           ]
          ],
          "line": {
           "color": "Grey",
           "width": 0.5
          },
          "showscale": false
         },
         "mode": "markers",
         "name": "Feasible Trial",
         "showlegend": false,
         "type": "scatter",
         "x": [
          128,
          32,
          16,
          128,
          64,
          64,
          16,
          128,
          16,
          32,
          32,
          128,
          32,
          32,
          128,
          32,
          128,
          64,
          128,
          32,
          32,
          128,
          128,
          128,
          128,
          128,
          16,
          64,
          128,
          128,
          32,
          128,
          128,
          128,
          128,
          128,
          16,
          64,
          128,
          32,
          16,
          128,
          128,
          128,
          128,
          128,
          32,
          128,
          64,
          128
         ],
         "xaxis": "x3",
         "y": [
          0.6964673683022488,
          0.568014446544962,
          0.5011709601873536,
          0.7963234671707909,
          0.5215005219943004,
          0.5011709601873536,
          0.5011709601873536,
          0.5024829999153523,
          0.789071978781637,
          0.802375779464462,
          0.5021161931096753,
          0.774498462233007,
          0.7327530261561468,
          0.7671482181654017,
          0.5011709601873536,
          0.756101690132897,
          0.7947433763155667,
          0.7053694873169493,
          0.5011709601873536,
          0.6680821647244717,
          0.74724189498039,
          0.8091052735532294,
          0.7961823876301459,
          0.792838802516859,
          0.8000761829519483,
          0.5011709601873536,
          0.7901723991986682,
          0.5014813351767726,
          0.8031093930758162,
          0.7922039445839565,
          0.5015518749470952,
          0.8033351203408482,
          0.7946869444993087,
          0.8005276374820124,
          0.5156598290115968,
          0.7785333370954545,
          0.5060664202477356,
          0.5184390959623035,
          0.7981575011991761,
          0.5011709601873536,
          0.7951666149375017,
          0.8040405180440733,
          0.7381986964250444,
          0.7768544905617787,
          0.5011709601873536,
          0.5011709601873536,
          0.5524110493496233,
          0.49882903981264637,
          0.7606726672497954,
          0.7460286109308428
         ],
         "yaxis": "y3"
        },
        {
         "marker": {
          "color": [
           0,
           1,
           2,
           3,
           4,
           5,
           7,
           9,
           10,
           11,
           12,
           13,
           14,
           15,
           16,
           17,
           18,
           19,
           20,
           21,
           22,
           23,
           24,
           25,
           26,
           27,
           28,
           29,
           30,
           31,
           32,
           33,
           34,
           35,
           36,
           37,
           38,
           39,
           40,
           41,
           42,
           43,
           44,
           45,
           46,
           47,
           48,
           49
          ],
          "colorbar": {
           "title": {
            "text": "Trial"
           },
           "x": 1,
           "xpad": 40
          },
          "colorscale": [
           [
            0,
            "rgb(247,251,255)"
           ],
           [
            0.125,
            "rgb(222,235,247)"
           ],
           [
            0.25,
            "rgb(198,219,239)"
           ],
           [
            0.375,
            "rgb(158,202,225)"
           ],
           [
            0.5,
            "rgb(107,174,214)"
           ],
           [
            0.625,
            "rgb(66,146,198)"
           ],
           [
            0.75,
            "rgb(33,113,181)"
           ],
           [
            0.875,
            "rgb(8,81,156)"
           ],
           [
            1,
            "rgb(8,48,107)"
           ]
          ],
          "line": {
           "color": "Grey",
           "width": 0.5
          },
          "showscale": false
         },
         "mode": "markers",
         "name": "Feasible Trial",
         "showlegend": false,
         "type": "scatter",
         "x": [
          64,
          64,
          128,
          16,
          64,
          32,
          64,
          16,
          16,
          16,
          16,
          16,
          16,
          32,
          128,
          16,
          16,
          16,
          32,
          128,
          128,
          128,
          128,
          128,
          128,
          128,
          128,
          128,
          128,
          128,
          128,
          128,
          64,
          128,
          128,
          32,
          64,
          128,
          128,
          128,
          128,
          128,
          64,
          128,
          16,
          32,
          128,
          16
         ],
         "xaxis": "x4",
         "y": [
          0.6964673683022488,
          0.568014446544962,
          0.5011709601873536,
          0.7963234671707909,
          0.5215005219943004,
          0.5011709601873536,
          0.5024829999153523,
          0.802375779464462,
          0.5021161931096753,
          0.774498462233007,
          0.7327530261561468,
          0.7671482181654017,
          0.5011709601873536,
          0.756101690132897,
          0.7947433763155667,
          0.7053694873169493,
          0.5011709601873536,
          0.6680821647244717,
          0.74724189498039,
          0.8091052735532294,
          0.7961823876301459,
          0.792838802516859,
          0.8000761829519483,
          0.5011709601873536,
          0.7901723991986682,
          0.5014813351767726,
          0.8031093930758162,
          0.7922039445839565,
          0.5015518749470952,
          0.8033351203408482,
          0.7946869444993087,
          0.8005276374820124,
          0.5156598290115968,
          0.7785333370954545,
          0.5060664202477356,
          0.5184390959623035,
          0.7981575011991761,
          0.5011709601873536,
          0.7951666149375017,
          0.8040405180440733,
          0.7381986964250444,
          0.7768544905617787,
          0.5011709601873536,
          0.5011709601873536,
          0.5524110493496233,
          0.49882903981264637,
          0.7606726672497954,
          0.7460286109308428
         ],
         "yaxis": "y4"
        },
        {
         "marker": {
          "color": [
           0,
           1,
           2,
           3,
           4,
           5,
           7,
           9,
           10,
           11,
           13,
           14,
           16,
           17,
           19,
           20,
           21,
           22,
           23,
           24,
           25,
           26,
           27,
           28,
           29,
           30,
           31,
           32,
           33,
           34,
           35,
           36,
           37,
           38,
           39,
           40,
           41,
           42,
           43,
           44,
           45,
           46,
           47,
           48,
           49
          ],
          "colorbar": {
           "title": {
            "text": "Trial"
           },
           "x": 1,
           "xpad": 40
          },
          "colorscale": [
           [
            0,
            "rgb(247,251,255)"
           ],
           [
            0.125,
            "rgb(222,235,247)"
           ],
           [
            0.25,
            "rgb(198,219,239)"
           ],
           [
            0.375,
            "rgb(158,202,225)"
           ],
           [
            0.5,
            "rgb(107,174,214)"
           ],
           [
            0.625,
            "rgb(66,146,198)"
           ],
           [
            0.75,
            "rgb(33,113,181)"
           ],
           [
            0.875,
            "rgb(8,81,156)"
           ],
           [
            1,
            "rgb(8,48,107)"
           ]
          ],
          "line": {
           "color": "Grey",
           "width": 0.5
          },
          "showscale": false
         },
         "mode": "markers",
         "name": "Feasible Trial",
         "showlegend": false,
         "type": "scatter",
         "x": [
          64,
          128,
          16,
          64,
          16,
          16,
          32,
          64,
          64,
          64,
          64,
          64,
          128,
          32,
          64,
          64,
          128,
          128,
          128,
          128,
          128,
          128,
          128,
          128,
          32,
          128,
          128,
          128,
          128,
          128,
          128,
          128,
          32,
          16,
          128,
          64,
          128,
          128,
          16,
          128,
          128,
          16,
          64,
          128,
          64
         ],
         "xaxis": "x5",
         "y": [
          0.6964673683022488,
          0.568014446544962,
          0.5011709601873536,
          0.7963234671707909,
          0.5215005219943004,
          0.5011709601873536,
          0.5024829999153523,
          0.802375779464462,
          0.5021161931096753,
          0.774498462233007,
          0.7671482181654017,
          0.5011709601873536,
          0.7947433763155667,
          0.7053694873169493,
          0.6680821647244717,
          0.74724189498039,
          0.8091052735532294,
          0.7961823876301459,
          0.792838802516859,
          0.8000761829519483,
          0.5011709601873536,
          0.7901723991986682,
          0.5014813351767726,
          0.8031093930758162,
          0.7922039445839565,
          0.5015518749470952,
          0.8033351203408482,
          0.7946869444993087,
          0.8005276374820124,
          0.5156598290115968,
          0.7785333370954545,
          0.5060664202477356,
          0.5184390959623035,
          0.7981575011991761,
          0.5011709601873536,
          0.7951666149375017,
          0.8040405180440733,
          0.7381986964250444,
          0.7768544905617787,
          0.5011709601873536,
          0.5011709601873536,
          0.5524110493496233,
          0.49882903981264637,
          0.7606726672497954,
          0.7460286109308428
         ],
         "yaxis": "y5"
        },
        {
         "marker": {
          "color": [
           0,
           1,
           3,
           7,
           9,
           10,
           11,
           13,
           14,
           16,
           19,
           20,
           21,
           22,
           24,
           25,
           26,
           27,
           28,
           29,
           31,
           32,
           33,
           34,
           36,
           39,
           40,
           41,
           42,
           43,
           44,
           46,
           47,
           48,
           49
          ],
          "colorbar": {
           "title": {
            "text": "Trial"
           },
           "x": 1,
           "xpad": 40
          },
          "colorscale": [
           [
            0,
            "rgb(247,251,255)"
           ],
           [
            0.125,
            "rgb(222,235,247)"
           ],
           [
            0.25,
            "rgb(198,219,239)"
           ],
           [
            0.375,
            "rgb(158,202,225)"
           ],
           [
            0.5,
            "rgb(107,174,214)"
           ],
           [
            0.625,
            "rgb(66,146,198)"
           ],
           [
            0.75,
            "rgb(33,113,181)"
           ],
           [
            0.875,
            "rgb(8,81,156)"
           ],
           [
            1,
            "rgb(8,48,107)"
           ]
          ],
          "line": {
           "color": "Grey",
           "width": 0.5
          },
          "showscale": false
         },
         "mode": "markers",
         "name": "Feasible Trial",
         "showlegend": false,
         "type": "scatter",
         "x": [
          128,
          64,
          16,
          64,
          64,
          32,
          16,
          16,
          64,
          16,
          32,
          128,
          16,
          16,
          16,
          64,
          16,
          16,
          64,
          64,
          64,
          64,
          64,
          64,
          64,
          64,
          128,
          64,
          64,
          64,
          64,
          32,
          128,
          64,
          64
         ],
         "xaxis": "x6",
         "y": [
          0.6964673683022488,
          0.568014446544962,
          0.7963234671707909,
          0.5024829999153523,
          0.802375779464462,
          0.5021161931096753,
          0.774498462233007,
          0.7671482181654017,
          0.5011709601873536,
          0.7947433763155667,
          0.6680821647244717,
          0.74724189498039,
          0.8091052735532294,
          0.7961823876301459,
          0.8000761829519483,
          0.5011709601873536,
          0.7901723991986682,
          0.5014813351767726,
          0.8031093930758162,
          0.7922039445839565,
          0.8033351203408482,
          0.7946869444993087,
          0.8005276374820124,
          0.5156598290115968,
          0.5060664202477356,
          0.5011709601873536,
          0.7951666149375017,
          0.8040405180440733,
          0.7381986964250444,
          0.7768544905617787,
          0.5011709601873536,
          0.5524110493496233,
          0.49882903981264637,
          0.7606726672497954,
          0.7460286109308428
         ],
         "yaxis": "y6"
        },
        {
         "marker": {
          "color": [
           1,
           10,
           14,
           19,
           24,
           25,
           26,
           27,
           40,
           48
          ],
          "colorbar": {
           "title": {
            "text": "Trial"
           },
           "x": 1,
           "xpad": 40
          },
          "colorscale": [
           [
            0,
            "rgb(247,251,255)"
           ],
           [
            0.125,
            "rgb(222,235,247)"
           ],
           [
            0.25,
            "rgb(198,219,239)"
           ],
           [
            0.375,
            "rgb(158,202,225)"
           ],
           [
            0.5,
            "rgb(107,174,214)"
           ],
           [
            0.625,
            "rgb(66,146,198)"
           ],
           [
            0.75,
            "rgb(33,113,181)"
           ],
           [
            0.875,
            "rgb(8,81,156)"
           ],
           [
            1,
            "rgb(8,48,107)"
           ]
          ],
          "line": {
           "color": "Grey",
           "width": 0.5
          },
          "showscale": false
         },
         "mode": "markers",
         "name": "Feasible Trial",
         "showlegend": false,
         "type": "scatter",
         "x": [
          128,
          64,
          16,
          32,
          32,
          32,
          32,
          16,
          64,
          128
         ],
         "xaxis": "x7",
         "y": [
          0.568014446544962,
          0.5021161931096753,
          0.5011709601873536,
          0.6680821647244717,
          0.8000761829519483,
          0.5011709601873536,
          0.7901723991986682,
          0.5014813351767726,
          0.7951666149375017,
          0.7606726672497954
         ],
         "yaxis": "y7"
        },
        {
         "marker": {
          "color": [
           0,
           1,
           2,
           3,
           4,
           5,
           6,
           7,
           8,
           9,
           10,
           11,
           12,
           13,
           14,
           15,
           16,
           17,
           18,
           19,
           20,
           21,
           22,
           23,
           24,
           25,
           26,
           27,
           28,
           29,
           30,
           31,
           32,
           33,
           34,
           35,
           36,
           37,
           38,
           39,
           40,
           41,
           42,
           43,
           44,
           45,
           46,
           47,
           48,
           49
          ],
          "colorbar": {
           "title": {
            "text": "Trial"
           },
           "x": 1,
           "xpad": 40
          },
          "colorscale": [
           [
            0,
            "rgb(247,251,255)"
           ],
           [
            0.125,
            "rgb(222,235,247)"
           ],
           [
            0.25,
            "rgb(198,219,239)"
           ],
           [
            0.375,
            "rgb(158,202,225)"
           ],
           [
            0.5,
            "rgb(107,174,214)"
           ],
           [
            0.625,
            "rgb(66,146,198)"
           ],
           [
            0.75,
            "rgb(33,113,181)"
           ],
           [
            0.875,
            "rgb(8,81,156)"
           ],
           [
            1,
            "rgb(8,48,107)"
           ]
          ],
          "line": {
           "color": "Grey",
           "width": 0.5
          },
          "showscale": false
         },
         "mode": "markers",
         "name": "Feasible Trial",
         "showlegend": false,
         "type": "scatter",
         "x": [
          5,
          6,
          4,
          5,
          4,
          4,
          2,
          5,
          2,
          5,
          6,
          5,
          3,
          5,
          6,
          3,
          5,
          4,
          3,
          6,
          5,
          5,
          5,
          4,
          6,
          6,
          6,
          6,
          5,
          5,
          4,
          5,
          5,
          5,
          5,
          4,
          5,
          4,
          4,
          5,
          6,
          5,
          5,
          5,
          5,
          4,
          5,
          5,
          6,
          5
         ],
         "xaxis": "x8",
         "y": [
          0.6964673683022488,
          0.568014446544962,
          0.5011709601873536,
          0.7963234671707909,
          0.5215005219943004,
          0.5011709601873536,
          0.5011709601873536,
          0.5024829999153523,
          0.789071978781637,
          0.802375779464462,
          0.5021161931096753,
          0.774498462233007,
          0.7327530261561468,
          0.7671482181654017,
          0.5011709601873536,
          0.756101690132897,
          0.7947433763155667,
          0.7053694873169493,
          0.5011709601873536,
          0.6680821647244717,
          0.74724189498039,
          0.8091052735532294,
          0.7961823876301459,
          0.792838802516859,
          0.8000761829519483,
          0.5011709601873536,
          0.7901723991986682,
          0.5014813351767726,
          0.8031093930758162,
          0.7922039445839565,
          0.5015518749470952,
          0.8033351203408482,
          0.7946869444993087,
          0.8005276374820124,
          0.5156598290115968,
          0.7785333370954545,
          0.5060664202477356,
          0.5184390959623035,
          0.7981575011991761,
          0.5011709601873536,
          0.7951666149375017,
          0.8040405180440733,
          0.7381986964250444,
          0.7768544905617787,
          0.5011709601873536,
          0.5011709601873536,
          0.5524110493496233,
          0.49882903981264637,
          0.7606726672497954,
          0.7460286109308428
         ],
         "yaxis": "y8"
        },
        {
         "marker": {
          "color": [
           0,
           1,
           2,
           3,
           4,
           5,
           6,
           7,
           8,
           9,
           10,
           11,
           12,
           13,
           14,
           15,
           16,
           17,
           18,
           19,
           20,
           21,
           22,
           23,
           24,
           25,
           26,
           27,
           28,
           29,
           30,
           31,
           32,
           33,
           34,
           35,
           36,
           37,
           38,
           39,
           40,
           41,
           42,
           43,
           44,
           45,
           46,
           47,
           48,
           49
          ],
          "colorbar": {
           "title": {
            "text": "Trial"
           },
           "x": 1,
           "xpad": 40
          },
          "colorscale": [
           [
            0,
            "rgb(247,251,255)"
           ],
           [
            0.125,
            "rgb(222,235,247)"
           ],
           [
            0.25,
            "rgb(198,219,239)"
           ],
           [
            0.375,
            "rgb(158,202,225)"
           ],
           [
            0.5,
            "rgb(107,174,214)"
           ],
           [
            0.625,
            "rgb(66,146,198)"
           ],
           [
            0.75,
            "rgb(33,113,181)"
           ],
           [
            0.875,
            "rgb(8,81,156)"
           ],
           [
            1,
            "rgb(8,48,107)"
           ]
          ],
          "line": {
           "color": "Grey",
           "width": 0.5
          },
          "showscale": false
         },
         "mode": "markers",
         "name": "Feasible Trial",
         "showlegend": false,
         "type": "scatter",
         "x": [
          0.4436234973247015,
          0.3317287001359468,
          0.31330164614688094,
          0.443283015074945,
          0.3953707542817622,
          0.23861417660427103,
          0.3733204234457811,
          0.3611271563814605,
          0.28943722311847075,
          0.4957223177431545,
          0.4958995811600921,
          0.4963730322100832,
          0.4295589517017499,
          0.4488677146856939,
          0.46822741631222686,
          0.40280608255050776,
          0.47080807221114823,
          0.4240054953308158,
          0.20731019821627014,
          0.47621737834986577,
          0.39660503306027195,
          0.4582219325663578,
          0.45756232128686214,
          0.49814638911233955,
          0.4167886648858113,
          0.41723493834516334,
          0.38224112432096574,
          0.4757568114214608,
          0.4160715336042746,
          0.4409821355098291,
          0.34622649336638733,
          0.4194296536735568,
          0.4540344459184147,
          0.4297068829204158,
          0.4797336562814925,
          0.32119222739383374,
          0.40375045487928657,
          0.29124424654719006,
          0.3783048577750752,
          0.44092271468979444,
          0.35577347564519674,
          0.42939268569184535,
          0.46174776989863353,
          0.4139254072214423,
          0.48570980193494284,
          0.43247431997302777,
          0.3868928009948905,
          0.3695163517413234,
          0.44532406370321,
          0.4881110236678762
         ],
         "xaxis": "x9",
         "y": [
          0.6964673683022488,
          0.568014446544962,
          0.5011709601873536,
          0.7963234671707909,
          0.5215005219943004,
          0.5011709601873536,
          0.5011709601873536,
          0.5024829999153523,
          0.789071978781637,
          0.802375779464462,
          0.5021161931096753,
          0.774498462233007,
          0.7327530261561468,
          0.7671482181654017,
          0.5011709601873536,
          0.756101690132897,
          0.7947433763155667,
          0.7053694873169493,
          0.5011709601873536,
          0.6680821647244717,
          0.74724189498039,
          0.8091052735532294,
          0.7961823876301459,
          0.792838802516859,
          0.8000761829519483,
          0.5011709601873536,
          0.7901723991986682,
          0.5014813351767726,
          0.8031093930758162,
          0.7922039445839565,
          0.5015518749470952,
          0.8033351203408482,
          0.7946869444993087,
          0.8005276374820124,
          0.5156598290115968,
          0.7785333370954545,
          0.5060664202477356,
          0.5184390959623035,
          0.7981575011991761,
          0.5011709601873536,
          0.7951666149375017,
          0.8040405180440733,
          0.7381986964250444,
          0.7768544905617787,
          0.5011709601873536,
          0.5011709601873536,
          0.5524110493496233,
          0.49882903981264637,
          0.7606726672497954,
          0.7460286109308428
         ],
         "yaxis": "y9"
        },
        {
         "marker": {
          "color": [
           0,
           1,
           2,
           3,
           4,
           5,
           6,
           7,
           8,
           9,
           10,
           11,
           12,
           13,
           14,
           15,
           16,
           17,
           18,
           19,
           20,
           21,
           22,
           23,
           24,
           25,
           26,
           27,
           28,
           29,
           30,
           31,
           32,
           33,
           34,
           35,
           36,
           37,
           38,
           39,
           40,
           41,
           42,
           43,
           44,
           45,
           46,
           47,
           48,
           49
          ],
          "colorbar": {
           "title": {
            "text": "Trial"
           },
           "x": 1,
           "xpad": 40
          },
          "colorscale": [
           [
            0,
            "rgb(247,251,255)"
           ],
           [
            0.125,
            "rgb(222,235,247)"
           ],
           [
            0.25,
            "rgb(198,219,239)"
           ],
           [
            0.375,
            "rgb(158,202,225)"
           ],
           [
            0.5,
            "rgb(107,174,214)"
           ],
           [
            0.625,
            "rgb(66,146,198)"
           ],
           [
            0.75,
            "rgb(33,113,181)"
           ],
           [
            0.875,
            "rgb(8,81,156)"
           ],
           [
            1,
            "rgb(8,48,107)"
           ]
          ],
          "line": {
           "color": "Grey",
           "width": 0.5
          },
          "showscale": false
         },
         "mode": "markers",
         "name": "Feasible Trial",
         "showlegend": false,
         "type": "scatter",
         "x": [
          0.25266766467686275,
          0.16972810204347916,
          0.2928815692770831,
          0.20724225552296993,
          0.3316664936969699,
          0.10183193389012207,
          0.15657603180084737,
          0.31331367118863895,
          0.2545784608099183,
          0.14400069387162426,
          0.1004487608905017,
          0.19097993944386094,
          0.19756525343444348,
          0.2183942495051669,
          0.3759017437448372,
          0.15210122551354727,
          0.1386624418855832,
          0.22415088858842325,
          0.12852799542673624,
          0.27773123154902485,
          0.18270136392295272,
          0.13788391792099114,
          0.12893208374773366,
          0.2120215047415209,
          0.16805662921926628,
          0.1185595436310527,
          0.1666501121028258,
          0.14092293667262856,
          0.17291751601893907,
          0.24395836137289373,
          0.2345806301700024,
          0.17830754633605134,
          0.18033114710242362,
          0.151214008773626,
          0.11610867560042697,
          0.17406736795816874,
          0.1924076793422155,
          0.15203069958273144,
          0.11683643028102086,
          0.26818107080420145,
          0.3980907939455003,
          0.15796305968103533,
          0.16353127942350545,
          0.13856774961994284,
          0.20012285661448959,
          0.11019065043907665,
          0.13122833856037536,
          0.1799366083424312,
          0.14901005851856572,
          0.2023702740519726
         ],
         "xaxis": "x10",
         "y": [
          0.6964673683022488,
          0.568014446544962,
          0.5011709601873536,
          0.7963234671707909,
          0.5215005219943004,
          0.5011709601873536,
          0.5011709601873536,
          0.5024829999153523,
          0.789071978781637,
          0.802375779464462,
          0.5021161931096753,
          0.774498462233007,
          0.7327530261561468,
          0.7671482181654017,
          0.5011709601873536,
          0.756101690132897,
          0.7947433763155667,
          0.7053694873169493,
          0.5011709601873536,
          0.6680821647244717,
          0.74724189498039,
          0.8091052735532294,
          0.7961823876301459,
          0.792838802516859,
          0.8000761829519483,
          0.5011709601873536,
          0.7901723991986682,
          0.5014813351767726,
          0.8031093930758162,
          0.7922039445839565,
          0.5015518749470952,
          0.8033351203408482,
          0.7946869444993087,
          0.8005276374820124,
          0.5156598290115968,
          0.7785333370954545,
          0.5060664202477356,
          0.5184390959623035,
          0.7981575011991761,
          0.5011709601873536,
          0.7951666149375017,
          0.8040405180440733,
          0.7381986964250444,
          0.7768544905617787,
          0.5011709601873536,
          0.5011709601873536,
          0.5524110493496233,
          0.49882903981264637,
          0.7606726672497954,
          0.7460286109308428
         ],
         "yaxis": "y10"
        },
        {
         "marker": {
          "color": [
           0,
           1,
           2,
           3,
           4,
           5,
           6,
           7,
           8,
           9,
           10,
           11,
           12,
           13,
           14,
           15,
           16,
           17,
           18,
           19,
           20,
           21,
           22,
           23,
           24,
           25,
           26,
           27,
           28,
           29,
           30,
           31,
           32,
           33,
           34,
           35,
           36,
           37,
           38,
           39,
           40,
           41,
           42,
           43,
           44,
           45,
           46,
           47,
           48,
           49
          ],
          "colorbar": {
           "title": {
            "text": "Trial"
           },
           "x": 1,
           "xpad": 40
          },
          "colorscale": [
           [
            0,
            "rgb(247,251,255)"
           ],
           [
            0.125,
            "rgb(222,235,247)"
           ],
           [
            0.25,
            "rgb(198,219,239)"
           ],
           [
            0.375,
            "rgb(158,202,225)"
           ],
           [
            0.5,
            "rgb(107,174,214)"
           ],
           [
            0.625,
            "rgb(66,146,198)"
           ],
           [
            0.75,
            "rgb(33,113,181)"
           ],
           [
            0.875,
            "rgb(8,81,156)"
           ],
           [
            1,
            "rgb(8,48,107)"
           ]
          ],
          "line": {
           "color": "Grey",
           "width": 0.5
          },
          "showscale": false
         },
         "mode": "markers",
         "name": "Feasible Trial",
         "showlegend": false,
         "type": "scatter",
         "x": [
          64,
          128,
          128,
          256,
          64,
          64,
          128,
          256,
          64,
          128,
          128,
          256,
          256,
          256,
          256,
          128,
          128,
          256,
          128,
          256,
          256,
          128,
          128,
          128,
          128,
          128,
          128,
          128,
          128,
          64,
          128,
          128,
          128,
          128,
          128,
          128,
          128,
          64,
          128,
          128,
          64,
          128,
          128,
          128,
          128,
          128,
          128,
          128,
          64,
          128
         ],
         "xaxis": "x11",
         "y": [
          0.6964673683022488,
          0.568014446544962,
          0.5011709601873536,
          0.7963234671707909,
          0.5215005219943004,
          0.5011709601873536,
          0.5011709601873536,
          0.5024829999153523,
          0.789071978781637,
          0.802375779464462,
          0.5021161931096753,
          0.774498462233007,
          0.7327530261561468,
          0.7671482181654017,
          0.5011709601873536,
          0.756101690132897,
          0.7947433763155667,
          0.7053694873169493,
          0.5011709601873536,
          0.6680821647244717,
          0.74724189498039,
          0.8091052735532294,
          0.7961823876301459,
          0.792838802516859,
          0.8000761829519483,
          0.5011709601873536,
          0.7901723991986682,
          0.5014813351767726,
          0.8031093930758162,
          0.7922039445839565,
          0.5015518749470952,
          0.8033351203408482,
          0.7946869444993087,
          0.8005276374820124,
          0.5156598290115968,
          0.7785333370954545,
          0.5060664202477356,
          0.5184390959623035,
          0.7981575011991761,
          0.5011709601873536,
          0.7951666149375017,
          0.8040405180440733,
          0.7381986964250444,
          0.7768544905617787,
          0.5011709601873536,
          0.5011709601873536,
          0.5524110493496233,
          0.49882903981264637,
          0.7606726672497954,
          0.7460286109308428
         ],
         "yaxis": "y11"
        },
        {
         "marker": {
          "color": [
           0,
           1,
           2,
           3,
           4,
           5,
           6,
           7,
           8,
           9,
           10,
           11,
           12,
           13,
           14,
           15,
           16,
           17,
           18,
           19,
           20,
           21,
           22,
           23,
           24,
           25,
           26,
           27,
           28,
           29,
           30,
           31,
           32,
           33,
           34,
           35,
           36,
           37,
           38,
           39,
           40,
           41,
           42,
           43,
           44,
           45,
           46,
           47,
           48,
           49
          ],
          "colorbar": {
           "title": {
            "text": "Trial"
           },
           "x": 1,
           "xpad": 40
          },
          "colorscale": [
           [
            0,
            "rgb(247,251,255)"
           ],
           [
            0.125,
            "rgb(222,235,247)"
           ],
           [
            0.25,
            "rgb(198,219,239)"
           ],
           [
            0.375,
            "rgb(158,202,225)"
           ],
           [
            0.5,
            "rgb(107,174,214)"
           ],
           [
            0.625,
            "rgb(66,146,198)"
           ],
           [
            0.75,
            "rgb(33,113,181)"
           ],
           [
            0.875,
            "rgb(8,81,156)"
           ],
           [
            1,
            "rgb(8,48,107)"
           ]
          ],
          "line": {
           "color": "Grey",
           "width": 0.5
          },
          "showscale": false
         },
         "mode": "markers",
         "name": "Feasible Trial",
         "showlegend": false,
         "type": "scatter",
         "x": [
          2,
          2,
          3,
          2,
          3,
          2,
          3,
          3,
          3,
          2,
          2,
          2,
          2,
          2,
          2,
          2,
          2,
          2,
          2,
          2,
          3,
          2,
          2,
          2,
          2,
          2,
          2,
          2,
          2,
          2,
          2,
          2,
          2,
          2,
          2,
          2,
          2,
          3,
          2,
          2,
          3,
          2,
          2,
          2,
          2,
          2,
          2,
          2,
          2,
          2
         ],
         "xaxis": "x12",
         "y": [
          0.6964673683022488,
          0.568014446544962,
          0.5011709601873536,
          0.7963234671707909,
          0.5215005219943004,
          0.5011709601873536,
          0.5011709601873536,
          0.5024829999153523,
          0.789071978781637,
          0.802375779464462,
          0.5021161931096753,
          0.774498462233007,
          0.7327530261561468,
          0.7671482181654017,
          0.5011709601873536,
          0.756101690132897,
          0.7947433763155667,
          0.7053694873169493,
          0.5011709601873536,
          0.6680821647244717,
          0.74724189498039,
          0.8091052735532294,
          0.7961823876301459,
          0.792838802516859,
          0.8000761829519483,
          0.5011709601873536,
          0.7901723991986682,
          0.5014813351767726,
          0.8031093930758162,
          0.7922039445839565,
          0.5015518749470952,
          0.8033351203408482,
          0.7946869444993087,
          0.8005276374820124,
          0.5156598290115968,
          0.7785333370954545,
          0.5060664202477356,
          0.5184390959623035,
          0.7981575011991761,
          0.5011709601873536,
          0.7951666149375017,
          0.8040405180440733,
          0.7381986964250444,
          0.7768544905617787,
          0.5011709601873536,
          0.5011709601873536,
          0.5524110493496233,
          0.49882903981264637,
          0.7606726672497954,
          0.7460286109308428
         ],
         "yaxis": "y12"
        },
        {
         "marker": {
          "color": [
           0,
           1,
           2,
           3,
           4,
           5,
           6,
           7,
           8,
           9,
           10,
           11,
           12,
           13,
           14,
           15,
           16,
           17,
           18,
           19,
           20,
           21,
           22,
           23,
           24,
           25,
           26,
           27,
           28,
           29,
           30,
           31,
           32,
           33,
           34,
           35,
           36,
           37,
           38,
           39,
           40,
           41,
           42,
           43,
           44,
           45,
           46,
           47,
           48,
           49
          ],
          "colorbar": {
           "title": {
            "text": "Trial"
           },
           "x": 1,
           "xpad": 40
          },
          "colorscale": [
           [
            0,
            "rgb(247,251,255)"
           ],
           [
            0.125,
            "rgb(222,235,247)"
           ],
           [
            0.25,
            "rgb(198,219,239)"
           ],
           [
            0.375,
            "rgb(158,202,225)"
           ],
           [
            0.5,
            "rgb(107,174,214)"
           ],
           [
            0.625,
            "rgb(66,146,198)"
           ],
           [
            0.75,
            "rgb(33,113,181)"
           ],
           [
            0.875,
            "rgb(8,81,156)"
           ],
           [
            1,
            "rgb(8,48,107)"
           ]
          ],
          "line": {
           "color": "Grey",
           "width": 0.5
          },
          "showscale": false
         },
         "mode": "markers",
         "name": "Feasible Trial",
         "showlegend": false,
         "type": "scatter",
         "x": [
          1024,
          512,
          256,
          256,
          512,
          512,
          128,
          128,
          1024,
          256,
          256,
          256,
          256,
          256,
          256,
          256,
          256,
          1024,
          128,
          256,
          256,
          256,
          256,
          256,
          256,
          256,
          1024,
          128,
          512,
          512,
          512,
          512,
          512,
          512,
          512,
          512,
          512,
          512,
          512,
          1024,
          512,
          512,
          512,
          512,
          512,
          128,
          512,
          1024,
          512,
          256
         ],
         "xaxis": "x13",
         "y": [
          0.6964673683022488,
          0.568014446544962,
          0.5011709601873536,
          0.7963234671707909,
          0.5215005219943004,
          0.5011709601873536,
          0.5011709601873536,
          0.5024829999153523,
          0.789071978781637,
          0.802375779464462,
          0.5021161931096753,
          0.774498462233007,
          0.7327530261561468,
          0.7671482181654017,
          0.5011709601873536,
          0.756101690132897,
          0.7947433763155667,
          0.7053694873169493,
          0.5011709601873536,
          0.6680821647244717,
          0.74724189498039,
          0.8091052735532294,
          0.7961823876301459,
          0.792838802516859,
          0.8000761829519483,
          0.5011709601873536,
          0.7901723991986682,
          0.5014813351767726,
          0.8031093930758162,
          0.7922039445839565,
          0.5015518749470952,
          0.8033351203408482,
          0.7946869444993087,
          0.8005276374820124,
          0.5156598290115968,
          0.7785333370954545,
          0.5060664202477356,
          0.5184390959623035,
          0.7981575011991761,
          0.5011709601873536,
          0.7951666149375017,
          0.8040405180440733,
          0.7381986964250444,
          0.7768544905617787,
          0.5011709601873536,
          0.5011709601873536,
          0.5524110493496233,
          0.49882903981264637,
          0.7606726672497954,
          0.7460286109308428
         ],
         "yaxis": "y13"
        },
        {
         "marker": {
          "color": [
           0,
           1,
           2,
           3,
           4,
           5,
           6,
           7,
           8,
           9,
           10,
           11,
           12,
           13,
           14,
           15,
           16,
           17,
           18,
           19,
           20,
           21,
           22,
           23,
           24,
           25,
           26,
           27,
           28,
           29,
           30,
           31,
           32,
           33,
           34,
           35,
           36,
           37,
           38,
           39,
           40,
           41,
           42,
           43,
           44,
           45,
           46,
           47,
           48,
           49
          ],
          "colorbar": {
           "title": {
            "text": "Trial"
           },
           "x": 1,
           "xpad": 40
          },
          "colorscale": [
           [
            0,
            "rgb(247,251,255)"
           ],
           [
            0.125,
            "rgb(222,235,247)"
           ],
           [
            0.25,
            "rgb(198,219,239)"
           ],
           [
            0.375,
            "rgb(158,202,225)"
           ],
           [
            0.5,
            "rgb(107,174,214)"
           ],
           [
            0.625,
            "rgb(66,146,198)"
           ],
           [
            0.75,
            "rgb(33,113,181)"
           ],
           [
            0.875,
            "rgb(8,81,156)"
           ],
           [
            1,
            "rgb(8,48,107)"
           ]
          ],
          "line": {
           "color": "Grey",
           "width": 0.5
          },
          "showscale": false
         },
         "mode": "markers",
         "name": "Feasible Trial",
         "showlegend": false,
         "type": "scatter",
         "x": [
          128,
          128,
          1024,
          128,
          128,
          128,
          256,
          256,
          1024,
          128,
          512,
          128,
          512,
          128,
          128,
          128,
          256,
          1024,
          512,
          128,
          128,
          256,
          256,
          256,
          256,
          256,
          256,
          256,
          256,
          256,
          1024,
          256,
          256,
          256,
          256,
          512,
          256,
          256,
          1024,
          256,
          128,
          256,
          256,
          256,
          256,
          512,
          256,
          128,
          1024,
          256
         ],
         "xaxis": "x14",
         "y": [
          0.6964673683022488,
          0.568014446544962,
          0.5011709601873536,
          0.7963234671707909,
          0.5215005219943004,
          0.5011709601873536,
          0.5011709601873536,
          0.5024829999153523,
          0.789071978781637,
          0.802375779464462,
          0.5021161931096753,
          0.774498462233007,
          0.7327530261561468,
          0.7671482181654017,
          0.5011709601873536,
          0.756101690132897,
          0.7947433763155667,
          0.7053694873169493,
          0.5011709601873536,
          0.6680821647244717,
          0.74724189498039,
          0.8091052735532294,
          0.7961823876301459,
          0.792838802516859,
          0.8000761829519483,
          0.5011709601873536,
          0.7901723991986682,
          0.5014813351767726,
          0.8031093930758162,
          0.7922039445839565,
          0.5015518749470952,
          0.8033351203408482,
          0.7946869444993087,
          0.8005276374820124,
          0.5156598290115968,
          0.7785333370954545,
          0.5060664202477356,
          0.5184390959623035,
          0.7981575011991761,
          0.5011709601873536,
          0.7951666149375017,
          0.8040405180440733,
          0.7381986964250444,
          0.7768544905617787,
          0.5011709601873536,
          0.5011709601873536,
          0.5524110493496233,
          0.49882903981264637,
          0.7606726672497954,
          0.7460286109308428
         ],
         "yaxis": "y14"
        },
        {
         "marker": {
          "color": [
           2,
           4,
           6,
           7,
           8,
           20,
           37,
           40
          ],
          "colorbar": {
           "title": {
            "text": "Trial"
           },
           "x": 1,
           "xpad": 40
          },
          "colorscale": [
           [
            0,
            "rgb(247,251,255)"
           ],
           [
            0.125,
            "rgb(222,235,247)"
           ],
           [
            0.25,
            "rgb(198,219,239)"
           ],
           [
            0.375,
            "rgb(158,202,225)"
           ],
           [
            0.5,
            "rgb(107,174,214)"
           ],
           [
            0.625,
            "rgb(66,146,198)"
           ],
           [
            0.75,
            "rgb(33,113,181)"
           ],
           [
            0.875,
            "rgb(8,81,156)"
           ],
           [
            1,
            "rgb(8,48,107)"
           ]
          ],
          "line": {
           "color": "Grey",
           "width": 0.5
          },
          "showscale": false
         },
         "mode": "markers",
         "name": "Feasible Trial",
         "showlegend": false,
         "type": "scatter",
         "x": [
          1024,
          1024,
          256,
          256,
          256,
          512,
          128,
          512
         ],
         "xaxis": "x15",
         "y": [
          0.5011709601873536,
          0.5215005219943004,
          0.5011709601873536,
          0.5024829999153523,
          0.789071978781637,
          0.74724189498039,
          0.5184390959623035,
          0.7951666149375017
         ],
         "yaxis": "y15"
        },
        {
         "marker": {
          "color": [
           0,
           1,
           2,
           3,
           4,
           5,
           6,
           7,
           8,
           9,
           10,
           11,
           12,
           13,
           14,
           15,
           16,
           17,
           18,
           19,
           20,
           21,
           22,
           23,
           24,
           25,
           26,
           27,
           28,
           29,
           30,
           31,
           32,
           33,
           34,
           35,
           36,
           37,
           38,
           39,
           40,
           41,
           42,
           43,
           44,
           45,
           46,
           47,
           48,
           49
          ],
          "colorbar": {
           "title": {
            "text": "Trial"
           },
           "x": 1,
           "xpad": 40
          },
          "colorscale": [
           [
            0,
            "rgb(247,251,255)"
           ],
           [
            0.125,
            "rgb(222,235,247)"
           ],
           [
            0.25,
            "rgb(198,219,239)"
           ],
           [
            0.375,
            "rgb(158,202,225)"
           ],
           [
            0.5,
            "rgb(107,174,214)"
           ],
           [
            0.625,
            "rgb(66,146,198)"
           ],
           [
            0.75,
            "rgb(33,113,181)"
           ],
           [
            0.875,
            "rgb(8,81,156)"
           ],
           [
            1,
            "rgb(8,48,107)"
           ]
          ],
          "line": {
           "color": "Grey",
           "width": 0.5
          },
          "showscale": false
         },
         "mode": "markers",
         "name": "Feasible Trial",
         "showlegend": false,
         "type": "scatter",
         "x": [
          0.00001200176155601056,
          0.00021196982208212907,
          0.000045605221960844806,
          0.0003626100895729462,
          0.00003060520257399685,
          0.00001969599225702152,
          0.00006133245760470359,
          0.000019851292204253646,
          0.0006203128644075795,
          0.0001981648093134655,
          0.00013272649661231028,
          0.00042665588787448,
          0.00027763424574154004,
          0.0008245474979276017,
          0.00011938384234471593,
          0.0002817003880521366,
          0.0001921253922130029,
          0.000502905478563434,
          0.00007664680526530596,
          0.00041784776868338035,
          0.0008100588949115134,
          0.00016402905257424704,
          0.00015819042025498945,
          0.0002417932712965079,
          0.00009043473893852983,
          0.00009825507268081447,
          0.00008685336033243513,
          0.00005339004847891486,
          0.00015503753284701072,
          0.00017548601941601814,
          0.00014460944698541014,
          0.00010894290448098528,
          0.0001220840841717034,
          0.00020954917116612176,
          0.0003116743192620133,
          0.00006679336100836786,
          0.000039424567229416656,
          0.00011319982697925382,
          0.00022254449135547232,
          0.0001642678955650859,
          0.0000428874832948194,
          0.00021098702201892744,
          0.00033361432987010295,
          0.00022824001382136348,
          0.000012512621811018931,
          0.00014896165737310907,
          0.00011354938999278437,
          0.00025909922550542243,
          0.00019123236601636945,
          0.0003840322741278942
         ],
         "xaxis": "x16",
         "y": [
          0.6964673683022488,
          0.568014446544962,
          0.5011709601873536,
          0.7963234671707909,
          0.5215005219943004,
          0.5011709601873536,
          0.5011709601873536,
          0.5024829999153523,
          0.789071978781637,
          0.802375779464462,
          0.5021161931096753,
          0.774498462233007,
          0.7327530261561468,
          0.7671482181654017,
          0.5011709601873536,
          0.756101690132897,
          0.7947433763155667,
          0.7053694873169493,
          0.5011709601873536,
          0.6680821647244717,
          0.74724189498039,
          0.8091052735532294,
          0.7961823876301459,
          0.792838802516859,
          0.8000761829519483,
          0.5011709601873536,
          0.7901723991986682,
          0.5014813351767726,
          0.8031093930758162,
          0.7922039445839565,
          0.5015518749470952,
          0.8033351203408482,
          0.7946869444993087,
          0.8005276374820124,
          0.5156598290115968,
          0.7785333370954545,
          0.5060664202477356,
          0.5184390959623035,
          0.7981575011991761,
          0.5011709601873536,
          0.7951666149375017,
          0.8040405180440733,
          0.7381986964250444,
          0.7768544905617787,
          0.5011709601873536,
          0.5011709601873536,
          0.5524110493496233,
          0.49882903981264637,
          0.7606726672497954,
          0.7460286109308428
         ],
         "yaxis": "y16"
        },
        {
         "marker": {
          "color": [
           0,
           1,
           2,
           3,
           4,
           5,
           6,
           7,
           8,
           9,
           10,
           11,
           12,
           13,
           14,
           15,
           16,
           17,
           18,
           19,
           20,
           21,
           22,
           23,
           24,
           25,
           26,
           27,
           28,
           29,
           30,
           31,
           32,
           33,
           34,
           35,
           36,
           37,
           38,
           39,
           40,
           41,
           42,
           43,
           44,
           45,
           46,
           47,
           48,
           49
          ],
          "colorbar": {
           "title": {
            "text": "Trial"
           },
           "x": 1,
           "xpad": 40
          },
          "colorscale": [
           [
            0,
            "rgb(247,251,255)"
           ],
           [
            0.125,
            "rgb(222,235,247)"
           ],
           [
            0.25,
            "rgb(198,219,239)"
           ],
           [
            0.375,
            "rgb(158,202,225)"
           ],
           [
            0.5,
            "rgb(107,174,214)"
           ],
           [
            0.625,
            "rgb(66,146,198)"
           ],
           [
            0.75,
            "rgb(33,113,181)"
           ],
           [
            0.875,
            "rgb(8,81,156)"
           ],
           [
            1,
            "rgb(8,48,107)"
           ]
          ],
          "line": {
           "color": "Grey",
           "width": 0.5
          },
          "showscale": false
         },
         "mode": "markers",
         "name": "Feasible Trial",
         "showlegend": false,
         "type": "scatter",
         "x": [
          "Lion",
          "LAMB",
          "Yogi",
          "Lion",
          "AdamW",
          "AdaBelief",
          "AdaBelief",
          "Lion",
          "AdamW",
          "Lion",
          "Yogi",
          "Lion",
          "Lion",
          "Lion",
          "LAMB",
          "Lion",
          "Lion",
          "Lion",
          "AdaBelief",
          "AdamW",
          "Yogi",
          "Lion",
          "Lion",
          "Lion",
          "Lion",
          "LAMB",
          "Lion",
          "Lion",
          "Lion",
          "Lion",
          "LAMB",
          "Lion",
          "Lion",
          "Lion",
          "Yogi",
          "Lion",
          "AdamW",
          "AdaBelief",
          "Lion",
          "LAMB",
          "Lion",
          "Lion",
          "Lion",
          "Lion",
          "Yogi",
          "AdaBelief",
          "AdamW",
          "Lion",
          "Lion",
          "Lion"
         ],
         "xaxis": "x17",
         "y": [
          0.6964673683022488,
          0.568014446544962,
          0.5011709601873536,
          0.7963234671707909,
          0.5215005219943004,
          0.5011709601873536,
          0.5011709601873536,
          0.5024829999153523,
          0.789071978781637,
          0.802375779464462,
          0.5021161931096753,
          0.774498462233007,
          0.7327530261561468,
          0.7671482181654017,
          0.5011709601873536,
          0.756101690132897,
          0.7947433763155667,
          0.7053694873169493,
          0.5011709601873536,
          0.6680821647244717,
          0.74724189498039,
          0.8091052735532294,
          0.7961823876301459,
          0.792838802516859,
          0.8000761829519483,
          0.5011709601873536,
          0.7901723991986682,
          0.5014813351767726,
          0.8031093930758162,
          0.7922039445839565,
          0.5015518749470952,
          0.8033351203408482,
          0.7946869444993087,
          0.8005276374820124,
          0.5156598290115968,
          0.7785333370954545,
          0.5060664202477356,
          0.5184390959623035,
          0.7981575011991761,
          0.5011709601873536,
          0.7951666149375017,
          0.8040405180440733,
          0.7381986964250444,
          0.7768544905617787,
          0.5011709601873536,
          0.5011709601873536,
          0.5524110493496233,
          0.49882903981264637,
          0.7606726672497954,
          0.7460286109308428
         ],
         "yaxis": "y17"
        }
       ],
       "layout": {
        "template": {
         "data": {
          "bar": [
           {
            "error_x": {
             "color": "#2a3f5f"
            },
            "error_y": {
             "color": "#2a3f5f"
            },
            "marker": {
             "line": {
              "color": "#E5ECF6",
              "width": 0.5
             },
             "pattern": {
              "fillmode": "overlay",
              "size": 10,
              "solidity": 0.2
             }
            },
            "type": "bar"
           }
          ],
          "barpolar": [
           {
            "marker": {
             "line": {
              "color": "#E5ECF6",
              "width": 0.5
             },
             "pattern": {
              "fillmode": "overlay",
              "size": 10,
              "solidity": 0.2
             }
            },
            "type": "barpolar"
           }
          ],
          "carpet": [
           {
            "aaxis": {
             "endlinecolor": "#2a3f5f",
             "gridcolor": "white",
             "linecolor": "white",
             "minorgridcolor": "white",
             "startlinecolor": "#2a3f5f"
            },
            "baxis": {
             "endlinecolor": "#2a3f5f",
             "gridcolor": "white",
             "linecolor": "white",
             "minorgridcolor": "white",
             "startlinecolor": "#2a3f5f"
            },
            "type": "carpet"
           }
          ],
          "choropleth": [
           {
            "colorbar": {
             "outlinewidth": 0,
             "ticks": ""
            },
            "type": "choropleth"
           }
          ],
          "contour": [
           {
            "colorbar": {
             "outlinewidth": 0,
             "ticks": ""
            },
            "colorscale": [
             [
              0,
              "#0d0887"
             ],
             [
              0.1111111111111111,
              "#46039f"
             ],
             [
              0.2222222222222222,
              "#7201a8"
             ],
             [
              0.3333333333333333,
              "#9c179e"
             ],
             [
              0.4444444444444444,
              "#bd3786"
             ],
             [
              0.5555555555555556,
              "#d8576b"
             ],
             [
              0.6666666666666666,
              "#ed7953"
             ],
             [
              0.7777777777777778,
              "#fb9f3a"
             ],
             [
              0.8888888888888888,
              "#fdca26"
             ],
             [
              1,
              "#f0f921"
             ]
            ],
            "type": "contour"
           }
          ],
          "contourcarpet": [
           {
            "colorbar": {
             "outlinewidth": 0,
             "ticks": ""
            },
            "type": "contourcarpet"
           }
          ],
          "heatmap": [
           {
            "colorbar": {
             "outlinewidth": 0,
             "ticks": ""
            },
            "colorscale": [
             [
              0,
              "#0d0887"
             ],
             [
              0.1111111111111111,
              "#46039f"
             ],
             [
              0.2222222222222222,
              "#7201a8"
             ],
             [
              0.3333333333333333,
              "#9c179e"
             ],
             [
              0.4444444444444444,
              "#bd3786"
             ],
             [
              0.5555555555555556,
              "#d8576b"
             ],
             [
              0.6666666666666666,
              "#ed7953"
             ],
             [
              0.7777777777777778,
              "#fb9f3a"
             ],
             [
              0.8888888888888888,
              "#fdca26"
             ],
             [
              1,
              "#f0f921"
             ]
            ],
            "type": "heatmap"
           }
          ],
          "histogram": [
           {
            "marker": {
             "pattern": {
              "fillmode": "overlay",
              "size": 10,
              "solidity": 0.2
             }
            },
            "type": "histogram"
           }
          ],
          "histogram2d": [
           {
            "colorbar": {
             "outlinewidth": 0,
             "ticks": ""
            },
            "colorscale": [
             [
              0,
              "#0d0887"
             ],
             [
              0.1111111111111111,
              "#46039f"
             ],
             [
              0.2222222222222222,
              "#7201a8"
             ],
             [
              0.3333333333333333,
              "#9c179e"
             ],
             [
              0.4444444444444444,
              "#bd3786"
             ],
             [
              0.5555555555555556,
              "#d8576b"
             ],
             [
              0.6666666666666666,
              "#ed7953"
             ],
             [
              0.7777777777777778,
              "#fb9f3a"
             ],
             [
              0.8888888888888888,
              "#fdca26"
             ],
             [
              1,
              "#f0f921"
             ]
            ],
            "type": "histogram2d"
           }
          ],
          "histogram2dcontour": [
           {
            "colorbar": {
             "outlinewidth": 0,
             "ticks": ""
            },
            "colorscale": [
             [
              0,
              "#0d0887"
             ],
             [
              0.1111111111111111,
              "#46039f"
             ],
             [
              0.2222222222222222,
              "#7201a8"
             ],
             [
              0.3333333333333333,
              "#9c179e"
             ],
             [
              0.4444444444444444,
              "#bd3786"
             ],
             [
              0.5555555555555556,
              "#d8576b"
             ],
             [
              0.6666666666666666,
              "#ed7953"
             ],
             [
              0.7777777777777778,
              "#fb9f3a"
             ],
             [
              0.8888888888888888,
              "#fdca26"
             ],
             [
              1,
              "#f0f921"
             ]
            ],
            "type": "histogram2dcontour"
           }
          ],
          "mesh3d": [
           {
            "colorbar": {
             "outlinewidth": 0,
             "ticks": ""
            },
            "type": "mesh3d"
           }
          ],
          "parcoords": [
           {
            "line": {
             "colorbar": {
              "outlinewidth": 0,
              "ticks": ""
             }
            },
            "type": "parcoords"
           }
          ],
          "pie": [
           {
            "automargin": true,
            "type": "pie"
           }
          ],
          "scatter": [
           {
            "fillpattern": {
             "fillmode": "overlay",
             "size": 10,
             "solidity": 0.2
            },
            "type": "scatter"
           }
          ],
          "scatter3d": [
           {
            "line": {
             "colorbar": {
              "outlinewidth": 0,
              "ticks": ""
             }
            },
            "marker": {
             "colorbar": {
              "outlinewidth": 0,
              "ticks": ""
             }
            },
            "type": "scatter3d"
           }
          ],
          "scattercarpet": [
           {
            "marker": {
             "colorbar": {
              "outlinewidth": 0,
              "ticks": ""
             }
            },
            "type": "scattercarpet"
           }
          ],
          "scattergeo": [
           {
            "marker": {
             "colorbar": {
              "outlinewidth": 0,
              "ticks": ""
             }
            },
            "type": "scattergeo"
           }
          ],
          "scattergl": [
           {
            "marker": {
             "colorbar": {
              "outlinewidth": 0,
              "ticks": ""
             }
            },
            "type": "scattergl"
           }
          ],
          "scattermap": [
           {
            "marker": {
             "colorbar": {
              "outlinewidth": 0,
              "ticks": ""
             }
            },
            "type": "scattermap"
           }
          ],
          "scattermapbox": [
           {
            "marker": {
             "colorbar": {
              "outlinewidth": 0,
              "ticks": ""
             }
            },
            "type": "scattermapbox"
           }
          ],
          "scatterpolar": [
           {
            "marker": {
             "colorbar": {
              "outlinewidth": 0,
              "ticks": ""
             }
            },
            "type": "scatterpolar"
           }
          ],
          "scatterpolargl": [
           {
            "marker": {
             "colorbar": {
              "outlinewidth": 0,
              "ticks": ""
             }
            },
            "type": "scatterpolargl"
           }
          ],
          "scatterternary": [
           {
            "marker": {
             "colorbar": {
              "outlinewidth": 0,
              "ticks": ""
             }
            },
            "type": "scatterternary"
           }
          ],
          "surface": [
           {
            "colorbar": {
             "outlinewidth": 0,
             "ticks": ""
            },
            "colorscale": [
             [
              0,
              "#0d0887"
             ],
             [
              0.1111111111111111,
              "#46039f"
             ],
             [
              0.2222222222222222,
              "#7201a8"
             ],
             [
              0.3333333333333333,
              "#9c179e"
             ],
             [
              0.4444444444444444,
              "#bd3786"
             ],
             [
              0.5555555555555556,
              "#d8576b"
             ],
             [
              0.6666666666666666,
              "#ed7953"
             ],
             [
              0.7777777777777778,
              "#fb9f3a"
             ],
             [
              0.8888888888888888,
              "#fdca26"
             ],
             [
              1,
              "#f0f921"
             ]
            ],
            "type": "surface"
           }
          ],
          "table": [
           {
            "cells": {
             "fill": {
              "color": "#EBF0F8"
             },
             "line": {
              "color": "white"
             }
            },
            "header": {
             "fill": {
              "color": "#C8D4E3"
             },
             "line": {
              "color": "white"
             }
            },
            "type": "table"
           }
          ]
         },
         "layout": {
          "annotationdefaults": {
           "arrowcolor": "#2a3f5f",
           "arrowhead": 0,
           "arrowwidth": 1
          },
          "autotypenumbers": "strict",
          "coloraxis": {
           "colorbar": {
            "outlinewidth": 0,
            "ticks": ""
           }
          },
          "colorscale": {
           "diverging": [
            [
             0,
             "#8e0152"
            ],
            [
             0.1,
             "#c51b7d"
            ],
            [
             0.2,
             "#de77ae"
            ],
            [
             0.3,
             "#f1b6da"
            ],
            [
             0.4,
             "#fde0ef"
            ],
            [
             0.5,
             "#f7f7f7"
            ],
            [
             0.6,
             "#e6f5d0"
            ],
            [
             0.7,
             "#b8e186"
            ],
            [
             0.8,
             "#7fbc41"
            ],
            [
             0.9,
             "#4d9221"
            ],
            [
             1,
             "#276419"
            ]
           ],
           "sequential": [
            [
             0,
             "#0d0887"
            ],
            [
             0.1111111111111111,
             "#46039f"
            ],
            [
             0.2222222222222222,
             "#7201a8"
            ],
            [
             0.3333333333333333,
             "#9c179e"
            ],
            [
             0.4444444444444444,
             "#bd3786"
            ],
            [
             0.5555555555555556,
             "#d8576b"
            ],
            [
             0.6666666666666666,
             "#ed7953"
            ],
            [
             0.7777777777777778,
             "#fb9f3a"
            ],
            [
             0.8888888888888888,
             "#fdca26"
            ],
            [
             1,
             "#f0f921"
            ]
           ],
           "sequentialminus": [
            [
             0,
             "#0d0887"
            ],
            [
             0.1111111111111111,
             "#46039f"
            ],
            [
             0.2222222222222222,
             "#7201a8"
            ],
            [
             0.3333333333333333,
             "#9c179e"
            ],
            [
             0.4444444444444444,
             "#bd3786"
            ],
            [
             0.5555555555555556,
             "#d8576b"
            ],
            [
             0.6666666666666666,
             "#ed7953"
            ],
            [
             0.7777777777777778,
             "#fb9f3a"
            ],
            [
             0.8888888888888888,
             "#fdca26"
            ],
            [
             1,
             "#f0f921"
            ]
           ]
          },
          "colorway": [
           "#636efa",
           "#EF553B",
           "#00cc96",
           "#ab63fa",
           "#FFA15A",
           "#19d3f3",
           "#FF6692",
           "#B6E880",
           "#FF97FF",
           "#FECB52"
          ],
          "font": {
           "color": "#2a3f5f"
          },
          "geo": {
           "bgcolor": "white",
           "lakecolor": "white",
           "landcolor": "#E5ECF6",
           "showlakes": true,
           "showland": true,
           "subunitcolor": "white"
          },
          "hoverlabel": {
           "align": "left"
          },
          "hovermode": "closest",
          "mapbox": {
           "style": "light"
          },
          "paper_bgcolor": "white",
          "plot_bgcolor": "#E5ECF6",
          "polar": {
           "angularaxis": {
            "gridcolor": "white",
            "linecolor": "white",
            "ticks": ""
           },
           "bgcolor": "#E5ECF6",
           "radialaxis": {
            "gridcolor": "white",
            "linecolor": "white",
            "ticks": ""
           }
          },
          "scene": {
           "xaxis": {
            "backgroundcolor": "#E5ECF6",
            "gridcolor": "white",
            "gridwidth": 2,
            "linecolor": "white",
            "showbackground": true,
            "ticks": "",
            "zerolinecolor": "white"
           },
           "yaxis": {
            "backgroundcolor": "#E5ECF6",
            "gridcolor": "white",
            "gridwidth": 2,
            "linecolor": "white",
            "showbackground": true,
            "ticks": "",
            "zerolinecolor": "white"
           },
           "zaxis": {
            "backgroundcolor": "#E5ECF6",
            "gridcolor": "white",
            "gridwidth": 2,
            "linecolor": "white",
            "showbackground": true,
            "ticks": "",
            "zerolinecolor": "white"
           }
          },
          "shapedefaults": {
           "line": {
            "color": "#2a3f5f"
           }
          },
          "ternary": {
           "aaxis": {
            "gridcolor": "white",
            "linecolor": "white",
            "ticks": ""
           },
           "baxis": {
            "gridcolor": "white",
            "linecolor": "white",
            "ticks": ""
           },
           "bgcolor": "#E5ECF6",
           "caxis": {
            "gridcolor": "white",
            "linecolor": "white",
            "ticks": ""
           }
          },
          "title": {
           "x": 0.05
          },
          "xaxis": {
           "automargin": true,
           "gridcolor": "white",
           "linecolor": "white",
           "ticks": "",
           "title": {
            "standoff": 15
           },
           "zerolinecolor": "white",
           "zerolinewidth": 2
          },
          "yaxis": {
           "automargin": true,
           "gridcolor": "white",
           "linecolor": "white",
           "ticks": "",
           "title": {
            "standoff": 15
           },
           "zerolinecolor": "white",
           "zerolinewidth": 2
          }
         }
        },
        "title": {
         "text": "Slice Plot"
        },
        "width": 5100,
        "xaxis": {
         "anchor": "y",
         "categoryarray": [
          32,
          64,
          128
         ],
         "categoryorder": "array",
         "domain": [
          0,
          0.04775086505190312
         ],
         "title": {
          "text": "batch_size"
         },
         "type": "category"
        },
        "xaxis10": {
         "anchor": "y10",
         "domain": [
          0.5356401384083045,
          0.5833910034602076
         ],
         "title": {
          "text": "drop2"
         }
        },
        "xaxis11": {
         "anchor": "y11",
         "categoryarray": [
          64,
          128,
          256
         ],
         "categoryorder": "array",
         "domain": [
          0.5951557093425606,
          0.6429065743944636
         ],
         "title": {
          "text": "embed_dim"
         },
         "type": "category"
        },
        "xaxis12": {
         "anchor": "y12",
         "domain": [
          0.6546712802768166,
          0.7024221453287197
         ],
         "title": {
          "text": "fc_count"
         }
        },
        "xaxis13": {
         "anchor": "y13",
         "categoryarray": [
          128,
          256,
          512,
          1024
         ],
         "categoryorder": "array",
         "domain": [
          0.7141868512110727,
          0.7619377162629758
         ],
         "title": {
          "text": "fc_nodes_0"
         },
         "type": "category"
        },
        "xaxis14": {
         "anchor": "y14",
         "categoryarray": [
          128,
          256,
          512,
          1024
         ],
         "categoryorder": "array",
         "domain": [
          0.7737024221453288,
          0.8214532871972319
         ],
         "title": {
          "text": "fc_nodes_1"
         },
         "type": "category"
        },
        "xaxis15": {
         "anchor": "y15",
         "categoryarray": [
          128,
          256,
          512,
          1024
         ],
         "categoryorder": "array",
         "domain": [
          0.8332179930795848,
          0.8809688581314878
         ],
         "title": {
          "text": "fc_nodes_2"
         },
         "type": "category"
        },
        "xaxis16": {
         "anchor": "y16",
         "domain": [
          0.892733564013841,
          0.940484429065744
         ],
         "title": {
          "text": "lr"
         },
         "type": "log"
        },
        "xaxis17": {
         "anchor": "y17",
         "categoryarray": [
          "AdamW",
          "Lion",
          "AdaBelief",
          "LAMB",
          "Yogi"
         ],
         "categoryorder": "array",
         "domain": [
          0.9522491349480969,
          1
         ],
         "title": {
          "text": "optimizer"
         },
         "type": "category"
        },
        "xaxis2": {
         "anchor": "y2",
         "categoryarray": [
          16,
          32,
          64,
          128
         ],
         "categoryorder": "array",
         "domain": [
          0.05951557093425606,
          0.10726643598615918
         ],
         "title": {
          "text": "conv_ch_0"
         },
         "type": "category"
        },
        "xaxis3": {
         "anchor": "y3",
         "categoryarray": [
          16,
          32,
          64,
          128
         ],
         "categoryorder": "array",
         "domain": [
          0.11903114186851212,
          0.16678200692041523
         ],
         "title": {
          "text": "conv_ch_1"
         },
         "type": "category"
        },
        "xaxis4": {
         "anchor": "y4",
         "categoryarray": [
          16,
          32,
          64,
          128
         ],
         "categoryorder": "array",
         "domain": [
          0.17854671280276818,
          0.2262975778546713
         ],
         "title": {
          "text": "conv_ch_2"
         },
         "type": "category"
        },
        "xaxis5": {
         "anchor": "y5",
         "categoryarray": [
          16,
          32,
          64,
          128
         ],
         "categoryorder": "array",
         "domain": [
          0.23806228373702423,
          0.28581314878892733
         ],
         "title": {
          "text": "conv_ch_3"
         },
         "type": "category"
        },
        "xaxis6": {
         "anchor": "y6",
         "categoryarray": [
          16,
          32,
          64,
          128
         ],
         "categoryorder": "array",
         "domain": [
          0.2975778546712803,
          0.3453287197231834
         ],
         "title": {
          "text": "conv_ch_4"
         },
         "type": "category"
        },
        "xaxis7": {
         "anchor": "y7",
         "categoryarray": [
          16,
          32,
          64,
          128
         ],
         "categoryorder": "array",
         "domain": [
          0.35709342560553636,
          0.4048442906574395
         ],
         "title": {
          "text": "conv_ch_5"
         },
         "type": "category"
        },
        "xaxis8": {
         "anchor": "y8",
         "domain": [
          0.4166089965397924,
          0.4643598615916955
         ],
         "title": {
          "text": "conv_layers"
         }
        },
        "xaxis9": {
         "anchor": "y9",
         "domain": [
          0.47612456747404847,
          0.5238754325259516
         ],
         "title": {
          "text": "drop1"
         }
        },
        "yaxis": {
         "anchor": "x",
         "domain": [
          0,
          1
         ],
         "title": {
          "text": "Objective Value"
         }
        },
        "yaxis10": {
         "anchor": "x10",
         "domain": [
          0,
          1
         ],
         "matches": "y",
         "showticklabels": false
        },
        "yaxis11": {
         "anchor": "x11",
         "domain": [
          0,
          1
         ],
         "matches": "y",
         "showticklabels": false
        },
        "yaxis12": {
         "anchor": "x12",
         "domain": [
          0,
          1
         ],
         "matches": "y",
         "showticklabels": false
        },
        "yaxis13": {
         "anchor": "x13",
         "domain": [
          0,
          1
         ],
         "matches": "y",
         "showticklabels": false
        },
        "yaxis14": {
         "anchor": "x14",
         "domain": [
          0,
          1
         ],
         "matches": "y",
         "showticklabels": false
        },
        "yaxis15": {
         "anchor": "x15",
         "domain": [
          0,
          1
         ],
         "matches": "y",
         "showticklabels": false
        },
        "yaxis16": {
         "anchor": "x16",
         "domain": [
          0,
          1
         ],
         "matches": "y",
         "showticklabels": false
        },
        "yaxis17": {
         "anchor": "x17",
         "domain": [
          0,
          1
         ],
         "matches": "y",
         "showticklabels": false
        },
        "yaxis2": {
         "anchor": "x2",
         "domain": [
          0,
          1
         ],
         "matches": "y",
         "showticklabels": false
        },
        "yaxis3": {
         "anchor": "x3",
         "domain": [
          0,
          1
         ],
         "matches": "y",
         "showticklabels": false
        },
        "yaxis4": {
         "anchor": "x4",
         "domain": [
          0,
          1
         ],
         "matches": "y",
         "showticklabels": false
        },
        "yaxis5": {
         "anchor": "x5",
         "domain": [
          0,
          1
         ],
         "matches": "y",
         "showticklabels": false
        },
        "yaxis6": {
         "anchor": "x6",
         "domain": [
          0,
          1
         ],
         "matches": "y",
         "showticklabels": false
        },
        "yaxis7": {
         "anchor": "x7",
         "domain": [
          0,
          1
         ],
         "matches": "y",
         "showticklabels": false
        },
        "yaxis8": {
         "anchor": "x8",
         "domain": [
          0,
          1
         ],
         "matches": "y",
         "showticklabels": false
        },
        "yaxis9": {
         "anchor": "x9",
         "domain": [
          0,
          1
         ],
         "matches": "y",
         "showticklabels": false
        }
       }
      }
     },
     "metadata": {},
     "output_type": "display_data"
    }
   ],
   "source": [
    "\n",
    "# Plot 4: How each parameter individually affected score\n",
    "plot_slice(study).show()"
   ]
  },
  {
   "cell_type": "code",
   "execution_count": 135,
   "id": "32c0ab4b",
   "metadata": {},
   "outputs": [
    {
     "data": {
      "application/vnd.plotly.v1+json": {
       "config": {
        "plotlyServerURL": "https://plot.ly"
       },
       "data": [
        {
         "mode": "lines",
         "name": "no-name-9641a9bb-5e44-4e49-814a-cf3db3d7a454",
         "type": "scatter",
         "x": {
          "bdata": "4pUSo9Ds3z8vsXgCFRDgP24XaLPBKeA/rH1XZG5D4D/q40YVG13gPyhKNsbHduA/Z7Ald3SQ4D+lFhUoIargP+N8BNnNw+A/IePziXrd4D9gSeM6J/fgP56v0uvTEOE/3BXCnIAq4T8bfLFNLUThP1nioP7ZXeE/l0iQr4Z34T/Vrn9gM5HhPxQVbxHgquE/UntewozE4T+Q4U1zOd7hP85HPSTm9+E/Da4s1ZIR4j9LFByGPyviP4l6CzfsROI/yOD655he4j8GR+qYRXjiP0St2UnykeI/ghPJ+p6r4j/BebirS8XiP//fp1z43uI/PUaXDaX44j98rIa+URLjP7oSdm/+K+M/+HhlIKtF4z8231TRV1/jP3VFRIIEeeM/s6szM7GS4z/xESPkXazjPy94EpUKxuM/bt4BRrff4z+sRPH2Y/njP+qq4KcQE+Q/KBHQWL0s5D9nd78JakbkP6XdrroWYOQ/40Oea8N55D8iqo0ccJPkP2AQfc0creQ/nnZsfsnG5D/c3FsvduDkPxtDS+Ai+uQ/Wak6kc8T5T+XDypCfC3lP9Z1GfMoR+U/FNwIpNVg5T9SQvhUgnrlP5Co5wUvlOU/zg7Xttut5T8NdcZniMflP0vbtRg14eU/ikGlyeH65T/Ip5R6jhTmPwYOhCs7LuY/RHRz3OdH5j+C2mKNlGHmP8FAUj5Be+Y//6ZB7+2U5j89DTGgmq7mP3xzIFFHyOY/utkPAvTh5j/4P/+yoPvmPzam7mNNFec/dQzeFPou5z+zcs3FpkjnP/HYvHZTYuc/MD+sJwB85z9upZvYrJXnP6wLi4lZr+c/6nF6OgbJ5z8o2GnrsuLnP2c+WZxf/Oc/paRITQwW6D/kCjj+uC/oPyJxJ69lSeg/YNcWYBJj6D+ePQYRv3zoP9yj9cFrlug/Gwrlchiw6D9ZcNQjxcnoP5jWw9Rx4+g/1jyzhR796D8Uo6I2yxbpP1IJkud3MOk/kG+BmCRK6T/O1XBJ0WPpPw08YPp9fek/S6JPqyqX6T+KCD9c17DpP8huLg2Eyuk/BtUdvjDk6T8=",
          "dtype": "f8"
         },
         "y": {
          "bdata": "exSuR+F6lD+4HoXrUbjOP+xRuB6F69E/MzMzMzMz0z8zMzMzMzPTPzMzMzMzM9M/exSuR+F61D/D9Shcj8LVPwrXo3A9Ctc/CtejcD0K1z8K16NwPQrXPwrXo3A9Ctc/CtejcD0K1z8K16NwPQrXPwrXo3A9Ctc/CtejcD0K1z8K16NwPQrXPwrXo3A9Ctc/UrgehetR2D9SuB6F61HYP1K4HoXrUdg/UrgehetR2D9SuB6F61HYP5qZmZmZmdk/mpmZmZmZ2T+amZmZmZnZP5qZmZmZmdk/mpmZmZmZ2T+amZmZmZnZP5qZmZmZmdk/mpmZmZmZ2T+amZmZmZnZP5qZmZmZmdk/mpmZmZmZ2T+amZmZmZnZP5qZmZmZmdk/mpmZmZmZ2T+amZmZmZnZP5qZmZmZmdk/mpmZmZmZ2T+amZmZmZnZP5qZmZmZmdk/mpmZmZmZ2T+amZmZmZnZP5qZmZmZmdk/mpmZmZmZ2T+amZmZmZnZP5qZmZmZmdk/mpmZmZmZ2T+amZmZmZnZP5qZmZmZmdk/mpmZmZmZ2T+amZmZmZnZP5qZmZmZmdk/mpmZmZmZ2T/hehSuR+HaP+F6FK5H4do/4XoUrkfh2j/hehSuR+HaP+F6FK5H4do/4XoUrkfh2j/hehSuR+HaP+F6FK5H4do/4XoUrkfh2j8pXI/C9SjcPylcj8L1KNw/cT0K16Nw3T9xPQrXo3DdP3E9CtejcN0/cT0K16Nw3T9xPQrXo3DdP3E9CtejcN0/cT0K16Nw3T9xPQrXo3DdP3E9CtejcN0/uB6F61G43j+4HoXrUbjePwAAAAAAAOA/AAAAAAAA4D+kcD0K16PgP0jhehSuR+E/SOF6FK5H4T9I4XoUrkfhP+xRuB6F6+E/j8L1KFyP4j+PwvUoXI/iPzMzMzMzM+M/MzMzMzMz4z/Xo3A9CtfjP3sUrkfheuQ/H4XrUbge5T8fhetRuB7lPx+F61G4HuU/ZmZmZmZm5j+uR+F6FK7nP+F6FK5H4eo/hetRuB6F6z9xPQrXo3DtP1yPwvUoXO8/AAAAAAAA8D8=",
          "dtype": "f8"
         }
        }
       ],
       "layout": {
        "template": {
         "data": {
          "bar": [
           {
            "error_x": {
             "color": "#2a3f5f"
            },
            "error_y": {
             "color": "#2a3f5f"
            },
            "marker": {
             "line": {
              "color": "#E5ECF6",
              "width": 0.5
             },
             "pattern": {
              "fillmode": "overlay",
              "size": 10,
              "solidity": 0.2
             }
            },
            "type": "bar"
           }
          ],
          "barpolar": [
           {
            "marker": {
             "line": {
              "color": "#E5ECF6",
              "width": 0.5
             },
             "pattern": {
              "fillmode": "overlay",
              "size": 10,
              "solidity": 0.2
             }
            },
            "type": "barpolar"
           }
          ],
          "carpet": [
           {
            "aaxis": {
             "endlinecolor": "#2a3f5f",
             "gridcolor": "white",
             "linecolor": "white",
             "minorgridcolor": "white",
             "startlinecolor": "#2a3f5f"
            },
            "baxis": {
             "endlinecolor": "#2a3f5f",
             "gridcolor": "white",
             "linecolor": "white",
             "minorgridcolor": "white",
             "startlinecolor": "#2a3f5f"
            },
            "type": "carpet"
           }
          ],
          "choropleth": [
           {
            "colorbar": {
             "outlinewidth": 0,
             "ticks": ""
            },
            "type": "choropleth"
           }
          ],
          "contour": [
           {
            "colorbar": {
             "outlinewidth": 0,
             "ticks": ""
            },
            "colorscale": [
             [
              0,
              "#0d0887"
             ],
             [
              0.1111111111111111,
              "#46039f"
             ],
             [
              0.2222222222222222,
              "#7201a8"
             ],
             [
              0.3333333333333333,
              "#9c179e"
             ],
             [
              0.4444444444444444,
              "#bd3786"
             ],
             [
              0.5555555555555556,
              "#d8576b"
             ],
             [
              0.6666666666666666,
              "#ed7953"
             ],
             [
              0.7777777777777778,
              "#fb9f3a"
             ],
             [
              0.8888888888888888,
              "#fdca26"
             ],
             [
              1,
              "#f0f921"
             ]
            ],
            "type": "contour"
           }
          ],
          "contourcarpet": [
           {
            "colorbar": {
             "outlinewidth": 0,
             "ticks": ""
            },
            "type": "contourcarpet"
           }
          ],
          "heatmap": [
           {
            "colorbar": {
             "outlinewidth": 0,
             "ticks": ""
            },
            "colorscale": [
             [
              0,
              "#0d0887"
             ],
             [
              0.1111111111111111,
              "#46039f"
             ],
             [
              0.2222222222222222,
              "#7201a8"
             ],
             [
              0.3333333333333333,
              "#9c179e"
             ],
             [
              0.4444444444444444,
              "#bd3786"
             ],
             [
              0.5555555555555556,
              "#d8576b"
             ],
             [
              0.6666666666666666,
              "#ed7953"
             ],
             [
              0.7777777777777778,
              "#fb9f3a"
             ],
             [
              0.8888888888888888,
              "#fdca26"
             ],
             [
              1,
              "#f0f921"
             ]
            ],
            "type": "heatmap"
           }
          ],
          "histogram": [
           {
            "marker": {
             "pattern": {
              "fillmode": "overlay",
              "size": 10,
              "solidity": 0.2
             }
            },
            "type": "histogram"
           }
          ],
          "histogram2d": [
           {
            "colorbar": {
             "outlinewidth": 0,
             "ticks": ""
            },
            "colorscale": [
             [
              0,
              "#0d0887"
             ],
             [
              0.1111111111111111,
              "#46039f"
             ],
             [
              0.2222222222222222,
              "#7201a8"
             ],
             [
              0.3333333333333333,
              "#9c179e"
             ],
             [
              0.4444444444444444,
              "#bd3786"
             ],
             [
              0.5555555555555556,
              "#d8576b"
             ],
             [
              0.6666666666666666,
              "#ed7953"
             ],
             [
              0.7777777777777778,
              "#fb9f3a"
             ],
             [
              0.8888888888888888,
              "#fdca26"
             ],
             [
              1,
              "#f0f921"
             ]
            ],
            "type": "histogram2d"
           }
          ],
          "histogram2dcontour": [
           {
            "colorbar": {
             "outlinewidth": 0,
             "ticks": ""
            },
            "colorscale": [
             [
              0,
              "#0d0887"
             ],
             [
              0.1111111111111111,
              "#46039f"
             ],
             [
              0.2222222222222222,
              "#7201a8"
             ],
             [
              0.3333333333333333,
              "#9c179e"
             ],
             [
              0.4444444444444444,
              "#bd3786"
             ],
             [
              0.5555555555555556,
              "#d8576b"
             ],
             [
              0.6666666666666666,
              "#ed7953"
             ],
             [
              0.7777777777777778,
              "#fb9f3a"
             ],
             [
              0.8888888888888888,
              "#fdca26"
             ],
             [
              1,
              "#f0f921"
             ]
            ],
            "type": "histogram2dcontour"
           }
          ],
          "mesh3d": [
           {
            "colorbar": {
             "outlinewidth": 0,
             "ticks": ""
            },
            "type": "mesh3d"
           }
          ],
          "parcoords": [
           {
            "line": {
             "colorbar": {
              "outlinewidth": 0,
              "ticks": ""
             }
            },
            "type": "parcoords"
           }
          ],
          "pie": [
           {
            "automargin": true,
            "type": "pie"
           }
          ],
          "scatter": [
           {
            "fillpattern": {
             "fillmode": "overlay",
             "size": 10,
             "solidity": 0.2
            },
            "type": "scatter"
           }
          ],
          "scatter3d": [
           {
            "line": {
             "colorbar": {
              "outlinewidth": 0,
              "ticks": ""
             }
            },
            "marker": {
             "colorbar": {
              "outlinewidth": 0,
              "ticks": ""
             }
            },
            "type": "scatter3d"
           }
          ],
          "scattercarpet": [
           {
            "marker": {
             "colorbar": {
              "outlinewidth": 0,
              "ticks": ""
             }
            },
            "type": "scattercarpet"
           }
          ],
          "scattergeo": [
           {
            "marker": {
             "colorbar": {
              "outlinewidth": 0,
              "ticks": ""
             }
            },
            "type": "scattergeo"
           }
          ],
          "scattergl": [
           {
            "marker": {
             "colorbar": {
              "outlinewidth": 0,
              "ticks": ""
             }
            },
            "type": "scattergl"
           }
          ],
          "scattermap": [
           {
            "marker": {
             "colorbar": {
              "outlinewidth": 0,
              "ticks": ""
             }
            },
            "type": "scattermap"
           }
          ],
          "scattermapbox": [
           {
            "marker": {
             "colorbar": {
              "outlinewidth": 0,
              "ticks": ""
             }
            },
            "type": "scattermapbox"
           }
          ],
          "scatterpolar": [
           {
            "marker": {
             "colorbar": {
              "outlinewidth": 0,
              "ticks": ""
             }
            },
            "type": "scatterpolar"
           }
          ],
          "scatterpolargl": [
           {
            "marker": {
             "colorbar": {
              "outlinewidth": 0,
              "ticks": ""
             }
            },
            "type": "scatterpolargl"
           }
          ],
          "scatterternary": [
           {
            "marker": {
             "colorbar": {
              "outlinewidth": 0,
              "ticks": ""
             }
            },
            "type": "scatterternary"
           }
          ],
          "surface": [
           {
            "colorbar": {
             "outlinewidth": 0,
             "ticks": ""
            },
            "colorscale": [
             [
              0,
              "#0d0887"
             ],
             [
              0.1111111111111111,
              "#46039f"
             ],
             [
              0.2222222222222222,
              "#7201a8"
             ],
             [
              0.3333333333333333,
              "#9c179e"
             ],
             [
              0.4444444444444444,
              "#bd3786"
             ],
             [
              0.5555555555555556,
              "#d8576b"
             ],
             [
              0.6666666666666666,
              "#ed7953"
             ],
             [
              0.7777777777777778,
              "#fb9f3a"
             ],
             [
              0.8888888888888888,
              "#fdca26"
             ],
             [
              1,
              "#f0f921"
             ]
            ],
            "type": "surface"
           }
          ],
          "table": [
           {
            "cells": {
             "fill": {
              "color": "#EBF0F8"
             },
             "line": {
              "color": "white"
             }
            },
            "header": {
             "fill": {
              "color": "#C8D4E3"
             },
             "line": {
              "color": "white"
             }
            },
            "type": "table"
           }
          ]
         },
         "layout": {
          "annotationdefaults": {
           "arrowcolor": "#2a3f5f",
           "arrowhead": 0,
           "arrowwidth": 1
          },
          "autotypenumbers": "strict",
          "coloraxis": {
           "colorbar": {
            "outlinewidth": 0,
            "ticks": ""
           }
          },
          "colorscale": {
           "diverging": [
            [
             0,
             "#8e0152"
            ],
            [
             0.1,
             "#c51b7d"
            ],
            [
             0.2,
             "#de77ae"
            ],
            [
             0.3,
             "#f1b6da"
            ],
            [
             0.4,
             "#fde0ef"
            ],
            [
             0.5,
             "#f7f7f7"
            ],
            [
             0.6,
             "#e6f5d0"
            ],
            [
             0.7,
             "#b8e186"
            ],
            [
             0.8,
             "#7fbc41"
            ],
            [
             0.9,
             "#4d9221"
            ],
            [
             1,
             "#276419"
            ]
           ],
           "sequential": [
            [
             0,
             "#0d0887"
            ],
            [
             0.1111111111111111,
             "#46039f"
            ],
            [
             0.2222222222222222,
             "#7201a8"
            ],
            [
             0.3333333333333333,
             "#9c179e"
            ],
            [
             0.4444444444444444,
             "#bd3786"
            ],
            [
             0.5555555555555556,
             "#d8576b"
            ],
            [
             0.6666666666666666,
             "#ed7953"
            ],
            [
             0.7777777777777778,
             "#fb9f3a"
            ],
            [
             0.8888888888888888,
             "#fdca26"
            ],
            [
             1,
             "#f0f921"
            ]
           ],
           "sequentialminus": [
            [
             0,
             "#0d0887"
            ],
            [
             0.1111111111111111,
             "#46039f"
            ],
            [
             0.2222222222222222,
             "#7201a8"
            ],
            [
             0.3333333333333333,
             "#9c179e"
            ],
            [
             0.4444444444444444,
             "#bd3786"
            ],
            [
             0.5555555555555556,
             "#d8576b"
            ],
            [
             0.6666666666666666,
             "#ed7953"
            ],
            [
             0.7777777777777778,
             "#fb9f3a"
            ],
            [
             0.8888888888888888,
             "#fdca26"
            ],
            [
             1,
             "#f0f921"
            ]
           ]
          },
          "colorway": [
           "#636efa",
           "#EF553B",
           "#00cc96",
           "#ab63fa",
           "#FFA15A",
           "#19d3f3",
           "#FF6692",
           "#B6E880",
           "#FF97FF",
           "#FECB52"
          ],
          "font": {
           "color": "#2a3f5f"
          },
          "geo": {
           "bgcolor": "white",
           "lakecolor": "white",
           "landcolor": "#E5ECF6",
           "showlakes": true,
           "showland": true,
           "subunitcolor": "white"
          },
          "hoverlabel": {
           "align": "left"
          },
          "hovermode": "closest",
          "mapbox": {
           "style": "light"
          },
          "paper_bgcolor": "white",
          "plot_bgcolor": "#E5ECF6",
          "polar": {
           "angularaxis": {
            "gridcolor": "white",
            "linecolor": "white",
            "ticks": ""
           },
           "bgcolor": "#E5ECF6",
           "radialaxis": {
            "gridcolor": "white",
            "linecolor": "white",
            "ticks": ""
           }
          },
          "scene": {
           "xaxis": {
            "backgroundcolor": "#E5ECF6",
            "gridcolor": "white",
            "gridwidth": 2,
            "linecolor": "white",
            "showbackground": true,
            "ticks": "",
            "zerolinecolor": "white"
           },
           "yaxis": {
            "backgroundcolor": "#E5ECF6",
            "gridcolor": "white",
            "gridwidth": 2,
            "linecolor": "white",
            "showbackground": true,
            "ticks": "",
            "zerolinecolor": "white"
           },
           "zaxis": {
            "backgroundcolor": "#E5ECF6",
            "gridcolor": "white",
            "gridwidth": 2,
            "linecolor": "white",
            "showbackground": true,
            "ticks": "",
            "zerolinecolor": "white"
           }
          },
          "shapedefaults": {
           "line": {
            "color": "#2a3f5f"
           }
          },
          "ternary": {
           "aaxis": {
            "gridcolor": "white",
            "linecolor": "white",
            "ticks": ""
           },
           "baxis": {
            "gridcolor": "white",
            "linecolor": "white",
            "ticks": ""
           },
           "bgcolor": "#E5ECF6",
           "caxis": {
            "gridcolor": "white",
            "linecolor": "white",
            "ticks": ""
           }
          },
          "title": {
           "x": 0.05
          },
          "xaxis": {
           "automargin": true,
           "gridcolor": "white",
           "linecolor": "white",
           "ticks": "",
           "title": {
            "standoff": 15
           },
           "zerolinecolor": "white",
           "zerolinewidth": 2
          },
          "yaxis": {
           "automargin": true,
           "gridcolor": "white",
           "linecolor": "white",
           "ticks": "",
           "title": {
            "standoff": 15
           },
           "zerolinecolor": "white",
           "zerolinewidth": 2
          }
         }
        },
        "title": {
         "text": "Empirical Distribution Function Plot"
        },
        "xaxis": {
         "title": {
          "text": "Objective Value"
         }
        },
        "yaxis": {
         "range": [
          0,
          1
         ],
         "title": {
          "text": "Cumulative Probability"
         }
        }
       }
      }
     },
     "metadata": {},
     "output_type": "display_data"
    }
   ],
   "source": [
    "# Plot 6: Empirical distribution of trial scores\n",
    "plot_edf(study).show()"
   ]
  }
 ],
 "metadata": {
  "kernelspec": {
   "display_name": "Python 3",
   "language": "python",
   "name": "python3"
  },
  "language_info": {
   "codemirror_mode": {
    "name": "ipython",
    "version": 3
   },
   "file_extension": ".py",
   "mimetype": "text/x-python",
   "name": "python",
   "nbconvert_exporter": "python",
   "pygments_lexer": "ipython3",
   "version": "3.13.3"
  }
 },
 "nbformat": 4,
 "nbformat_minor": 5
}
