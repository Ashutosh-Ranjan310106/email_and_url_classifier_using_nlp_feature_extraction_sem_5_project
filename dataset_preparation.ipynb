{
  "cells": [
    {
      "cell_type": "code",
      "execution_count": 21,
      "metadata": {
        "id": "SvfvtVRKdPmo"
      },
      "outputs": [],
      "source": [
        "import pandas as pd\n",
        "import numpy as np\n",
        "import matplotlib.pyplot as plt\n",
        "import seaborn as sns\n"
      ]
    },
    {
      "cell_type": "code",
      "execution_count": 107,
      "metadata": {},
      "outputs": [
        {
          "name": "stdout",
          "output_type": "stream",
          "text": [
            "Warning: Looks like you're using an outdated `kagglehub` version (installed: 0.3.12), please consider upgrading to the latest version (0.3.13).\n",
            "Path to dataset files: C:\\Users\\rrpra\\.cache\\kagglehub\\datasets\\cheedcheed\\top1m\\versions\\1\n"
          ]
        }
      ],
      "source": [
        "import kagglehub\n",
        "import os\n",
        "# Download latest version\n",
        "folder_path = kagglehub.dataset_download(\"cheedcheed/top1m\")\n",
        "\n",
        "print(\"Path to dataset files:\", folder_path)\n",
        "csv_files = [f for f in os.listdir(folder_path) if f.lower().endswith('.csv')]\n",
        "\n",
        "if not csv_files:\n",
        "    raise FileNotFoundError(\"No CSV files found in the folder!\")\n",
        "\n",
        "# read the first CSV file\n",
        "file_path = os.path.join(folder_path, csv_files[0])\n",
        "alexa_top_1m_domain = pd.read_csv(file_path,header=None,names=['rank', 'domain'])\n",
        "alexa_domains_set = set(alexa_top_1m_domain['domain'].apply(str.lower))"
      ]
    },
    {
      "cell_type": "code",
      "execution_count": 73,
      "metadata": {
        "colab": {
          "base_uri": "https://localhost:8080/"
        },
        "id": "kJ8a734rW1mN",
        "outputId": "d2650f52-a980-429d-82a4-7ba4236968b1"
      },
      "outputs": [
        {
          "name": "stdout",
          "output_type": "stream",
          "text": [
            "                                                text  label\n",
            "0             xenophongroup.com/montjoie/compgns.htm      0\n",
            "1    www.azzali.eu/&usg=AOvVaw2phVSb_ENMrkATGNx5LQ0l      1\n",
            "2                     guildmusic.edu.au/js/index.htm      1\n",
            "3  memo.unexpectedrunner.com/ezxgytw4et\\nholotili...      1\n",
            "4  en.wikipedia.org/wiki/Category:American_televi...      0\n"
          ]
        }
      ],
      "source": [
        "from datasets import load_dataset\n",
        "import pandas as pd\n",
        "\n",
        "# Load the dataset from Hugging Face Hub\n",
        "train_dataset = load_dataset(\"kmack/Phishing_urls\", split=\"train\")\n",
        "test_dataset = load_dataset(\"kmack/Phishing_urls\", split=\"test\")\n",
        "valid_dataset = load_dataset(\"kmack/Phishing_urls\", split=\"valid\")\n",
        "\n",
        "# Convert to pandas DataFrame\n",
        "train_df = train_dataset.to_pandas()\n",
        "test_df = test_dataset.to_pandas()\n",
        "valid_df = valid_dataset.to_pandas()\n",
        "\n",
        "print(train_df.head())\n"
      ]
    },
    {
      "cell_type": "code",
      "execution_count": 74,
      "metadata": {
        "id": "6N3yv2L-ZB05"
      },
      "outputs": [
        {
          "data": {
            "text/html": [
              "<div>\n",
              "<style scoped>\n",
              "    .dataframe tbody tr th:only-of-type {\n",
              "        vertical-align: middle;\n",
              "    }\n",
              "\n",
              "    .dataframe tbody tr th {\n",
              "        vertical-align: top;\n",
              "    }\n",
              "\n",
              "    .dataframe thead th {\n",
              "        text-align: right;\n",
              "    }\n",
              "</style>\n",
              "<table border=\"1\" class=\"dataframe\">\n",
              "  <thead>\n",
              "    <tr style=\"text-align: right;\">\n",
              "      <th></th>\n",
              "      <th>text</th>\n",
              "      <th>label</th>\n",
              "      <th>tld</th>\n",
              "    </tr>\n",
              "  </thead>\n",
              "  <tbody>\n",
              "    <tr>\n",
              "      <th>0</th>\n",
              "      <td>xenophongroup.com/montjoie/compgns.htm</td>\n",
              "      <td>0</td>\n",
              "      <td>com</td>\n",
              "    </tr>\n",
              "    <tr>\n",
              "      <th>1</th>\n",
              "      <td>www.azzali.eu/&amp;usg=AOvVaw2phVSb_ENMrkATGNx5LQ0l</td>\n",
              "      <td>1</td>\n",
              "      <td>eu</td>\n",
              "    </tr>\n",
              "    <tr>\n",
              "      <th>2</th>\n",
              "      <td>guildmusic.edu.au/js/index.htm</td>\n",
              "      <td>1</td>\n",
              "      <td>edu.au</td>\n",
              "    </tr>\n",
              "    <tr>\n",
              "      <th>3</th>\n",
              "      <td>memo.unexpectedrunner.com/ezxgytw4et\\nholotili...</td>\n",
              "      <td>1</td>\n",
              "      <td>com</td>\n",
              "    </tr>\n",
              "    <tr>\n",
              "      <th>4</th>\n",
              "      <td>en.wikipedia.org/wiki/Category:American_televi...</td>\n",
              "      <td>0</td>\n",
              "      <td>org</td>\n",
              "    </tr>\n",
              "  </tbody>\n",
              "</table>\n",
              "</div>"
            ],
            "text/plain": [
              "                                                text  label     tld\n",
              "0             xenophongroup.com/montjoie/compgns.htm      0     com\n",
              "1    www.azzali.eu/&usg=AOvVaw2phVSb_ENMrkATGNx5LQ0l      1      eu\n",
              "2                     guildmusic.edu.au/js/index.htm      1  edu.au\n",
              "3  memo.unexpectedrunner.com/ezxgytw4et\\nholotili...      1     com\n",
              "4  en.wikipedia.org/wiki/Category:American_televi...      0     org"
            ]
          },
          "execution_count": 74,
          "metadata": {},
          "output_type": "execute_result"
        }
      ],
      "source": [
        "import tldextract\n",
        "df = pd.concat((train_df, valid_df, test_df))\n",
        "def extrtact_tld(url):\n",
        "\n",
        "    ext = tldextract.extract(url)\n",
        "    # ext = ExtractResult(subdomain, domain, suffix)\n",
        "    tld = ext.suffix    # \"com\", \"co.uk\", \"org\"\n",
        "    return tld if tld else 'unknown'\n",
        "\n",
        "df['tld'] = df['text'].apply(extrtact_tld)\n",
        "df.head()"
      ]
    },
    {
      "cell_type": "code",
      "execution_count": 75,
      "metadata": {},
      "outputs": [
        {
          "name": "stdout",
          "output_type": "stream",
          "text": [
            "                    legit_count  phish_count  total  phish_ratio\n",
            "tld                                                             \n",
            "Tokyo                         0            1      1          1.0\n",
            "go.gov.br                     0            3      3          1.0\n",
            "goog                          0           13     13          1.0\n",
            "gop.pk                        0            1      1          1.0\n",
            "gov.la                        0            3      3          1.0\n",
            "...                         ...          ...    ...          ...\n",
            "kagoshima.jp                  1            0      1          0.0\n",
            "kanagawa.jp                   1            0      1          0.0\n",
            "kasaoka.okayama.jp            1            0      1          0.0\n",
            "katowice.pl                   1            0      1          0.0\n",
            "ye                            1            0      1          0.0\n",
            "\n",
            "[1437 rows x 4 columns]\n"
          ]
        }
      ],
      "source": [
        "# Count phishing and legitimate occurrences for each TLD\n",
        "tld_stats = df.groupby(['tld', 'label']).size().unstack(fill_value=0)\n",
        "tld_stats.columns = ['legit_count', 'phish_count']\n",
        "\n",
        "# Add totals and phishing rate\n",
        "tld_stats['total'] = tld_stats['legit_count'] + tld_stats['phish_count']\n",
        "tld_stats['phish_ratio'] = tld_stats['phish_count'] / tld_stats['total']\n",
        "tld_stats = tld_stats.sort_values('phish_ratio', ascending=False)\n",
        "\n",
        "print(tld_stats)"
      ]
    },
    {
      "cell_type": "code",
      "execution_count": 134,
      "metadata": {},
      "outputs": [
        {
          "name": "stdout",
          "output_type": "stream",
          "text": [
            "Collecting pybktree\n",
            "  Downloading pybktree-1.1.tar.gz (4.5 kB)\n",
            "  Preparing metadata (setup.py): started\n",
            "  Preparing metadata (setup.py): finished with status 'done'\n",
            "Building wheels for collected packages: pybktree\n",
            "  Building wheel for pybktree (setup.py): started\n",
            "  Building wheel for pybktree (setup.py): finished with status 'done'\n",
            "  Created wheel for pybktree: filename=pybktree-1.1-py3-none-any.whl size=5042 sha256=2d3cf7c2702be22561b85ce73a053cd7caedb17e0bcc7575f4e6bb62e51acf46\n",
            "  Stored in directory: c:\\users\\rrpra\\appdata\\local\\pip\\cache\\wheels\\d9\\f0\\dd\\545edc6df9148221657c15a0c0a42ec00b216c8c9d42d559e9\n",
            "Successfully built pybktree\n",
            "Installing collected packages: pybktree\n",
            "Successfully installed pybktree-1.1\n"
          ]
        },
        {
          "name": "stderr",
          "output_type": "stream",
          "text": [
            "  DEPRECATION: Building 'pybktree' using the legacy setup.py bdist_wheel mechanism, which will be removed in a future version. pip 25.3 will enforce this behaviour change. A possible replacement is to use the standardized build interface by setting the `--use-pep517` option, (possibly combined with `--no-build-isolation`), or adding a `pyproject.toml` file to the source tree of 'pybktree'. Discussion can be found at https://github.com/pypa/pip/issues/6334\n"
          ]
        }
      ],
      "source": [
        "!pip install pybktree\n"
      ]
    },
    {
      "cell_type": "code",
      "execution_count": 138,
      "metadata": {},
      "outputs": [],
      "source": [
        "import pandas as pd\n",
        "import re\n",
        "import math\n",
        "from urllib.parse import urlparse\n",
        "import tldextract\n",
        "from rapidfuzz import process, fuzz\n",
        "# --- Helper function: Shannon entropy ---\n",
        "def safe_parse(url: str):\n",
        "    \"\"\"Safely parse URLs, adding http:// if missing and handling bad IPv6 parts.\"\"\"\n",
        "    if not isinstance(url, str) or not url.strip():\n",
        "        return urlparse(\"http://\")  \n",
        "\n",
        "    # Ensure scheme exists\n",
        "    if not re.match(r'^[a-zA-Z]+://', url):\n",
        "        url = 'http://' + url\n",
        "\n",
        "    # Clean invalid brackets that trigger IPv6 errors\n",
        "    url = re.sub(r'\\[.*?\\]', '', url)\n",
        "\n",
        "    try:\n",
        "        return urlparse(url)\n",
        "    except ValueError:\n",
        "        # fallback: strip more aggressively if still malformed\n",
        "        url = re.sub(r'[^a-zA-Z0-9:/._\\-?&=]', '', url)\n",
        "        return urlparse(url)\n",
        "def calculate_entropy(string):\n",
        "    \"\"\"Measures randomness of characters in the URL.\"\"\"\n",
        "    if not string:\n",
        "        return 0\n",
        "    freq = {char: string.count(char) for char in set(string)}\n",
        "    entropy = -sum((count / len(string)) * math.log2(count / len(string)) for count in freq.values())\n",
        "    return entropy\n",
        "\n",
        "# --- Main feature extraction function ---\n",
        "def extract_features(url):\n",
        "    features = {}\n",
        "    if not re.match(r'^[hH]+[tT]+[tT]+[pP]+[sS]+://', url):\n",
        "        url = 'http://' + url\n",
        "    parsed = safe_parse(url)\n",
        "    \n",
        "    # 1️⃣ Basic structural features\n",
        "    features['url_length'] = len(url)\n",
        "    features['hostname_length'] = len(parsed.netloc)\n",
        "    features['path_length'] = len(parsed.path)\n",
        "    features['num_dots'] = url.count('.')\n",
        "    features['num_hyphens'] = url.count('-')\n",
        "    features['num_digits'] = sum(c.isdigit() for c in url)\n",
        "    features['num_letters'] = sum(c.isalpha() for c in url)\n",
        "    features['num_params'] = url.count('?')\n",
        "    features['num_equals'] = url.count('=')\n",
        "    features['num_slashes'] = url.count('/')\n",
        "    features['num_at'] = url.count('@')\n",
        "\n",
        "    # 2️⃣ Lexical / composition cues\n",
        "    features['has_https'] = 1 if url.lower().startswith('https') else 0\n",
        "    features['has_ip'] = 1 if re.search(r'(\\d{1,3}\\.){3}\\d{1,3}', parsed.netloc) else 0\n",
        "    features['has_subdomain'] = 1 if parsed.netloc.count('.') > 1 else 0\n",
        "    features['has_suspicious_words'] = 1 if re.search(r'(login|secure|verify|update|free|bank|click)', url.lower()) else 0\n",
        "\n",
        "    # 3️⃣ Domain / TLD features\n",
        "    extracted = tldextract.extract(url)\n",
        "    main_domain = f\"{extracted.domain}.{extracted.suffix}\"\n",
        "    if ':' in main_domain:  # remove port\n",
        "        main_domain = main_domain.split(':')[0]\n",
        "    features['domain_length'] = len(main_domain)\n",
        "    features['in_alexa_top1m'] = 1 if main_domain in alexa_domains_set else 0\n",
        "    '''\n",
        "    if features['in_alexa_top1m'] == 0 and main_domain:  # only check if domain not in top1M\n",
        "        # find closest match in Alexa domains\n",
        "        best_match, score, _ = process.extractOne(main_domain, alexa_domains_set, scorer=fuzz.ratio)\n",
        "        features['closest_alexa_domain'] = best_match\n",
        "        features['closest_alexa_score'] = score  # 0-100\n",
        "    else:\n",
        "        features['closest_alexa_score'] = 1000  # high score to show that it is original url\n",
        "    '''\n",
        "    ext = tldextract.extract(url)\n",
        "    tld = ext.suffix    # \"com\", \"co.uk\", \"org\"\n",
        "    features['tld'] = tld if tld else 'unknown'\n",
        "    features['tld_phish_ratio'] = tld_stats['phish_ratio'][features['tld']]  if tld_stats['phish_ratio'][features['tld']]  else 0.5\n",
        "    features['tld_total_frequency'] = tld_stats['total'][features['tld']] if tld_stats['total'][features['tld']] else 1\n",
        "\n",
        "    # 4️⃣ Ratios\n",
        "    features['digit_ratio'] = features['num_digits'] / (features['url_length'] + 1e-5)\n",
        "    features['special_char_ratio'] = (features['num_hyphens'] + features['num_dots'] + features['num_slashes']) / (features['url_length'] + 1e-5)\n",
        "\n",
        "    # 5️⃣ Entropy (measures randomness / obfuscation)\n",
        "    features['url_entropy'] = calculate_entropy(url)\n",
        "\n",
        "    # 6️⃣ Misplacement indicators\n",
        "    # '@' symbol used to hide real domain (like \"http://evil.com@legit.com\")\n",
        "    features['at_in_domain'] = 1 if '@' in parsed.netloc else 0\n",
        "    \n",
        "    # Double slashes '//' appearing after path (used to trick users)\n",
        "    features['double_slash_in_path'] = 1 if re.search(r'/.+//', parsed.path) else 0\n",
        "\n",
        "    return features"
      ]
    },
    {
      "cell_type": "code",
      "execution_count": 129,
      "metadata": {},
      "outputs": [
        {
          "name": "stdout",
          "output_type": "stream",
          "text": [
            "xenophongroup.com/montjoie/compgns.htm\n",
            "www.azzali.eu/&usg=AOvVaw2phVSb_ENMrkATGNx5LQ0l\n",
            "guildmusic.edu.au/js/index.htm\n",
            "memo.unexpectedrunner.com/ezxgytw4et\\nholotilicga.medproshealthcare.com/bannerbox/frame.html\n",
            "en.wikipedia.org/wiki/Category:American_television_films\n"
          ]
        }
      ],
      "source": [
        "for i in range(5):\n",
        "    print(df.text[i])"
      ]
    },
    {
      "cell_type": "code",
      "execution_count": 140,
      "metadata": {},
      "outputs": [
        {
          "name": "stderr",
          "output_type": "stream",
          "text": [
            "100%|██████████| 567056/567056 [02:25<00:00, 3895.21it/s]\n",
            "100%|██████████| 70882/70882 [00:15<00:00, 4575.60it/s]\n",
            "100%|██████████| 70882/70882 [00:16<00:00, 4174.41it/s]\n"
          ]
        }
      ],
      "source": [
        "from tqdm import tqdm\n",
        "tqdm.pandas()\n",
        "all_df = [train_df, test_df,valid_df]\n",
        "for i, df in enumerate(all_df):\n",
        "    all_df[i] = df.assign(**df.text.progress_apply(lambda url : pd.Series(extract_features(url))))\n",
        "train_df, test_df,valid_df = all_df"
      ]
    },
    {
      "cell_type": "code",
      "execution_count": 141,
      "metadata": {},
      "outputs": [
        {
          "name": "stdout",
          "output_type": "stream",
          "text": [
            "                     DataType  Non-Null Count  Missing Values  Unique Values  \\\n",
            "text                   object          567056               0         535838   \n",
            "label                   int64          567056               0              2   \n",
            "tld                    object          567056               0           1341   \n",
            "tld_phish_ratio       float64          567056               0            348   \n",
            "tld_total_frequency     int64          567056               0            252   \n",
            "url_length              int64          567056               0            704   \n",
            "hostname_length         int64          567056               0            243   \n",
            "path_length             int64          567056               0            405   \n",
            "num_dots                int64          567056               0             37   \n",
            "num_hyphens             int64          567056               0             47   \n",
            "num_digits              int64          567056               0            269   \n",
            "num_letters             int64          567056               0            569   \n",
            "num_params              int64          567056               0             17   \n",
            "num_equals              int64          567056               0             29   \n",
            "num_slashes             int64          567056               0             36   \n",
            "num_at                  int64          567056               0              7   \n",
            "has_https               int64          567056               0              2   \n",
            "has_ip                  int64          567056               0              2   \n",
            "has_subdomain           int64          567056               0              2   \n",
            "has_suspicious_words    int64          567056               0              2   \n",
            "domain_length           int64          567056               0             76   \n",
            "digit_ratio           float64          567056               0          14303   \n",
            "special_char_ratio    float64          567056               0           6899   \n",
            "url_entropy           float64          567056               0         150129   \n",
            "at_in_domain            int64          567056               0              2   \n",
            "double_slash_in_path    int64          567056               0              2   \n",
            "in_alexa_top1m          int64          567056               0              2   \n",
            "\n",
            "                                                 First Value  \\\n",
            "text                  xenophongroup.com/montjoie/compgns.htm   \n",
            "label                                                      0   \n",
            "tld                                                      com   \n",
            "tld_phish_ratio                                     0.396303   \n",
            "tld_total_frequency                                   373979   \n",
            "url_length                                                45   \n",
            "hostname_length                                           17   \n",
            "path_length                                               21   \n",
            "num_dots                                                   2   \n",
            "num_hyphens                                                0   \n",
            "num_digits                                                 0   \n",
            "num_letters                                               38   \n",
            "num_params                                                 0   \n",
            "num_equals                                                 0   \n",
            "num_slashes                                                4   \n",
            "num_at                                                     0   \n",
            "has_https                                                  0   \n",
            "has_ip                                                     0   \n",
            "has_subdomain                                              0   \n",
            "has_suspicious_words                                       0   \n",
            "domain_length                                             17   \n",
            "digit_ratio                                              0.0   \n",
            "special_char_ratio                                  0.133333   \n",
            "url_entropy                                         3.882823   \n",
            "at_in_domain                                               0   \n",
            "double_slash_in_path                                       0   \n",
            "in_alexa_top1m                                             0   \n",
            "\n",
            "                                                          Sample Values  \n",
            "text                  [xenophongroup.com/montjoie/compgns.htm, www.a...  \n",
            "label                                                            [0, 1]  \n",
            "tld                                         [com, eu, edu.au, org, edu]  \n",
            "tld_phish_ratio       [0.39630300097064275, 0.5202583675866118, 0.45...  \n",
            "tld_total_frequency                   [373979, 1703, 395, 59502, 11411]  \n",
            "url_length                                         [45, 54, 37, 99, 63]  \n",
            "hostname_length                                     [17, 13, 25, 16, 6]  \n",
            "path_length                                        [21, 34, 13, 67, 40]  \n",
            "num_dots                                                [2, 3, 5, 1, 4]  \n",
            "num_hyphens                                            [0, 2, 1, 4, 16]  \n",
            "num_digits                                             [0, 3, 1, 2, 11]  \n",
            "num_letters                                        [38, 42, 29, 86, 53]  \n",
            "num_params                                              [0, 1, 2, 3, 5]  \n",
            "num_equals                                              [0, 1, 3, 2, 8]  \n",
            "num_slashes                                             [4, 3, 5, 2, 6]  \n",
            "num_at                                                 [0, 1, 2, 3, 10]  \n",
            "has_https                                                        [0, 1]  \n",
            "has_ip                                                           [0, 1]  \n",
            "has_subdomain                                                    [0, 1]  \n",
            "has_suspicious_words                                             [0, 1]  \n",
            "domain_length                                        [17, 9, 20, 13, 6]  \n",
            "digit_ratio           [0.0, 0.05555554526749162, 0.01010100908070615...  \n",
            "special_char_ratio    [0.13333330370371027, 0.09259257544581935, 0.1...  \n",
            "url_entropy           [3.8828226084059705, 5.060262039120377, 4.0467...  \n",
            "at_in_domain                                                     [0, 1]  \n",
            "double_slash_in_path                                             [0, 1]  \n",
            "in_alexa_top1m                                                   [0, 1]  \n"
          ]
        }
      ],
      "source": [
        "def dataframe_summary(df):\n",
        "    summary = pd.DataFrame({\n",
        "        \"DataType\": df.dtypes,\n",
        "        \"Non-Null Count\": df.count(),\n",
        "        \"Missing Values\": df.isnull().sum(),\n",
        "        \"Unique Values\": df.nunique(),\n",
        "        \"First Value\": df.iloc[0],\n",
        "        \"Sample Values\": df.apply(lambda x: x.unique()[:5])  # first 5 unique values\n",
        "    })\n",
        "    return summary\n",
        "\n",
        "# Example usage\n",
        "summary_table = dataframe_summary(train_df)\n",
        "print(summary_table)"
      ]
    },
    {
      "cell_type": "code",
      "execution_count": 144,
      "metadata": {},
      "outputs": [],
      "source": [
        "train_df.to_csv(r'Dataset\\url_train_df.csv',index=False)\n",
        "test_df.to_csv(r'Dataset\\url_test_df.csv',index=False)\n",
        "valid_df.to_csv(r'Dataset\\url_validation_df.csv',index=False)"
      ]
    }
  ],
  "metadata": {
    "colab": {
      "provenance": []
    },
    "kernelspec": {
      "display_name": "Python 3",
      "name": "python3"
    },
    "language_info": {
      "codemirror_mode": {
        "name": "ipython",
        "version": 3
      },
      "file_extension": ".py",
      "mimetype": "text/x-python",
      "name": "python",
      "nbconvert_exporter": "python",
      "pygments_lexer": "ipython3",
      "version": "3.13.3"
    }
  },
  "nbformat": 4,
  "nbformat_minor": 0
}
